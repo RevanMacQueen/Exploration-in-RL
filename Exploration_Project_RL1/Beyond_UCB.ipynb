{
 "cells": [
  {
   "cell_type": "code",
   "execution_count": 1,
   "metadata": {},
   "outputs": [],
   "source": [
    "import numpy as np\n",
    "import random\n",
    "from tqdm.notebook import tqdm\n",
    "import copy\n",
    "from scipy.stats import bernoulli\n",
    "from scipy.special import softmax\n",
    "import matplotlib.pyplot as plt\n",
    "import scipy"
   ]
  },
  {
   "cell_type": "code",
   "execution_count": 2,
   "metadata": {},
   "outputs": [],
   "source": [
    "class Environment(object):\n",
    "    '''General RL environment'''\n",
    "\n",
    "    def __init__(self):\n",
    "        pass\n",
    "\n",
    "    def reset(self):\n",
    "        pass\n",
    "\n",
    "    def advance(self, action):\n",
    "        '''\n",
    "        Moves one step in the environment.\n",
    "        Args:\n",
    "            action\n",
    "        Returns:\n",
    "            reward - double - reward\n",
    "            newState - int - new state\n",
    "            pContinue - 0/1 - flag for end of the episode\n",
    "        '''\n",
    "        return 0, 0, 0"
   ]
  },
  {
   "cell_type": "code",
   "execution_count": 3,
   "metadata": {},
   "outputs": [],
   "source": [
    "def make_riverSwim(epLen=20, nState=5):\n",
    "    '''\n",
    "    Makes the benchmark RiverSwim MDP code by Ian Osband.\n",
    "    Args:\n",
    "        NULL - works for default implementation\n",
    "    Returns:\n",
    "        riverSwim - Tabular MDP environment '''\n",
    "    nAction = 2\n",
    "    R_true = {}\n",
    "    P_true = {}\n",
    "    states = {}\n",
    "    for s in range(nState):\n",
    "        states[(s)] = 0.0\n",
    "        for a in range(nAction):\n",
    "            R_true[s, a] = (0, 0)\n",
    "            P_true[s, a] = np.zeros(nState)\n",
    "\n",
    "    # Rewards\n",
    "    R_true[0, 0] = (5/1000, 0)\n",
    "    R_true[nState - 1, 1] = (1, 0)\n",
    "\n",
    "    # Transitions\n",
    "    for s in range(nState):\n",
    "        P_true[s, 0][max(0, s-1)] = 1.\n",
    "\n",
    "    for s in range(1, nState - 1):\n",
    "        P_true[s, 1][min(nState - 1, s + 1)] = 0.3\n",
    "        P_true[s, 1][s] = 0.6\n",
    "        P_true[s, 1][max(0, s-1)] = 0.1\n",
    "\n",
    "    P_true[0, 1][0] = 0.3\n",
    "    P_true[0, 1][1] = 0.7\n",
    "    P_true[nState - 1, 1][nState - 1] = 0.9\n",
    "    P_true[nState - 1, 1][nState - 2] = 0.1\n",
    "\n",
    "    riverSwim = TabularMDP(nState, nAction, epLen)\n",
    "    riverSwim.R = R_true\n",
    "    riverSwim.P = P_true\n",
    "    riverSwim.states = states\n",
    "    riverSwim.reset()\n",
    "\n",
    "    return riverSwim\n",
    "\n",
    "\n",
    "\n"
   ]
  },
  {
   "cell_type": "code",
   "execution_count": 4,
   "metadata": {},
   "outputs": [],
   "source": [
    "class TabularMDP(Environment):\n",
    "    '''\n",
    "    Tabular MDP\n",
    "    R - dict by (s,a) - each R[s,a] = (meanReward, sdReward)\n",
    "    P - dict by (s,a) - each P[s,a] = transition vector size S\n",
    "    '''\n",
    "\n",
    "    def __init__(self, nState, nAction, epLen):\n",
    "        '''\n",
    "        Initialize a tabular episodic MDP\n",
    "        Args:\n",
    "            nState  - int - number of states\n",
    "            nAction - int - number of actions\n",
    "            epLen   - int - episode length\n",
    "        Returns:\n",
    "            Environment object\n",
    "        '''\n",
    "\n",
    "        self.nState = nState\n",
    "        self.nAction = nAction\n",
    "        self.epLen = epLen\n",
    "\n",
    "        self.timestep = 0\n",
    "        self.state = 0\n",
    "\n",
    "        # Now initialize R and P\n",
    "        self.R = {}\n",
    "        self.P = {}\n",
    "        self.states = {}\n",
    "        for state in range(nState):\n",
    "            for action in range(nAction):\n",
    "                self.R[state, action] = (1, 1)\n",
    "                self.P[state, action] = np.ones(nState) / nState\n",
    "\n",
    "    def reset(self):\n",
    "        \"Resets the Environment\"\n",
    "        self.timestep = 0\n",
    "        self.state = 0\n",
    "\n",
    "    def advance(self,action):\n",
    "        '''\n",
    "        Move one step in the environment\n",
    "        Args:\n",
    "        action - int - chosen action\n",
    "        Returns:\n",
    "        reward - double - reward\n",
    "        newState - int - new state\n",
    "        episodeEnd - 0/1 - flag for end of the episode\n",
    "        '''\n",
    "        if self.R[self.state, action][1] < 1e-9:\n",
    "            # Hack for no noise\n",
    "            reward = self.R[self.state, action][0]\n",
    "        else:\n",
    "            reward = np.random.normal(loc=self.R[self.state, action][0],\n",
    "                                      scale=self.R[self.state, action][1])\n",
    "        #print(self.state, action, self.P[self.state, action])\n",
    "        newState = np.random.choice(self.nState, p=self.P[self.state, action])\n",
    "\n",
    "        # Update the environment\n",
    "        self.state = newState\n",
    "        self.timestep += 1\n",
    "\n",
    "        episodeEnd = 0\n",
    "        if self.timestep == self.epLen:\n",
    "            episodeEnd = 1\n",
    "            #newState = None\n",
    "            self.reset()\n",
    "\n",
    "        return reward, newState, episodeEnd\n",
    "\n",
    "    def get_state(self):\n",
    "        '''\n",
    "        Converts state coordinates to a scalar value\n",
    "        '''\n",
    "        return self.state\n",
    "\n",
    "    def argmax(self,b):\n",
    "        #print(b)\n",
    "        return np.random.choice(np.where(b == b.max())[0])"
   ]
  },
  {
   "cell_type": "code",
   "execution_count": 5,
   "metadata": {},
   "outputs": [],
   "source": [
    "class Deep_Sea(Environment):\n",
    "    '''\n",
    "    Description:\n",
    "        A deep sea environment, where a diver goes\n",
    "        down and each time and she needs to make a\n",
    "        decision to go left or right.\n",
    "        environment terminates after fixed time step\n",
    "\n",
    "    Observation:\n",
    "        [horizontal position, vertical position]\n",
    "\n",
    "    Actions:\n",
    "        2 possible actions:\n",
    "        0 - left\n",
    "        1 - right\n",
    "\n",
    "    Starting State:\n",
    "        start at position 0, time step 0\n",
    "\n",
    "    Episode termination:\n",
    "        Env terminates after fixed number of time steps\n",
    "    '''\n",
    "\n",
    "    def __init__(self, num_steps):\n",
    "        '''\n",
    "        Inputs:\n",
    "            num_steps: An integer that represents the size of the DeepSea environment\n",
    "        '''\n",
    "        self.num_steps = num_steps\n",
    "        self.epLen = num_steps\n",
    "        self.flip_mask = 2*np.random.binomial(1,0.5,(num_steps,num_steps))-1\n",
    "        self.nAction = 2\n",
    "        self.nState = pow(num_steps,2)\n",
    "        self.epLen = num_steps\n",
    "        self.R = {}\n",
    "        self.states = {}\n",
    "        for s in range(self.num_steps):\n",
    "            for s_ in range(self.num_steps):\n",
    "                self.R[(s,s_), 0] = (0, 0)\n",
    "                self.R[(s,s_), 1] = (-0.01/self.nState, 0)\n",
    "                self.states[(s,s_)] = 0\n",
    "        self.R[(self.num_steps-2,self.num_steps-2),1] = (1,0) #-1 added \n",
    "\n",
    "    def name(self):\n",
    "        return  \"deep sea\"\n",
    "\n",
    "    def reset(self):\n",
    "        self.state = (0,0)\n",
    "        self.timestep = 0\n",
    "        return copy.deepcopy(self.state)\n",
    "\n",
    "    def get_state(self):\n",
    "        '''\n",
    "        Converts state coordinates to a scalar value\n",
    "        '''\n",
    "        return self.state[1]*self.num_steps+self.state[0] \n",
    "\n",
    "    def advance(self,action):\n",
    "        assert action in [0,1], \"invalid action\"\n",
    "        self.state_prev = self.state\n",
    "        step_horizontal = (2*action-1)\n",
    "        horizontal = max(self.state[0] + step_horizontal, 0)\n",
    "        vertical = self.state[1] + 1\n",
    "\n",
    "        done =  bool(vertical == self.num_steps-1) #-1 added \n",
    "\n",
    "        self.state = (horizontal, vertical)\n",
    "        self.timestep += 1\n",
    "\n",
    "        r = self.R[self.state_prev,action][0]\n",
    "\n",
    "        return r, self.get_state(), done\n",
    "\n",
    "    def argmax(self,b):\n",
    "        return np.random.choice(np.where(b == b.max())[0])\n",
    "    "
   ]
  },
  {
   "cell_type": "code",
   "execution_count": 6,
   "metadata": {},
   "outputs": [],
   "source": [
    "class Beyond_UCB(object):\n",
    "    '''\n",
    "    Earlier impementation of Q-learning with BeyondGreedy, included for archival purposes\n",
    "    '''\n",
    "    def __init__(self,env,K,gamma):\n",
    "        self.env = env\n",
    "        self.K = K\n",
    "        self.gamma = gamma\n",
    "        self.mu = self.env.nAction\n",
    "        #Step 2: Initializes\n",
    "        self.Q = np.zeros((self.env.epLen,self.env.nState,self.env.nAction)) #+ self.env.epLen\n",
    "        self.N = np.zeros((self.env.epLen,self.env.nState,self.env.nAction))\n",
    "        self.p = np.zeros((self.env.epLen,self.env.nState,self.env.nAction)) + 1/self.env.nAction\n",
    "        self.V = np.zeros((self.env.epLen+1,self.env.nState)) #+ self.env.epLen\n",
    "        self.V[self.env.epLen,:] = 0.0\n",
    "    \n",
    "    def act(self,s,h):\n",
    "        '''\n",
    "        Implements step 6\n",
    "        Inputs:\n",
    "        s - the current state\n",
    "        h - the current step\n",
    "        Returns:\n",
    "        a - the action under the current policy at state s at step h\n",
    "        '''\n",
    "        return np.random.choice(self.env.nAction,p=self.p[h,s,:])\n",
    "    \n",
    "    def update(self,s,a,r,s_,h,k):\n",
    "        \n",
    "        self.N[h,s,a] += 1\n",
    "        alpha = (self.env.epLen+1)/(self.env.epLen + self.N[h,s,a])\n",
    "        self.Q[h,s,a] = (1-alpha)*self.Q[h,s,a] + alpha * (r + self.V[h+1,s_])\n",
    "        self.V[h,s] = np.dot(self.p[h,s,:],self.Q[h,s,:])\n",
    "    \n",
    "    def update_p(self):\n",
    "        for h in range(self.env.epLen):\n",
    "            for s in range(self.env.nState):\n",
    "                sums = 0.0\n",
    "                b = self.env.argmax(self.Q[h,s,:])\n",
    "                for a in range(self.env.nAction):\n",
    "                    #print(self.Q[h,s,b]-self.Q[h,s,a])\n",
    "                    if a != b:\n",
    "                        self.p[h,s,a] = 1/(self.mu + self.gamma*(self.Q[h,s,b]-self.Q[h,s,a]))\n",
    "                        sums += self.p[h,s,a]\n",
    "                    #print(self.Q[h,s,b]-self.Q[h,s,a])\n",
    "                    #print(self.p[h,s,a])\n",
    "                self.p[h,s,b] = 1 - sums\n",
    "    \n",
    "    def run(self):\n",
    "        R = 0\n",
    "        Rvec = []\n",
    "        for k in tqdm(range(1,self.K+1)):\n",
    "            self.env.reset()\n",
    "            done = 0\n",
    "            while not done:\n",
    "                s = self.env.state\n",
    "                h = self.env.timestep\n",
    "                a = self.act(s,h)\n",
    "                r,s_,done = self.env.advance(a)\n",
    "                self.update(s,a,r,s_,h,k)\n",
    "                R += r\n",
    "            Rvec.append(R)\n",
    "            self.update_p()\n",
    "        return Rvec\n",
    "        \n",
    "        "
   ]
  },
  {
   "cell_type": "code",
   "execution_count": 7,
   "metadata": {},
   "outputs": [],
   "source": [
    "class Eps_Q(object):\n",
    "    def __init__(self,env,K,eps):\n",
    "        self.env = env\n",
    "        self.K = K\n",
    "        self.eps = eps\n",
    "        self.mu = self.env.nAction\n",
    "        self.Q = np.zeros((self.env.epLen,self.env.nState,self.env.nAction)) #+ self.env.epLen\n",
    "        self.N = np.zeros((self.env.epLen,self.env.nState,self.env.nAction))\n",
    "        self.V = np.zeros((self.env.epLen+1,self.env.nState)) #+ self.env.epLen\n",
    "        self.V[self.env.epLen,:] = 0.0\n",
    "    \n",
    "    def act(self,s,h):\n",
    "        c = np.random.uniform()\n",
    "        if c < self.eps:\n",
    "            return np.random.choice(self.env.nAction)\n",
    "        else:\n",
    "            return self.env.argmax(self.Q[h,s,:])\n",
    "    \n",
    "    def update(self,s,a,r,s_,h,k):\n",
    "        self.N[h,s,a] += 1\n",
    "        alpha = (self.env.epLen+1)/(self.env.epLen + self.N[h,s,a])\n",
    "        self.Q[h,s,a] = (1-alpha)*self.Q[h,s,a] + alpha * (r + self.V[h+1,s_])\n",
    "        self.V[h,s] = (1-self.eps)*max(self.Q[h,s,:]) + self.eps*min(self.Q[h,s,:]) # NOTE: WHY?\n",
    "    \n",
    "    def run(self):\n",
    "        R = 0\n",
    "        Rvec = []\n",
    "        for k in tqdm(range(1,self.K+1)):\n",
    "            self.env.reset()\n",
    "            done = 0\n",
    "            while not done:\n",
    "                s = env.get_state()\n",
    "                h = self.env.timestep\n",
    "                a = self.act(s,h)\n",
    "                r,s_,done = self.env.advance(a)\n",
    "                self.update(s,a,r,s_,h,k)\n",
    "                R += r\n",
    "            Rvec.append(R)\n",
    "        return Rvec\n",
    "        "
   ]
  },
  {
   "cell_type": "code",
   "execution_count": 8,
   "metadata": {},
   "outputs": [],
   "source": [
    "class Softmax_Q(object):\n",
    "    '''\n",
    "\n",
    "    '''\n",
    "    def __init__(self,env,K,eta):\n",
    "        self.env = env\n",
    "        self.K = K\n",
    "        self.eta = eta # temperate parameter\n",
    "        self.mu = self.env.nAction\n",
    "        self.Q = np.zeros((self.env.epLen,self.env.nState,self.env.nAction)) #+ self.env.epLen\n",
    "        self.N = np.zeros((self.env.epLen,self.env.nState,self.env.nAction))\n",
    "        self.V = np.zeros((self.env.epLen+1,self.env.nState)) #+ self.env.epLen\n",
    "        self.V[self.env.epLen,:] = 0.0\n",
    "    \n",
    "    def act(self,s,h):\n",
    "        p_a = softmax(self.eta*self.Q[h,s,:]) # probability of choosing each action\n",
    "        return np.random.choice(self.env.nAction, p=p_a)\n",
    "\n",
    "    def update(self,s,a,r,s_,h,k):\n",
    "        self.N[h,s,a] += 1\n",
    "        alpha = (self.env.epLen+1)/(self.env.epLen + self.N[h,s,a])\n",
    "        self.Q[h,s,a] = (1-alpha)*self.Q[h,s,a] + alpha * (r + self.V[h+1,s_])\n",
    "\n",
    "        p_a = softmax(self.eta*self.Q[h,s,:])\n",
    "        self.V[h,s] =  np.dot(p_a , self.Q[h,s,:])\n",
    "    \n",
    "    def run(self):\n",
    "        R = 0\n",
    "        Rvec = []\n",
    "        for k in tqdm(range(1,self.K+1)):\n",
    "            self.env.reset()\n",
    "            done = 0\n",
    "            while not done:\n",
    "                s = env.get_state()\n",
    "                h = self.env.timestep\n",
    "                a = self.act(s,h)\n",
    "                r,s_,done = self.env.advance(a)\n",
    "                self.update(s,a,r,s_,h,k)\n",
    "                R += r\n",
    "            Rvec.append(R)\n",
    "        return Rvec"
   ]
  },
  {
   "cell_type": "code",
   "execution_count": 9,
   "metadata": {},
   "outputs": [],
   "source": [
    "class Beyond_Q(object):\n",
    "    '''\n",
    "    Implements Q-learning with BeyondGreedy Exploration\n",
    "    Inputs:\n",
    "    env - the environment the agent with be interacting with\n",
    "    K - the number of episodes\n",
    "    gamma - exploration parameter\n",
    "    Returns:\n",
    "    Rvec - a vector with the cumulative returns for each episode k \\in [K]\n",
    "    '''\n",
    "    def __init__(self,env,K,gamma):\n",
    "        \n",
    "        self.env = env\n",
    "        self.K = K\n",
    "        self.gamma = gamma\n",
    "        self.mu = self.env.nAction\n",
    "        #Step 2: Initializes Q, N, p, V.\n",
    "        self.Q = np.zeros((self.env.epLen,self.env.nState,self.env.nAction)) #+ self.env.epLen\n",
    "        self.N = np.zeros((self.env.epLen,self.env.nState,self.env.nAction))\n",
    "        self.p = np.zeros((self.env.epLen,self.env.nState,self.env.nAction)) + 1/self.env.nAction\n",
    "        self.V = np.zeros((self.env.epLen+1,self.env.nState)) #+ self.env.epLen\n",
    "        self.V[self.env.epLen,:] = 0.0\n",
    "    \n",
    "    def act(self,s,h):\n",
    "        '''\n",
    "        Implements step 6\n",
    "        Inputs:\n",
    "        s - the current state\n",
    "        h - the current step\n",
    "        Returns:\n",
    "        a - the action under the current policy at state s at step h\n",
    "        '''\n",
    "        return np.random.choice(self.env.nAction, p=self.p[h,s,:])\n",
    "    \n",
    "    def update(self,s,a,r,s_,h,k):\n",
    "        '''\n",
    "        Implements steps 7-10\n",
    "        Inputs:\n",
    "        s - the current state\n",
    "        a - the current action\n",
    "        r - the observed reward\n",
    "        s_ - the observed next state\n",
    "        h - the current step in the episode\n",
    "        k - the current episode\n",
    "        '''\n",
    "        #Step 7\n",
    "        self.N[h,s,a] += 1\n",
    "        #Step 8\n",
    "        alpha = (self.env.epLen+1) / (self.env.epLen + self.N[h,s,a])\n",
    "\n",
    "        self.Q[h,s,a] = (1-alpha)*self.Q[h,s,a] + alpha * (r + self.V[h+1,s_])\n",
    "        #Step 9\n",
    "        sums = 0.0\n",
    "        b = self.env.argmax(self.Q[h,s,:])\n",
    "        for a_ in range(self.env.nAction):\n",
    "            if a_ != b:\n",
    "                self.p[h,s,a_] = 1/(self.mu + self.gamma*(self.Q[h,s,b]-self.Q[h,s,a_]))\n",
    "                sums += self.p[h,s,a_]\n",
    "        self.p[h,s,b] = 1 - sums\n",
    "        #Step 10\n",
    "        self.V[h,s] = np.dot(self.p[h,s,:],self.Q[h,s,:])\n",
    "    \n",
    "    def run(self):\n",
    "        '''\n",
    "        A function for handling the agents interaction with the environment\n",
    "        returns:\n",
    "        Rvec - a vector with the cumulative rewards\n",
    "        '''\n",
    "        R = 0\n",
    "        Rvec = []\n",
    "        for k in tqdm(range(1,self.K+1)):\n",
    "            self.env.reset()\n",
    "            done = 0\n",
    "            while not done:\n",
    "                s = self.env.get_state()\n",
    "                h = self.env.timestep\n",
    "                a = self.act(s,h)\n",
    "                r,s_,done = self.env.advance(a)\n",
    "\n",
    "                self.update(s,a,r,s_,h,k)\n",
    "                R += r\n",
    "            Rvec.append(R)\n",
    "        return Rvec\n",
    "        \n",
    "        "
   ]
  },
  {
   "cell_type": "code",
   "execution_count": 10,
   "metadata": {
    "tags": []
   },
   "outputs": [
    {
     "output_type": "display_data",
     "data": {
      "text/plain": "HBox(children=(HTML(value=''), FloatProgress(value=0.0, max=10.0), HTML(value='')))",
      "application/vnd.jupyter.widget-view+json": {
       "version_major": 2,
       "version_minor": 0,
       "model_id": "a181a1f4d93346b194d86b512ccdc6db"
      }
     },
     "metadata": {}
    },
    {
     "output_type": "display_data",
     "data": {
      "text/plain": "HBox(children=(HTML(value=''), FloatProgress(value=0.0, max=10000.0), HTML(value='')))",
      "application/vnd.jupyter.widget-view+json": {
       "version_major": 2,
       "version_minor": 0,
       "model_id": "a384dc894edf44099d3f4675a071bf17"
      }
     },
     "metadata": {}
    },
    {
     "output_type": "stream",
     "name": "stdout",
     "text": "\n"
    },
    {
     "output_type": "display_data",
     "data": {
      "text/plain": "HBox(children=(HTML(value=''), FloatProgress(value=0.0, max=10000.0), HTML(value='')))",
      "application/vnd.jupyter.widget-view+json": {
       "version_major": 2,
       "version_minor": 0,
       "model_id": "ca537c61307c46e5b4c47b5555c1d514"
      }
     },
     "metadata": {}
    },
    {
     "output_type": "stream",
     "name": "stdout",
     "text": "\n"
    },
    {
     "output_type": "display_data",
     "data": {
      "text/plain": "HBox(children=(HTML(value=''), FloatProgress(value=0.0, max=10000.0), HTML(value='')))",
      "application/vnd.jupyter.widget-view+json": {
       "version_major": 2,
       "version_minor": 0,
       "model_id": "82653bd8d4274bc38ce4ddd45dcd63e2"
      }
     },
     "metadata": {}
    },
    {
     "output_type": "stream",
     "name": "stdout",
     "text": "\n"
    },
    {
     "output_type": "display_data",
     "data": {
      "text/plain": "HBox(children=(HTML(value=''), FloatProgress(value=0.0, max=10000.0), HTML(value='')))",
      "application/vnd.jupyter.widget-view+json": {
       "version_major": 2,
       "version_minor": 0,
       "model_id": "b3869a1b3f5c47f6bfceae9377be4adf"
      }
     },
     "metadata": {}
    },
    {
     "output_type": "stream",
     "name": "stdout",
     "text": "\n"
    },
    {
     "output_type": "display_data",
     "data": {
      "text/plain": "HBox(children=(HTML(value=''), FloatProgress(value=0.0, max=10000.0), HTML(value='')))",
      "application/vnd.jupyter.widget-view+json": {
       "version_major": 2,
       "version_minor": 0,
       "model_id": "2a9d57dfa05646c8bc751289bd5ac101"
      }
     },
     "metadata": {}
    },
    {
     "output_type": "stream",
     "name": "stdout",
     "text": "\n"
    },
    {
     "output_type": "display_data",
     "data": {
      "text/plain": "HBox(children=(HTML(value=''), FloatProgress(value=0.0, max=10000.0), HTML(value='')))",
      "application/vnd.jupyter.widget-view+json": {
       "version_major": 2,
       "version_minor": 0,
       "model_id": "5be257634b074fecbdb0763a0774e630"
      }
     },
     "metadata": {}
    },
    {
     "output_type": "stream",
     "name": "stdout",
     "text": "\n"
    },
    {
     "output_type": "display_data",
     "data": {
      "text/plain": "HBox(children=(HTML(value=''), FloatProgress(value=0.0, max=10000.0), HTML(value='')))",
      "application/vnd.jupyter.widget-view+json": {
       "version_major": 2,
       "version_minor": 0,
       "model_id": "2005f7ba6c8d4d3ea2e6b3166fc93798"
      }
     },
     "metadata": {}
    },
    {
     "output_type": "stream",
     "name": "stdout",
     "text": "\n"
    },
    {
     "output_type": "display_data",
     "data": {
      "text/plain": "HBox(children=(HTML(value=''), FloatProgress(value=0.0, max=10000.0), HTML(value='')))",
      "application/vnd.jupyter.widget-view+json": {
       "version_major": 2,
       "version_minor": 0,
       "model_id": "ede2eadde0554ed8a64bfc822a683c10"
      }
     },
     "metadata": {}
    },
    {
     "output_type": "stream",
     "name": "stdout",
     "text": "\n"
    },
    {
     "output_type": "display_data",
     "data": {
      "text/plain": "HBox(children=(HTML(value=''), FloatProgress(value=0.0, max=10000.0), HTML(value='')))",
      "application/vnd.jupyter.widget-view+json": {
       "version_major": 2,
       "version_minor": 0,
       "model_id": "de4e384ba9564180987e070f25c88d46"
      }
     },
     "metadata": {}
    },
    {
     "output_type": "stream",
     "name": "stdout",
     "text": "\n"
    },
    {
     "output_type": "display_data",
     "data": {
      "text/plain": "HBox(children=(HTML(value=''), FloatProgress(value=0.0, max=10000.0), HTML(value='')))",
      "application/vnd.jupyter.widget-view+json": {
       "version_major": 2,
       "version_minor": 0,
       "model_id": "64c49c30a35d4e82a6aa3a55c48c795b"
      }
     },
     "metadata": {}
    },
    {
     "output_type": "stream",
     "name": "stdout",
     "text": "\n"
    },
    {
     "output_type": "display_data",
     "data": {
      "text/plain": "HBox(children=(HTML(value=''), FloatProgress(value=0.0, max=10000.0), HTML(value='')))",
      "application/vnd.jupyter.widget-view+json": {
       "version_major": 2,
       "version_minor": 0,
       "model_id": "1dc73c0e96a04e04aa5265b254099fe7"
      }
     },
     "metadata": {}
    },
    {
     "output_type": "stream",
     "name": "stdout",
     "text": "\n"
    },
    {
     "output_type": "display_data",
     "data": {
      "text/plain": "HBox(children=(HTML(value=''), FloatProgress(value=0.0, max=10000.0), HTML(value='')))",
      "application/vnd.jupyter.widget-view+json": {
       "version_major": 2,
       "version_minor": 0,
       "model_id": "e102c5a429a0426e8063781c2c4a314a"
      }
     },
     "metadata": {}
    },
    {
     "output_type": "stream",
     "name": "stdout",
     "text": "\n"
    },
    {
     "output_type": "display_data",
     "data": {
      "text/plain": "HBox(children=(HTML(value=''), FloatProgress(value=0.0, max=10000.0), HTML(value='')))",
      "application/vnd.jupyter.widget-view+json": {
       "version_major": 2,
       "version_minor": 0,
       "model_id": "ccc30fae61eb408b9ba04e1232b8522f"
      }
     },
     "metadata": {}
    },
    {
     "output_type": "stream",
     "name": "stdout",
     "text": "\n"
    },
    {
     "output_type": "display_data",
     "data": {
      "text/plain": "HBox(children=(HTML(value=''), FloatProgress(value=0.0, max=10000.0), HTML(value='')))",
      "application/vnd.jupyter.widget-view+json": {
       "version_major": 2,
       "version_minor": 0,
       "model_id": "93c8dd53602e4a469c6a526d4d3aa507"
      }
     },
     "metadata": {}
    },
    {
     "output_type": "stream",
     "name": "stdout",
     "text": "\n"
    },
    {
     "output_type": "display_data",
     "data": {
      "text/plain": "HBox(children=(HTML(value=''), FloatProgress(value=0.0, max=10000.0), HTML(value='')))",
      "application/vnd.jupyter.widget-view+json": {
       "version_major": 2,
       "version_minor": 0,
       "model_id": "e2353634a68545818200d84d8e266dfc"
      }
     },
     "metadata": {}
    },
    {
     "output_type": "stream",
     "name": "stdout",
     "text": "\n"
    },
    {
     "output_type": "display_data",
     "data": {
      "text/plain": "HBox(children=(HTML(value=''), FloatProgress(value=0.0, max=10000.0), HTML(value='')))",
      "application/vnd.jupyter.widget-view+json": {
       "version_major": 2,
       "version_minor": 0,
       "model_id": "40e3b44989e84d50807db635a7e44017"
      }
     },
     "metadata": {}
    },
    {
     "output_type": "stream",
     "name": "stdout",
     "text": "\n"
    },
    {
     "output_type": "display_data",
     "data": {
      "text/plain": "HBox(children=(HTML(value=''), FloatProgress(value=0.0, max=10000.0), HTML(value='')))",
      "application/vnd.jupyter.widget-view+json": {
       "version_major": 2,
       "version_minor": 0,
       "model_id": "d229226c97814bfc9d2487f313015e01"
      }
     },
     "metadata": {}
    },
    {
     "output_type": "stream",
     "name": "stdout",
     "text": "\n"
    },
    {
     "output_type": "display_data",
     "data": {
      "text/plain": "HBox(children=(HTML(value=''), FloatProgress(value=0.0, max=10000.0), HTML(value='')))",
      "application/vnd.jupyter.widget-view+json": {
       "version_major": 2,
       "version_minor": 0,
       "model_id": "cdc24c79d45140fdafbbbae100dfb35f"
      }
     },
     "metadata": {}
    },
    {
     "output_type": "stream",
     "name": "stdout",
     "text": "\n"
    },
    {
     "output_type": "display_data",
     "data": {
      "text/plain": "HBox(children=(HTML(value=''), FloatProgress(value=0.0, max=10000.0), HTML(value='')))",
      "application/vnd.jupyter.widget-view+json": {
       "version_major": 2,
       "version_minor": 0,
       "model_id": "9d87876fb82746b5ab2b6b8b1948df23"
      }
     },
     "metadata": {}
    },
    {
     "output_type": "stream",
     "name": "stdout",
     "text": "\n"
    },
    {
     "output_type": "display_data",
     "data": {
      "text/plain": "HBox(children=(HTML(value=''), FloatProgress(value=0.0, max=10000.0), HTML(value='')))",
      "application/vnd.jupyter.widget-view+json": {
       "version_major": 2,
       "version_minor": 0,
       "model_id": "f61155be21a4410a9a28cd52b82a3577"
      }
     },
     "metadata": {}
    },
    {
     "output_type": "stream",
     "name": "stdout",
     "text": "\n"
    },
    {
     "output_type": "display_data",
     "data": {
      "text/plain": "HBox(children=(HTML(value=''), FloatProgress(value=0.0, max=10000.0), HTML(value='')))",
      "application/vnd.jupyter.widget-view+json": {
       "version_major": 2,
       "version_minor": 0,
       "model_id": "5fa089f80259469490d65ccb760793fb"
      }
     },
     "metadata": {}
    },
    {
     "output_type": "stream",
     "name": "stdout",
     "text": "\n"
    },
    {
     "output_type": "display_data",
     "data": {
      "text/plain": "HBox(children=(HTML(value=''), FloatProgress(value=0.0, max=10000.0), HTML(value='')))",
      "application/vnd.jupyter.widget-view+json": {
       "version_major": 2,
       "version_minor": 0,
       "model_id": "7be6be8278dd4bd38e62b7abddf1560e"
      }
     },
     "metadata": {}
    },
    {
     "output_type": "stream",
     "name": "stdout",
     "text": "\n"
    },
    {
     "output_type": "display_data",
     "data": {
      "text/plain": "HBox(children=(HTML(value=''), FloatProgress(value=0.0, max=10000.0), HTML(value='')))",
      "application/vnd.jupyter.widget-view+json": {
       "version_major": 2,
       "version_minor": 0,
       "model_id": "165b02415fb74c44b09aa2b3e4db3408"
      }
     },
     "metadata": {}
    },
    {
     "output_type": "stream",
     "name": "stdout",
     "text": "\n"
    },
    {
     "output_type": "display_data",
     "data": {
      "text/plain": "HBox(children=(HTML(value=''), FloatProgress(value=0.0, max=10000.0), HTML(value='')))",
      "application/vnd.jupyter.widget-view+json": {
       "version_major": 2,
       "version_minor": 0,
       "model_id": "8108860335754617b88e89b0748fdd0b"
      }
     },
     "metadata": {}
    },
    {
     "output_type": "stream",
     "name": "stdout",
     "text": "\n"
    },
    {
     "output_type": "display_data",
     "data": {
      "text/plain": "HBox(children=(HTML(value=''), FloatProgress(value=0.0, max=10000.0), HTML(value='')))",
      "application/vnd.jupyter.widget-view+json": {
       "version_major": 2,
       "version_minor": 0,
       "model_id": "b17696c98099446d96c91cf78db998b6"
      }
     },
     "metadata": {}
    },
    {
     "output_type": "stream",
     "name": "stdout",
     "text": "\n"
    },
    {
     "output_type": "display_data",
     "data": {
      "text/plain": "HBox(children=(HTML(value=''), FloatProgress(value=0.0, max=10000.0), HTML(value='')))",
      "application/vnd.jupyter.widget-view+json": {
       "version_major": 2,
       "version_minor": 0,
       "model_id": "7aa5c4e22fc940abbf7fe92738012e09"
      }
     },
     "metadata": {}
    },
    {
     "output_type": "stream",
     "name": "stdout",
     "text": "\n"
    },
    {
     "output_type": "display_data",
     "data": {
      "text/plain": "HBox(children=(HTML(value=''), FloatProgress(value=0.0, max=10000.0), HTML(value='')))",
      "application/vnd.jupyter.widget-view+json": {
       "version_major": 2,
       "version_minor": 0,
       "model_id": "c053217dfad74e949cd87d14d3f86d7a"
      }
     },
     "metadata": {}
    },
    {
     "output_type": "stream",
     "name": "stdout",
     "text": "\n"
    },
    {
     "output_type": "display_data",
     "data": {
      "text/plain": "HBox(children=(HTML(value=''), FloatProgress(value=0.0, max=10000.0), HTML(value='')))",
      "application/vnd.jupyter.widget-view+json": {
       "version_major": 2,
       "version_minor": 0,
       "model_id": "05214654b3de4f5a97e0565f25e1ce34"
      }
     },
     "metadata": {}
    },
    {
     "output_type": "stream",
     "name": "stdout",
     "text": "\n"
    },
    {
     "output_type": "display_data",
     "data": {
      "text/plain": "HBox(children=(HTML(value=''), FloatProgress(value=0.0, max=10000.0), HTML(value='')))",
      "application/vnd.jupyter.widget-view+json": {
       "version_major": 2,
       "version_minor": 0,
       "model_id": "5e05a53d6dfd44e5a94835a072a86ea7"
      }
     },
     "metadata": {}
    },
    {
     "output_type": "stream",
     "name": "stdout",
     "text": "\n"
    },
    {
     "output_type": "display_data",
     "data": {
      "text/plain": "HBox(children=(HTML(value=''), FloatProgress(value=0.0, max=10000.0), HTML(value='')))",
      "application/vnd.jupyter.widget-view+json": {
       "version_major": 2,
       "version_minor": 0,
       "model_id": "afc590e1aa5840e88a0ffae79bd729a8"
      }
     },
     "metadata": {}
    },
    {
     "output_type": "stream",
     "name": "stdout",
     "text": "\n\n"
    }
   ],
   "source": [
    "K = 10000\n",
    "runs = 10\n",
    "delta = 1/K\n",
    "eta = 0.1\n",
    "epsilon = 0.1\n",
    "\n",
    "env = make_riverSwim(epLen = 20,nState = 6)\n",
    "gamma = np.sqrt(K*env.epLen*env.nAction/(env.nAction*env.nState*env.epLen*np.log(2/delta)))\n",
    "r1 = np.zeros((runs,K)) # Beyond_Q\n",
    "r2 = np.zeros((runs,K)) # E-Greedy\n",
    "r3 = np.zeros((runs,K)) # Softmax\n",
    "\n",
    "for r in tqdm(range(runs)):\n",
    "    agent1 = Beyond_Q(env,K,gamma)\n",
    "    r1[r,:] = agent1.run()\n",
    "\n",
    "    agent2 = Eps_Q(env,K,epsilon)\n",
    "    r2[r,:] = agent2.run()\n",
    "\n",
    "    agent3 = Softmax_Q(env,K,eta)\n",
    "    r3[r,:] = agent3.run()\n",
    "\n",
    "R1 = np.mean(r1,axis=0)\n",
    "R2 = np.mean(r2,axis=0)\n",
    "R3 = np.mean(r3,axis=0)"
   ]
  },
  {
   "cell_type": "code",
   "execution_count": 11,
   "metadata": {},
   "outputs": [
    {
     "output_type": "display_data",
     "data": {
      "text/plain": "<Figure size 432x288 with 1 Axes>",
      "image/svg+xml": "<?xml version=\"1.0\" encoding=\"utf-8\" standalone=\"no\"?>\r\n<!DOCTYPE svg PUBLIC \"-//W3C//DTD SVG 1.1//EN\"\r\n  \"http://www.w3.org/Graphics/SVG/1.1/DTD/svg11.dtd\">\r\n<!-- Created with matplotlib (https://matplotlib.org/) -->\r\n<svg height=\"277.314375pt\" version=\"1.1\" viewBox=\"0 0 402.409133 277.314375\" width=\"402.409133pt\" xmlns=\"http://www.w3.org/2000/svg\" xmlns:xlink=\"http://www.w3.org/1999/xlink\">\r\n <metadata>\r\n  <rdf:RDF xmlns:cc=\"http://creativecommons.org/ns#\" xmlns:dc=\"http://purl.org/dc/elements/1.1/\" xmlns:rdf=\"http://www.w3.org/1999/02/22-rdf-syntax-ns#\">\r\n   <cc:Work>\r\n    <dc:type rdf:resource=\"http://purl.org/dc/dcmitype/StillImage\"/>\r\n    <dc:date>2020-09-30T13:02:09.698884</dc:date>\r\n    <dc:format>image/svg+xml</dc:format>\r\n    <dc:creator>\r\n     <cc:Agent>\r\n      <dc:title>Matplotlib v3.3.2, https://matplotlib.org/</dc:title>\r\n     </cc:Agent>\r\n    </dc:creator>\r\n   </cc:Work>\r\n  </rdf:RDF>\r\n </metadata>\r\n <defs>\r\n  <style type=\"text/css\">*{stroke-linecap:butt;stroke-linejoin:round;}</style>\r\n </defs>\r\n <g id=\"figure_1\">\r\n  <g id=\"patch_1\">\r\n   <path d=\"M 0 277.314375 \r\nL 402.409133 277.314375 \r\nL 402.409133 0 \r\nL 0 0 \r\nz\r\n\" style=\"fill:none;\"/>\r\n  </g>\r\n  <g id=\"axes_1\">\r\n   <g id=\"patch_2\">\r\n    <path d=\"M 59.690625 239.758125 \r\nL 394.490625 239.758125 \r\nL 394.490625 22.318125 \r\nL 59.690625 22.318125 \r\nz\r\n\" style=\"fill:#ffffff;\"/>\r\n   </g>\r\n   <g id=\"matplotlib.axis_1\">\r\n    <g id=\"xtick_1\">\r\n     <g id=\"line2d_1\">\r\n      <defs>\r\n       <path d=\"M 0 0 \r\nL 0 3.5 \r\n\" id=\"m6610e12372\" style=\"stroke:#000000;stroke-width:0.8;\"/>\r\n      </defs>\r\n      <g>\r\n       <use style=\"stroke:#000000;stroke-width:0.8;\" x=\"74.908807\" xlink:href=\"#m6610e12372\" y=\"239.758125\"/>\r\n      </g>\r\n     </g>\r\n     <g id=\"text_1\">\r\n      <!-- 0 -->\r\n      <g transform=\"translate(71.727557 254.356562)scale(0.1 -0.1)\">\r\n       <defs>\r\n        <path d=\"M 31.78125 66.40625 \r\nQ 24.171875 66.40625 20.328125 58.90625 \r\nQ 16.5 51.421875 16.5 36.375 \r\nQ 16.5 21.390625 20.328125 13.890625 \r\nQ 24.171875 6.390625 31.78125 6.390625 \r\nQ 39.453125 6.390625 43.28125 13.890625 \r\nQ 47.125 21.390625 47.125 36.375 \r\nQ 47.125 51.421875 43.28125 58.90625 \r\nQ 39.453125 66.40625 31.78125 66.40625 \r\nz\r\nM 31.78125 74.21875 \r\nQ 44.046875 74.21875 50.515625 64.515625 \r\nQ 56.984375 54.828125 56.984375 36.375 \r\nQ 56.984375 17.96875 50.515625 8.265625 \r\nQ 44.046875 -1.421875 31.78125 -1.421875 \r\nQ 19.53125 -1.421875 13.0625 8.265625 \r\nQ 6.59375 17.96875 6.59375 36.375 \r\nQ 6.59375 54.828125 13.0625 64.515625 \r\nQ 19.53125 74.21875 31.78125 74.21875 \r\nz\r\n\" id=\"DejaVuSans-48\"/>\r\n       </defs>\r\n       <use xlink:href=\"#DejaVuSans-48\"/>\r\n      </g>\r\n     </g>\r\n    </g>\r\n    <g id=\"xtick_2\">\r\n     <g id=\"line2d_2\">\r\n      <g>\r\n       <use style=\"stroke:#000000;stroke-width:0.8;\" x=\"135.787622\" xlink:href=\"#m6610e12372\" y=\"239.758125\"/>\r\n      </g>\r\n     </g>\r\n     <g id=\"text_2\">\r\n      <!-- 2000 -->\r\n      <g transform=\"translate(123.062622 254.356562)scale(0.1 -0.1)\">\r\n       <defs>\r\n        <path d=\"M 19.1875 8.296875 \r\nL 53.609375 8.296875 \r\nL 53.609375 0 \r\nL 7.328125 0 \r\nL 7.328125 8.296875 \r\nQ 12.9375 14.109375 22.625 23.890625 \r\nQ 32.328125 33.6875 34.8125 36.53125 \r\nQ 39.546875 41.84375 41.421875 45.53125 \r\nQ 43.3125 49.21875 43.3125 52.78125 \r\nQ 43.3125 58.59375 39.234375 62.25 \r\nQ 35.15625 65.921875 28.609375 65.921875 \r\nQ 23.96875 65.921875 18.8125 64.3125 \r\nQ 13.671875 62.703125 7.8125 59.421875 \r\nL 7.8125 69.390625 \r\nQ 13.765625 71.78125 18.9375 73 \r\nQ 24.125 74.21875 28.421875 74.21875 \r\nQ 39.75 74.21875 46.484375 68.546875 \r\nQ 53.21875 62.890625 53.21875 53.421875 \r\nQ 53.21875 48.921875 51.53125 44.890625 \r\nQ 49.859375 40.875 45.40625 35.40625 \r\nQ 44.1875 33.984375 37.640625 27.21875 \r\nQ 31.109375 20.453125 19.1875 8.296875 \r\nz\r\n\" id=\"DejaVuSans-50\"/>\r\n       </defs>\r\n       <use xlink:href=\"#DejaVuSans-50\"/>\r\n       <use x=\"63.623047\" xlink:href=\"#DejaVuSans-48\"/>\r\n       <use x=\"127.246094\" xlink:href=\"#DejaVuSans-48\"/>\r\n       <use x=\"190.869141\" xlink:href=\"#DejaVuSans-48\"/>\r\n      </g>\r\n     </g>\r\n    </g>\r\n    <g id=\"xtick_3\">\r\n     <g id=\"line2d_3\">\r\n      <g>\r\n       <use style=\"stroke:#000000;stroke-width:0.8;\" x=\"196.666437\" xlink:href=\"#m6610e12372\" y=\"239.758125\"/>\r\n      </g>\r\n     </g>\r\n     <g id=\"text_3\">\r\n      <!-- 4000 -->\r\n      <g transform=\"translate(183.941437 254.356562)scale(0.1 -0.1)\">\r\n       <defs>\r\n        <path d=\"M 37.796875 64.3125 \r\nL 12.890625 25.390625 \r\nL 37.796875 25.390625 \r\nz\r\nM 35.203125 72.90625 \r\nL 47.609375 72.90625 \r\nL 47.609375 25.390625 \r\nL 58.015625 25.390625 \r\nL 58.015625 17.1875 \r\nL 47.609375 17.1875 \r\nL 47.609375 0 \r\nL 37.796875 0 \r\nL 37.796875 17.1875 \r\nL 4.890625 17.1875 \r\nL 4.890625 26.703125 \r\nz\r\n\" id=\"DejaVuSans-52\"/>\r\n       </defs>\r\n       <use xlink:href=\"#DejaVuSans-52\"/>\r\n       <use x=\"63.623047\" xlink:href=\"#DejaVuSans-48\"/>\r\n       <use x=\"127.246094\" xlink:href=\"#DejaVuSans-48\"/>\r\n       <use x=\"190.869141\" xlink:href=\"#DejaVuSans-48\"/>\r\n      </g>\r\n     </g>\r\n    </g>\r\n    <g id=\"xtick_4\">\r\n     <g id=\"line2d_4\">\r\n      <g>\r\n       <use style=\"stroke:#000000;stroke-width:0.8;\" x=\"257.545252\" xlink:href=\"#m6610e12372\" y=\"239.758125\"/>\r\n      </g>\r\n     </g>\r\n     <g id=\"text_4\">\r\n      <!-- 6000 -->\r\n      <g transform=\"translate(244.820252 254.356562)scale(0.1 -0.1)\">\r\n       <defs>\r\n        <path d=\"M 33.015625 40.375 \r\nQ 26.375 40.375 22.484375 35.828125 \r\nQ 18.609375 31.296875 18.609375 23.390625 \r\nQ 18.609375 15.53125 22.484375 10.953125 \r\nQ 26.375 6.390625 33.015625 6.390625 \r\nQ 39.65625 6.390625 43.53125 10.953125 \r\nQ 47.40625 15.53125 47.40625 23.390625 \r\nQ 47.40625 31.296875 43.53125 35.828125 \r\nQ 39.65625 40.375 33.015625 40.375 \r\nz\r\nM 52.59375 71.296875 \r\nL 52.59375 62.3125 \r\nQ 48.875 64.0625 45.09375 64.984375 \r\nQ 41.3125 65.921875 37.59375 65.921875 \r\nQ 27.828125 65.921875 22.671875 59.328125 \r\nQ 17.53125 52.734375 16.796875 39.40625 \r\nQ 19.671875 43.65625 24.015625 45.921875 \r\nQ 28.375 48.1875 33.59375 48.1875 \r\nQ 44.578125 48.1875 50.953125 41.515625 \r\nQ 57.328125 34.859375 57.328125 23.390625 \r\nQ 57.328125 12.15625 50.6875 5.359375 \r\nQ 44.046875 -1.421875 33.015625 -1.421875 \r\nQ 20.359375 -1.421875 13.671875 8.265625 \r\nQ 6.984375 17.96875 6.984375 36.375 \r\nQ 6.984375 53.65625 15.1875 63.9375 \r\nQ 23.390625 74.21875 37.203125 74.21875 \r\nQ 40.921875 74.21875 44.703125 73.484375 \r\nQ 48.484375 72.75 52.59375 71.296875 \r\nz\r\n\" id=\"DejaVuSans-54\"/>\r\n       </defs>\r\n       <use xlink:href=\"#DejaVuSans-54\"/>\r\n       <use x=\"63.623047\" xlink:href=\"#DejaVuSans-48\"/>\r\n       <use x=\"127.246094\" xlink:href=\"#DejaVuSans-48\"/>\r\n       <use x=\"190.869141\" xlink:href=\"#DejaVuSans-48\"/>\r\n      </g>\r\n     </g>\r\n    </g>\r\n    <g id=\"xtick_5\">\r\n     <g id=\"line2d_5\">\r\n      <g>\r\n       <use style=\"stroke:#000000;stroke-width:0.8;\" x=\"318.424067\" xlink:href=\"#m6610e12372\" y=\"239.758125\"/>\r\n      </g>\r\n     </g>\r\n     <g id=\"text_5\">\r\n      <!-- 8000 -->\r\n      <g transform=\"translate(305.699067 254.356562)scale(0.1 -0.1)\">\r\n       <defs>\r\n        <path d=\"M 31.78125 34.625 \r\nQ 24.75 34.625 20.71875 30.859375 \r\nQ 16.703125 27.09375 16.703125 20.515625 \r\nQ 16.703125 13.921875 20.71875 10.15625 \r\nQ 24.75 6.390625 31.78125 6.390625 \r\nQ 38.8125 6.390625 42.859375 10.171875 \r\nQ 46.921875 13.96875 46.921875 20.515625 \r\nQ 46.921875 27.09375 42.890625 30.859375 \r\nQ 38.875 34.625 31.78125 34.625 \r\nz\r\nM 21.921875 38.8125 \r\nQ 15.578125 40.375 12.03125 44.71875 \r\nQ 8.5 49.078125 8.5 55.328125 \r\nQ 8.5 64.0625 14.71875 69.140625 \r\nQ 20.953125 74.21875 31.78125 74.21875 \r\nQ 42.671875 74.21875 48.875 69.140625 \r\nQ 55.078125 64.0625 55.078125 55.328125 \r\nQ 55.078125 49.078125 51.53125 44.71875 \r\nQ 48 40.375 41.703125 38.8125 \r\nQ 48.828125 37.15625 52.796875 32.3125 \r\nQ 56.78125 27.484375 56.78125 20.515625 \r\nQ 56.78125 9.90625 50.3125 4.234375 \r\nQ 43.84375 -1.421875 31.78125 -1.421875 \r\nQ 19.734375 -1.421875 13.25 4.234375 \r\nQ 6.78125 9.90625 6.78125 20.515625 \r\nQ 6.78125 27.484375 10.78125 32.3125 \r\nQ 14.796875 37.15625 21.921875 38.8125 \r\nz\r\nM 18.3125 54.390625 \r\nQ 18.3125 48.734375 21.84375 45.5625 \r\nQ 25.390625 42.390625 31.78125 42.390625 \r\nQ 38.140625 42.390625 41.71875 45.5625 \r\nQ 45.3125 48.734375 45.3125 54.390625 \r\nQ 45.3125 60.0625 41.71875 63.234375 \r\nQ 38.140625 66.40625 31.78125 66.40625 \r\nQ 25.390625 66.40625 21.84375 63.234375 \r\nQ 18.3125 60.0625 18.3125 54.390625 \r\nz\r\n\" id=\"DejaVuSans-56\"/>\r\n       </defs>\r\n       <use xlink:href=\"#DejaVuSans-56\"/>\r\n       <use x=\"63.623047\" xlink:href=\"#DejaVuSans-48\"/>\r\n       <use x=\"127.246094\" xlink:href=\"#DejaVuSans-48\"/>\r\n       <use x=\"190.869141\" xlink:href=\"#DejaVuSans-48\"/>\r\n      </g>\r\n     </g>\r\n    </g>\r\n    <g id=\"xtick_6\">\r\n     <g id=\"line2d_6\">\r\n      <g>\r\n       <use style=\"stroke:#000000;stroke-width:0.8;\" x=\"379.302883\" xlink:href=\"#m6610e12372\" y=\"239.758125\"/>\r\n      </g>\r\n     </g>\r\n     <g id=\"text_6\">\r\n      <!-- 10000 -->\r\n      <g transform=\"translate(363.396633 254.356562)scale(0.1 -0.1)\">\r\n       <defs>\r\n        <path d=\"M 12.40625 8.296875 \r\nL 28.515625 8.296875 \r\nL 28.515625 63.921875 \r\nL 10.984375 60.40625 \r\nL 10.984375 69.390625 \r\nL 28.421875 72.90625 \r\nL 38.28125 72.90625 \r\nL 38.28125 8.296875 \r\nL 54.390625 8.296875 \r\nL 54.390625 0 \r\nL 12.40625 0 \r\nz\r\n\" id=\"DejaVuSans-49\"/>\r\n       </defs>\r\n       <use xlink:href=\"#DejaVuSans-49\"/>\r\n       <use x=\"63.623047\" xlink:href=\"#DejaVuSans-48\"/>\r\n       <use x=\"127.246094\" xlink:href=\"#DejaVuSans-48\"/>\r\n       <use x=\"190.869141\" xlink:href=\"#DejaVuSans-48\"/>\r\n       <use x=\"254.492188\" xlink:href=\"#DejaVuSans-48\"/>\r\n      </g>\r\n     </g>\r\n    </g>\r\n    <g id=\"text_7\">\r\n     <!-- Episode -->\r\n     <g transform=\"translate(207.453125 268.034687)scale(0.1 -0.1)\">\r\n      <defs>\r\n       <path d=\"M 9.8125 72.90625 \r\nL 55.90625 72.90625 \r\nL 55.90625 64.59375 \r\nL 19.671875 64.59375 \r\nL 19.671875 43.015625 \r\nL 54.390625 43.015625 \r\nL 54.390625 34.71875 \r\nL 19.671875 34.71875 \r\nL 19.671875 8.296875 \r\nL 56.78125 8.296875 \r\nL 56.78125 0 \r\nL 9.8125 0 \r\nz\r\n\" id=\"DejaVuSans-69\"/>\r\n       <path d=\"M 18.109375 8.203125 \r\nL 18.109375 -20.796875 \r\nL 9.078125 -20.796875 \r\nL 9.078125 54.6875 \r\nL 18.109375 54.6875 \r\nL 18.109375 46.390625 \r\nQ 20.953125 51.265625 25.265625 53.625 \r\nQ 29.59375 56 35.59375 56 \r\nQ 45.5625 56 51.78125 48.09375 \r\nQ 58.015625 40.1875 58.015625 27.296875 \r\nQ 58.015625 14.40625 51.78125 6.484375 \r\nQ 45.5625 -1.421875 35.59375 -1.421875 \r\nQ 29.59375 -1.421875 25.265625 0.953125 \r\nQ 20.953125 3.328125 18.109375 8.203125 \r\nz\r\nM 48.6875 27.296875 \r\nQ 48.6875 37.203125 44.609375 42.84375 \r\nQ 40.53125 48.484375 33.40625 48.484375 \r\nQ 26.265625 48.484375 22.1875 42.84375 \r\nQ 18.109375 37.203125 18.109375 27.296875 \r\nQ 18.109375 17.390625 22.1875 11.75 \r\nQ 26.265625 6.109375 33.40625 6.109375 \r\nQ 40.53125 6.109375 44.609375 11.75 \r\nQ 48.6875 17.390625 48.6875 27.296875 \r\nz\r\n\" id=\"DejaVuSans-112\"/>\r\n       <path d=\"M 9.421875 54.6875 \r\nL 18.40625 54.6875 \r\nL 18.40625 0 \r\nL 9.421875 0 \r\nz\r\nM 9.421875 75.984375 \r\nL 18.40625 75.984375 \r\nL 18.40625 64.59375 \r\nL 9.421875 64.59375 \r\nz\r\n\" id=\"DejaVuSans-105\"/>\r\n       <path d=\"M 44.28125 53.078125 \r\nL 44.28125 44.578125 \r\nQ 40.484375 46.53125 36.375 47.5 \r\nQ 32.28125 48.484375 27.875 48.484375 \r\nQ 21.1875 48.484375 17.84375 46.4375 \r\nQ 14.5 44.390625 14.5 40.28125 \r\nQ 14.5 37.15625 16.890625 35.375 \r\nQ 19.28125 33.59375 26.515625 31.984375 \r\nL 29.59375 31.296875 \r\nQ 39.15625 29.25 43.1875 25.515625 \r\nQ 47.21875 21.78125 47.21875 15.09375 \r\nQ 47.21875 7.46875 41.1875 3.015625 \r\nQ 35.15625 -1.421875 24.609375 -1.421875 \r\nQ 20.21875 -1.421875 15.453125 -0.5625 \r\nQ 10.6875 0.296875 5.421875 2 \r\nL 5.421875 11.28125 \r\nQ 10.40625 8.6875 15.234375 7.390625 \r\nQ 20.0625 6.109375 24.8125 6.109375 \r\nQ 31.15625 6.109375 34.5625 8.28125 \r\nQ 37.984375 10.453125 37.984375 14.40625 \r\nQ 37.984375 18.0625 35.515625 20.015625 \r\nQ 33.0625 21.96875 24.703125 23.78125 \r\nL 21.578125 24.515625 \r\nQ 13.234375 26.265625 9.515625 29.90625 \r\nQ 5.8125 33.546875 5.8125 39.890625 \r\nQ 5.8125 47.609375 11.28125 51.796875 \r\nQ 16.75 56 26.8125 56 \r\nQ 31.78125 56 36.171875 55.265625 \r\nQ 40.578125 54.546875 44.28125 53.078125 \r\nz\r\n\" id=\"DejaVuSans-115\"/>\r\n       <path d=\"M 30.609375 48.390625 \r\nQ 23.390625 48.390625 19.1875 42.75 \r\nQ 14.984375 37.109375 14.984375 27.296875 \r\nQ 14.984375 17.484375 19.15625 11.84375 \r\nQ 23.34375 6.203125 30.609375 6.203125 \r\nQ 37.796875 6.203125 41.984375 11.859375 \r\nQ 46.1875 17.53125 46.1875 27.296875 \r\nQ 46.1875 37.015625 41.984375 42.703125 \r\nQ 37.796875 48.390625 30.609375 48.390625 \r\nz\r\nM 30.609375 56 \r\nQ 42.328125 56 49.015625 48.375 \r\nQ 55.71875 40.765625 55.71875 27.296875 \r\nQ 55.71875 13.875 49.015625 6.21875 \r\nQ 42.328125 -1.421875 30.609375 -1.421875 \r\nQ 18.84375 -1.421875 12.171875 6.21875 \r\nQ 5.515625 13.875 5.515625 27.296875 \r\nQ 5.515625 40.765625 12.171875 48.375 \r\nQ 18.84375 56 30.609375 56 \r\nz\r\n\" id=\"DejaVuSans-111\"/>\r\n       <path d=\"M 45.40625 46.390625 \r\nL 45.40625 75.984375 \r\nL 54.390625 75.984375 \r\nL 54.390625 0 \r\nL 45.40625 0 \r\nL 45.40625 8.203125 \r\nQ 42.578125 3.328125 38.25 0.953125 \r\nQ 33.9375 -1.421875 27.875 -1.421875 \r\nQ 17.96875 -1.421875 11.734375 6.484375 \r\nQ 5.515625 14.40625 5.515625 27.296875 \r\nQ 5.515625 40.1875 11.734375 48.09375 \r\nQ 17.96875 56 27.875 56 \r\nQ 33.9375 56 38.25 53.625 \r\nQ 42.578125 51.265625 45.40625 46.390625 \r\nz\r\nM 14.796875 27.296875 \r\nQ 14.796875 17.390625 18.875 11.75 \r\nQ 22.953125 6.109375 30.078125 6.109375 \r\nQ 37.203125 6.109375 41.296875 11.75 \r\nQ 45.40625 17.390625 45.40625 27.296875 \r\nQ 45.40625 37.203125 41.296875 42.84375 \r\nQ 37.203125 48.484375 30.078125 48.484375 \r\nQ 22.953125 48.484375 18.875 42.84375 \r\nQ 14.796875 37.203125 14.796875 27.296875 \r\nz\r\n\" id=\"DejaVuSans-100\"/>\r\n       <path d=\"M 56.203125 29.59375 \r\nL 56.203125 25.203125 \r\nL 14.890625 25.203125 \r\nQ 15.484375 15.921875 20.484375 11.0625 \r\nQ 25.484375 6.203125 34.421875 6.203125 \r\nQ 39.59375 6.203125 44.453125 7.46875 \r\nQ 49.3125 8.734375 54.109375 11.28125 \r\nL 54.109375 2.78125 \r\nQ 49.265625 0.734375 44.1875 -0.34375 \r\nQ 39.109375 -1.421875 33.890625 -1.421875 \r\nQ 20.796875 -1.421875 13.15625 6.1875 \r\nQ 5.515625 13.8125 5.515625 26.8125 \r\nQ 5.515625 40.234375 12.765625 48.109375 \r\nQ 20.015625 56 32.328125 56 \r\nQ 43.359375 56 49.78125 48.890625 \r\nQ 56.203125 41.796875 56.203125 29.59375 \r\nz\r\nM 47.21875 32.234375 \r\nQ 47.125 39.59375 43.09375 43.984375 \r\nQ 39.0625 48.390625 32.421875 48.390625 \r\nQ 24.90625 48.390625 20.390625 44.140625 \r\nQ 15.875 39.890625 15.1875 32.171875 \r\nz\r\n\" id=\"DejaVuSans-101\"/>\r\n      </defs>\r\n      <use xlink:href=\"#DejaVuSans-69\"/>\r\n      <use x=\"63.183594\" xlink:href=\"#DejaVuSans-112\"/>\r\n      <use x=\"126.660156\" xlink:href=\"#DejaVuSans-105\"/>\r\n      <use x=\"154.443359\" xlink:href=\"#DejaVuSans-115\"/>\r\n      <use x=\"206.542969\" xlink:href=\"#DejaVuSans-111\"/>\r\n      <use x=\"267.724609\" xlink:href=\"#DejaVuSans-100\"/>\r\n      <use x=\"331.201172\" xlink:href=\"#DejaVuSans-101\"/>\r\n     </g>\r\n    </g>\r\n   </g>\r\n   <g id=\"matplotlib.axis_2\">\r\n    <g id=\"ytick_1\">\r\n     <g id=\"line2d_7\">\r\n      <defs>\r\n       <path d=\"M 0 0 \r\nL -3.5 0 \r\n\" id=\"mdb5c6227dc\" style=\"stroke:#000000;stroke-width:0.8;\"/>\r\n      </defs>\r\n      <g>\r\n       <use style=\"stroke:#000000;stroke-width:0.8;\" x=\"59.690625\" xlink:href=\"#mdb5c6227dc\" y=\"229.874765\"/>\r\n      </g>\r\n     </g>\r\n     <g id=\"text_8\">\r\n      <!-- 0 -->\r\n      <g transform=\"translate(46.328125 233.673984)scale(0.1 -0.1)\">\r\n       <use xlink:href=\"#DejaVuSans-48\"/>\r\n      </g>\r\n     </g>\r\n    </g>\r\n    <g id=\"ytick_2\">\r\n     <g id=\"line2d_8\">\r\n      <g>\r\n       <use style=\"stroke:#000000;stroke-width:0.8;\" x=\"59.690625\" xlink:href=\"#mdb5c6227dc\" y=\"203.551336\"/>\r\n      </g>\r\n     </g>\r\n     <g id=\"text_9\">\r\n      <!-- 2000 -->\r\n      <g transform=\"translate(27.240625 207.350555)scale(0.1 -0.1)\">\r\n       <use xlink:href=\"#DejaVuSans-50\"/>\r\n       <use x=\"63.623047\" xlink:href=\"#DejaVuSans-48\"/>\r\n       <use x=\"127.246094\" xlink:href=\"#DejaVuSans-48\"/>\r\n       <use x=\"190.869141\" xlink:href=\"#DejaVuSans-48\"/>\r\n      </g>\r\n     </g>\r\n    </g>\r\n    <g id=\"ytick_3\">\r\n     <g id=\"line2d_9\">\r\n      <g>\r\n       <use style=\"stroke:#000000;stroke-width:0.8;\" x=\"59.690625\" xlink:href=\"#mdb5c6227dc\" y=\"177.227908\"/>\r\n      </g>\r\n     </g>\r\n     <g id=\"text_10\">\r\n      <!-- 4000 -->\r\n      <g transform=\"translate(27.240625 181.027127)scale(0.1 -0.1)\">\r\n       <use xlink:href=\"#DejaVuSans-52\"/>\r\n       <use x=\"63.623047\" xlink:href=\"#DejaVuSans-48\"/>\r\n       <use x=\"127.246094\" xlink:href=\"#DejaVuSans-48\"/>\r\n       <use x=\"190.869141\" xlink:href=\"#DejaVuSans-48\"/>\r\n      </g>\r\n     </g>\r\n    </g>\r\n    <g id=\"ytick_4\">\r\n     <g id=\"line2d_10\">\r\n      <g>\r\n       <use style=\"stroke:#000000;stroke-width:0.8;\" x=\"59.690625\" xlink:href=\"#mdb5c6227dc\" y=\"150.904479\"/>\r\n      </g>\r\n     </g>\r\n     <g id=\"text_11\">\r\n      <!-- 6000 -->\r\n      <g transform=\"translate(27.240625 154.703698)scale(0.1 -0.1)\">\r\n       <use xlink:href=\"#DejaVuSans-54\"/>\r\n       <use x=\"63.623047\" xlink:href=\"#DejaVuSans-48\"/>\r\n       <use x=\"127.246094\" xlink:href=\"#DejaVuSans-48\"/>\r\n       <use x=\"190.869141\" xlink:href=\"#DejaVuSans-48\"/>\r\n      </g>\r\n     </g>\r\n    </g>\r\n    <g id=\"ytick_5\">\r\n     <g id=\"line2d_11\">\r\n      <g>\r\n       <use style=\"stroke:#000000;stroke-width:0.8;\" x=\"59.690625\" xlink:href=\"#mdb5c6227dc\" y=\"124.58105\"/>\r\n      </g>\r\n     </g>\r\n     <g id=\"text_12\">\r\n      <!-- 8000 -->\r\n      <g transform=\"translate(27.240625 128.380269)scale(0.1 -0.1)\">\r\n       <use xlink:href=\"#DejaVuSans-56\"/>\r\n       <use x=\"63.623047\" xlink:href=\"#DejaVuSans-48\"/>\r\n       <use x=\"127.246094\" xlink:href=\"#DejaVuSans-48\"/>\r\n       <use x=\"190.869141\" xlink:href=\"#DejaVuSans-48\"/>\r\n      </g>\r\n     </g>\r\n    </g>\r\n    <g id=\"ytick_6\">\r\n     <g id=\"line2d_12\">\r\n      <g>\r\n       <use style=\"stroke:#000000;stroke-width:0.8;\" x=\"59.690625\" xlink:href=\"#mdb5c6227dc\" y=\"98.257622\"/>\r\n      </g>\r\n     </g>\r\n     <g id=\"text_13\">\r\n      <!-- 10000 -->\r\n      <g transform=\"translate(20.878125 102.056841)scale(0.1 -0.1)\">\r\n       <use xlink:href=\"#DejaVuSans-49\"/>\r\n       <use x=\"63.623047\" xlink:href=\"#DejaVuSans-48\"/>\r\n       <use x=\"127.246094\" xlink:href=\"#DejaVuSans-48\"/>\r\n       <use x=\"190.869141\" xlink:href=\"#DejaVuSans-48\"/>\r\n       <use x=\"254.492188\" xlink:href=\"#DejaVuSans-48\"/>\r\n      </g>\r\n     </g>\r\n    </g>\r\n    <g id=\"ytick_7\">\r\n     <g id=\"line2d_13\">\r\n      <g>\r\n       <use style=\"stroke:#000000;stroke-width:0.8;\" x=\"59.690625\" xlink:href=\"#mdb5c6227dc\" y=\"71.934193\"/>\r\n      </g>\r\n     </g>\r\n     <g id=\"text_14\">\r\n      <!-- 12000 -->\r\n      <g transform=\"translate(20.878125 75.733412)scale(0.1 -0.1)\">\r\n       <use xlink:href=\"#DejaVuSans-49\"/>\r\n       <use x=\"63.623047\" xlink:href=\"#DejaVuSans-50\"/>\r\n       <use x=\"127.246094\" xlink:href=\"#DejaVuSans-48\"/>\r\n       <use x=\"190.869141\" xlink:href=\"#DejaVuSans-48\"/>\r\n       <use x=\"254.492188\" xlink:href=\"#DejaVuSans-48\"/>\r\n      </g>\r\n     </g>\r\n    </g>\r\n    <g id=\"ytick_8\">\r\n     <g id=\"line2d_14\">\r\n      <g>\r\n       <use style=\"stroke:#000000;stroke-width:0.8;\" x=\"59.690625\" xlink:href=\"#mdb5c6227dc\" y=\"45.610765\"/>\r\n      </g>\r\n     </g>\r\n     <g id=\"text_15\">\r\n      <!-- 14000 -->\r\n      <g transform=\"translate(20.878125 49.409983)scale(0.1 -0.1)\">\r\n       <use xlink:href=\"#DejaVuSans-49\"/>\r\n       <use x=\"63.623047\" xlink:href=\"#DejaVuSans-52\"/>\r\n       <use x=\"127.246094\" xlink:href=\"#DejaVuSans-48\"/>\r\n       <use x=\"190.869141\" xlink:href=\"#DejaVuSans-48\"/>\r\n       <use x=\"254.492188\" xlink:href=\"#DejaVuSans-48\"/>\r\n      </g>\r\n     </g>\r\n    </g>\r\n    <g id=\"text_16\">\r\n     <!-- Reward -->\r\n     <g transform=\"translate(14.798438 149.659219)rotate(-90)scale(0.1 -0.1)\">\r\n      <defs>\r\n       <path d=\"M 44.390625 34.1875 \r\nQ 47.5625 33.109375 50.5625 29.59375 \r\nQ 53.5625 26.078125 56.59375 19.921875 \r\nL 66.609375 0 \r\nL 56 0 \r\nL 46.6875 18.703125 \r\nQ 43.0625 26.03125 39.671875 28.421875 \r\nQ 36.28125 30.8125 30.421875 30.8125 \r\nL 19.671875 30.8125 \r\nL 19.671875 0 \r\nL 9.8125 0 \r\nL 9.8125 72.90625 \r\nL 32.078125 72.90625 \r\nQ 44.578125 72.90625 50.734375 67.671875 \r\nQ 56.890625 62.453125 56.890625 51.90625 \r\nQ 56.890625 45.015625 53.6875 40.46875 \r\nQ 50.484375 35.9375 44.390625 34.1875 \r\nz\r\nM 19.671875 64.796875 \r\nL 19.671875 38.921875 \r\nL 32.078125 38.921875 \r\nQ 39.203125 38.921875 42.84375 42.21875 \r\nQ 46.484375 45.515625 46.484375 51.90625 \r\nQ 46.484375 58.296875 42.84375 61.546875 \r\nQ 39.203125 64.796875 32.078125 64.796875 \r\nz\r\n\" id=\"DejaVuSans-82\"/>\r\n       <path d=\"M 4.203125 54.6875 \r\nL 13.1875 54.6875 \r\nL 24.421875 12.015625 \r\nL 35.59375 54.6875 \r\nL 46.1875 54.6875 \r\nL 57.421875 12.015625 \r\nL 68.609375 54.6875 \r\nL 77.59375 54.6875 \r\nL 63.28125 0 \r\nL 52.6875 0 \r\nL 40.921875 44.828125 \r\nL 29.109375 0 \r\nL 18.5 0 \r\nz\r\n\" id=\"DejaVuSans-119\"/>\r\n       <path d=\"M 34.28125 27.484375 \r\nQ 23.390625 27.484375 19.1875 25 \r\nQ 14.984375 22.515625 14.984375 16.5 \r\nQ 14.984375 11.71875 18.140625 8.90625 \r\nQ 21.296875 6.109375 26.703125 6.109375 \r\nQ 34.1875 6.109375 38.703125 11.40625 \r\nQ 43.21875 16.703125 43.21875 25.484375 \r\nL 43.21875 27.484375 \r\nz\r\nM 52.203125 31.203125 \r\nL 52.203125 0 \r\nL 43.21875 0 \r\nL 43.21875 8.296875 \r\nQ 40.140625 3.328125 35.546875 0.953125 \r\nQ 30.953125 -1.421875 24.3125 -1.421875 \r\nQ 15.921875 -1.421875 10.953125 3.296875 \r\nQ 6 8.015625 6 15.921875 \r\nQ 6 25.140625 12.171875 29.828125 \r\nQ 18.359375 34.515625 30.609375 34.515625 \r\nL 43.21875 34.515625 \r\nL 43.21875 35.40625 \r\nQ 43.21875 41.609375 39.140625 45 \r\nQ 35.0625 48.390625 27.6875 48.390625 \r\nQ 23 48.390625 18.546875 47.265625 \r\nQ 14.109375 46.140625 10.015625 43.890625 \r\nL 10.015625 52.203125 \r\nQ 14.9375 54.109375 19.578125 55.046875 \r\nQ 24.21875 56 28.609375 56 \r\nQ 40.484375 56 46.34375 49.84375 \r\nQ 52.203125 43.703125 52.203125 31.203125 \r\nz\r\n\" id=\"DejaVuSans-97\"/>\r\n       <path d=\"M 41.109375 46.296875 \r\nQ 39.59375 47.171875 37.8125 47.578125 \r\nQ 36.03125 48 33.890625 48 \r\nQ 26.265625 48 22.1875 43.046875 \r\nQ 18.109375 38.09375 18.109375 28.8125 \r\nL 18.109375 0 \r\nL 9.078125 0 \r\nL 9.078125 54.6875 \r\nL 18.109375 54.6875 \r\nL 18.109375 46.1875 \r\nQ 20.953125 51.171875 25.484375 53.578125 \r\nQ 30.03125 56 36.53125 56 \r\nQ 37.453125 56 38.578125 55.875 \r\nQ 39.703125 55.765625 41.0625 55.515625 \r\nz\r\n\" id=\"DejaVuSans-114\"/>\r\n      </defs>\r\n      <use xlink:href=\"#DejaVuSans-82\"/>\r\n      <use x=\"64.982422\" xlink:href=\"#DejaVuSans-101\"/>\r\n      <use x=\"126.505859\" xlink:href=\"#DejaVuSans-119\"/>\r\n      <use x=\"208.292969\" xlink:href=\"#DejaVuSans-97\"/>\r\n      <use x=\"269.572266\" xlink:href=\"#DejaVuSans-114\"/>\r\n      <use x=\"308.935547\" xlink:href=\"#DejaVuSans-100\"/>\r\n     </g>\r\n    </g>\r\n   </g>\r\n   <g id=\"line2d_15\">\r\n    <path clip-path=\"url(#p6c99245ce8)\" d=\"M 74.908807 229.874423 \r\nL 89.945874 229.568834 \r\nL 90.645981 229.552816 \r\nL 103.704486 229.262482 \r\nL 104.922063 229.20157 \r\nL 112.684112 228.883997 \r\nL 115.728052 228.731262 \r\nL 125.529542 228.089148 \r\nL 125.925254 228.050393 \r\nL 129.151831 227.708742 \r\nL 130.491165 227.583113 \r\nL 131.404347 227.48548 \r\nL 136.152895 226.915406 \r\nL 136.731244 226.796444 \r\nL 140.475291 226.337008 \r\nL 140.840564 226.238361 \r\nL 141.479791 226.123644 \r\nL 143.975823 225.662569 \r\nL 144.706368 225.51319 \r\nL 150.885568 224.018408 \r\nL 151.098644 223.968959 \r\nL 151.737872 223.80478 \r\nL 152.103144 223.719814 \r\nL 154.173024 223.135803 \r\nL 154.568736 223.034852 \r\nL 155.116646 222.853445 \r\nL 156.242904 222.472183 \r\nL 157.156086 222.243458 \r\nL 157.49092 222.087834 \r\nL 157.795314 221.974564 \r\nL 158.404102 221.759903 \r\nL 159.104208 221.478453 \r\nL 159.591239 221.305884 \r\nL 160.260906 221.090439 \r\nL 160.656618 220.977683 \r\nL 163.152649 220.092874 \r\nL 163.487483 219.920442 \r\nL 163.944074 219.730782 \r\nL 168.175152 217.983748 \r\nL 169.392728 217.494106 \r\nL 170.792941 216.872926 \r\nL 171.006017 216.764888 \r\nL 171.34085 216.58246 \r\nL 171.949638 216.396367 \r\nL 173.89776 215.327886 \r\nL 175.115337 214.675249 \r\nL 175.419731 214.533609 \r\nL 175.998079 214.236648 \r\nL 176.332913 214.08313 \r\nL 176.576428 213.979073 \r\nL 176.759065 213.884414 \r\nL 177.124337 213.654485 \r\nL 178.067959 213.12526 \r\nL 178.920263 212.665014 \r\nL 179.163778 212.537319 \r\nL 179.803005 212.197977 \r\nL 181.203218 211.473695 \r\nL 181.538052 211.267688 \r\nL 181.812006 211.124027 \r\nL 182.299037 210.768635 \r\nL 182.755628 210.455458 \r\nL 183.973204 209.762843 \r\nL 184.429795 209.409201 \r\nL 185.069023 208.991435 \r\nL 185.464735 208.72751 \r\nL 186.043084 208.370399 \r\nL 186.347478 208.121432 \r\nL 188.143403 206.919215 \r\nL 188.691312 206.628374 \r\nL 188.934828 206.486135 \r\nL 189.208782 206.267816 \r\nL 189.878449 205.740893 \r\nL 190.152404 205.62374 \r\nL 190.700313 205.294777 \r\nL 190.822071 205.209989 \r\nL 191.217783 204.952796 \r\nL 191.583056 204.698321 \r\nL 192.161405 204.290314 \r\nL 192.374481 204.101049 \r\nL 195.570618 201.869111 \r\nL 195.753255 201.756487 \r\nL 196.666437 201.034553 \r\nL 197.518741 200.393874 \r\nL 197.975332 200.020687 \r\nL 198.157968 199.847419 \r\nL 199.375544 199.024852 \r\nL 199.679938 198.789119 \r\nL 204.672001 194.970596 \r\nL 205.676502 194.122982 \r\nL 206.011335 193.828252 \r\nL 207.685503 192.462842 \r\nL 207.868139 192.342366 \r\nL 208.020336 192.187789 \r\nL 208.32473 191.920724 \r\nL 208.963958 191.499832 \r\nL 209.207473 191.283072 \r\nL 209.35967 191.163866 \r\nL 209.542307 191.001536 \r\nL 210.607686 190.125137 \r\nL 210.851201 189.936076 \r\nL 211.612186 189.260827 \r\nL 211.855702 189.069081 \r\nL 212.403611 188.552655 \r\nL 212.586247 188.412292 \r\nL 212.860202 188.173058 \r\nL 213.164596 187.840303 \r\nL 213.621187 187.471519 \r\nL 215.50843 185.849831 \r\nL 215.843264 185.506567 \r\nL 216.512931 184.993424 \r\nL 216.847764 184.666033 \r\nL 217.365234 184.257737 \r\nL 217.882704 183.830508 \r\nL 218.034901 183.704906 \r\nL 218.339295 183.495727 \r\nL 225.249041 177.658862 \r\nL 225.675193 177.228441 \r\nL 228.262542 174.842176 \r\nL 228.445179 174.707426 \r\nL 228.536497 174.624178 \r\nL 229.236603 173.969205 \r\nL 229.754073 173.538245 \r\nL 230.758574 172.606632 \r\nL 231.397801 172.029077 \r\nL 232.067468 171.431943 \r\nL 232.676256 170.932331 \r\nL 232.98065 170.635402 \r\nL 233.254605 170.375413 \r\nL 234.04603 169.677934 \r\nL 234.867894 168.977678 \r\nL 235.781076 168.037491 \r\nL 236.176788 167.626904 \r\nL 236.542061 167.27061 \r\nL 236.724697 167.133083 \r\nL 237.12041 166.755559 \r\nL 238.429304 165.602554 \r\nL 238.703259 165.384464 \r\nL 238.794577 165.298591 \r\nL 239.433805 164.718903 \r\nL 244.82158 159.713141 \r\nL 245.034656 159.517709 \r\nL 245.430368 159.113829 \r\nL 246.404429 158.234211 \r\nL 246.708823 157.945154 \r\nL 246.921899 157.786496 \r\nL 247.165414 157.472563 \r\nL 248.200354 156.421672 \r\nL 248.382991 156.265706 \r\nL 248.626506 156.013593 \r\nL 248.900461 155.736316 \r\nL 250.087597 154.655916 \r\nL 250.239794 154.555348 \r\nL 250.848583 153.827084 \r\nL 251.092098 153.624979 \r\nL 253.222856 151.638455 \r\nL 253.55769 151.366389 \r\nL 260.680511 145.081612 \r\nL 260.893587 144.825774 \r\nL 261.593693 144.175164 \r\nL 261.837209 143.980963 \r\nL 262.324239 143.558137 \r\nL 262.598194 143.283517 \r\nL 262.841709 143.031339 \r\nL 263.146103 142.709265 \r\nL 263.511376 142.357907 \r\nL 263.785331 142.066223 \r\nL 264.33324 141.572198 \r\nL 264.728952 141.15898 \r\nL 264.911589 140.99255 \r\nL 265.124665 140.769538 \r\nL 265.976968 139.972129 \r\nL 266.37268 139.531119 \r\nL 266.555317 139.396251 \r\nL 266.89015 139.035693 \r\nL 267.224984 138.747662 \r\nL 270.390682 135.721573 \r\nL 270.664637 135.47714 \r\nL 271.02991 135.156238 \r\nL 271.303865 134.869701 \r\nL 271.699577 134.45641 \r\nL 272.095289 134.163956 \r\nL 272.277926 133.955475 \r\nL 272.55188 133.738998 \r\nL 272.825835 133.468301 \r\nL 274.682639 131.748354 \r\nL 274.865275 131.574021 \r\nL 275.10879 131.324626 \r\nL 276.874276 129.741239 \r\nL 277.17867 129.462533 \r\nL 277.483064 129.13782 \r\nL 277.757019 128.830172 \r\nL 278.030974 128.546063 \r\nL 278.365807 128.145072 \r\nL 278.883277 127.725101 \r\nL 279.461626 127.107205 \r\nL 279.705141 126.91682 \r\nL 280.374808 126.272179 \r\nL 280.527005 126.157107 \r\nL 281.653263 125.054806 \r\nL 281.775021 124.953066 \r\nL 281.988097 124.832512 \r\nL 282.444688 124.411297 \r\nL 282.779521 124.041657 \r\nL 282.931718 123.910534 \r\nL 283.236112 123.538347 \r\nL 283.936219 122.979007 \r\nL 284.331931 122.45011 \r\nL 284.971159 121.939823 \r\nL 285.823462 121.169817 \r\nL 286.158295 120.875482 \r\nL 286.371371 120.695857 \r\nL 287.345432 119.837042 \r\nL 288.228175 119.092023 \r\nL 290.815525 116.480871 \r\nL 291.119919 116.191642 \r\nL 292.002662 115.451829 \r\nL 292.550571 114.95402 \r\nL 293.037602 114.584998 \r\nL 293.341996 114.301146 \r\nL 293.555071 114.114855 \r\nL 294.590011 113.174517 \r\nL 294.711769 113.067433 \r\nL 295.077042 112.733185 \r\nL 295.838027 112.190994 \r\nL 296.17286 111.800532 \r\nL 296.355497 111.619782 \r\nL 298.881968 109.025569 \r\nL 299.125483 108.869228 \r\nL 299.460317 108.550931 \r\nL 299.886468 108.070489 \r\nL 300.099544 107.837033 \r\nL 302.35206 105.635855 \r\nL 302.839091 105.220787 \r\nL 303.082606 104.962133 \r\nL 304.087106 104.069164 \r\nL 304.543698 103.692725 \r\nL 305.365562 102.954176 \r\nL 306.035229 102.418612 \r\nL 306.522259 101.965764 \r\nL 308.926972 99.959227 \r\nL 309.292245 99.675138 \r\nL 309.596639 99.42527 \r\nL 309.931473 99.034689 \r\nL 310.296746 98.711069 \r\nL 310.540261 98.491742 \r\nL 311.544761 97.432119 \r\nL 312.031792 97.005357 \r\nL 312.366625 96.647497 \r\nL 312.671019 96.371568 \r\nL 313.462444 95.580825 \r\nL 313.736399 95.394488 \r\nL 319.30681 90.227857 \r\nL 319.550326 90.033623 \r\nL 320.463508 89.13735 \r\nL 324.390191 85.377621 \r\nL 324.572828 85.22043 \r\nL 325.607768 84.179977 \r\nL 325.912162 83.882865 \r\nL 326.338313 83.528801 \r\nL 326.825344 83.016817 \r\nL 329.504012 80.115666 \r\nL 329.686648 79.884823 \r\nL 329.991042 79.568086 \r\nL 330.325876 79.259135 \r\nL 330.508512 79.051982 \r\nL 330.812906 78.772 \r\nL 330.934664 78.657171 \r\nL 331.939164 77.766919 \r\nL 332.304437 77.465667 \r\nL 332.66971 77.094776 \r\nL 333.491574 76.276164 \r\nL 334.435196 75.300664 \r\nL 335.043984 74.643335 \r\nL 335.287499 74.376738 \r\nL 336.231121 73.548642 \r\nL 336.535515 73.292397 \r\nL 336.748591 73.054893 \r\nL 337.479137 72.420736 \r\nL 337.722652 72.212155 \r\nL 339.122865 70.912469 \r\nL 339.457698 70.583604 \r\nL 342.927791 67.265569 \r\nL 343.201745 67.002775 \r\nL 347.706778 62.578465 \r\nL 347.919853 62.413108 \r\nL 348.10249 62.268961 \r\nL 348.61996 61.676644 \r\nL 349.167869 61.145911 \r\nL 349.959294 60.357755 \r\nL 350.202809 60.120021 \r\nL 352.059613 58.163875 \r\nL 352.21181 58.025242 \r\nL 352.394446 57.844348 \r\nL 354.28169 56.115438 \r\nL 354.677402 55.789074 \r\nL 355.073114 55.35885 \r\nL 355.925418 54.563836 \r\nL 356.199372 54.28009 \r\nL 356.351569 54.147972 \r\nL 356.625524 53.847089 \r\nL 357.173433 53.375564 \r\nL 357.690903 52.852932 \r\nL 357.812661 52.747204 \r\nL 358.756282 51.814131 \r\nL 364.813725 45.893472 \r\nL 365.0268 45.684885 \r\nL 365.300755 45.477588 \r\nL 365.666028 45.068824 \r\nL 366.06174 44.726765 \r\nL 366.457453 44.296403 \r\nL 366.853165 43.917576 \r\nL 367.066241 43.715767 \r\nL 367.340195 43.35565 \r\nL 368.101181 42.689877 \r\nL 368.496893 42.282239 \r\nL 369.075242 41.67147 \r\nL 369.288317 41.523394 \r\nL 369.65359 41.232626 \r\nL 369.836227 41.060984 \r\nL 370.292818 40.642277 \r\nL 370.445015 40.490437 \r\nL 372.149622 38.870539 \r\nL 372.484455 38.544661 \r\nL 372.697531 38.342695 \r\nL 373.093243 37.972995 \r\nL 373.428077 37.714006 \r\nL 373.671592 37.421105 \r\nL 373.854229 37.285026 \r\nL 374.158623 37.037842 \r\nL 374.523896 36.753911 \r\nL 374.767411 36.516369 \r\nL 375.467517 35.783702 \r\nL 376.563336 34.70019 \r\nL 376.806851 34.470334 \r\nL 377.080806 34.245683 \r\nL 377.811352 33.470992 \r\nL 378.054867 33.292427 \r\nL 379.272443 32.201761 \r\nL 379.272443 32.201761 \r\n\" style=\"fill:none;stroke:#1f77b4;stroke-linecap:square;stroke-width:1.5;\"/>\r\n   </g>\r\n   <g id=\"line2d_16\">\r\n    <path clip-path=\"url(#p6c99245ce8)\" d=\"M 74.908807 229.874324 \r\nL 80.631415 229.655873 \r\nL 175.145776 225.907555 \r\nL 379.272443 217.806138 \r\nL 379.272443 217.806138 \r\n\" style=\"fill:none;stroke:#ff7f0e;stroke-linecap:square;stroke-width:1.5;\"/>\r\n   </g>\r\n   <g id=\"line2d_17\">\r\n    <path clip-path=\"url(#p6c99245ce8)\" d=\"M 74.908807 229.874489 \r\nL 124.220647 229.052572 \r\nL 125.194708 229.024308 \r\nL 144.341096 228.69204 \r\nL 145.710869 228.669073 \r\nL 161.356724 228.412946 \r\nL 164.339786 228.35618 \r\nL 187.534615 227.995187 \r\nL 190.33504 227.950957 \r\nL 206.559245 227.650876 \r\nL 209.938019 227.585074 \r\nL 228.201663 227.267475 \r\nL 228.932209 227.241224 \r\nL 252.948902 226.808902 \r\nL 253.892523 226.784033 \r\nL 256.723388 226.734281 \r\nL 272.764956 226.434484 \r\nL 274.134729 226.409911 \r\nL 301.925909 225.924632 \r\nL 302.626015 225.905482 \r\nL 379.272443 224.589448 \r\nL 379.272443 224.589448 \r\n\" style=\"fill:none;stroke:#2ca02c;stroke-linecap:square;stroke-width:1.5;\"/>\r\n   </g>\r\n   <g id=\"patch_3\">\r\n    <path d=\"M 59.690625 239.758125 \r\nL 59.690625 22.318125 \r\n\" style=\"fill:none;stroke:#000000;stroke-linecap:square;stroke-linejoin:miter;stroke-width:0.8;\"/>\r\n   </g>\r\n   <g id=\"patch_4\">\r\n    <path d=\"M 394.490625 239.758125 \r\nL 394.490625 22.318125 \r\n\" style=\"fill:none;stroke:#000000;stroke-linecap:square;stroke-linejoin:miter;stroke-width:0.8;\"/>\r\n   </g>\r\n   <g id=\"patch_5\">\r\n    <path d=\"M 59.690625 239.758125 \r\nL 394.490625 239.758125 \r\n\" style=\"fill:none;stroke:#000000;stroke-linecap:square;stroke-linejoin:miter;stroke-width:0.8;\"/>\r\n   </g>\r\n   <g id=\"patch_6\">\r\n    <path d=\"M 59.690625 22.318125 \r\nL 394.490625 22.318125 \r\n\" style=\"fill:none;stroke:#000000;stroke-linecap:square;stroke-linejoin:miter;stroke-width:0.8;\"/>\r\n   </g>\r\n   <g id=\"text_17\">\r\n    <!-- RiverSwim with H=20, S=6 -->\r\n    <g transform=\"translate(145.1325 16.318125)scale(0.12 -0.12)\">\r\n     <defs>\r\n      <path d=\"M 2.984375 54.6875 \r\nL 12.5 54.6875 \r\nL 29.59375 8.796875 \r\nL 46.6875 54.6875 \r\nL 56.203125 54.6875 \r\nL 35.6875 0 \r\nL 23.484375 0 \r\nz\r\n\" id=\"DejaVuSans-118\"/>\r\n      <path d=\"M 53.515625 70.515625 \r\nL 53.515625 60.890625 \r\nQ 47.90625 63.578125 42.921875 64.890625 \r\nQ 37.9375 66.21875 33.296875 66.21875 \r\nQ 25.25 66.21875 20.875 63.09375 \r\nQ 16.5 59.96875 16.5 54.203125 \r\nQ 16.5 49.359375 19.40625 46.890625 \r\nQ 22.3125 44.4375 30.421875 42.921875 \r\nL 36.375 41.703125 \r\nQ 47.40625 39.59375 52.65625 34.296875 \r\nQ 57.90625 29 57.90625 20.125 \r\nQ 57.90625 9.515625 50.796875 4.046875 \r\nQ 43.703125 -1.421875 29.984375 -1.421875 \r\nQ 24.8125 -1.421875 18.96875 -0.25 \r\nQ 13.140625 0.921875 6.890625 3.21875 \r\nL 6.890625 13.375 \r\nQ 12.890625 10.015625 18.65625 8.296875 \r\nQ 24.421875 6.59375 29.984375 6.59375 \r\nQ 38.421875 6.59375 43.015625 9.90625 \r\nQ 47.609375 13.234375 47.609375 19.390625 \r\nQ 47.609375 24.75 44.3125 27.78125 \r\nQ 41.015625 30.8125 33.5 32.328125 \r\nL 27.484375 33.5 \r\nQ 16.453125 35.6875 11.515625 40.375 \r\nQ 6.59375 45.0625 6.59375 53.421875 \r\nQ 6.59375 63.09375 13.40625 68.65625 \r\nQ 20.21875 74.21875 32.171875 74.21875 \r\nQ 37.3125 74.21875 42.625 73.28125 \r\nQ 47.953125 72.359375 53.515625 70.515625 \r\nz\r\n\" id=\"DejaVuSans-83\"/>\r\n      <path d=\"M 52 44.1875 \r\nQ 55.375 50.25 60.0625 53.125 \r\nQ 64.75 56 71.09375 56 \r\nQ 79.640625 56 84.28125 50.015625 \r\nQ 88.921875 44.046875 88.921875 33.015625 \r\nL 88.921875 0 \r\nL 79.890625 0 \r\nL 79.890625 32.71875 \r\nQ 79.890625 40.578125 77.09375 44.375 \r\nQ 74.3125 48.1875 68.609375 48.1875 \r\nQ 61.625 48.1875 57.5625 43.546875 \r\nQ 53.515625 38.921875 53.515625 30.90625 \r\nL 53.515625 0 \r\nL 44.484375 0 \r\nL 44.484375 32.71875 \r\nQ 44.484375 40.625 41.703125 44.40625 \r\nQ 38.921875 48.1875 33.109375 48.1875 \r\nQ 26.21875 48.1875 22.15625 43.53125 \r\nQ 18.109375 38.875 18.109375 30.90625 \r\nL 18.109375 0 \r\nL 9.078125 0 \r\nL 9.078125 54.6875 \r\nL 18.109375 54.6875 \r\nL 18.109375 46.1875 \r\nQ 21.1875 51.21875 25.484375 53.609375 \r\nQ 29.78125 56 35.6875 56 \r\nQ 41.65625 56 45.828125 52.96875 \r\nQ 50 49.953125 52 44.1875 \r\nz\r\n\" id=\"DejaVuSans-109\"/>\r\n      <path id=\"DejaVuSans-32\"/>\r\n      <path d=\"M 18.3125 70.21875 \r\nL 18.3125 54.6875 \r\nL 36.8125 54.6875 \r\nL 36.8125 47.703125 \r\nL 18.3125 47.703125 \r\nL 18.3125 18.015625 \r\nQ 18.3125 11.328125 20.140625 9.421875 \r\nQ 21.96875 7.515625 27.59375 7.515625 \r\nL 36.8125 7.515625 \r\nL 36.8125 0 \r\nL 27.59375 0 \r\nQ 17.1875 0 13.234375 3.875 \r\nQ 9.28125 7.765625 9.28125 18.015625 \r\nL 9.28125 47.703125 \r\nL 2.6875 47.703125 \r\nL 2.6875 54.6875 \r\nL 9.28125 54.6875 \r\nL 9.28125 70.21875 \r\nz\r\n\" id=\"DejaVuSans-116\"/>\r\n      <path d=\"M 54.890625 33.015625 \r\nL 54.890625 0 \r\nL 45.90625 0 \r\nL 45.90625 32.71875 \r\nQ 45.90625 40.484375 42.875 44.328125 \r\nQ 39.84375 48.1875 33.796875 48.1875 \r\nQ 26.515625 48.1875 22.3125 43.546875 \r\nQ 18.109375 38.921875 18.109375 30.90625 \r\nL 18.109375 0 \r\nL 9.078125 0 \r\nL 9.078125 75.984375 \r\nL 18.109375 75.984375 \r\nL 18.109375 46.1875 \r\nQ 21.34375 51.125 25.703125 53.5625 \r\nQ 30.078125 56 35.796875 56 \r\nQ 45.21875 56 50.046875 50.171875 \r\nQ 54.890625 44.34375 54.890625 33.015625 \r\nz\r\n\" id=\"DejaVuSans-104\"/>\r\n      <path d=\"M 9.8125 72.90625 \r\nL 19.671875 72.90625 \r\nL 19.671875 43.015625 \r\nL 55.515625 43.015625 \r\nL 55.515625 72.90625 \r\nL 65.375 72.90625 \r\nL 65.375 0 \r\nL 55.515625 0 \r\nL 55.515625 34.71875 \r\nL 19.671875 34.71875 \r\nL 19.671875 0 \r\nL 9.8125 0 \r\nz\r\n\" id=\"DejaVuSans-72\"/>\r\n      <path d=\"M 10.59375 45.40625 \r\nL 73.1875 45.40625 \r\nL 73.1875 37.203125 \r\nL 10.59375 37.203125 \r\nz\r\nM 10.59375 25.484375 \r\nL 73.1875 25.484375 \r\nL 73.1875 17.1875 \r\nL 10.59375 17.1875 \r\nz\r\n\" id=\"DejaVuSans-61\"/>\r\n      <path d=\"M 11.71875 12.40625 \r\nL 22.015625 12.40625 \r\nL 22.015625 4 \r\nL 14.015625 -11.625 \r\nL 7.71875 -11.625 \r\nL 11.71875 4 \r\nz\r\n\" id=\"DejaVuSans-44\"/>\r\n     </defs>\r\n     <use xlink:href=\"#DejaVuSans-82\"/>\r\n     <use x=\"69.482422\" xlink:href=\"#DejaVuSans-105\"/>\r\n     <use x=\"97.265625\" xlink:href=\"#DejaVuSans-118\"/>\r\n     <use x=\"156.445312\" xlink:href=\"#DejaVuSans-101\"/>\r\n     <use x=\"217.96875\" xlink:href=\"#DejaVuSans-114\"/>\r\n     <use x=\"259.082031\" xlink:href=\"#DejaVuSans-83\"/>\r\n     <use x=\"322.558594\" xlink:href=\"#DejaVuSans-119\"/>\r\n     <use x=\"404.345703\" xlink:href=\"#DejaVuSans-105\"/>\r\n     <use x=\"432.128906\" xlink:href=\"#DejaVuSans-109\"/>\r\n     <use x=\"529.541016\" xlink:href=\"#DejaVuSans-32\"/>\r\n     <use x=\"561.328125\" xlink:href=\"#DejaVuSans-119\"/>\r\n     <use x=\"643.115234\" xlink:href=\"#DejaVuSans-105\"/>\r\n     <use x=\"670.898438\" xlink:href=\"#DejaVuSans-116\"/>\r\n     <use x=\"710.107422\" xlink:href=\"#DejaVuSans-104\"/>\r\n     <use x=\"773.486328\" xlink:href=\"#DejaVuSans-32\"/>\r\n     <use x=\"805.273438\" xlink:href=\"#DejaVuSans-72\"/>\r\n     <use x=\"880.46875\" xlink:href=\"#DejaVuSans-61\"/>\r\n     <use x=\"964.257812\" xlink:href=\"#DejaVuSans-50\"/>\r\n     <use x=\"1027.880859\" xlink:href=\"#DejaVuSans-48\"/>\r\n     <use x=\"1091.503906\" xlink:href=\"#DejaVuSans-44\"/>\r\n     <use x=\"1123.291016\" xlink:href=\"#DejaVuSans-32\"/>\r\n     <use x=\"1155.078125\" xlink:href=\"#DejaVuSans-83\"/>\r\n     <use x=\"1218.554688\" xlink:href=\"#DejaVuSans-61\"/>\r\n     <use x=\"1302.34375\" xlink:href=\"#DejaVuSans-54\"/>\r\n    </g>\r\n   </g>\r\n   <g id=\"legend_1\">\r\n    <g id=\"patch_7\">\r\n     <path d=\"M 66.690625 74.90875 \r\nL 237.9375 74.90875 \r\nQ 239.9375 74.90875 239.9375 72.90875 \r\nL 239.9375 29.318125 \r\nQ 239.9375 27.318125 237.9375 27.318125 \r\nL 66.690625 27.318125 \r\nQ 64.690625 27.318125 64.690625 29.318125 \r\nL 64.690625 72.90875 \r\nQ 64.690625 74.90875 66.690625 74.90875 \r\nz\r\n\" style=\"fill:#ffffff;opacity:0.8;stroke:#cccccc;stroke-linejoin:miter;\"/>\r\n    </g>\r\n    <g id=\"line2d_18\">\r\n     <path d=\"M 68.690625 35.416562 \r\nL 88.690625 35.416562 \r\n\" style=\"fill:none;stroke:#1f77b4;stroke-linecap:square;stroke-width:1.5;\"/>\r\n    </g>\r\n    <g id=\"line2d_19\"/>\r\n    <g id=\"text_18\">\r\n     <!-- Beyond_UCB2, gamma=12 -->\r\n     <g transform=\"translate(96.690625 38.916562)scale(0.1 -0.1)\">\r\n      <defs>\r\n       <path d=\"M 19.671875 34.8125 \r\nL 19.671875 8.109375 \r\nL 35.5 8.109375 \r\nQ 43.453125 8.109375 47.28125 11.40625 \r\nQ 51.125 14.703125 51.125 21.484375 \r\nQ 51.125 28.328125 47.28125 31.5625 \r\nQ 43.453125 34.8125 35.5 34.8125 \r\nz\r\nM 19.671875 64.796875 \r\nL 19.671875 42.828125 \r\nL 34.28125 42.828125 \r\nQ 41.5 42.828125 45.03125 45.53125 \r\nQ 48.578125 48.25 48.578125 53.8125 \r\nQ 48.578125 59.328125 45.03125 62.0625 \r\nQ 41.5 64.796875 34.28125 64.796875 \r\nz\r\nM 9.8125 72.90625 \r\nL 35.015625 72.90625 \r\nQ 46.296875 72.90625 52.390625 68.21875 \r\nQ 58.5 63.53125 58.5 54.890625 \r\nQ 58.5 48.1875 55.375 44.234375 \r\nQ 52.25 40.28125 46.1875 39.3125 \r\nQ 53.46875 37.75 57.5 32.78125 \r\nQ 61.53125 27.828125 61.53125 20.40625 \r\nQ 61.53125 10.640625 54.890625 5.3125 \r\nQ 48.25 0 35.984375 0 \r\nL 9.8125 0 \r\nz\r\n\" id=\"DejaVuSans-66\"/>\r\n       <path d=\"M 32.171875 -5.078125 \r\nQ 28.375 -14.84375 24.75 -17.8125 \r\nQ 21.140625 -20.796875 15.09375 -20.796875 \r\nL 7.90625 -20.796875 \r\nL 7.90625 -13.28125 \r\nL 13.1875 -13.28125 \r\nQ 16.890625 -13.28125 18.9375 -11.515625 \r\nQ 21 -9.765625 23.484375 -3.21875 \r\nL 25.09375 0.875 \r\nL 2.984375 54.6875 \r\nL 12.5 54.6875 \r\nL 29.59375 11.921875 \r\nL 46.6875 54.6875 \r\nL 56.203125 54.6875 \r\nz\r\n\" id=\"DejaVuSans-121\"/>\r\n       <path d=\"M 54.890625 33.015625 \r\nL 54.890625 0 \r\nL 45.90625 0 \r\nL 45.90625 32.71875 \r\nQ 45.90625 40.484375 42.875 44.328125 \r\nQ 39.84375 48.1875 33.796875 48.1875 \r\nQ 26.515625 48.1875 22.3125 43.546875 \r\nQ 18.109375 38.921875 18.109375 30.90625 \r\nL 18.109375 0 \r\nL 9.078125 0 \r\nL 9.078125 54.6875 \r\nL 18.109375 54.6875 \r\nL 18.109375 46.1875 \r\nQ 21.34375 51.125 25.703125 53.5625 \r\nQ 30.078125 56 35.796875 56 \r\nQ 45.21875 56 50.046875 50.171875 \r\nQ 54.890625 44.34375 54.890625 33.015625 \r\nz\r\n\" id=\"DejaVuSans-110\"/>\r\n       <path d=\"M 50.984375 -16.609375 \r\nL 50.984375 -23.578125 \r\nL -0.984375 -23.578125 \r\nL -0.984375 -16.609375 \r\nz\r\n\" id=\"DejaVuSans-95\"/>\r\n       <path d=\"M 8.6875 72.90625 \r\nL 18.609375 72.90625 \r\nL 18.609375 28.609375 \r\nQ 18.609375 16.890625 22.84375 11.734375 \r\nQ 27.09375 6.59375 36.625 6.59375 \r\nQ 46.09375 6.59375 50.34375 11.734375 \r\nQ 54.59375 16.890625 54.59375 28.609375 \r\nL 54.59375 72.90625 \r\nL 64.5 72.90625 \r\nL 64.5 27.390625 \r\nQ 64.5 13.140625 57.4375 5.859375 \r\nQ 50.390625 -1.421875 36.625 -1.421875 \r\nQ 22.796875 -1.421875 15.734375 5.859375 \r\nQ 8.6875 13.140625 8.6875 27.390625 \r\nz\r\n\" id=\"DejaVuSans-85\"/>\r\n       <path d=\"M 64.40625 67.28125 \r\nL 64.40625 56.890625 \r\nQ 59.421875 61.53125 53.78125 63.8125 \r\nQ 48.140625 66.109375 41.796875 66.109375 \r\nQ 29.296875 66.109375 22.65625 58.46875 \r\nQ 16.015625 50.828125 16.015625 36.375 \r\nQ 16.015625 21.96875 22.65625 14.328125 \r\nQ 29.296875 6.6875 41.796875 6.6875 \r\nQ 48.140625 6.6875 53.78125 8.984375 \r\nQ 59.421875 11.28125 64.40625 15.921875 \r\nL 64.40625 5.609375 \r\nQ 59.234375 2.09375 53.4375 0.328125 \r\nQ 47.65625 -1.421875 41.21875 -1.421875 \r\nQ 24.65625 -1.421875 15.125 8.703125 \r\nQ 5.609375 18.84375 5.609375 36.375 \r\nQ 5.609375 53.953125 15.125 64.078125 \r\nQ 24.65625 74.21875 41.21875 74.21875 \r\nQ 47.75 74.21875 53.53125 72.484375 \r\nQ 59.328125 70.75 64.40625 67.28125 \r\nz\r\n\" id=\"DejaVuSans-67\"/>\r\n       <path d=\"M 45.40625 27.984375 \r\nQ 45.40625 37.75 41.375 43.109375 \r\nQ 37.359375 48.484375 30.078125 48.484375 \r\nQ 22.859375 48.484375 18.828125 43.109375 \r\nQ 14.796875 37.75 14.796875 27.984375 \r\nQ 14.796875 18.265625 18.828125 12.890625 \r\nQ 22.859375 7.515625 30.078125 7.515625 \r\nQ 37.359375 7.515625 41.375 12.890625 \r\nQ 45.40625 18.265625 45.40625 27.984375 \r\nz\r\nM 54.390625 6.78125 \r\nQ 54.390625 -7.171875 48.1875 -13.984375 \r\nQ 42 -20.796875 29.203125 -20.796875 \r\nQ 24.46875 -20.796875 20.265625 -20.09375 \r\nQ 16.0625 -19.390625 12.109375 -17.921875 \r\nL 12.109375 -9.1875 \r\nQ 16.0625 -11.328125 19.921875 -12.34375 \r\nQ 23.78125 -13.375 27.78125 -13.375 \r\nQ 36.625 -13.375 41.015625 -8.765625 \r\nQ 45.40625 -4.15625 45.40625 5.171875 \r\nL 45.40625 9.625 \r\nQ 42.625 4.78125 38.28125 2.390625 \r\nQ 33.9375 0 27.875 0 \r\nQ 17.828125 0 11.671875 7.65625 \r\nQ 5.515625 15.328125 5.515625 27.984375 \r\nQ 5.515625 40.671875 11.671875 48.328125 \r\nQ 17.828125 56 27.875 56 \r\nQ 33.9375 56 38.28125 53.609375 \r\nQ 42.625 51.21875 45.40625 46.390625 \r\nL 45.40625 54.6875 \r\nL 54.390625 54.6875 \r\nz\r\n\" id=\"DejaVuSans-103\"/>\r\n      </defs>\r\n      <use xlink:href=\"#DejaVuSans-66\"/>\r\n      <use x=\"68.603516\" xlink:href=\"#DejaVuSans-101\"/>\r\n      <use x=\"130.126953\" xlink:href=\"#DejaVuSans-121\"/>\r\n      <use x=\"189.306641\" xlink:href=\"#DejaVuSans-111\"/>\r\n      <use x=\"250.488281\" xlink:href=\"#DejaVuSans-110\"/>\r\n      <use x=\"313.867188\" xlink:href=\"#DejaVuSans-100\"/>\r\n      <use x=\"377.34375\" xlink:href=\"#DejaVuSans-95\"/>\r\n      <use x=\"427.34375\" xlink:href=\"#DejaVuSans-85\"/>\r\n      <use x=\"500.537109\" xlink:href=\"#DejaVuSans-67\"/>\r\n      <use x=\"570.361328\" xlink:href=\"#DejaVuSans-66\"/>\r\n      <use x=\"638.964844\" xlink:href=\"#DejaVuSans-50\"/>\r\n      <use x=\"702.587891\" xlink:href=\"#DejaVuSans-44\"/>\r\n      <use x=\"734.375\" xlink:href=\"#DejaVuSans-32\"/>\r\n      <use x=\"766.162109\" xlink:href=\"#DejaVuSans-103\"/>\r\n      <use x=\"829.638672\" xlink:href=\"#DejaVuSans-97\"/>\r\n      <use x=\"890.917969\" xlink:href=\"#DejaVuSans-109\"/>\r\n      <use x=\"988.330078\" xlink:href=\"#DejaVuSans-109\"/>\r\n      <use x=\"1085.742188\" xlink:href=\"#DejaVuSans-97\"/>\r\n      <use x=\"1147.021484\" xlink:href=\"#DejaVuSans-61\"/>\r\n      <use x=\"1230.810547\" xlink:href=\"#DejaVuSans-49\"/>\r\n      <use x=\"1294.433594\" xlink:href=\"#DejaVuSans-50\"/>\r\n     </g>\r\n    </g>\r\n    <g id=\"line2d_20\">\r\n     <path d=\"M 68.690625 50.372812 \r\nL 88.690625 50.372812 \r\n\" style=\"fill:none;stroke:#ff7f0e;stroke-linecap:square;stroke-width:1.5;\"/>\r\n    </g>\r\n    <g id=\"line2d_21\"/>\r\n    <g id=\"text_19\">\r\n     <!-- Eps_Greedy, eps=0.100000 -->\r\n     <g transform=\"translate(96.690625 53.872812)scale(0.1 -0.1)\">\r\n      <defs>\r\n       <path d=\"M 59.515625 10.40625 \r\nL 59.515625 29.984375 \r\nL 43.40625 29.984375 \r\nL 43.40625 38.09375 \r\nL 69.28125 38.09375 \r\nL 69.28125 6.78125 \r\nQ 63.578125 2.734375 56.6875 0.65625 \r\nQ 49.8125 -1.421875 42 -1.421875 \r\nQ 24.90625 -1.421875 15.25 8.5625 \r\nQ 5.609375 18.5625 5.609375 36.375 \r\nQ 5.609375 54.25 15.25 64.234375 \r\nQ 24.90625 74.21875 42 74.21875 \r\nQ 49.125 74.21875 55.546875 72.453125 \r\nQ 61.96875 70.703125 67.390625 67.28125 \r\nL 67.390625 56.78125 \r\nQ 61.921875 61.421875 55.765625 63.765625 \r\nQ 49.609375 66.109375 42.828125 66.109375 \r\nQ 29.4375 66.109375 22.71875 58.640625 \r\nQ 16.015625 51.171875 16.015625 36.375 \r\nQ 16.015625 21.625 22.71875 14.15625 \r\nQ 29.4375 6.6875 42.828125 6.6875 \r\nQ 48.046875 6.6875 52.140625 7.59375 \r\nQ 56.25 8.5 59.515625 10.40625 \r\nz\r\n\" id=\"DejaVuSans-71\"/>\r\n       <path d=\"M 10.6875 12.40625 \r\nL 21 12.40625 \r\nL 21 0 \r\nL 10.6875 0 \r\nz\r\n\" id=\"DejaVuSans-46\"/>\r\n      </defs>\r\n      <use xlink:href=\"#DejaVuSans-69\"/>\r\n      <use x=\"63.183594\" xlink:href=\"#DejaVuSans-112\"/>\r\n      <use x=\"126.660156\" xlink:href=\"#DejaVuSans-115\"/>\r\n      <use x=\"178.759766\" xlink:href=\"#DejaVuSans-95\"/>\r\n      <use x=\"228.759766\" xlink:href=\"#DejaVuSans-71\"/>\r\n      <use x=\"306.25\" xlink:href=\"#DejaVuSans-114\"/>\r\n      <use x=\"345.113281\" xlink:href=\"#DejaVuSans-101\"/>\r\n      <use x=\"406.636719\" xlink:href=\"#DejaVuSans-101\"/>\r\n      <use x=\"468.160156\" xlink:href=\"#DejaVuSans-100\"/>\r\n      <use x=\"531.636719\" xlink:href=\"#DejaVuSans-121\"/>\r\n      <use x=\"590.816406\" xlink:href=\"#DejaVuSans-44\"/>\r\n      <use x=\"622.603516\" xlink:href=\"#DejaVuSans-32\"/>\r\n      <use x=\"654.390625\" xlink:href=\"#DejaVuSans-101\"/>\r\n      <use x=\"715.914062\" xlink:href=\"#DejaVuSans-112\"/>\r\n      <use x=\"779.390625\" xlink:href=\"#DejaVuSans-115\"/>\r\n      <use x=\"831.490234\" xlink:href=\"#DejaVuSans-61\"/>\r\n      <use x=\"915.279297\" xlink:href=\"#DejaVuSans-48\"/>\r\n      <use x=\"978.902344\" xlink:href=\"#DejaVuSans-46\"/>\r\n      <use x=\"1010.689453\" xlink:href=\"#DejaVuSans-49\"/>\r\n      <use x=\"1074.3125\" xlink:href=\"#DejaVuSans-48\"/>\r\n      <use x=\"1137.935547\" xlink:href=\"#DejaVuSans-48\"/>\r\n      <use x=\"1201.558594\" xlink:href=\"#DejaVuSans-48\"/>\r\n      <use x=\"1265.181641\" xlink:href=\"#DejaVuSans-48\"/>\r\n      <use x=\"1328.804688\" xlink:href=\"#DejaVuSans-48\"/>\r\n     </g>\r\n    </g>\r\n    <g id=\"line2d_22\">\r\n     <path d=\"M 68.690625 65.329062 \r\nL 88.690625 65.329062 \r\n\" style=\"fill:none;stroke:#2ca02c;stroke-linecap:square;stroke-width:1.5;\"/>\r\n    </g>\r\n    <g id=\"line2d_23\"/>\r\n    <g id=\"text_20\">\r\n     <!-- Softmax, eta=0.100000 -->\r\n     <g transform=\"translate(96.690625 68.829062)scale(0.1 -0.1)\">\r\n      <defs>\r\n       <path d=\"M 37.109375 75.984375 \r\nL 37.109375 68.5 \r\nL 28.515625 68.5 \r\nQ 23.6875 68.5 21.796875 66.546875 \r\nQ 19.921875 64.59375 19.921875 59.515625 \r\nL 19.921875 54.6875 \r\nL 34.71875 54.6875 \r\nL 34.71875 47.703125 \r\nL 19.921875 47.703125 \r\nL 19.921875 0 \r\nL 10.890625 0 \r\nL 10.890625 47.703125 \r\nL 2.296875 47.703125 \r\nL 2.296875 54.6875 \r\nL 10.890625 54.6875 \r\nL 10.890625 58.5 \r\nQ 10.890625 67.625 15.140625 71.796875 \r\nQ 19.390625 75.984375 28.609375 75.984375 \r\nz\r\n\" id=\"DejaVuSans-102\"/>\r\n       <path d=\"M 54.890625 54.6875 \r\nL 35.109375 28.078125 \r\nL 55.90625 0 \r\nL 45.3125 0 \r\nL 29.390625 21.484375 \r\nL 13.484375 0 \r\nL 2.875 0 \r\nL 24.125 28.609375 \r\nL 4.6875 54.6875 \r\nL 15.28125 54.6875 \r\nL 29.78125 35.203125 \r\nL 44.28125 54.6875 \r\nz\r\n\" id=\"DejaVuSans-120\"/>\r\n      </defs>\r\n      <use xlink:href=\"#DejaVuSans-83\"/>\r\n      <use x=\"63.476562\" xlink:href=\"#DejaVuSans-111\"/>\r\n      <use x=\"124.658203\" xlink:href=\"#DejaVuSans-102\"/>\r\n      <use x=\"158.113281\" xlink:href=\"#DejaVuSans-116\"/>\r\n      <use x=\"197.322266\" xlink:href=\"#DejaVuSans-109\"/>\r\n      <use x=\"294.734375\" xlink:href=\"#DejaVuSans-97\"/>\r\n      <use x=\"356.013672\" xlink:href=\"#DejaVuSans-120\"/>\r\n      <use x=\"415.193359\" xlink:href=\"#DejaVuSans-44\"/>\r\n      <use x=\"446.980469\" xlink:href=\"#DejaVuSans-32\"/>\r\n      <use x=\"478.767578\" xlink:href=\"#DejaVuSans-101\"/>\r\n      <use x=\"540.291016\" xlink:href=\"#DejaVuSans-116\"/>\r\n      <use x=\"579.5\" xlink:href=\"#DejaVuSans-97\"/>\r\n      <use x=\"640.779297\" xlink:href=\"#DejaVuSans-61\"/>\r\n      <use x=\"724.568359\" xlink:href=\"#DejaVuSans-48\"/>\r\n      <use x=\"788.191406\" xlink:href=\"#DejaVuSans-46\"/>\r\n      <use x=\"819.978516\" xlink:href=\"#DejaVuSans-49\"/>\r\n      <use x=\"883.601562\" xlink:href=\"#DejaVuSans-48\"/>\r\n      <use x=\"947.224609\" xlink:href=\"#DejaVuSans-48\"/>\r\n      <use x=\"1010.847656\" xlink:href=\"#DejaVuSans-48\"/>\r\n      <use x=\"1074.470703\" xlink:href=\"#DejaVuSans-48\"/>\r\n      <use x=\"1138.09375\" xlink:href=\"#DejaVuSans-48\"/>\r\n     </g>\r\n    </g>\r\n   </g>\r\n  </g>\r\n </g>\r\n <defs>\r\n  <clipPath id=\"p6c99245ce8\">\r\n   <rect height=\"217.44\" width=\"334.8\" x=\"59.690625\" y=\"22.318125\"/>\r\n  </clipPath>\r\n </defs>\r\n</svg>\r\n",
      "image/png": "[encoded data removed]"
     },
     "metadata": {
      "needs_background": "light"
     }
    }
   ],
   "source": [
    "plt.plot(R1,label='Beyond_UCB2, gamma='+str(int(gamma)))\n",
    "plt.plot(R2,label='Eps_Greedy, eps=%f' % epsilon)\n",
    "plt.plot(R3,label='Softmax, eta=%f'% eta)\n",
    "plt.legend()\n",
    "plt.xlabel(\"Episode\")\n",
    "plt.ylabel(\"Reward\")\n",
    "plt.title(\"RiverSwim with H=20, S=6\")\n",
    "plt.savefig(\"beyonducb_\"+str(int(gamma))+\".pdf\")\n",
    "plt.show()"
   ]
  },
  {
   "cell_type": "code",
   "execution_count": 12,
   "metadata": {
    "tags": []
   },
   "outputs": [
    {
     "output_type": "display_data",
     "data": {
      "text/plain": "HBox(children=(HTML(value=''), FloatProgress(value=0.0, max=10.0), HTML(value='')))",
      "application/vnd.jupyter.widget-view+json": {
       "version_major": 2,
       "version_minor": 0,
       "model_id": "783cabb4ef3f405da3c70369762e59a1"
      }
     },
     "metadata": {}
    },
    {
     "output_type": "display_data",
     "data": {
      "text/plain": "HBox(children=(HTML(value=''), FloatProgress(value=0.0, max=10000.0), HTML(value='')))",
      "application/vnd.jupyter.widget-view+json": {
       "version_major": 2,
       "version_minor": 0,
       "model_id": "617335c5c5c543569b12eb70457649ec"
      }
     },
     "metadata": {}
    },
    {
     "output_type": "stream",
     "name": "stdout",
     "text": "\n"
    },
    {
     "output_type": "display_data",
     "data": {
      "text/plain": "HBox(children=(HTML(value=''), FloatProgress(value=0.0, max=10000.0), HTML(value='')))",
      "application/vnd.jupyter.widget-view+json": {
       "version_major": 2,
       "version_minor": 0,
       "model_id": "4a1f5d2063a04667a4146772d52138a4"
      }
     },
     "metadata": {}
    },
    {
     "output_type": "stream",
     "name": "stdout",
     "text": "\n"
    },
    {
     "output_type": "display_data",
     "data": {
      "text/plain": "HBox(children=(HTML(value=''), FloatProgress(value=0.0, max=10000.0), HTML(value='')))",
      "application/vnd.jupyter.widget-view+json": {
       "version_major": 2,
       "version_minor": 0,
       "model_id": "b9e175ca828a46dc988a2c9466ff8164"
      }
     },
     "metadata": {}
    },
    {
     "output_type": "stream",
     "name": "stdout",
     "text": "\n"
    },
    {
     "output_type": "display_data",
     "data": {
      "text/plain": "HBox(children=(HTML(value=''), FloatProgress(value=0.0, max=10000.0), HTML(value='')))",
      "application/vnd.jupyter.widget-view+json": {
       "version_major": 2,
       "version_minor": 0,
       "model_id": "e5bef86988c44ea09fcfb46444e4437b"
      }
     },
     "metadata": {}
    },
    {
     "output_type": "stream",
     "name": "stdout",
     "text": "\n"
    },
    {
     "output_type": "display_data",
     "data": {
      "text/plain": "HBox(children=(HTML(value=''), FloatProgress(value=0.0, max=10000.0), HTML(value='')))",
      "application/vnd.jupyter.widget-view+json": {
       "version_major": 2,
       "version_minor": 0,
       "model_id": "fab7f6950b0e47d1ab287c8234d70297"
      }
     },
     "metadata": {}
    },
    {
     "output_type": "stream",
     "name": "stdout",
     "text": "\n"
    },
    {
     "output_type": "display_data",
     "data": {
      "text/plain": "HBox(children=(HTML(value=''), FloatProgress(value=0.0, max=10000.0), HTML(value='')))",
      "application/vnd.jupyter.widget-view+json": {
       "version_major": 2,
       "version_minor": 0,
       "model_id": "d1f0181c51b24bea962517b5cc7adeb0"
      }
     },
     "metadata": {}
    },
    {
     "output_type": "stream",
     "name": "stdout",
     "text": "\n"
    },
    {
     "output_type": "display_data",
     "data": {
      "text/plain": "HBox(children=(HTML(value=''), FloatProgress(value=0.0, max=10000.0), HTML(value='')))",
      "application/vnd.jupyter.widget-view+json": {
       "version_major": 2,
       "version_minor": 0,
       "model_id": "804a1522dd674ff7a62fa6dbe1045441"
      }
     },
     "metadata": {}
    },
    {
     "output_type": "stream",
     "name": "stdout",
     "text": "\n"
    },
    {
     "output_type": "display_data",
     "data": {
      "text/plain": "HBox(children=(HTML(value=''), FloatProgress(value=0.0, max=10000.0), HTML(value='')))",
      "application/vnd.jupyter.widget-view+json": {
       "version_major": 2,
       "version_minor": 0,
       "model_id": "014c98059ea04afd87c3b08b33d7597d"
      }
     },
     "metadata": {}
    },
    {
     "output_type": "stream",
     "name": "stdout",
     "text": "\n"
    },
    {
     "output_type": "display_data",
     "data": {
      "text/plain": "HBox(children=(HTML(value=''), FloatProgress(value=0.0, max=10000.0), HTML(value='')))",
      "application/vnd.jupyter.widget-view+json": {
       "version_major": 2,
       "version_minor": 0,
       "model_id": "a292333a8edd4fe99f0fbd7b7fa6d3f1"
      }
     },
     "metadata": {}
    },
    {
     "output_type": "stream",
     "name": "stdout",
     "text": "\n"
    },
    {
     "output_type": "display_data",
     "data": {
      "text/plain": "HBox(children=(HTML(value=''), FloatProgress(value=0.0, max=10000.0), HTML(value='')))",
      "application/vnd.jupyter.widget-view+json": {
       "version_major": 2,
       "version_minor": 0,
       "model_id": "7917ba19502843fa9fe9f978fa638586"
      }
     },
     "metadata": {}
    },
    {
     "output_type": "stream",
     "name": "stdout",
     "text": "\n"
    },
    {
     "output_type": "display_data",
     "data": {
      "text/plain": "HBox(children=(HTML(value=''), FloatProgress(value=0.0, max=10000.0), HTML(value='')))",
      "application/vnd.jupyter.widget-view+json": {
       "version_major": 2,
       "version_minor": 0,
       "model_id": "0ec79e8c71994d56a8e76b7b3f110522"
      }
     },
     "metadata": {}
    },
    {
     "output_type": "stream",
     "name": "stdout",
     "text": "\n"
    },
    {
     "output_type": "display_data",
     "data": {
      "text/plain": "HBox(children=(HTML(value=''), FloatProgress(value=0.0, max=10000.0), HTML(value='')))",
      "application/vnd.jupyter.widget-view+json": {
       "version_major": 2,
       "version_minor": 0,
       "model_id": "e8bbe9b31f424e868a40b166f345b111"
      }
     },
     "metadata": {}
    },
    {
     "output_type": "stream",
     "name": "stdout",
     "text": "\n"
    },
    {
     "output_type": "display_data",
     "data": {
      "text/plain": "HBox(children=(HTML(value=''), FloatProgress(value=0.0, max=10000.0), HTML(value='')))",
      "application/vnd.jupyter.widget-view+json": {
       "version_major": 2,
       "version_minor": 0,
       "model_id": "384b1529f70a4d16931f8f0c9396e738"
      }
     },
     "metadata": {}
    },
    {
     "output_type": "stream",
     "name": "stdout",
     "text": "\n"
    },
    {
     "output_type": "display_data",
     "data": {
      "text/plain": "HBox(children=(HTML(value=''), FloatProgress(value=0.0, max=10000.0), HTML(value='')))",
      "application/vnd.jupyter.widget-view+json": {
       "version_major": 2,
       "version_minor": 0,
       "model_id": "b21f2131fdb8413aad7f9c492fced999"
      }
     },
     "metadata": {}
    },
    {
     "output_type": "stream",
     "name": "stdout",
     "text": "\n"
    },
    {
     "output_type": "display_data",
     "data": {
      "text/plain": "HBox(children=(HTML(value=''), FloatProgress(value=0.0, max=10000.0), HTML(value='')))",
      "application/vnd.jupyter.widget-view+json": {
       "version_major": 2,
       "version_minor": 0,
       "model_id": "f374db1834514dd4a3a8771a422aa43e"
      }
     },
     "metadata": {}
    },
    {
     "output_type": "stream",
     "name": "stdout",
     "text": "\n"
    },
    {
     "output_type": "display_data",
     "data": {
      "text/plain": "HBox(children=(HTML(value=''), FloatProgress(value=0.0, max=10000.0), HTML(value='')))",
      "application/vnd.jupyter.widget-view+json": {
       "version_major": 2,
       "version_minor": 0,
       "model_id": "18de1a4eed6f45afbdb93162f0c0e94c"
      }
     },
     "metadata": {}
    },
    {
     "output_type": "stream",
     "name": "stdout",
     "text": "\n"
    },
    {
     "output_type": "display_data",
     "data": {
      "text/plain": "HBox(children=(HTML(value=''), FloatProgress(value=0.0, max=10000.0), HTML(value='')))",
      "application/vnd.jupyter.widget-view+json": {
       "version_major": 2,
       "version_minor": 0,
       "model_id": "274070a09fd546bb987f8aea34a4e44a"
      }
     },
     "metadata": {}
    },
    {
     "output_type": "stream",
     "name": "stdout",
     "text": "\n"
    },
    {
     "output_type": "display_data",
     "data": {
      "text/plain": "HBox(children=(HTML(value=''), FloatProgress(value=0.0, max=10000.0), HTML(value='')))",
      "application/vnd.jupyter.widget-view+json": {
       "version_major": 2,
       "version_minor": 0,
       "model_id": "43ca12f37a79425ca7d96cb38da286e9"
      }
     },
     "metadata": {}
    },
    {
     "output_type": "stream",
     "name": "stdout",
     "text": "\n"
    },
    {
     "output_type": "display_data",
     "data": {
      "text/plain": "HBox(children=(HTML(value=''), FloatProgress(value=0.0, max=10000.0), HTML(value='')))",
      "application/vnd.jupyter.widget-view+json": {
       "version_major": 2,
       "version_minor": 0,
       "model_id": "76b3397acab44a679e1f7e5959e61904"
      }
     },
     "metadata": {}
    },
    {
     "output_type": "stream",
     "name": "stdout",
     "text": "\n"
    },
    {
     "output_type": "display_data",
     "data": {
      "text/plain": "HBox(children=(HTML(value=''), FloatProgress(value=0.0, max=10000.0), HTML(value='')))",
      "application/vnd.jupyter.widget-view+json": {
       "version_major": 2,
       "version_minor": 0,
       "model_id": "d0e094a81b1b418190d341b706bfeb20"
      }
     },
     "metadata": {}
    },
    {
     "output_type": "stream",
     "name": "stdout",
     "text": "\n"
    },
    {
     "output_type": "display_data",
     "data": {
      "text/plain": "HBox(children=(HTML(value=''), FloatProgress(value=0.0, max=10000.0), HTML(value='')))",
      "application/vnd.jupyter.widget-view+json": {
       "version_major": 2,
       "version_minor": 0,
       "model_id": "bf7e1ad2b90545a5aa6aad057e185a59"
      }
     },
     "metadata": {}
    },
    {
     "output_type": "stream",
     "name": "stdout",
     "text": "\n"
    },
    {
     "output_type": "display_data",
     "data": {
      "text/plain": "HBox(children=(HTML(value=''), FloatProgress(value=0.0, max=10000.0), HTML(value='')))",
      "application/vnd.jupyter.widget-view+json": {
       "version_major": 2,
       "version_minor": 0,
       "model_id": "e5c2cd7b573046e3b90dc225e4fcc975"
      }
     },
     "metadata": {}
    },
    {
     "output_type": "stream",
     "name": "stdout",
     "text": "\n"
    },
    {
     "output_type": "display_data",
     "data": {
      "text/plain": "HBox(children=(HTML(value=''), FloatProgress(value=0.0, max=10000.0), HTML(value='')))",
      "application/vnd.jupyter.widget-view+json": {
       "version_major": 2,
       "version_minor": 0,
       "model_id": "f897aa79cf704434bb46f440b7ae962d"
      }
     },
     "metadata": {}
    },
    {
     "output_type": "stream",
     "name": "stdout",
     "text": "\n"
    },
    {
     "output_type": "display_data",
     "data": {
      "text/plain": "HBox(children=(HTML(value=''), FloatProgress(value=0.0, max=10000.0), HTML(value='')))",
      "application/vnd.jupyter.widget-view+json": {
       "version_major": 2,
       "version_minor": 0,
       "model_id": "84c41f6d874949c39226778b6701bbab"
      }
     },
     "metadata": {}
    },
    {
     "output_type": "stream",
     "name": "stdout",
     "text": "\n"
    },
    {
     "output_type": "display_data",
     "data": {
      "text/plain": "HBox(children=(HTML(value=''), FloatProgress(value=0.0, max=10000.0), HTML(value='')))",
      "application/vnd.jupyter.widget-view+json": {
       "version_major": 2,
       "version_minor": 0,
       "model_id": "0422f4a9a74a401ab4382c02ec15e15f"
      }
     },
     "metadata": {}
    },
    {
     "output_type": "stream",
     "name": "stdout",
     "text": "\n"
    },
    {
     "output_type": "display_data",
     "data": {
      "text/plain": "HBox(children=(HTML(value=''), FloatProgress(value=0.0, max=10000.0), HTML(value='')))",
      "application/vnd.jupyter.widget-view+json": {
       "version_major": 2,
       "version_minor": 0,
       "model_id": "ce09a67b9e23429e89b9b9f6ed3216d3"
      }
     },
     "metadata": {}
    },
    {
     "output_type": "stream",
     "name": "stdout",
     "text": "\n"
    },
    {
     "output_type": "display_data",
     "data": {
      "text/plain": "HBox(children=(HTML(value=''), FloatProgress(value=0.0, max=10000.0), HTML(value='')))",
      "application/vnd.jupyter.widget-view+json": {
       "version_major": 2,
       "version_minor": 0,
       "model_id": "2f1ad7a794c746e18c060890ac9d9641"
      }
     },
     "metadata": {}
    },
    {
     "output_type": "stream",
     "name": "stdout",
     "text": "\n"
    },
    {
     "output_type": "display_data",
     "data": {
      "text/plain": "HBox(children=(HTML(value=''), FloatProgress(value=0.0, max=10000.0), HTML(value='')))",
      "application/vnd.jupyter.widget-view+json": {
       "version_major": 2,
       "version_minor": 0,
       "model_id": "e2bbe24e06824203b3cd0d9083beb329"
      }
     },
     "metadata": {}
    },
    {
     "output_type": "stream",
     "name": "stdout",
     "text": "\n"
    },
    {
     "output_type": "display_data",
     "data": {
      "text/plain": "HBox(children=(HTML(value=''), FloatProgress(value=0.0, max=10000.0), HTML(value='')))",
      "application/vnd.jupyter.widget-view+json": {
       "version_major": 2,
       "version_minor": 0,
       "model_id": "1ff25bd684e44076a6cb66c23e8f6655"
      }
     },
     "metadata": {}
    },
    {
     "output_type": "stream",
     "name": "stdout",
     "text": "\n"
    },
    {
     "output_type": "display_data",
     "data": {
      "text/plain": "HBox(children=(HTML(value=''), FloatProgress(value=0.0, max=10000.0), HTML(value='')))",
      "application/vnd.jupyter.widget-view+json": {
       "version_major": 2,
       "version_minor": 0,
       "model_id": "80448184d841418c92ea75dc2b348fe6"
      }
     },
     "metadata": {}
    },
    {
     "output_type": "stream",
     "name": "stdout",
     "text": "\n\n"
    }
   ],
   "source": [
    "K = 10000\n",
    "runs = 10\n",
    "delta = 1/K\n",
    "eta = 0.1\n",
    "epsilon = 0.1\n",
    "n =  10\n",
    "env = Deep_Sea(num_steps = n)\n",
    "gamma = np.sqrt(K*env.epLen*env.nAction/(env.nAction*env.nState*env.epLen*np.log(2/delta)))\n",
    "\n",
    "r1 = np.zeros((runs,K)) # Beyond_Q\n",
    "r2 = np.zeros((runs,K)) # E-Greedy\n",
    "r3 = np.zeros((runs,K)) # Softmax\n",
    "\n",
    "for r in tqdm(range(runs)):\n",
    "    agent1 = Beyond_Q(env,K,gamma)\n",
    "    r1[r,:] = agent1.run()\n",
    "\n",
    "    agent2 = Eps_Q(env,K,epsilon)\n",
    "    r2[r,:] = agent2.run()\n",
    "\n",
    "    agent3 = Softmax_Q(env,K,eta)\n",
    "    r3[r,:] = agent3.run()\n",
    "\n",
    "R1 = np.mean(r1,axis=0)\n",
    "R2 = np.mean(r2,axis=0)\n",
    "R3 = np.mean(r3,axis=0)\n"
   ]
  },
  {
   "cell_type": "code",
   "execution_count": 13,
   "metadata": {},
   "outputs": [
    {
     "output_type": "display_data",
     "data": {
      "text/plain": "<Figure size 432x288 with 1 Axes>",
      "image/svg+xml": "<?xml version=\"1.0\" encoding=\"utf-8\" standalone=\"no\"?>\r\n<!DOCTYPE svg PUBLIC \"-//W3C//DTD SVG 1.1//EN\"\r\n  \"http://www.w3.org/Graphics/SVG/1.1/DTD/svg11.dtd\">\r\n<!-- Created with matplotlib (https://matplotlib.org/) -->\r\n<svg height=\"277.314375pt\" version=\"1.1\" viewBox=\"0 0 389.684133 277.314375\" width=\"389.684133pt\" xmlns=\"http://www.w3.org/2000/svg\" xmlns:xlink=\"http://www.w3.org/1999/xlink\">\r\n <metadata>\r\n  <rdf:RDF xmlns:cc=\"http://creativecommons.org/ns#\" xmlns:dc=\"http://purl.org/dc/elements/1.1/\" xmlns:rdf=\"http://www.w3.org/1999/02/22-rdf-syntax-ns#\">\r\n   <cc:Work>\r\n    <dc:type rdf:resource=\"http://purl.org/dc/dcmitype/StillImage\"/>\r\n    <dc:date>2020-09-30T13:06:00.369173</dc:date>\r\n    <dc:format>image/svg+xml</dc:format>\r\n    <dc:creator>\r\n     <cc:Agent>\r\n      <dc:title>Matplotlib v3.3.2, https://matplotlib.org/</dc:title>\r\n     </cc:Agent>\r\n    </dc:creator>\r\n   </cc:Work>\r\n  </rdf:RDF>\r\n </metadata>\r\n <defs>\r\n  <style type=\"text/css\">*{stroke-linecap:butt;stroke-linejoin:round;}</style>\r\n </defs>\r\n <g id=\"figure_1\">\r\n  <g id=\"patch_1\">\r\n   <path d=\"M 0 277.314375 \r\nL 389.684133 277.314375 \r\nL 389.684133 0 \r\nL 0 0 \r\nz\r\n\" style=\"fill:none;\"/>\r\n  </g>\r\n  <g id=\"axes_1\">\r\n   <g id=\"patch_2\">\r\n    <path d=\"M 46.965625 239.758125 \r\nL 381.765625 239.758125 \r\nL 381.765625 22.318125 \r\nL 46.965625 22.318125 \r\nz\r\n\" style=\"fill:#ffffff;\"/>\r\n   </g>\r\n   <g id=\"matplotlib.axis_1\">\r\n    <g id=\"xtick_1\">\r\n     <g id=\"line2d_1\">\r\n      <defs>\r\n       <path d=\"M 0 0 \r\nL 0 3.5 \r\n\" id=\"m0dabf0e149\" style=\"stroke:#000000;stroke-width:0.8;\"/>\r\n      </defs>\r\n      <g>\r\n       <use style=\"stroke:#000000;stroke-width:0.8;\" x=\"62.183807\" xlink:href=\"#m0dabf0e149\" y=\"239.758125\"/>\r\n      </g>\r\n     </g>\r\n     <g id=\"text_1\">\r\n      <!-- 0 -->\r\n      <g transform=\"translate(59.002557 254.356562)scale(0.1 -0.1)\">\r\n       <defs>\r\n        <path d=\"M 31.78125 66.40625 \r\nQ 24.171875 66.40625 20.328125 58.90625 \r\nQ 16.5 51.421875 16.5 36.375 \r\nQ 16.5 21.390625 20.328125 13.890625 \r\nQ 24.171875 6.390625 31.78125 6.390625 \r\nQ 39.453125 6.390625 43.28125 13.890625 \r\nQ 47.125 21.390625 47.125 36.375 \r\nQ 47.125 51.421875 43.28125 58.90625 \r\nQ 39.453125 66.40625 31.78125 66.40625 \r\nz\r\nM 31.78125 74.21875 \r\nQ 44.046875 74.21875 50.515625 64.515625 \r\nQ 56.984375 54.828125 56.984375 36.375 \r\nQ 56.984375 17.96875 50.515625 8.265625 \r\nQ 44.046875 -1.421875 31.78125 -1.421875 \r\nQ 19.53125 -1.421875 13.0625 8.265625 \r\nQ 6.59375 17.96875 6.59375 36.375 \r\nQ 6.59375 54.828125 13.0625 64.515625 \r\nQ 19.53125 74.21875 31.78125 74.21875 \r\nz\r\n\" id=\"DejaVuSans-48\"/>\r\n       </defs>\r\n       <use xlink:href=\"#DejaVuSans-48\"/>\r\n      </g>\r\n     </g>\r\n    </g>\r\n    <g id=\"xtick_2\">\r\n     <g id=\"line2d_2\">\r\n      <g>\r\n       <use style=\"stroke:#000000;stroke-width:0.8;\" x=\"123.062622\" xlink:href=\"#m0dabf0e149\" y=\"239.758125\"/>\r\n      </g>\r\n     </g>\r\n     <g id=\"text_2\">\r\n      <!-- 2000 -->\r\n      <g transform=\"translate(110.337622 254.356562)scale(0.1 -0.1)\">\r\n       <defs>\r\n        <path d=\"M 19.1875 8.296875 \r\nL 53.609375 8.296875 \r\nL 53.609375 0 \r\nL 7.328125 0 \r\nL 7.328125 8.296875 \r\nQ 12.9375 14.109375 22.625 23.890625 \r\nQ 32.328125 33.6875 34.8125 36.53125 \r\nQ 39.546875 41.84375 41.421875 45.53125 \r\nQ 43.3125 49.21875 43.3125 52.78125 \r\nQ 43.3125 58.59375 39.234375 62.25 \r\nQ 35.15625 65.921875 28.609375 65.921875 \r\nQ 23.96875 65.921875 18.8125 64.3125 \r\nQ 13.671875 62.703125 7.8125 59.421875 \r\nL 7.8125 69.390625 \r\nQ 13.765625 71.78125 18.9375 73 \r\nQ 24.125 74.21875 28.421875 74.21875 \r\nQ 39.75 74.21875 46.484375 68.546875 \r\nQ 53.21875 62.890625 53.21875 53.421875 \r\nQ 53.21875 48.921875 51.53125 44.890625 \r\nQ 49.859375 40.875 45.40625 35.40625 \r\nQ 44.1875 33.984375 37.640625 27.21875 \r\nQ 31.109375 20.453125 19.1875 8.296875 \r\nz\r\n\" id=\"DejaVuSans-50\"/>\r\n       </defs>\r\n       <use xlink:href=\"#DejaVuSans-50\"/>\r\n       <use x=\"63.623047\" xlink:href=\"#DejaVuSans-48\"/>\r\n       <use x=\"127.246094\" xlink:href=\"#DejaVuSans-48\"/>\r\n       <use x=\"190.869141\" xlink:href=\"#DejaVuSans-48\"/>\r\n      </g>\r\n     </g>\r\n    </g>\r\n    <g id=\"xtick_3\">\r\n     <g id=\"line2d_3\">\r\n      <g>\r\n       <use style=\"stroke:#000000;stroke-width:0.8;\" x=\"183.941437\" xlink:href=\"#m0dabf0e149\" y=\"239.758125\"/>\r\n      </g>\r\n     </g>\r\n     <g id=\"text_3\">\r\n      <!-- 4000 -->\r\n      <g transform=\"translate(171.216437 254.356562)scale(0.1 -0.1)\">\r\n       <defs>\r\n        <path d=\"M 37.796875 64.3125 \r\nL 12.890625 25.390625 \r\nL 37.796875 25.390625 \r\nz\r\nM 35.203125 72.90625 \r\nL 47.609375 72.90625 \r\nL 47.609375 25.390625 \r\nL 58.015625 25.390625 \r\nL 58.015625 17.1875 \r\nL 47.609375 17.1875 \r\nL 47.609375 0 \r\nL 37.796875 0 \r\nL 37.796875 17.1875 \r\nL 4.890625 17.1875 \r\nL 4.890625 26.703125 \r\nz\r\n\" id=\"DejaVuSans-52\"/>\r\n       </defs>\r\n       <use xlink:href=\"#DejaVuSans-52\"/>\r\n       <use x=\"63.623047\" xlink:href=\"#DejaVuSans-48\"/>\r\n       <use x=\"127.246094\" xlink:href=\"#DejaVuSans-48\"/>\r\n       <use x=\"190.869141\" xlink:href=\"#DejaVuSans-48\"/>\r\n      </g>\r\n     </g>\r\n    </g>\r\n    <g id=\"xtick_4\">\r\n     <g id=\"line2d_4\">\r\n      <g>\r\n       <use style=\"stroke:#000000;stroke-width:0.8;\" x=\"244.820252\" xlink:href=\"#m0dabf0e149\" y=\"239.758125\"/>\r\n      </g>\r\n     </g>\r\n     <g id=\"text_4\">\r\n      <!-- 6000 -->\r\n      <g transform=\"translate(232.095252 254.356562)scale(0.1 -0.1)\">\r\n       <defs>\r\n        <path d=\"M 33.015625 40.375 \r\nQ 26.375 40.375 22.484375 35.828125 \r\nQ 18.609375 31.296875 18.609375 23.390625 \r\nQ 18.609375 15.53125 22.484375 10.953125 \r\nQ 26.375 6.390625 33.015625 6.390625 \r\nQ 39.65625 6.390625 43.53125 10.953125 \r\nQ 47.40625 15.53125 47.40625 23.390625 \r\nQ 47.40625 31.296875 43.53125 35.828125 \r\nQ 39.65625 40.375 33.015625 40.375 \r\nz\r\nM 52.59375 71.296875 \r\nL 52.59375 62.3125 \r\nQ 48.875 64.0625 45.09375 64.984375 \r\nQ 41.3125 65.921875 37.59375 65.921875 \r\nQ 27.828125 65.921875 22.671875 59.328125 \r\nQ 17.53125 52.734375 16.796875 39.40625 \r\nQ 19.671875 43.65625 24.015625 45.921875 \r\nQ 28.375 48.1875 33.59375 48.1875 \r\nQ 44.578125 48.1875 50.953125 41.515625 \r\nQ 57.328125 34.859375 57.328125 23.390625 \r\nQ 57.328125 12.15625 50.6875 5.359375 \r\nQ 44.046875 -1.421875 33.015625 -1.421875 \r\nQ 20.359375 -1.421875 13.671875 8.265625 \r\nQ 6.984375 17.96875 6.984375 36.375 \r\nQ 6.984375 53.65625 15.1875 63.9375 \r\nQ 23.390625 74.21875 37.203125 74.21875 \r\nQ 40.921875 74.21875 44.703125 73.484375 \r\nQ 48.484375 72.75 52.59375 71.296875 \r\nz\r\n\" id=\"DejaVuSans-54\"/>\r\n       </defs>\r\n       <use xlink:href=\"#DejaVuSans-54\"/>\r\n       <use x=\"63.623047\" xlink:href=\"#DejaVuSans-48\"/>\r\n       <use x=\"127.246094\" xlink:href=\"#DejaVuSans-48\"/>\r\n       <use x=\"190.869141\" xlink:href=\"#DejaVuSans-48\"/>\r\n      </g>\r\n     </g>\r\n    </g>\r\n    <g id=\"xtick_5\">\r\n     <g id=\"line2d_5\">\r\n      <g>\r\n       <use style=\"stroke:#000000;stroke-width:0.8;\" x=\"305.699067\" xlink:href=\"#m0dabf0e149\" y=\"239.758125\"/>\r\n      </g>\r\n     </g>\r\n     <g id=\"text_5\">\r\n      <!-- 8000 -->\r\n      <g transform=\"translate(292.974067 254.356562)scale(0.1 -0.1)\">\r\n       <defs>\r\n        <path d=\"M 31.78125 34.625 \r\nQ 24.75 34.625 20.71875 30.859375 \r\nQ 16.703125 27.09375 16.703125 20.515625 \r\nQ 16.703125 13.921875 20.71875 10.15625 \r\nQ 24.75 6.390625 31.78125 6.390625 \r\nQ 38.8125 6.390625 42.859375 10.171875 \r\nQ 46.921875 13.96875 46.921875 20.515625 \r\nQ 46.921875 27.09375 42.890625 30.859375 \r\nQ 38.875 34.625 31.78125 34.625 \r\nz\r\nM 21.921875 38.8125 \r\nQ 15.578125 40.375 12.03125 44.71875 \r\nQ 8.5 49.078125 8.5 55.328125 \r\nQ 8.5 64.0625 14.71875 69.140625 \r\nQ 20.953125 74.21875 31.78125 74.21875 \r\nQ 42.671875 74.21875 48.875 69.140625 \r\nQ 55.078125 64.0625 55.078125 55.328125 \r\nQ 55.078125 49.078125 51.53125 44.71875 \r\nQ 48 40.375 41.703125 38.8125 \r\nQ 48.828125 37.15625 52.796875 32.3125 \r\nQ 56.78125 27.484375 56.78125 20.515625 \r\nQ 56.78125 9.90625 50.3125 4.234375 \r\nQ 43.84375 -1.421875 31.78125 -1.421875 \r\nQ 19.734375 -1.421875 13.25 4.234375 \r\nQ 6.78125 9.90625 6.78125 20.515625 \r\nQ 6.78125 27.484375 10.78125 32.3125 \r\nQ 14.796875 37.15625 21.921875 38.8125 \r\nz\r\nM 18.3125 54.390625 \r\nQ 18.3125 48.734375 21.84375 45.5625 \r\nQ 25.390625 42.390625 31.78125 42.390625 \r\nQ 38.140625 42.390625 41.71875 45.5625 \r\nQ 45.3125 48.734375 45.3125 54.390625 \r\nQ 45.3125 60.0625 41.71875 63.234375 \r\nQ 38.140625 66.40625 31.78125 66.40625 \r\nQ 25.390625 66.40625 21.84375 63.234375 \r\nQ 18.3125 60.0625 18.3125 54.390625 \r\nz\r\n\" id=\"DejaVuSans-56\"/>\r\n       </defs>\r\n       <use xlink:href=\"#DejaVuSans-56\"/>\r\n       <use x=\"63.623047\" xlink:href=\"#DejaVuSans-48\"/>\r\n       <use x=\"127.246094\" xlink:href=\"#DejaVuSans-48\"/>\r\n       <use x=\"190.869141\" xlink:href=\"#DejaVuSans-48\"/>\r\n      </g>\r\n     </g>\r\n    </g>\r\n    <g id=\"xtick_6\">\r\n     <g id=\"line2d_6\">\r\n      <g>\r\n       <use style=\"stroke:#000000;stroke-width:0.8;\" x=\"366.577883\" xlink:href=\"#m0dabf0e149\" y=\"239.758125\"/>\r\n      </g>\r\n     </g>\r\n     <g id=\"text_6\">\r\n      <!-- 10000 -->\r\n      <g transform=\"translate(350.671633 254.356562)scale(0.1 -0.1)\">\r\n       <defs>\r\n        <path d=\"M 12.40625 8.296875 \r\nL 28.515625 8.296875 \r\nL 28.515625 63.921875 \r\nL 10.984375 60.40625 \r\nL 10.984375 69.390625 \r\nL 28.421875 72.90625 \r\nL 38.28125 72.90625 \r\nL 38.28125 8.296875 \r\nL 54.390625 8.296875 \r\nL 54.390625 0 \r\nL 12.40625 0 \r\nz\r\n\" id=\"DejaVuSans-49\"/>\r\n       </defs>\r\n       <use xlink:href=\"#DejaVuSans-49\"/>\r\n       <use x=\"63.623047\" xlink:href=\"#DejaVuSans-48\"/>\r\n       <use x=\"127.246094\" xlink:href=\"#DejaVuSans-48\"/>\r\n       <use x=\"190.869141\" xlink:href=\"#DejaVuSans-48\"/>\r\n       <use x=\"254.492188\" xlink:href=\"#DejaVuSans-48\"/>\r\n      </g>\r\n     </g>\r\n    </g>\r\n    <g id=\"text_7\">\r\n     <!-- Episode -->\r\n     <g transform=\"translate(194.728125 268.034687)scale(0.1 -0.1)\">\r\n      <defs>\r\n       <path d=\"M 9.8125 72.90625 \r\nL 55.90625 72.90625 \r\nL 55.90625 64.59375 \r\nL 19.671875 64.59375 \r\nL 19.671875 43.015625 \r\nL 54.390625 43.015625 \r\nL 54.390625 34.71875 \r\nL 19.671875 34.71875 \r\nL 19.671875 8.296875 \r\nL 56.78125 8.296875 \r\nL 56.78125 0 \r\nL 9.8125 0 \r\nz\r\n\" id=\"DejaVuSans-69\"/>\r\n       <path d=\"M 18.109375 8.203125 \r\nL 18.109375 -20.796875 \r\nL 9.078125 -20.796875 \r\nL 9.078125 54.6875 \r\nL 18.109375 54.6875 \r\nL 18.109375 46.390625 \r\nQ 20.953125 51.265625 25.265625 53.625 \r\nQ 29.59375 56 35.59375 56 \r\nQ 45.5625 56 51.78125 48.09375 \r\nQ 58.015625 40.1875 58.015625 27.296875 \r\nQ 58.015625 14.40625 51.78125 6.484375 \r\nQ 45.5625 -1.421875 35.59375 -1.421875 \r\nQ 29.59375 -1.421875 25.265625 0.953125 \r\nQ 20.953125 3.328125 18.109375 8.203125 \r\nz\r\nM 48.6875 27.296875 \r\nQ 48.6875 37.203125 44.609375 42.84375 \r\nQ 40.53125 48.484375 33.40625 48.484375 \r\nQ 26.265625 48.484375 22.1875 42.84375 \r\nQ 18.109375 37.203125 18.109375 27.296875 \r\nQ 18.109375 17.390625 22.1875 11.75 \r\nQ 26.265625 6.109375 33.40625 6.109375 \r\nQ 40.53125 6.109375 44.609375 11.75 \r\nQ 48.6875 17.390625 48.6875 27.296875 \r\nz\r\n\" id=\"DejaVuSans-112\"/>\r\n       <path d=\"M 9.421875 54.6875 \r\nL 18.40625 54.6875 \r\nL 18.40625 0 \r\nL 9.421875 0 \r\nz\r\nM 9.421875 75.984375 \r\nL 18.40625 75.984375 \r\nL 18.40625 64.59375 \r\nL 9.421875 64.59375 \r\nz\r\n\" id=\"DejaVuSans-105\"/>\r\n       <path d=\"M 44.28125 53.078125 \r\nL 44.28125 44.578125 \r\nQ 40.484375 46.53125 36.375 47.5 \r\nQ 32.28125 48.484375 27.875 48.484375 \r\nQ 21.1875 48.484375 17.84375 46.4375 \r\nQ 14.5 44.390625 14.5 40.28125 \r\nQ 14.5 37.15625 16.890625 35.375 \r\nQ 19.28125 33.59375 26.515625 31.984375 \r\nL 29.59375 31.296875 \r\nQ 39.15625 29.25 43.1875 25.515625 \r\nQ 47.21875 21.78125 47.21875 15.09375 \r\nQ 47.21875 7.46875 41.1875 3.015625 \r\nQ 35.15625 -1.421875 24.609375 -1.421875 \r\nQ 20.21875 -1.421875 15.453125 -0.5625 \r\nQ 10.6875 0.296875 5.421875 2 \r\nL 5.421875 11.28125 \r\nQ 10.40625 8.6875 15.234375 7.390625 \r\nQ 20.0625 6.109375 24.8125 6.109375 \r\nQ 31.15625 6.109375 34.5625 8.28125 \r\nQ 37.984375 10.453125 37.984375 14.40625 \r\nQ 37.984375 18.0625 35.515625 20.015625 \r\nQ 33.0625 21.96875 24.703125 23.78125 \r\nL 21.578125 24.515625 \r\nQ 13.234375 26.265625 9.515625 29.90625 \r\nQ 5.8125 33.546875 5.8125 39.890625 \r\nQ 5.8125 47.609375 11.28125 51.796875 \r\nQ 16.75 56 26.8125 56 \r\nQ 31.78125 56 36.171875 55.265625 \r\nQ 40.578125 54.546875 44.28125 53.078125 \r\nz\r\n\" id=\"DejaVuSans-115\"/>\r\n       <path d=\"M 30.609375 48.390625 \r\nQ 23.390625 48.390625 19.1875 42.75 \r\nQ 14.984375 37.109375 14.984375 27.296875 \r\nQ 14.984375 17.484375 19.15625 11.84375 \r\nQ 23.34375 6.203125 30.609375 6.203125 \r\nQ 37.796875 6.203125 41.984375 11.859375 \r\nQ 46.1875 17.53125 46.1875 27.296875 \r\nQ 46.1875 37.015625 41.984375 42.703125 \r\nQ 37.796875 48.390625 30.609375 48.390625 \r\nz\r\nM 30.609375 56 \r\nQ 42.328125 56 49.015625 48.375 \r\nQ 55.71875 40.765625 55.71875 27.296875 \r\nQ 55.71875 13.875 49.015625 6.21875 \r\nQ 42.328125 -1.421875 30.609375 -1.421875 \r\nQ 18.84375 -1.421875 12.171875 6.21875 \r\nQ 5.515625 13.875 5.515625 27.296875 \r\nQ 5.515625 40.765625 12.171875 48.375 \r\nQ 18.84375 56 30.609375 56 \r\nz\r\n\" id=\"DejaVuSans-111\"/>\r\n       <path d=\"M 45.40625 46.390625 \r\nL 45.40625 75.984375 \r\nL 54.390625 75.984375 \r\nL 54.390625 0 \r\nL 45.40625 0 \r\nL 45.40625 8.203125 \r\nQ 42.578125 3.328125 38.25 0.953125 \r\nQ 33.9375 -1.421875 27.875 -1.421875 \r\nQ 17.96875 -1.421875 11.734375 6.484375 \r\nQ 5.515625 14.40625 5.515625 27.296875 \r\nQ 5.515625 40.1875 11.734375 48.09375 \r\nQ 17.96875 56 27.875 56 \r\nQ 33.9375 56 38.25 53.625 \r\nQ 42.578125 51.265625 45.40625 46.390625 \r\nz\r\nM 14.796875 27.296875 \r\nQ 14.796875 17.390625 18.875 11.75 \r\nQ 22.953125 6.109375 30.078125 6.109375 \r\nQ 37.203125 6.109375 41.296875 11.75 \r\nQ 45.40625 17.390625 45.40625 27.296875 \r\nQ 45.40625 37.203125 41.296875 42.84375 \r\nQ 37.203125 48.484375 30.078125 48.484375 \r\nQ 22.953125 48.484375 18.875 42.84375 \r\nQ 14.796875 37.203125 14.796875 27.296875 \r\nz\r\n\" id=\"DejaVuSans-100\"/>\r\n       <path d=\"M 56.203125 29.59375 \r\nL 56.203125 25.203125 \r\nL 14.890625 25.203125 \r\nQ 15.484375 15.921875 20.484375 11.0625 \r\nQ 25.484375 6.203125 34.421875 6.203125 \r\nQ 39.59375 6.203125 44.453125 7.46875 \r\nQ 49.3125 8.734375 54.109375 11.28125 \r\nL 54.109375 2.78125 \r\nQ 49.265625 0.734375 44.1875 -0.34375 \r\nQ 39.109375 -1.421875 33.890625 -1.421875 \r\nQ 20.796875 -1.421875 13.15625 6.1875 \r\nQ 5.515625 13.8125 5.515625 26.8125 \r\nQ 5.515625 40.234375 12.765625 48.109375 \r\nQ 20.015625 56 32.328125 56 \r\nQ 43.359375 56 49.78125 48.890625 \r\nQ 56.203125 41.796875 56.203125 29.59375 \r\nz\r\nM 47.21875 32.234375 \r\nQ 47.125 39.59375 43.09375 43.984375 \r\nQ 39.0625 48.390625 32.421875 48.390625 \r\nQ 24.90625 48.390625 20.390625 44.140625 \r\nQ 15.875 39.890625 15.1875 32.171875 \r\nz\r\n\" id=\"DejaVuSans-101\"/>\r\n      </defs>\r\n      <use xlink:href=\"#DejaVuSans-69\"/>\r\n      <use x=\"63.183594\" xlink:href=\"#DejaVuSans-112\"/>\r\n      <use x=\"126.660156\" xlink:href=\"#DejaVuSans-105\"/>\r\n      <use x=\"154.443359\" xlink:href=\"#DejaVuSans-115\"/>\r\n      <use x=\"206.542969\" xlink:href=\"#DejaVuSans-111\"/>\r\n      <use x=\"267.724609\" xlink:href=\"#DejaVuSans-100\"/>\r\n      <use x=\"331.201172\" xlink:href=\"#DejaVuSans-101\"/>\r\n     </g>\r\n    </g>\r\n   </g>\r\n   <g id=\"matplotlib.axis_2\">\r\n    <g id=\"ytick_1\">\r\n     <g id=\"line2d_7\">\r\n      <defs>\r\n       <path d=\"M 0 0 \r\nL -3.5 0 \r\n\" id=\"m8df3adef76\" style=\"stroke:#000000;stroke-width:0.8;\"/>\r\n      </defs>\r\n      <g>\r\n       <use style=\"stroke:#000000;stroke-width:0.8;\" x=\"46.965625\" xlink:href=\"#m8df3adef76\" y=\"229.569216\"/>\r\n      </g>\r\n     </g>\r\n     <g id=\"text_8\">\r\n      <!-- 0 -->\r\n      <g transform=\"translate(33.603125 233.368434)scale(0.1 -0.1)\">\r\n       <use xlink:href=\"#DejaVuSans-48\"/>\r\n      </g>\r\n     </g>\r\n    </g>\r\n    <g id=\"ytick_2\">\r\n     <g id=\"line2d_8\">\r\n      <g>\r\n       <use style=\"stroke:#000000;stroke-width:0.8;\" x=\"46.965625\" xlink:href=\"#m8df3adef76\" y=\"186.467372\"/>\r\n      </g>\r\n     </g>\r\n     <g id=\"text_9\">\r\n      <!-- 50 -->\r\n      <g transform=\"translate(27.240625 190.266591)scale(0.1 -0.1)\">\r\n       <defs>\r\n        <path d=\"M 10.796875 72.90625 \r\nL 49.515625 72.90625 \r\nL 49.515625 64.59375 \r\nL 19.828125 64.59375 \r\nL 19.828125 46.734375 \r\nQ 21.96875 47.46875 24.109375 47.828125 \r\nQ 26.265625 48.1875 28.421875 48.1875 \r\nQ 40.625 48.1875 47.75 41.5 \r\nQ 54.890625 34.8125 54.890625 23.390625 \r\nQ 54.890625 11.625 47.5625 5.09375 \r\nQ 40.234375 -1.421875 26.90625 -1.421875 \r\nQ 22.3125 -1.421875 17.546875 -0.640625 \r\nQ 12.796875 0.140625 7.71875 1.703125 \r\nL 7.71875 11.625 \r\nQ 12.109375 9.234375 16.796875 8.0625 \r\nQ 21.484375 6.890625 26.703125 6.890625 \r\nQ 35.15625 6.890625 40.078125 11.328125 \r\nQ 45.015625 15.765625 45.015625 23.390625 \r\nQ 45.015625 31 40.078125 35.4375 \r\nQ 35.15625 39.890625 26.703125 39.890625 \r\nQ 22.75 39.890625 18.8125 39.015625 \r\nQ 14.890625 38.140625 10.796875 36.28125 \r\nz\r\n\" id=\"DejaVuSans-53\"/>\r\n       </defs>\r\n       <use xlink:href=\"#DejaVuSans-53\"/>\r\n       <use x=\"63.623047\" xlink:href=\"#DejaVuSans-48\"/>\r\n      </g>\r\n     </g>\r\n    </g>\r\n    <g id=\"ytick_3\">\r\n     <g id=\"line2d_9\">\r\n      <g>\r\n       <use style=\"stroke:#000000;stroke-width:0.8;\" x=\"46.965625\" xlink:href=\"#m8df3adef76\" y=\"143.365528\"/>\r\n      </g>\r\n     </g>\r\n     <g id=\"text_10\">\r\n      <!-- 100 -->\r\n      <g transform=\"translate(20.878125 147.164747)scale(0.1 -0.1)\">\r\n       <use xlink:href=\"#DejaVuSans-49\"/>\r\n       <use x=\"63.623047\" xlink:href=\"#DejaVuSans-48\"/>\r\n       <use x=\"127.246094\" xlink:href=\"#DejaVuSans-48\"/>\r\n      </g>\r\n     </g>\r\n    </g>\r\n    <g id=\"ytick_4\">\r\n     <g id=\"line2d_10\">\r\n      <g>\r\n       <use style=\"stroke:#000000;stroke-width:0.8;\" x=\"46.965625\" xlink:href=\"#m8df3adef76\" y=\"100.263684\"/>\r\n      </g>\r\n     </g>\r\n     <g id=\"text_11\">\r\n      <!-- 150 -->\r\n      <g transform=\"translate(20.878125 104.062903)scale(0.1 -0.1)\">\r\n       <use xlink:href=\"#DejaVuSans-49\"/>\r\n       <use x=\"63.623047\" xlink:href=\"#DejaVuSans-53\"/>\r\n       <use x=\"127.246094\" xlink:href=\"#DejaVuSans-48\"/>\r\n      </g>\r\n     </g>\r\n    </g>\r\n    <g id=\"ytick_5\">\r\n     <g id=\"line2d_11\">\r\n      <g>\r\n       <use style=\"stroke:#000000;stroke-width:0.8;\" x=\"46.965625\" xlink:href=\"#m8df3adef76\" y=\"57.161841\"/>\r\n      </g>\r\n     </g>\r\n     <g id=\"text_12\">\r\n      <!-- 200 -->\r\n      <g transform=\"translate(20.878125 60.96106)scale(0.1 -0.1)\">\r\n       <use xlink:href=\"#DejaVuSans-50\"/>\r\n       <use x=\"63.623047\" xlink:href=\"#DejaVuSans-48\"/>\r\n       <use x=\"127.246094\" xlink:href=\"#DejaVuSans-48\"/>\r\n      </g>\r\n     </g>\r\n    </g>\r\n    <g id=\"text_13\">\r\n     <!-- Reward -->\r\n     <g transform=\"translate(14.798438 149.659219)rotate(-90)scale(0.1 -0.1)\">\r\n      <defs>\r\n       <path d=\"M 44.390625 34.1875 \r\nQ 47.5625 33.109375 50.5625 29.59375 \r\nQ 53.5625 26.078125 56.59375 19.921875 \r\nL 66.609375 0 \r\nL 56 0 \r\nL 46.6875 18.703125 \r\nQ 43.0625 26.03125 39.671875 28.421875 \r\nQ 36.28125 30.8125 30.421875 30.8125 \r\nL 19.671875 30.8125 \r\nL 19.671875 0 \r\nL 9.8125 0 \r\nL 9.8125 72.90625 \r\nL 32.078125 72.90625 \r\nQ 44.578125 72.90625 50.734375 67.671875 \r\nQ 56.890625 62.453125 56.890625 51.90625 \r\nQ 56.890625 45.015625 53.6875 40.46875 \r\nQ 50.484375 35.9375 44.390625 34.1875 \r\nz\r\nM 19.671875 64.796875 \r\nL 19.671875 38.921875 \r\nL 32.078125 38.921875 \r\nQ 39.203125 38.921875 42.84375 42.21875 \r\nQ 46.484375 45.515625 46.484375 51.90625 \r\nQ 46.484375 58.296875 42.84375 61.546875 \r\nQ 39.203125 64.796875 32.078125 64.796875 \r\nz\r\n\" id=\"DejaVuSans-82\"/>\r\n       <path d=\"M 4.203125 54.6875 \r\nL 13.1875 54.6875 \r\nL 24.421875 12.015625 \r\nL 35.59375 54.6875 \r\nL 46.1875 54.6875 \r\nL 57.421875 12.015625 \r\nL 68.609375 54.6875 \r\nL 77.59375 54.6875 \r\nL 63.28125 0 \r\nL 52.6875 0 \r\nL 40.921875 44.828125 \r\nL 29.109375 0 \r\nL 18.5 0 \r\nz\r\n\" id=\"DejaVuSans-119\"/>\r\n       <path d=\"M 34.28125 27.484375 \r\nQ 23.390625 27.484375 19.1875 25 \r\nQ 14.984375 22.515625 14.984375 16.5 \r\nQ 14.984375 11.71875 18.140625 8.90625 \r\nQ 21.296875 6.109375 26.703125 6.109375 \r\nQ 34.1875 6.109375 38.703125 11.40625 \r\nQ 43.21875 16.703125 43.21875 25.484375 \r\nL 43.21875 27.484375 \r\nz\r\nM 52.203125 31.203125 \r\nL 52.203125 0 \r\nL 43.21875 0 \r\nL 43.21875 8.296875 \r\nQ 40.140625 3.328125 35.546875 0.953125 \r\nQ 30.953125 -1.421875 24.3125 -1.421875 \r\nQ 15.921875 -1.421875 10.953125 3.296875 \r\nQ 6 8.015625 6 15.921875 \r\nQ 6 25.140625 12.171875 29.828125 \r\nQ 18.359375 34.515625 30.609375 34.515625 \r\nL 43.21875 34.515625 \r\nL 43.21875 35.40625 \r\nQ 43.21875 41.609375 39.140625 45 \r\nQ 35.0625 48.390625 27.6875 48.390625 \r\nQ 23 48.390625 18.546875 47.265625 \r\nQ 14.109375 46.140625 10.015625 43.890625 \r\nL 10.015625 52.203125 \r\nQ 14.9375 54.109375 19.578125 55.046875 \r\nQ 24.21875 56 28.609375 56 \r\nQ 40.484375 56 46.34375 49.84375 \r\nQ 52.203125 43.703125 52.203125 31.203125 \r\nz\r\n\" id=\"DejaVuSans-97\"/>\r\n       <path d=\"M 41.109375 46.296875 \r\nQ 39.59375 47.171875 37.8125 47.578125 \r\nQ 36.03125 48 33.890625 48 \r\nQ 26.265625 48 22.1875 43.046875 \r\nQ 18.109375 38.09375 18.109375 28.8125 \r\nL 18.109375 0 \r\nL 9.078125 0 \r\nL 9.078125 54.6875 \r\nL 18.109375 54.6875 \r\nL 18.109375 46.1875 \r\nQ 20.953125 51.171875 25.484375 53.578125 \r\nQ 30.03125 56 36.53125 56 \r\nQ 37.453125 56 38.578125 55.875 \r\nQ 39.703125 55.765625 41.0625 55.515625 \r\nz\r\n\" id=\"DejaVuSans-114\"/>\r\n      </defs>\r\n      <use xlink:href=\"#DejaVuSans-82\"/>\r\n      <use x=\"64.982422\" xlink:href=\"#DejaVuSans-101\"/>\r\n      <use x=\"126.505859\" xlink:href=\"#DejaVuSans-119\"/>\r\n      <use x=\"208.292969\" xlink:href=\"#DejaVuSans-97\"/>\r\n      <use x=\"269.572266\" xlink:href=\"#DejaVuSans-114\"/>\r\n      <use x=\"308.935547\" xlink:href=\"#DejaVuSans-100\"/>\r\n     </g>\r\n    </g>\r\n   </g>\r\n   <g id=\"line2d_12\">\r\n    <path clip-path=\"url(#pdb8d071648)\" d=\"M 62.183807 229.569595 \r\nL 67.236748 229.548104 \r\nL 67.358506 229.463478 \r\nL 71.041674 229.42429 \r\nL 71.163432 229.339715 \r\nL 74.663964 229.298941 \r\nL 74.785722 229.214306 \r\nL 78.134056 229.170998 \r\nL 78.255814 229.086242 \r\nL 80.051739 229.022176 \r\nL 80.173497 228.937532 \r\nL 82.030301 228.874914 \r\nL 82.152058 228.790279 \r\nL 83.430513 228.720385 \r\nL 83.552271 228.635724 \r\nL 83.917544 228.554064 \r\nL 84.039301 228.469222 \r\nL 85.287317 228.398914 \r\nL 85.500393 228.056884 \r\nL 86.291818 227.981033 \r\nL 86.413575 227.896511 \r\nL 86.535333 227.811919 \r\nL 86.657091 227.727172 \r\nL 87.205 227.648003 \r\nL 87.357197 227.477518 \r\nL 87.539833 227.393555 \r\nL 87.69203 227.222777 \r\nL 88.026864 227.227372 \r\nL 88.148621 227.056637 \r\nL 88.970485 226.980855 \r\nL 89.092243 226.896212 \r\nL 89.792349 226.818827 \r\nL 89.914107 226.734235 \r\nL 90.553335 226.656117 \r\nL 90.705532 226.48571 \r\nL 91.162123 226.405506 \r\nL 91.28388 226.320785 \r\nL 91.527396 226.23765 \r\nL 91.649153 226.15311 \r\nL 93.079806 226.08469 \r\nL 93.201563 226.000055 \r\nL 93.658154 225.919644 \r\nL 93.810351 225.749263 \r\nL 94.601776 225.673119 \r\nL 94.723534 225.588441 \r\nL 94.997488 225.505686 \r\nL 95.210564 225.163655 \r\nL 95.91067 225.086598 \r\nL 96.032428 225.002101 \r\nL 96.154186 224.917518 \r\nL 96.275943 224.832883 \r\nL 96.336822 224.833771 \r\nL 96.45858 224.662924 \r\nL 96.702095 224.579919 \r\nL 96.823853 224.495266 \r\nL 96.94561 224.410632 \r\nL 97.128247 224.154564 \r\nL 97.554398 224.073886 \r\nL 97.706595 223.903633 \r\nL 98.01099 223.821119 \r\nL 98.163187 223.650884 \r\nL 98.589338 223.570172 \r\nL 98.711096 223.48552 \r\nL 98.985051 223.402721 \r\nL 99.106808 223.31825 \r\nL 99.776475 223.240891 \r\nL 99.928672 223.070621 \r\nL 100.53746 222.992021 \r\nL 100.720097 222.735858 \r\nL 101.05493 222.653973 \r\nL 101.176688 222.569459 \r\nL 101.5724 222.488307 \r\nL 101.694158 222.317632 \r\nL 102.08987 222.236437 \r\nL 102.211628 222.151888 \r\nL 102.546461 222.069848 \r\nL 102.698658 221.899303 \r\nL 103.155249 221.819116 \r\nL 103.277007 221.734455 \r\nL 103.398765 221.649821 \r\nL 103.520522 221.565401 \r\nL 104.12931 221.487172 \r\nL 104.251068 221.402683 \r\nL 104.616341 221.321048 \r\nL 104.738099 221.236483 \r\nL 105.072932 221.154348 \r\nL 105.19469 221.069678 \r\nL 105.407766 220.986276 \r\nL 105.529523 220.90165 \r\nL 106.655781 220.829799 \r\nL 106.777539 220.745285 \r\nL 106.990615 220.66197 \r\nL 107.112372 220.577447 \r\nL 107.568964 220.497079 \r\nL 107.721161 220.326801 \r\nL 107.964676 220.243761 \r\nL 108.116873 220.073405 \r\nL 108.664782 219.99396 \r\nL 108.78654 219.909429 \r\nL 109.030055 219.912463 \r\nL 109.182252 219.569691 \r\nL 109.82148 219.491849 \r\nL 109.973677 219.149121 \r\nL 110.125874 219.064831 \r\nL 110.30851 218.808599 \r\nL 110.85642 218.729455 \r\nL 111.008617 218.559125 \r\nL 111.252132 218.475947 \r\nL 111.404329 218.305626 \r\nL 112.287072 218.231172 \r\nL 112.469708 217.975044 \r\nL 112.713223 217.892081 \r\nL 112.834981 217.807386 \r\nL 113.078496 217.724191 \r\nL 113.230693 217.553775 \r\nL 113.9308 217.476545 \r\nL 114.143876 217.134627 \r\nL 114.661345 217.054768 \r\nL 114.783103 216.970254 \r\nL 115.209255 216.889541 \r\nL 115.361452 216.719082 \r\nL 115.604967 216.635887 \r\nL 115.787604 216.379827 \r\nL 117.066059 216.30958 \r\nL 117.187816 216.224928 \r\nL 118.314074 216.153594 \r\nL 118.496711 215.897612 \r\nL 118.861984 215.815917 \r\nL 118.983741 215.73142 \r\nL 119.135938 215.647277 \r\nL 119.318575 215.391105 \r\nL 119.440332 215.306496 \r\nL 119.56209 215.221922 \r\nL 119.957802 215.141063 \r\nL 120.07956 215.056471 \r\nL 120.231757 214.972311 \r\nL 120.353515 214.801369 \r\nL 120.444833 214.716165 \r\nL 120.627469 214.459847 \r\nL 120.749227 214.375273 \r\nL 120.870985 214.290517 \r\nL 121.023182 214.206279 \r\nL 121.144939 214.121653 \r\nL 121.479773 214.039906 \r\nL 121.60153 213.869067 \r\nL 122.210319 213.790682 \r\nL 122.362516 213.620145 \r\nL 122.575591 213.536804 \r\nL 122.758228 213.280667 \r\nL 123.336577 213.201911 \r\nL 123.458334 213.11719 \r\nL 123.640971 213.033357 \r\nL 123.975804 212.348408 \r\nL 124.249759 212.265799 \r\nL 124.401956 211.922993 \r\nL 124.493274 211.837945 \r\nL 124.767229 211.324515 \r\nL 124.919426 211.240001 \r\nL 125.041183 211.155341 \r\nL 125.102062 211.069947 \r\nL 125.22382 210.899221 \r\nL 125.284699 210.813914 \r\nL 125.406456 210.729408 \r\nL 126.22832 210.653816 \r\nL 126.350078 210.569225 \r\nL 126.593593 210.486185 \r\nL 126.74579 210.315725 \r\nL 127.628533 210.240883 \r\nL 127.750291 210.156197 \r\nL 128.419958 210.078777 \r\nL 128.541715 209.994168 \r\nL 128.967867 209.913137 \r\nL 129.120064 209.742833 \r\nL 129.394019 209.660189 \r\nL 129.546216 209.489756 \r\nL 130.094125 209.410656 \r\nL 130.33764 208.982922 \r\nL 130.611595 208.900416 \r\nL 130.824671 208.55861 \r\nL 131.311701 208.478682 \r\nL 131.433459 208.393943 \r\nL 131.555217 208.309283 \r\nL 131.798732 207.881575 \r\nL 132.255323 207.801371 \r\nL 132.468399 207.45928 \r\nL 132.803232 207.377395 \r\nL 132.92499 207.292847 \r\nL 133.320702 207.211755 \r\nL 133.533778 206.869923 \r\nL 133.746854 206.786727 \r\nL 133.868612 206.702153 \r\nL 134.142566 206.619639 \r\nL 134.294763 206.449137 \r\nL 134.690476 206.367907 \r\nL 134.842673 206.197439 \r\nL 134.933991 206.112382 \r\nL 135.147067 205.770515 \r\nL 135.634097 205.690734 \r\nL 135.786294 205.520559 \r\nL 136.151567 205.439036 \r\nL 136.395082 205.011397 \r\nL 136.455961 204.925969 \r\nL 136.577719 204.841291 \r\nL 136.760355 204.757493 \r\nL 136.973431 204.415436 \r\nL 137.03431 204.33 \r\nL 137.216946 204.073734 \r\nL 137.277825 204.074484 \r\nL 137.399583 203.903723 \r\nL 137.856174 203.823234 \r\nL 137.977932 203.738729 \r\nL 138.038811 203.739505 \r\nL 138.191008 203.397 \r\nL 138.404083 203.313581 \r\nL 138.525841 203.229006 \r\nL 138.799796 203.146303 \r\nL 138.982432 202.717784 \r\nL 139.134629 202.547463 \r\nL 139.225947 202.548584 \r\nL 139.378144 202.205743 \r\nL 139.530341 202.121668 \r\nL 139.682539 201.951244 \r\nL 140.017372 201.869238 \r\nL 140.260887 201.441452 \r\nL 140.352205 201.442607 \r\nL 140.504403 201.186039 \r\nL 140.839236 201.104223 \r\nL 140.991433 200.933704 \r\nL 141.052312 200.934402 \r\nL 141.204509 200.677757 \r\nL 141.326267 200.593268 \r\nL 141.356706 200.593734 \r\nL 141.508903 200.33708 \r\nL 141.630661 200.252453 \r\nL 141.782858 199.996006 \r\nL 141.935055 199.825616 \r\nL 142.026373 199.740645 \r\nL 142.17857 199.570194 \r\nL 142.391646 199.572858 \r\nL 142.513403 199.40202 \r\nL 142.817797 199.319755 \r\nL 142.969995 199.149512 \r\nL 143.517904 199.070127 \r\nL 143.70054 198.813947 \r\nL 143.883177 198.730114 \r\nL 144.065813 198.474209 \r\nL 144.096253 198.474597 \r\nL 144.24845 198.131903 \r\nL 144.583283 198.049984 \r\nL 144.76592 197.793631 \r\nL 144.948556 197.709634 \r\nL 145.070314 197.625051 \r\nL 145.161632 197.626181 \r\nL 145.313829 197.369535 \r\nL 145.922617 197.291184 \r\nL 146.105254 197.035047 \r\nL 146.196572 196.950094 \r\nL 146.348769 196.607348 \r\nL 146.744481 196.52623 \r\nL 146.866239 196.355297 \r\nL 147.018436 196.271015 \r\nL 147.140193 196.186467 \r\nL 147.201072 196.187157 \r\nL 147.383709 195.758767 \r\nL 147.596784 195.675331 \r\nL 147.80986 195.333266 \r\nL 148.144694 195.251864 \r\nL 148.266451 195.167238 \r\nL 148.418648 195.08306 \r\nL 148.601285 194.826992 \r\nL 148.87524 194.744305 \r\nL 148.996997 194.659748 \r\nL 149.301391 194.57763 \r\nL 149.484028 194.32151 \r\nL 149.910179 194.241134 \r\nL 150.062376 194.070839 \r\nL 150.336331 193.988359 \r\nL 150.488528 193.817969 \r\nL 150.701604 193.734403 \r\nL 150.823362 193.649725 \r\nL 150.88424 193.56428 \r\nL 151.066877 193.308074 \r\nL 151.675665 193.229922 \r\nL 151.858302 192.973949 \r\nL 152.162696 192.978017 \r\nL 152.314893 192.721544 \r\nL 152.406211 192.722604 \r\nL 152.527969 192.465631 \r\nL 152.832363 192.383272 \r\nL 153.014999 192.127196 \r\nL 153.167196 192.043078 \r\nL 153.288954 191.958495 \r\nL 153.349833 191.873179 \r\nL 153.593348 191.44535 \r\nL 154.202136 191.367396 \r\nL 154.323894 191.282813 \r\nL 154.50653 191.199058 \r\nL 154.658727 191.028702 \r\nL 154.780485 190.944024 \r\nL 154.932682 190.773599 \r\nL 154.993561 190.774496 \r\nL 155.145758 190.345762 \r\nL 155.389273 190.348995 \r\nL 155.54147 190.092513 \r\nL 156.05894 190.012757 \r\nL 156.241576 189.756474 \r\nL 156.728607 189.676537 \r\nL 156.941683 189.334532 \r\nL 157.337395 189.253406 \r\nL 157.459153 189.082507 \r\nL 157.61135 189.084533 \r\nL 157.733107 188.913634 \r\nL 157.854865 188.829086 \r\nL 158.067941 188.487012 \r\nL 158.433214 188.405645 \r\nL 158.554971 188.321001 \r\nL 158.889805 188.325225 \r\nL 159.042002 188.0687 \r\nL 159.255078 187.726618 \r\nL 159.529032 187.643931 \r\nL 159.711669 187.215482 \r\nL 159.863866 187.045212 \r\nL 159.955184 186.960224 \r\nL 160.076942 186.789506 \r\nL 160.229139 186.705303 \r\nL 160.381336 186.534852 \r\nL 160.777048 186.453484 \r\nL 160.929245 186.283025 \r\nL 161.233639 186.200916 \r\nL 161.416276 185.944762 \r\nL 161.72067 185.862601 \r\nL 161.933745 185.520571 \r\nL 162.085942 185.436298 \r\nL 162.2077 185.35156 \r\nL 162.390337 185.26783 \r\nL 162.572973 185.011693 \r\nL 162.72517 184.927481 \r\nL 162.968685 184.499893 \r\nL 163.333958 184.418621 \r\nL 163.455716 184.334072 \r\nL 163.72967 184.251428 \r\nL 163.912307 183.822901 \r\nL 164.216701 183.741042 \r\nL 164.338459 183.656554 \r\nL 164.734171 183.575135 \r\nL 164.916807 183.31892 \r\nL 165.069004 183.234828 \r\nL 165.190762 183.150219 \r\nL 165.251641 183.0648 \r\nL 165.373399 182.980131 \r\nL 165.738671 182.898694 \r\nL 165.890868 182.728416 \r\nL 166.073505 182.644506 \r\nL 166.225702 182.474245 \r\nL 166.34746 182.389627 \r\nL 166.469217 182.218849 \r\nL 166.743172 182.136352 \r\nL 166.895369 181.965996 \r\nL 167.138884 181.882827 \r\nL 167.291081 181.712394 \r\nL 167.473718 181.628604 \r\nL 167.595475 181.54409 \r\nL 167.778112 181.460196 \r\nL 167.960748 181.204145 \r\nL 168.021627 181.204878 \r\nL 168.173824 180.862132 \r\nL 168.35646 180.778403 \r\nL 168.478218 180.693828 \r\nL 168.721733 180.696983 \r\nL 168.843491 180.526317 \r\nL 169.087006 180.529239 \r\nL 169.239203 180.272637 \r\nL 169.513158 180.190028 \r\nL 169.665355 180.019655 \r\nL 169.878431 179.936417 \r\nL 170.030628 179.766156 \r\nL 170.243704 179.682719 \r\nL 170.395901 179.512217 \r\nL 170.517658 179.427677 \r\nL 170.639416 179.342956 \r\nL 170.761174 179.258382 \r\nL 170.882931 179.173885 \r\nL 171.187325 179.092121 \r\nL 171.339522 178.921842 \r\nL 171.583038 178.838785 \r\nL 171.704795 178.754288 \r\nL 171.887432 178.670447 \r\nL 172.100508 178.328502 \r\nL 172.191826 178.243454 \r\nL 172.313583 178.158854 \r\nL 172.46578 178.074702 \r\nL 172.587538 177.990256 \r\nL 172.800614 177.906682 \r\nL 172.922372 177.822013 \r\nL 173.165887 177.738817 \r\nL 173.287644 177.654312 \r\nL 173.348523 177.655079 \r\nL 173.470281 177.484275 \r\nL 173.774675 177.402261 \r\nL 173.987751 177.060248 \r\nL 174.01819 177.060636 \r\nL 174.139948 176.889677 \r\nL 174.596539 176.809412 \r\nL 174.718297 176.724812 \r\nL 175.022691 176.64266 \r\nL 175.327085 176.043398 \r\nL 175.418403 176.044527 \r\nL 175.5706 175.787968 \r\nL 175.783676 175.704471 \r\nL 175.935873 175.533977 \r\nL 176.179388 175.451187 \r\nL 176.392464 175.109234 \r\nL 176.635979 175.026298 \r\nL 176.757737 174.941628 \r\nL 176.788176 174.942085 \r\nL 176.940373 174.68556 \r\nL 177.12301 174.601934 \r\nL 177.275207 174.431544 \r\nL 177.549162 174.348668 \r\nL 177.762237 174.006887 \r\nL 177.823116 173.92152 \r\nL 178.036192 173.579524 \r\nL 178.340586 173.497346 \r\nL 178.462344 173.412849 \r\nL 178.67542 173.329447 \r\nL 178.797177 173.244864 \r\nL 179.16245 173.163617 \r\nL 179.345087 172.907454 \r\nL 179.436405 172.822475 \r\nL 179.649481 172.48053 \r\nL 179.771238 172.395758 \r\nL 179.923435 172.225376 \r\nL 180.014754 172.140457 \r\nL 180.19739 171.884329 \r\nL 180.319148 171.799806 \r\nL 180.471345 171.629424 \r\nL 180.532223 171.543988 \r\nL 180.684421 171.373684 \r\nL 180.806178 171.289152 \r\nL 180.988815 171.033127 \r\nL 181.171451 170.949234 \r\nL 181.323648 170.778904 \r\nL 181.597603 170.696243 \r\nL 181.7498 170.525845 \r\nL 181.871557 170.441339 \r\nL 182.023754 170.270966 \r\nL 182.175951 170.186797 \r\nL 182.328149 170.01626 \r\nL 182.449906 169.93166 \r\nL 182.602103 169.761278 \r\nL 182.997815 169.680497 \r\nL 183.119573 169.59594 \r\nL 183.27177 169.51177 \r\nL 183.423967 169.341423 \r\nL 183.484846 169.256099 \r\nL 183.667482 168.999962 \r\nL 183.941437 169.003401 \r\nL 184.063195 168.832684 \r\nL 184.245831 168.749057 \r\nL 184.398028 168.492696 \r\nL 184.550225 168.408501 \r\nL 184.671983 168.237628 \r\nL 184.793741 168.153166 \r\nL 185.006816 167.811334 \r\nL 185.067695 167.725854 \r\nL 185.189453 167.555214 \r\nL 185.34165 167.471105 \r\nL 185.463408 167.386539 \r\nL 186.072196 167.308301 \r\nL 186.193953 167.223735 \r\nL 186.437469 167.140755 \r\nL 186.559226 167.056198 \r\nL 186.589666 167.056629 \r\nL 186.741863 166.713969 \r\nL 186.833181 166.715124 \r\nL 187.015817 166.286649 \r\nL 187.046257 166.287028 \r\nL 187.198454 165.9443 \r\nL 187.502848 165.861958 \r\nL 187.685484 165.605838 \r\nL 187.959439 165.523281 \r\nL 188.081197 165.438784 \r\nL 188.172515 165.353735 \r\nL 188.324712 165.183156 \r\nL 188.811742 165.103107 \r\nL 188.994379 164.674537 \r\nL 189.146576 164.504284 \r\nL 189.268333 164.419675 \r\nL 189.390091 164.335127 \r\nL 189.481409 164.250121 \r\nL 189.603167 164.165538 \r\nL 189.664046 164.080205 \r\nL 189.816243 163.909729 \r\nL 189.877122 163.824258 \r\nL 189.998879 163.739675 \r\nL 190.211955 163.656238 \r\nL 190.425031 163.314535 \r\nL 190.607667 163.230754 \r\nL 190.790304 162.974565 \r\nL 190.942501 162.890439 \r\nL 191.155577 162.548366 \r\nL 191.399092 162.4653 \r\nL 191.52085 162.380605 \r\nL 192.099198 162.302159 \r\nL 192.220956 162.217395 \r\nL 192.434032 162.133907 \r\nL 192.555789 162.049358 \r\nL 192.616668 161.963939 \r\nL 192.799305 161.707699 \r\nL 192.951502 161.623374 \r\nL 193.073259 161.539067 \r\nL 193.286335 161.455837 \r\nL 193.499411 161.113936 \r\nL 193.682048 161.030241 \r\nL 193.864684 160.774061 \r\nL 194.138639 160.691219 \r\nL 194.321275 160.176575 \r\nL 194.382154 160.177376 \r\nL 194.503912 160.00665 \r\nL 194.656109 159.922231 \r\nL 194.777866 159.751315 \r\nL 194.869184 159.66637 \r\nL 195.08226 159.324425 \r\nL 195.234457 159.240187 \r\nL 195.356215 159.155501 \r\nL 195.508412 159.0714 \r\nL 195.63017 158.986886 \r\nL 195.812806 158.903157 \r\nL 196.025882 158.561187 \r\nL 196.391155 158.479509 \r\nL 196.543352 158.308955 \r\nL 196.756428 158.225544 \r\nL 196.939064 157.710908 \r\nL 197.091261 157.62679 \r\nL 197.213019 157.54225 \r\nL 197.456534 157.459366 \r\nL 197.66961 157.117473 \r\nL 197.760928 157.032476 \r\nL 197.882686 156.947773 \r\nL 197.943565 156.862353 \r\nL 198.065322 156.777632 \r\nL 198.15664 156.692549 \r\nL 198.308838 156.34989 \r\nL 198.521913 156.266419 \r\nL 198.70455 155.7518 \r\nL 198.795868 155.666898 \r\nL 198.978504 155.410735 \r\nL 199.465535 155.330919 \r\nL 199.587293 155.246293 \r\nL 199.830808 155.163382 \r\nL 200.043884 154.821541 \r\nL 200.135202 154.822826 \r\nL 200.287399 154.48008 \r\nL 200.896187 154.401755 \r\nL 201.048384 154.231382 \r\nL 201.413657 154.149868 \r\nL 201.565854 153.979547 \r\nL 201.809369 153.896395 \r\nL 201.961566 153.725979 \r\nL 202.479036 153.646344 \r\nL 202.631233 153.389922 \r\nL 203.087824 153.309813 \r\nL 203.3009 152.968015 \r\nL 203.392219 152.882941 \r\nL 203.513976 152.798367 \r\nL 203.727052 152.715059 \r\nL 203.879249 152.544669 \r\nL 204.122764 152.461603 \r\nL 204.244522 152.377072 \r\nL 204.396719 152.292894 \r\nL 204.548916 152.036404 \r\nL 204.761992 151.953079 \r\nL 204.88375 151.868513 \r\nL 205.005507 151.783948 \r\nL 205.157704 151.613549 \r\nL 205.492538 151.531431 \r\nL 205.705614 151.18953 \r\nL 205.949129 151.106576 \r\nL 206.101326 150.936151 \r\nL 206.344841 150.852974 \r\nL 206.557917 150.511107 \r\nL 206.801432 150.428058 \r\nL 207.105826 149.828727 \r\nL 207.349342 149.831874 \r\nL 207.501539 149.575202 \r\nL 207.684175 149.318936 \r\nL 208.019009 149.237085 \r\nL 208.171206 149.066721 \r\nL 208.384281 148.983224 \r\nL 208.627797 148.555731 \r\nL 208.871312 148.472597 \r\nL 209.023509 148.302025 \r\nL 209.145267 148.303508 \r\nL 209.297464 148.047035 \r\nL 209.419221 147.962452 \r\nL 209.540979 147.791613 \r\nL 209.693176 147.707504 \r\nL 209.875812 147.451402 \r\nL 209.99757 147.366888 \r\nL 210.210646 147.024909 \r\nL 210.575919 146.943257 \r\nL 210.788995 146.60114 \r\nL 210.971631 146.517402 \r\nL 211.154268 146.261222 \r\nL 211.397783 146.178156 \r\nL 211.54998 146.0078 \r\nL 211.641298 146.008964 \r\nL 211.793495 145.666158 \r\nL 211.884813 145.581092 \r\nL 212.03701 145.410702 \r\nL 212.128329 145.325559 \r\nL 212.280526 144.982864 \r\nL 212.432723 144.898678 \r\nL 212.58492 144.72821 \r\nL 212.858874 144.645524 \r\nL 213.041511 144.3893 \r\nL 213.10239 144.39018 \r\nL 213.254587 144.047434 \r\nL 213.467662 143.963928 \r\nL 213.650299 143.70774 \r\nL 214.167769 143.628372 \r\nL 214.289526 143.543651 \r\nL 214.441724 143.459551 \r\nL 214.654799 143.117563 \r\nL 214.837436 143.033644 \r\nL 214.989633 142.863271 \r\nL 215.598421 142.784851 \r\nL 215.720179 142.70026 \r\nL 215.902815 142.616289 \r\nL 216.055012 142.445916 \r\nL 216.602921 142.366884 \r\nL 216.815997 142.024983 \r\nL 217.21171 141.944038 \r\nL 217.363907 141.773631 \r\nL 217.576982 141.690134 \r\nL 217.759619 141.433747 \r\nL 217.881377 141.349258 \r\nL 218.003134 141.264451 \r\nL 218.398847 141.18348 \r\nL 218.551044 140.840769 \r\nL 218.611922 140.755384 \r\nL 218.855438 140.327555 \r\nL 219.312029 140.247463 \r\nL 219.494665 139.991481 \r\nL 219.555544 139.992326 \r\nL 219.677302 139.82147 \r\nL 219.799059 139.736879 \r\nL 219.981696 139.48075 \r\nL 220.073014 139.395831 \r\nL 220.194772 139.311033 \r\nL 220.316529 139.226337 \r\nL 220.438287 139.055663 \r\nL 220.620923 138.971787 \r\nL 220.742681 138.887359 \r\nL 220.864439 138.88885 \r\nL 221.016636 138.632291 \r\nL 221.199272 138.548389 \r\nL 221.32103 138.463771 \r\nL 221.625424 138.38149 \r\nL 221.929818 137.782305 \r\nL 222.203772 137.699687 \r\nL 222.32553 137.615122 \r\nL 222.386409 137.616044 \r\nL 222.569045 137.187612 \r\nL 222.599485 137.188017 \r\nL 222.751682 136.9315 \r\nL 222.934318 136.675277 \r\nL 223.147394 136.592099 \r\nL 223.299591 136.335497 \r\nL 223.543106 136.25244 \r\nL 223.725743 135.99613 \r\nL 223.87794 135.998164 \r\nL 223.999697 135.827361 \r\nL 224.091016 135.828541 \r\nL 224.212773 135.657746 \r\nL 224.973759 135.581327 \r\nL 225.156395 135.325146 \r\nL 225.278153 135.326776 \r\nL 225.491228 134.640103 \r\nL 225.552107 134.640974 \r\nL 225.734744 134.212403 \r\nL 226.160895 134.131484 \r\nL 226.282653 134.04697 \r\nL 226.526168 133.963982 \r\nL 226.647926 133.793169 \r\nL 226.982759 133.711189 \r\nL 227.104517 133.626572 \r\nL 227.926381 133.55148 \r\nL 228.109018 133.295429 \r\nL 228.443851 133.213716 \r\nL 228.626487 132.957614 \r\nL 228.930882 132.875367 \r\nL 229.052639 132.790594 \r\nL 229.174397 132.705899 \r\nL 229.326594 132.363257 \r\nL 229.417912 132.278217 \r\nL 229.53967 132.193599 \r\nL 229.752746 132.11018 \r\nL 229.904943 131.939936 \r\nL 230.270215 131.858465 \r\nL 230.422412 131.688084 \r\nL 230.818125 131.607052 \r\nL 230.970322 131.43661 \r\nL 231.244277 131.354148 \r\nL 231.57911 130.669009 \r\nL 231.974822 130.587806 \r\nL 232.09658 130.503222 \r\nL 232.400974 130.421243 \r\nL 232.522732 130.336556 \r\nL 232.979323 130.256387 \r\nL 233.10108 130.171821 \r\nL 233.588111 130.091859 \r\nL 233.740308 129.921554 \r\nL 233.892505 129.837316 \r\nL 234.075141 129.32262 \r\nL 234.562172 129.242795 \r\nL 234.714369 129.072457 \r\nL 234.897005 128.988943 \r\nL 235.049202 128.818639 \r\nL 235.475354 128.738073 \r\nL 235.627551 128.395344 \r\nL 235.749309 128.224609 \r\nL 235.810188 128.139173 \r\nL 236.023263 127.797108 \r\nL 236.266779 127.714102 \r\nL 236.388536 127.629528 \r\nL 236.69293 127.547427 \r\nL 236.814688 127.462732 \r\nL 236.936446 127.378184 \r\nL 237.119082 126.863384 \r\nL 237.545234 126.782671 \r\nL 237.666992 126.698019 \r\nL 237.849628 126.6141 \r\nL 238.001825 126.443684 \r\nL 238.24534 126.360592 \r\nL 238.427977 126.104438 \r\nL 238.610613 126.020631 \r\nL 238.732371 125.935927 \r\nL 238.884568 125.851784 \r\nL 239.006325 125.76714 \r\nL 239.097644 125.682135 \r\nL 239.249841 125.511848 \r\nL 239.493356 125.428722 \r\nL 239.645553 125.172162 \r\nL 239.736871 125.173317 \r\nL 239.858629 125.002505 \r\nL 240.071705 124.919042 \r\nL 240.223902 124.748713 \r\nL 240.284781 124.663293 \r\nL 240.406538 124.578684 \r\nL 240.619614 124.49511 \r\nL 240.83269 124.153235 \r\nL 241.137084 124.070807 \r\nL 241.258842 123.986172 \r\nL 241.411039 123.902046 \r\nL 241.593675 123.645926 \r\nL 241.806751 123.562584 \r\nL 241.989387 123.306232 \r\nL 242.111145 123.221769 \r\nL 242.232903 123.13729 \r\nL 242.3851 123.139273 \r\nL 242.506857 122.968443 \r\nL 242.598176 122.883472 \r\nL 242.719933 122.798906 \r\nL 242.90257 122.715116 \r\nL 243.054767 122.544743 \r\nL 243.267842 122.461255 \r\nL 243.42004 122.290925 \r\nL 243.785312 122.209497 \r\nL 244.059267 121.696119 \r\nL 244.241904 121.612269 \r\nL 244.485419 121.184552 \r\nL 244.820252 121.102719 \r\nL 244.972449 120.932458 \r\nL 245.672556 120.855737 \r\nL 245.794313 120.771154 \r\nL 245.916071 120.772826 \r\nL 246.068268 120.516396 \r\nL 246.281344 120.433097 \r\nL 246.46398 120.176745 \r\nL 246.616177 120.092532 \r\nL 246.737935 120.007949 \r\nL 247.042329 119.925694 \r\nL 247.194526 119.669083 \r\nL 247.377163 119.58531 \r\nL 247.52936 119.414946 \r\nL 248.138148 119.336552 \r\nL 248.351224 118.994711 \r\nL 248.381663 118.995022 \r\nL 248.503421 118.824226 \r\nL 248.655618 118.740005 \r\nL 248.899133 118.312297 \r\nL 249.05133 118.228188 \r\nL 249.173088 118.143571 \r\nL 249.416603 118.060479 \r\nL 249.5688 117.890114 \r\nL 249.842755 117.807523 \r\nL 249.964512 117.722905 \r\nL 250.360224 117.641951 \r\nL 250.512421 117.471604 \r\nL 250.60374 117.472751 \r\nL 250.725497 117.301912 \r\nL 250.969013 117.218941 \r\nL 251.12121 117.048353 \r\nL 251.303846 116.964451 \r\nL 251.456043 116.707805 \r\nL 251.729998 116.194316 \r\nL 252.095271 116.112801 \r\nL 252.247468 115.942308 \r\nL 252.521422 115.85969 \r\nL 252.704059 115.603656 \r\nL 253.099771 115.522522 \r\nL 253.312847 115.180483 \r\nL 254.408666 115.108321 \r\nL 254.530423 115.023782 \r\nL 254.560863 115.024247 \r\nL 254.71306 114.681544 \r\nL 254.956575 114.598366 \r\nL 255.139211 114.341962 \r\nL 255.504484 114.260543 \r\nL 255.656681 114.090135 \r\nL 256.021954 114.008673 \r\nL 256.174151 113.838377 \r\nL 256.23503 113.75301 \r\nL 256.387227 113.582646 \r\nL 256.600303 113.499131 \r\nL 256.722061 113.328543 \r\nL 256.813379 113.243537 \r\nL 256.935136 113.159066 \r\nL 257.209091 113.076406 \r\nL 257.330849 112.905671 \r\nL 257.78744 112.825501 \r\nL 258.000516 112.225093 \r\nL 258.152713 112.140803 \r\nL 258.30491 111.797988 \r\nL 258.548425 111.714982 \r\nL 258.700622 111.544601 \r\nL 258.852819 111.460362 \r\nL 258.974577 111.289619 \r\nL 259.096334 111.205053 \r\nL 259.431168 110.519923 \r\nL 259.613804 110.435978 \r\nL 259.82688 109.835544 \r\nL 259.979077 109.66511 \r\nL 260.222593 109.582088 \r\nL 260.34435 109.497401 \r\nL 260.405229 109.498194 \r\nL 260.557426 109.241566 \r\nL 260.770502 108.899535 \r\nL 260.892259 108.815021 \r\nL 261.044457 108.644683 \r\nL 261.470608 108.564005 \r\nL 261.592366 108.479327 \r\nL 261.805442 108.395813 \r\nL 262.048957 107.967949 \r\nL 262.170715 107.883427 \r\nL 262.353351 107.62729 \r\nL 262.505548 107.543086 \r\nL 262.657745 107.372773 \r\nL 262.779503 107.288242 \r\nL 262.90126 107.203581 \r\nL 263.053457 107.1193 \r\nL 263.236094 106.863111 \r\nL 263.631806 106.78189 \r\nL 263.784003 106.611612 \r\nL 263.9362 106.527512 \r\nL 264.057958 106.44298 \r\nL 264.210155 106.358811 \r\nL 264.392791 106.102683 \r\nL 264.697185 106.020625 \r\nL 264.818943 105.935922 \r\nL 264.910261 105.850976 \r\nL 265.062458 105.680448 \r\nL 265.153777 105.59546 \r\nL 265.336413 105.339228 \r\nL 265.48861 105.255111 \r\nL 265.671246 104.999051 \r\nL 266.036519 104.917632 \r\nL 266.158277 104.833135 \r\nL 266.280035 104.748604 \r\nL 266.401792 104.663926 \r\nL 266.462671 104.578558 \r\nL 266.614868 104.408116 \r\nL 267.162777 104.329171 \r\nL 267.406293 103.901575 \r\nL 267.52805 103.816949 \r\nL 267.649808 103.732331 \r\nL 267.832444 103.648619 \r\nL 268.04552 103.048072 \r\nL 268.197717 102.963739 \r\nL 268.319475 102.879139 \r\nL 268.410793 102.794211 \r\nL 268.532551 102.709714 \r\nL 268.897824 102.628312 \r\nL 269.019581 102.543729 \r\nL 269.1109 102.458577 \r\nL 269.293536 101.943786 \r\nL 269.354415 101.85847 \r\nL 269.476172 101.773904 \r\nL 269.658809 101.689993 \r\nL 269.780566 101.605324 \r\nL 270.206718 101.524836 \r\nL 270.450233 101.097214 \r\nL 270.571991 101.012588 \r\nL 270.693749 100.928013 \r\nL 270.815506 100.843465 \r\nL 270.967703 100.500719 \r\nL 271.089461 100.416006 \r\nL 271.180779 100.33101 \r\nL 271.363416 100.074812 \r\nL 271.485173 99.990221 \r\nL 271.66781 99.389381 \r\nL 271.820007 99.305306 \r\nL 271.972204 99.135244 \r\nL 272.398356 99.054488 \r\nL 272.550553 98.884081 \r\nL 272.885386 98.802299 \r\nL 273.037583 98.545731 \r\nL 273.341977 98.463553 \r\nL 273.463735 98.379074 \r\nL 273.981205 98.299628 \r\nL 274.285599 97.700401 \r\nL 274.468235 97.616723 \r\nL 274.620432 97.360224 \r\nL 274.924826 97.278252 \r\nL 275.107463 97.022133 \r\nL 275.411857 96.939558 \r\nL 275.533615 96.855079 \r\nL 275.716251 96.771013 \r\nL 275.898887 96.515108 \r\nL 276.325039 96.434353 \r\nL 276.507676 96.0058 \r\nL 277.268661 95.929406 \r\nL 277.420858 95.67283 \r\nL 277.573055 95.502431 \r\nL 277.907888 95.420598 \r\nL 278.120964 95.078403 \r\nL 278.364479 94.995131 \r\nL 278.516676 94.824818 \r\nL 278.729752 94.741562 \r\nL 278.912389 94.485443 \r\nL 279.155904 94.40223 \r\nL 279.308101 94.23178 \r\nL 279.399419 94.146895 \r\nL 279.521177 94.062269 \r\nL 279.916889 93.981237 \r\nL 280.038647 93.896775 \r\nL 280.312602 93.814175 \r\nL 280.495238 93.558003 \r\nL 280.89095 93.477023 \r\nL 281.012708 93.392423 \r\nL 281.195344 93.308607 \r\nL 281.40842 92.966723 \r\nL 281.499738 92.881701 \r\nL 281.621496 92.797195 \r\nL 281.804132 92.713431 \r\nL 281.95633 92.370565 \r\nL 282.108527 92.286395 \r\nL 282.321602 91.944529 \r\nL 282.534678 91.861023 \r\nL 282.808633 91.347663 \r\nL 283.021709 91.264468 \r\nL 283.143466 91.179798 \r\nL 283.356542 91.096508 \r\nL 283.508739 90.926196 \r\nL 283.691376 90.842501 \r\nL 283.813133 90.757866 \r\nL 284.147967 90.762383 \r\nL 284.269725 90.591631 \r\nL 284.452361 90.507936 \r\nL 284.574119 90.42337 \r\nL 284.726316 90.339097 \r\nL 284.848073 90.254497 \r\nL 285.00027 90.170379 \r\nL 285.122028 90.085969 \r\nL 285.578619 90.005722 \r\nL 285.761255 89.749697 \r\nL 285.883013 89.665139 \r\nL 286.06565 89.408976 \r\nL 286.187407 89.324299 \r\nL 286.309165 89.239707 \r\nL 286.583119 89.243293 \r\nL 286.735317 88.98657 \r\nL 286.917953 88.730278 \r\nL 287.496302 88.651427 \r\nL 287.618059 88.566715 \r\nL 287.892014 88.483925 \r\nL 288.013772 88.39929 \r\nL 288.135529 88.314819 \r\nL 288.287726 88.144437 \r\nL 288.348605 88.059061 \r\nL 288.531242 87.803036 \r\nL 288.652999 87.718246 \r\nL 288.805196 87.547813 \r\nL 288.926954 87.463161 \r\nL 289.079151 87.206593 \r\nL 289.413984 87.125018 \r\nL 289.535742 87.040358 \r\nL 289.596621 87.041211 \r\nL 289.779257 86.526636 \r\nL 289.870575 86.441794 \r\nL 290.022773 86.271611 \r\nL 290.235848 86.188312 \r\nL 290.479364 85.760724 \r\nL 290.722879 85.67765 \r\nL 290.875076 85.421073 \r\nL 291.057712 85.164712 \r\nL 291.209909 85.080491 \r\nL 291.392546 84.824397 \r\nL 291.940455 84.745478 \r\nL 292.18397 84.317847 \r\nL 292.70144 84.238574 \r\nL 292.823198 84.153991 \r\nL 292.914516 84.069046 \r\nL 293.036274 83.98442 \r\nL 293.310229 83.901664 \r\nL 293.492865 83.645579 \r\nL 294.132093 83.567487 \r\nL 294.25385 83.482835 \r\nL 294.497365 83.399924 \r\nL 294.649562 83.229603 \r\nL 294.984396 83.147485 \r\nL 295.106154 83.062954 \r\nL 295.867139 82.986922 \r\nL 295.988896 82.902417 \r\nL 296.080215 82.903598 \r\nL 296.201972 82.732777 \r\nL 296.962957 82.65628 \r\nL 297.084715 82.571748 \r\nL 297.176033 82.486717 \r\nL 297.32823 82.316422 \r\nL 297.815261 82.236726 \r\nL 297.997897 81.980563 \r\nL 298.058776 81.895179 \r\nL 298.180534 81.810509 \r\nL 298.424049 81.727478 \r\nL 298.545807 81.642895 \r\nL 298.637125 81.557864 \r\nL 298.819761 81.301623 \r\nL 299.306792 81.22173 \r\nL 299.458989 80.965213 \r\nL 299.824262 80.883802 \r\nL 299.946019 80.799211 \r\nL 300.372171 80.71855 \r\nL 300.524368 80.37564 \r\nL 300.707005 80.291945 \r\nL 300.92008 79.950079 \r\nL 301.102717 79.866168 \r\nL 301.224475 79.781369 \r\nL 301.346232 79.696717 \r\nL 301.46799 79.612203 \r\nL 301.98546 79.532896 \r\nL 302.107217 79.448278 \r\nL 302.350733 79.365325 \r\nL 302.50293 79.195064 \r\nL 302.624687 79.11042 \r\nL 302.746445 79.025829 \r\nL 303.172597 78.945323 \r\nL 303.355233 78.689238 \r\nL 303.720506 78.607689 \r\nL 303.842264 78.523115 \r\nL 304.481491 78.445212 \r\nL 304.603249 78.360629 \r\nL 304.755446 78.276675 \r\nL 304.907643 78.106311 \r\nL 305.05984 78.022107 \r\nL 305.181598 77.937662 \r\nL 305.455552 77.855139 \r\nL 305.759946 77.256024 \r\nL 306.003462 77.173096 \r\nL 306.216537 76.486414 \r\nL 306.460053 76.403305 \r\nL 306.61225 76.060646 \r\nL 306.947083 75.978744 \r\nL 307.09928 75.808319 \r\nL 307.221038 75.723762 \r\nL 307.494992 75.210221 \r\nL 307.829826 75.128793 \r\nL 308.164659 74.443611 \r\nL 308.316856 74.359416 \r\nL 308.590811 73.846159 \r\nL 308.864766 73.763576 \r\nL 309.016963 73.593195 \r\nL 309.199599 73.509456 \r\nL 309.321357 73.338704 \r\nL 309.503993 73.254949 \r\nL 309.65619 72.998346 \r\nL 309.747509 72.913453 \r\nL 309.991024 72.485675 \r\nL 310.143221 72.401377 \r\nL 310.264979 72.230582 \r\nL 310.356297 72.145567 \r\nL 310.478054 72.060898 \r\nL 310.69113 71.977556 \r\nL 310.934646 71.549693 \r\nL 311.056403 71.465205 \r\nL 311.269479 71.123192 \r\nL 311.360797 71.124407 \r\nL 311.512994 70.867805 \r\nL 311.786949 70.785144 \r\nL 312.000025 70.443148 \r\nL 312.273979 70.446622 \r\nL 312.487055 69.760156 \r\nL 313.248041 69.683487 \r\nL 313.461116 69.341448 \r\nL 313.735071 69.258692 \r\nL 313.856829 69.174066 \r\nL 314.009026 69.089879 \r\nL 314.130783 69.00521 \r\nL 314.465617 68.923498 \r\nL 314.678693 68.5817 \r\nL 314.709132 68.582131 \r\nL 314.861329 68.239549 \r\nL 315.043966 68.155716 \r\nL 315.196163 67.899355 \r\nL 315.500557 67.817185 \r\nL 315.622314 67.646338 \r\nL 315.804951 67.648795 \r\nL 315.957148 67.392348 \r\nL 316.535497 67.313756 \r\nL 316.657254 67.229319 \r\nL 317.083406 67.148624 \r\nL 317.266042 66.89241 \r\nL 317.418239 66.808223 \r\nL 317.631315 66.466253 \r\nL 317.87483 66.383342 \r\nL 318.087906 66.041441 \r\nL 318.453179 65.960065 \r\nL 318.574937 65.875378 \r\nL 318.757573 65.791563 \r\nL 318.879331 65.707083 \r\nL 318.94021 65.621733 \r\nL 319.183725 65.194033 \r\nL 319.640316 65.113786 \r\nL 319.762074 65.029013 \r\nL 320.188225 64.948301 \r\nL 320.340422 64.777807 \r\nL 320.736135 64.696888 \r\nL 320.857892 64.612288 \r\nL 321.070968 64.529092 \r\nL 321.192726 64.44438 \r\nL 321.253605 64.359038 \r\nL 321.375362 64.274395 \r\nL 321.49712 64.189803 \r\nL 321.649317 64.01956 \r\nL 321.892832 63.936399 \r\nL 322.01459 63.851773 \r\nL 322.075469 63.766422 \r\nL 322.227666 63.596075 \r\nL 322.53206 63.513837 \r\nL 322.714696 63.257683 \r\nL 323.079969 63.176427 \r\nL 323.262606 62.920316 \r\nL 323.901833 62.842138 \r\nL 324.023591 62.757451 \r\nL 324.358424 62.675756 \r\nL 324.662818 62.07646 \r\nL 324.723697 62.077278 \r\nL 324.875894 61.734498 \r\nL 325.302046 61.653561 \r\nL 325.423804 61.56903 \r\nL 325.454243 61.569409 \r\nL 325.60644 61.312953 \r\nL 325.667319 61.227508 \r\nL 325.789076 61.14296 \r\nL 326.063031 61.060437 \r\nL 326.184789 60.975949 \r\nL 326.306546 60.891348 \r\nL 326.428304 60.806895 \r\nL 326.915335 60.727027 \r\nL 327.15885 60.299353 \r\nL 327.371926 60.215882 \r\nL 327.493683 60.13142 \r\nL 327.585001 60.046423 \r\nL 327.828517 59.618715 \r\nL 328.16335 59.537037 \r\nL 328.376426 59.195291 \r\nL 328.467744 59.19636 \r\nL 328.589502 59.025668 \r\nL 329.106972 58.946093 \r\nL 329.289608 58.689922 \r\nL 329.320048 58.690267 \r\nL 329.472245 58.433793 \r\nL 329.594002 58.349245 \r\nL 329.746199 58.178906 \r\nL 330.385427 58.101056 \r\nL 330.568063 57.844815 \r\nL 330.72026 57.760413 \r\nL 330.842018 57.675753 \r\nL 330.963776 57.591187 \r\nL 331.085533 57.506578 \r\nL 331.26817 57.422728 \r\nL 331.389927 57.338145 \r\nL 331.542124 57.253906 \r\nL 331.663882 57.169315 \r\nL 332.029155 57.088119 \r\nL 332.181352 56.917815 \r\nL 332.333549 56.833681 \r\nL 332.455307 56.749192 \r\nL 332.637943 56.66523 \r\nL 332.79014 56.495047 \r\nL 333.094534 56.412782 \r\nL 333.216292 56.328329 \r\nL 333.246731 56.328786 \r\nL 333.368489 56.158007 \r\nL 333.490247 56.159568 \r\nL 333.612004 55.988643 \r\nL 333.977277 55.907189 \r\nL 334.34255 55.136364 \r\nL 334.555626 55.139166 \r\nL 334.677383 54.968371 \r\nL 334.768702 54.969664 \r\nL 334.890459 54.798877 \r\nL 335.012217 54.714277 \r\nL 335.255732 54.286508 \r\nL 335.34705 54.20146 \r\nL 335.499247 54.031 \r\nL 335.86452 53.949374 \r\nL 336.077596 53.607309 \r\nL 336.351551 53.524692 \r\nL 336.503748 53.354241 \r\nL 336.686384 53.270262 \r\nL 336.869021 53.01403 \r\nL 337.41693 52.935067 \r\nL 337.569127 52.59227 \r\nL 337.995279 52.511678 \r\nL 338.177915 52.255377 \r\nL 338.299673 52.170716 \r\nL 338.512749 51.828901 \r\nL 338.878022 51.747482 \r\nL 338.999779 51.66289 \r\nL 339.091098 51.577971 \r\nL 339.273734 51.321765 \r\nL 339.547689 51.239044 \r\nL 339.669446 51.154461 \r\nL 339.852083 51.070542 \r\nL 339.97384 50.985907 \r\nL 340.339113 50.904548 \r\nL 340.49131 50.734184 \r\nL 340.765265 50.65173 \r\nL 341.00878 50.224056 \r\nL 341.221856 50.140481 \r\nL 341.374053 49.970117 \r\nL 341.617568 49.886991 \r\nL 341.739326 49.716394 \r\nL 342.226357 49.636543 \r\nL 342.378554 49.46611 \r\nL 342.469872 49.381027 \r\nL 342.682948 49.039255 \r\nL 343.07866 48.958431 \r\nL 343.200418 48.873753 \r\nL 343.961403 48.797488 \r\nL 344.1136 48.626934 \r\nL 344.204918 48.542015 \r\nL 344.326676 48.457294 \r\nL 344.60063 48.37478 \r\nL 344.722388 48.290231 \r\nL 344.996343 48.20776 \r\nL 345.178979 47.951597 \r\nL 345.270297 47.866739 \r\nL 345.513813 47.439117 \r\nL 345.544252 47.439418 \r\nL 345.696449 47.182842 \r\nL 346.18348 47.10306 \r\nL 346.305237 47.018486 \r\nL 346.426995 46.934006 \r\nL 346.548752 46.763193 \r\nL 346.579192 46.76359 \r\nL 346.731389 46.420887 \r\nL 346.883586 46.33658 \r\nL 347.005344 46.252057 \r\nL 347.918526 46.177776 \r\nL 348.040283 46.093261 \r\nL 348.22292 46.009678 \r\nL 348.344677 45.925009 \r\nL 348.405556 45.839616 \r\nL 348.527314 45.75499 \r\nL 348.801269 45.758593 \r\nL 348.923026 45.587858 \r\nL 348.953466 45.588237 \r\nL 349.075223 45.417381 \r\nL 349.22742 45.419424 \r\nL 349.349178 45.248603 \r\nL 349.562254 45.165149 \r\nL 349.684011 45.080549 \r\nL 350.049284 44.999035 \r\nL 350.201481 44.82874 \r\nL 350.323239 44.744234 \r\nL 350.475436 44.573732 \r\nL 350.810269 44.491864 \r\nL 350.962467 44.235219 \r\nL 351.2973 44.153549 \r\nL 351.510376 43.811527 \r\nL 352.271361 43.735366 \r\nL 352.575755 43.136104 \r\nL 352.910589 43.14057 \r\nL 353.062786 42.883872 \r\nL 353.458498 42.802996 \r\nL 353.641134 42.546678 \r\nL 354.128165 42.466948 \r\nL 354.280362 42.296437 \r\nL 354.40212 42.298058 \r\nL 354.523877 42.127228 \r\nL 354.858711 42.04524 \r\nL 355.132665 41.531923 \r\nL 355.223984 41.446986 \r\nL 355.345741 41.362446 \r\nL 355.40662 41.277001 \r\nL 355.528378 41.192521 \r\nL 355.589256 41.107137 \r\nL 355.741453 40.936738 \r\nL 355.954529 40.853474 \r\nL 356.076287 40.768848 \r\nL 356.198045 40.684204 \r\nL 356.41112 40.342165 \r\nL 356.532878 40.257625 \r\nL 356.685075 39.91494 \r\nL 356.776393 39.830141 \r\nL 356.95903 39.229233 \r\nL 357.202545 39.146184 \r\nL 357.44606 38.718424 \r\nL 357.933091 38.638634 \r\nL 358.115727 38.382497 \r\nL 358.541879 38.302155 \r\nL 358.663637 38.131454 \r\nL 358.937591 38.04882 \r\nL 359.059349 37.964383 \r\nL 359.211546 37.880188 \r\nL 359.363743 37.62356 \r\nL 359.424622 37.538071 \r\nL 359.546379 37.453445 \r\nL 359.698576 37.36931 \r\nL 359.820334 37.284736 \r\nL 360.03341 37.201584 \r\nL 360.185607 36.945154 \r\nL 360.307365 36.860519 \r\nL 360.55088 36.777186 \r\nL 360.703077 36.606994 \r\nL 360.794395 36.521928 \r\nL 360.916153 36.351124 \r\nL 360.946592 36.351529 \r\nL 361.129229 35.836807 \r\nL 361.372744 35.753767 \r\nL 361.494502 35.669089 \r\nL 361.58582 35.670193 \r\nL 361.738017 35.413694 \r\nL 361.859774 35.329283 \r\nL 362.011971 35.158927 \r\nL 362.10329 35.07406 \r\nL 362.225047 34.989485 \r\nL 362.346805 34.991028 \r\nL 362.499002 34.648239 \r\nL 362.925154 34.567466 \r\nL 363.077351 34.397076 \r\nL 363.259987 34.313355 \r\nL 363.381745 34.228712 \r\nL 363.473063 34.143611 \r\nL 363.686139 33.801616 \r\nL 363.838336 33.717438 \r\nL 364.020972 33.461404 \r\nL 364.173169 33.377166 \r\nL 364.355806 33.120951 \r\nL 364.6602 33.124856 \r\nL 364.781958 32.954216 \r\nL 365.299427 32.875124 \r\nL 365.482064 32.618849 \r\nL 365.603822 32.534258 \r\nL 365.756019 32.363833 \r\nL 366.517004 32.287474 \r\nL 366.547443 32.201761 \r\nL 366.547443 32.201761 \r\n\" style=\"fill:none;stroke:#1f77b4;stroke-linecap:square;stroke-width:1.5;\"/>\r\n   </g>\r\n   <g id=\"line2d_13\">\r\n    <path clip-path=\"url(#pdb8d071648)\" d=\"M 62.183807 229.56956 \r\nL 64.771156 229.488494 \r\nL 324.236667 229.820042 \r\nL 366.547443 229.874489 \r\nL 366.547443 229.874489 \r\n\" style=\"fill:none;stroke:#ff7f0e;stroke-linecap:square;stroke-width:1.5;\"/>\r\n   </g>\r\n   <g id=\"line2d_14\">\r\n    <path clip-path=\"url(#pdb8d071648)\" d=\"M 62.183807 229.569638 \r\nL 62.670837 229.489865 \r\nL 62.792595 229.405196 \r\nL 64.984232 229.347103 \r\nL 65.10599 229.262503 \r\nL 70.463326 229.244693 \r\nL 70.585083 229.159989 \r\nL 71.650463 229.087423 \r\nL 71.77222 229.002762 \r\nL 78.621087 229.002694 \r\nL 78.773284 228.832398 \r\nL 80.934482 228.773193 \r\nL 81.086679 228.602829 \r\nL 81.421512 228.52097 \r\nL 81.54327 228.43637 \r\nL 84.526332 228.388397 \r\nL 84.64809 228.303788 \r\nL 85.13512 228.223955 \r\nL 85.256878 228.139312 \r\nL 86.717969 228.071314 \r\nL 86.870166 227.900872 \r\nL 87.570273 227.823556 \r\nL 87.69203 227.738947 \r\nL 91.588275 227.702285 \r\nL 91.710032 227.617642 \r\nL 92.623214 227.543222 \r\nL 92.744972 227.45851 \r\nL 96.549898 227.420864 \r\nL 96.671656 227.33629 \r\nL 98.711096 227.275887 \r\nL 98.832854 227.19133 \r\nL 101.298446 227.136728 \r\nL 101.420203 227.052042 \r\nL 101.541961 226.967459 \r\nL 101.663718 226.882816 \r\nL 106.686221 226.860316 \r\nL 106.807978 226.775768 \r\nL 108.116873 226.706055 \r\nL 108.23863 226.621489 \r\nL 109.243131 226.548612 \r\nL 109.364889 226.463926 \r\nL 114.082997 226.43853 \r\nL 114.204754 226.353947 \r\nL 115.270134 226.281355 \r\nL 115.391891 226.196695 \r\nL 116.822543 226.128895 \r\nL 116.944301 226.044347 \r\nL 118.161877 225.973867 \r\nL 118.283635 225.889128 \r\nL 123.640971 225.870862 \r\nL 123.762728 225.78621 \r\nL 124.645471 225.711454 \r\nL 124.797668 225.540943 \r\nL 128.054685 225.495496 \r\nL 128.176442 225.410965 \r\nL 134.842673 225.410267 \r\nL 134.96443 225.325675 \r\nL 137.247386 225.268729 \r\nL 137.369144 225.184025 \r\nL 139.10419 225.119959 \r\nL 139.225947 225.035264 \r\nL 140.991433 224.971964 \r\nL 141.113191 224.887295 \r\nL 143.822298 224.83528 \r\nL 143.974495 224.664795 \r\nL 144.126692 224.580505 \r\nL 144.278889 224.410218 \r\nL 146.28789 224.349651 \r\nL 146.409648 224.265016 \r\nL 147.018436 224.186425 \r\nL 147.140193 224.101755 \r\nL 148.053376 224.027646 \r\nL 148.175133 223.94308 \r\nL 153.045438 223.919141 \r\nL 153.167196 223.834619 \r\nL 158.007062 223.81043 \r\nL 158.12882 223.725761 \r\nL 161.446715 223.682486 \r\nL 161.568473 223.597869 \r\nL 164.947247 223.554526 \r\nL 165.069004 223.470037 \r\nL 168.204263 223.423177 \r\nL 168.326021 223.338629 \r\nL 169.026127 223.261019 \r\nL 169.147885 223.176385 \r\nL 174.809615 223.16217 \r\nL 174.931372 223.0775 \r\nL 175.540161 222.999115 \r\nL 175.661918 222.914498 \r\nL 176.818616 222.843225 \r\nL 176.940373 222.758624 \r\nL 179.67992 222.70723 \r\nL 179.801678 222.622448 \r\nL 184.580665 222.597173 \r\nL 184.702422 222.512582 \r\nL 186.193953 222.445377 \r\nL 186.315711 222.360786 \r\nL 189.116136 222.310486 \r\nL 189.237894 222.22586 \r\nL 199.374217 222.26816 \r\nL 199.495974 222.183456 \r\nL 201.474536 222.122165 \r\nL 201.596294 222.037565 \r\nL 209.358342 222.050875 \r\nL 209.4801 221.9663 \r\nL 214.137329 221.939758 \r\nL 214.259087 221.855106 \r\nL 216.69424 221.800281 \r\nL 216.815997 221.715646 \r\nL 219.76862 221.666363 \r\nL 219.890377 221.581754 \r\nL 221.747181 221.519532 \r\nL 221.868939 221.434717 \r\nL 223.147394 221.364857 \r\nL 223.269152 221.280274 \r\nL 223.756182 221.200424 \r\nL 223.87794 221.115823 \r\nL 230.178897 221.11078 \r\nL 230.300655 221.026266 \r\nL 232.918444 220.973837 \r\nL 233.040202 220.889194 \r\nL 235.657991 220.836635 \r\nL 235.779748 220.752061 \r\nL 238.641053 220.702692 \r\nL 238.76281 220.617988 \r\nL 242.628615 220.580421 \r\nL 242.750373 220.495864 \r\nL 247.438041 220.469063 \r\nL 247.559799 220.384497 \r\nL 249.416603 220.321922 \r\nL 249.53836 220.237278 \r\nL 251.882195 220.181117 \r\nL 252.003952 220.096577 \r\nL 254.012953 220.035622 \r\nL 254.16515 219.865249 \r\nL 257.209091 219.818691 \r\nL 257.330849 219.734056 \r\nL 260.405229 219.686196 \r\nL 260.526987 219.601587 \r\nL 263.631806 219.554778 \r\nL 263.753564 219.47016 \r\nL 267.984641 219.437007 \r\nL 268.106399 219.352432 \r\nL 271.63737 219.310778 \r\nL 271.759128 219.226178 \r\nL 275.503175 219.187068 \r\nL 275.624933 219.102355 \r\nL 276.872948 219.032539 \r\nL 276.994706 218.947826 \r\nL 277.999207 218.87451 \r\nL 278.120964 218.78972 \r\nL 282.899951 218.765221 \r\nL 283.021709 218.680578 \r\nL 288.59212 218.665147 \r\nL 288.713878 218.580616 \r\nL 290.844637 218.521049 \r\nL 290.966394 218.436423 \r\nL 296.201972 218.416777 \r\nL 296.32373 218.332099 \r\nL 303.203036 218.333436 \r\nL 303.324794 218.248732 \r\nL 303.872703 218.169605 \r\nL 303.994461 218.08485 \r\nL 306.916644 218.035395 \r\nL 307.038401 217.950769 \r\nL 309.13872 217.890633 \r\nL 309.260478 217.805981 \r\nL 314.009026 217.780499 \r\nL 314.130783 217.695899 \r\nL 316.779012 217.643892 \r\nL 316.900769 217.559163 \r\nL 320.005589 217.511673 \r\nL 320.127347 217.426926 \r\nL 321.801514 217.362041 \r\nL 321.923272 217.277544 \r\nL 327.554562 217.263837 \r\nL 327.67632 217.179254 \r\nL 330.811579 217.133092 \r\nL 330.933336 217.048432 \r\nL 334.82958 217.012278 \r\nL 334.951338 216.92779 \r\nL 341.617568 216.926178 \r\nL 341.739326 216.841396 \r\nL 342.682948 216.767494 \r\nL 342.804705 216.682868 \r\nL 347.70545 216.658558 \r\nL 347.827208 216.573984 \r\nL 349.166541 216.504443 \r\nL 349.288299 216.419817 \r\nL 350.384118 216.347872 \r\nL 350.505875 216.263271 \r\nL 353.732453 216.218333 \r\nL 353.85421 216.133733 \r\nL 356.198045 216.077088 \r\nL 356.319802 215.99235 \r\nL 358.481 215.933439 \r\nL 358.602758 215.848847 \r\nL 361.129229 215.795254 \r\nL 361.250986 215.710576 \r\nL 364.6602 215.667768 \r\nL 364.781958 215.583072 \r\nL 366.547443 215.605882 \r\nL 366.547443 215.605882 \r\n\" style=\"fill:none;stroke:#2ca02c;stroke-linecap:square;stroke-width:1.5;\"/>\r\n   </g>\r\n   <g id=\"patch_3\">\r\n    <path d=\"M 46.965625 239.758125 \r\nL 46.965625 22.318125 \r\n\" style=\"fill:none;stroke:#000000;stroke-linecap:square;stroke-linejoin:miter;stroke-width:0.8;\"/>\r\n   </g>\r\n   <g id=\"patch_4\">\r\n    <path d=\"M 381.765625 239.758125 \r\nL 381.765625 22.318125 \r\n\" style=\"fill:none;stroke:#000000;stroke-linecap:square;stroke-linejoin:miter;stroke-width:0.8;\"/>\r\n   </g>\r\n   <g id=\"patch_5\">\r\n    <path d=\"M 46.965625 239.758125 \r\nL 381.765625 239.758125 \r\n\" style=\"fill:none;stroke:#000000;stroke-linecap:square;stroke-linejoin:miter;stroke-width:0.8;\"/>\r\n   </g>\r\n   <g id=\"patch_6\">\r\n    <path d=\"M 46.965625 22.318125 \r\nL 381.765625 22.318125 \r\n\" style=\"fill:none;stroke:#000000;stroke-linecap:square;stroke-linejoin:miter;stroke-width:0.8;\"/>\r\n   </g>\r\n   <g id=\"text_14\">\r\n    <!-- Deep Sea with N=10 -->\r\n    <g transform=\"translate(151.774375 16.318125)scale(0.12 -0.12)\">\r\n     <defs>\r\n      <path d=\"M 19.671875 64.796875 \r\nL 19.671875 8.109375 \r\nL 31.59375 8.109375 \r\nQ 46.6875 8.109375 53.6875 14.9375 \r\nQ 60.6875 21.78125 60.6875 36.53125 \r\nQ 60.6875 51.171875 53.6875 57.984375 \r\nQ 46.6875 64.796875 31.59375 64.796875 \r\nz\r\nM 9.8125 72.90625 \r\nL 30.078125 72.90625 \r\nQ 51.265625 72.90625 61.171875 64.09375 \r\nQ 71.09375 55.28125 71.09375 36.53125 \r\nQ 71.09375 17.671875 61.125 8.828125 \r\nQ 51.171875 0 30.078125 0 \r\nL 9.8125 0 \r\nz\r\n\" id=\"DejaVuSans-68\"/>\r\n      <path id=\"DejaVuSans-32\"/>\r\n      <path d=\"M 53.515625 70.515625 \r\nL 53.515625 60.890625 \r\nQ 47.90625 63.578125 42.921875 64.890625 \r\nQ 37.9375 66.21875 33.296875 66.21875 \r\nQ 25.25 66.21875 20.875 63.09375 \r\nQ 16.5 59.96875 16.5 54.203125 \r\nQ 16.5 49.359375 19.40625 46.890625 \r\nQ 22.3125 44.4375 30.421875 42.921875 \r\nL 36.375 41.703125 \r\nQ 47.40625 39.59375 52.65625 34.296875 \r\nQ 57.90625 29 57.90625 20.125 \r\nQ 57.90625 9.515625 50.796875 4.046875 \r\nQ 43.703125 -1.421875 29.984375 -1.421875 \r\nQ 24.8125 -1.421875 18.96875 -0.25 \r\nQ 13.140625 0.921875 6.890625 3.21875 \r\nL 6.890625 13.375 \r\nQ 12.890625 10.015625 18.65625 8.296875 \r\nQ 24.421875 6.59375 29.984375 6.59375 \r\nQ 38.421875 6.59375 43.015625 9.90625 \r\nQ 47.609375 13.234375 47.609375 19.390625 \r\nQ 47.609375 24.75 44.3125 27.78125 \r\nQ 41.015625 30.8125 33.5 32.328125 \r\nL 27.484375 33.5 \r\nQ 16.453125 35.6875 11.515625 40.375 \r\nQ 6.59375 45.0625 6.59375 53.421875 \r\nQ 6.59375 63.09375 13.40625 68.65625 \r\nQ 20.21875 74.21875 32.171875 74.21875 \r\nQ 37.3125 74.21875 42.625 73.28125 \r\nQ 47.953125 72.359375 53.515625 70.515625 \r\nz\r\n\" id=\"DejaVuSans-83\"/>\r\n      <path d=\"M 18.3125 70.21875 \r\nL 18.3125 54.6875 \r\nL 36.8125 54.6875 \r\nL 36.8125 47.703125 \r\nL 18.3125 47.703125 \r\nL 18.3125 18.015625 \r\nQ 18.3125 11.328125 20.140625 9.421875 \r\nQ 21.96875 7.515625 27.59375 7.515625 \r\nL 36.8125 7.515625 \r\nL 36.8125 0 \r\nL 27.59375 0 \r\nQ 17.1875 0 13.234375 3.875 \r\nQ 9.28125 7.765625 9.28125 18.015625 \r\nL 9.28125 47.703125 \r\nL 2.6875 47.703125 \r\nL 2.6875 54.6875 \r\nL 9.28125 54.6875 \r\nL 9.28125 70.21875 \r\nz\r\n\" id=\"DejaVuSans-116\"/>\r\n      <path d=\"M 54.890625 33.015625 \r\nL 54.890625 0 \r\nL 45.90625 0 \r\nL 45.90625 32.71875 \r\nQ 45.90625 40.484375 42.875 44.328125 \r\nQ 39.84375 48.1875 33.796875 48.1875 \r\nQ 26.515625 48.1875 22.3125 43.546875 \r\nQ 18.109375 38.921875 18.109375 30.90625 \r\nL 18.109375 0 \r\nL 9.078125 0 \r\nL 9.078125 75.984375 \r\nL 18.109375 75.984375 \r\nL 18.109375 46.1875 \r\nQ 21.34375 51.125 25.703125 53.5625 \r\nQ 30.078125 56 35.796875 56 \r\nQ 45.21875 56 50.046875 50.171875 \r\nQ 54.890625 44.34375 54.890625 33.015625 \r\nz\r\n\" id=\"DejaVuSans-104\"/>\r\n      <path d=\"M 9.8125 72.90625 \r\nL 23.09375 72.90625 \r\nL 55.421875 11.921875 \r\nL 55.421875 72.90625 \r\nL 64.984375 72.90625 \r\nL 64.984375 0 \r\nL 51.703125 0 \r\nL 19.390625 60.984375 \r\nL 19.390625 0 \r\nL 9.8125 0 \r\nz\r\n\" id=\"DejaVuSans-78\"/>\r\n      <path d=\"M 10.59375 45.40625 \r\nL 73.1875 45.40625 \r\nL 73.1875 37.203125 \r\nL 10.59375 37.203125 \r\nz\r\nM 10.59375 25.484375 \r\nL 73.1875 25.484375 \r\nL 73.1875 17.1875 \r\nL 10.59375 17.1875 \r\nz\r\n\" id=\"DejaVuSans-61\"/>\r\n     </defs>\r\n     <use xlink:href=\"#DejaVuSans-68\"/>\r\n     <use x=\"77.001953\" xlink:href=\"#DejaVuSans-101\"/>\r\n     <use x=\"138.525391\" xlink:href=\"#DejaVuSans-101\"/>\r\n     <use x=\"200.048828\" xlink:href=\"#DejaVuSans-112\"/>\r\n     <use x=\"263.525391\" xlink:href=\"#DejaVuSans-32\"/>\r\n     <use x=\"295.3125\" xlink:href=\"#DejaVuSans-83\"/>\r\n     <use x=\"358.789062\" xlink:href=\"#DejaVuSans-101\"/>\r\n     <use x=\"420.3125\" xlink:href=\"#DejaVuSans-97\"/>\r\n     <use x=\"481.591797\" xlink:href=\"#DejaVuSans-32\"/>\r\n     <use x=\"513.378906\" xlink:href=\"#DejaVuSans-119\"/>\r\n     <use x=\"595.166016\" xlink:href=\"#DejaVuSans-105\"/>\r\n     <use x=\"622.949219\" xlink:href=\"#DejaVuSans-116\"/>\r\n     <use x=\"662.158203\" xlink:href=\"#DejaVuSans-104\"/>\r\n     <use x=\"725.537109\" xlink:href=\"#DejaVuSans-32\"/>\r\n     <use x=\"757.324219\" xlink:href=\"#DejaVuSans-78\"/>\r\n     <use x=\"832.128906\" xlink:href=\"#DejaVuSans-61\"/>\r\n     <use x=\"915.917969\" xlink:href=\"#DejaVuSans-49\"/>\r\n     <use x=\"979.541016\" xlink:href=\"#DejaVuSans-48\"/>\r\n    </g>\r\n   </g>\r\n   <g id=\"legend_1\">\r\n    <g id=\"patch_7\">\r\n     <path d=\"M 53.965625 74.90875 \r\nL 225.2125 74.90875 \r\nQ 227.2125 74.90875 227.2125 72.90875 \r\nL 227.2125 29.318125 \r\nQ 227.2125 27.318125 225.2125 27.318125 \r\nL 53.965625 27.318125 \r\nQ 51.965625 27.318125 51.965625 29.318125 \r\nL 51.965625 72.90875 \r\nQ 51.965625 74.90875 53.965625 74.90875 \r\nz\r\n\" style=\"fill:#ffffff;opacity:0.8;stroke:#cccccc;stroke-linejoin:miter;\"/>\r\n    </g>\r\n    <g id=\"line2d_15\">\r\n     <path d=\"M 55.965625 35.416562 \r\nL 75.965625 35.416562 \r\n\" style=\"fill:none;stroke:#1f77b4;stroke-linecap:square;stroke-width:1.5;\"/>\r\n    </g>\r\n    <g id=\"line2d_16\"/>\r\n    <g id=\"text_15\">\r\n     <!-- Beyond_UCB2, gamma=3 -->\r\n     <g transform=\"translate(83.965625 38.916562)scale(0.1 -0.1)\">\r\n      <defs>\r\n       <path d=\"M 19.671875 34.8125 \r\nL 19.671875 8.109375 \r\nL 35.5 8.109375 \r\nQ 43.453125 8.109375 47.28125 11.40625 \r\nQ 51.125 14.703125 51.125 21.484375 \r\nQ 51.125 28.328125 47.28125 31.5625 \r\nQ 43.453125 34.8125 35.5 34.8125 \r\nz\r\nM 19.671875 64.796875 \r\nL 19.671875 42.828125 \r\nL 34.28125 42.828125 \r\nQ 41.5 42.828125 45.03125 45.53125 \r\nQ 48.578125 48.25 48.578125 53.8125 \r\nQ 48.578125 59.328125 45.03125 62.0625 \r\nQ 41.5 64.796875 34.28125 64.796875 \r\nz\r\nM 9.8125 72.90625 \r\nL 35.015625 72.90625 \r\nQ 46.296875 72.90625 52.390625 68.21875 \r\nQ 58.5 63.53125 58.5 54.890625 \r\nQ 58.5 48.1875 55.375 44.234375 \r\nQ 52.25 40.28125 46.1875 39.3125 \r\nQ 53.46875 37.75 57.5 32.78125 \r\nQ 61.53125 27.828125 61.53125 20.40625 \r\nQ 61.53125 10.640625 54.890625 5.3125 \r\nQ 48.25 0 35.984375 0 \r\nL 9.8125 0 \r\nz\r\n\" id=\"DejaVuSans-66\"/>\r\n       <path d=\"M 32.171875 -5.078125 \r\nQ 28.375 -14.84375 24.75 -17.8125 \r\nQ 21.140625 -20.796875 15.09375 -20.796875 \r\nL 7.90625 -20.796875 \r\nL 7.90625 -13.28125 \r\nL 13.1875 -13.28125 \r\nQ 16.890625 -13.28125 18.9375 -11.515625 \r\nQ 21 -9.765625 23.484375 -3.21875 \r\nL 25.09375 0.875 \r\nL 2.984375 54.6875 \r\nL 12.5 54.6875 \r\nL 29.59375 11.921875 \r\nL 46.6875 54.6875 \r\nL 56.203125 54.6875 \r\nz\r\n\" id=\"DejaVuSans-121\"/>\r\n       <path d=\"M 54.890625 33.015625 \r\nL 54.890625 0 \r\nL 45.90625 0 \r\nL 45.90625 32.71875 \r\nQ 45.90625 40.484375 42.875 44.328125 \r\nQ 39.84375 48.1875 33.796875 48.1875 \r\nQ 26.515625 48.1875 22.3125 43.546875 \r\nQ 18.109375 38.921875 18.109375 30.90625 \r\nL 18.109375 0 \r\nL 9.078125 0 \r\nL 9.078125 54.6875 \r\nL 18.109375 54.6875 \r\nL 18.109375 46.1875 \r\nQ 21.34375 51.125 25.703125 53.5625 \r\nQ 30.078125 56 35.796875 56 \r\nQ 45.21875 56 50.046875 50.171875 \r\nQ 54.890625 44.34375 54.890625 33.015625 \r\nz\r\n\" id=\"DejaVuSans-110\"/>\r\n       <path d=\"M 50.984375 -16.609375 \r\nL 50.984375 -23.578125 \r\nL -0.984375 -23.578125 \r\nL -0.984375 -16.609375 \r\nz\r\n\" id=\"DejaVuSans-95\"/>\r\n       <path d=\"M 8.6875 72.90625 \r\nL 18.609375 72.90625 \r\nL 18.609375 28.609375 \r\nQ 18.609375 16.890625 22.84375 11.734375 \r\nQ 27.09375 6.59375 36.625 6.59375 \r\nQ 46.09375 6.59375 50.34375 11.734375 \r\nQ 54.59375 16.890625 54.59375 28.609375 \r\nL 54.59375 72.90625 \r\nL 64.5 72.90625 \r\nL 64.5 27.390625 \r\nQ 64.5 13.140625 57.4375 5.859375 \r\nQ 50.390625 -1.421875 36.625 -1.421875 \r\nQ 22.796875 -1.421875 15.734375 5.859375 \r\nQ 8.6875 13.140625 8.6875 27.390625 \r\nz\r\n\" id=\"DejaVuSans-85\"/>\r\n       <path d=\"M 64.40625 67.28125 \r\nL 64.40625 56.890625 \r\nQ 59.421875 61.53125 53.78125 63.8125 \r\nQ 48.140625 66.109375 41.796875 66.109375 \r\nQ 29.296875 66.109375 22.65625 58.46875 \r\nQ 16.015625 50.828125 16.015625 36.375 \r\nQ 16.015625 21.96875 22.65625 14.328125 \r\nQ 29.296875 6.6875 41.796875 6.6875 \r\nQ 48.140625 6.6875 53.78125 8.984375 \r\nQ 59.421875 11.28125 64.40625 15.921875 \r\nL 64.40625 5.609375 \r\nQ 59.234375 2.09375 53.4375 0.328125 \r\nQ 47.65625 -1.421875 41.21875 -1.421875 \r\nQ 24.65625 -1.421875 15.125 8.703125 \r\nQ 5.609375 18.84375 5.609375 36.375 \r\nQ 5.609375 53.953125 15.125 64.078125 \r\nQ 24.65625 74.21875 41.21875 74.21875 \r\nQ 47.75 74.21875 53.53125 72.484375 \r\nQ 59.328125 70.75 64.40625 67.28125 \r\nz\r\n\" id=\"DejaVuSans-67\"/>\r\n       <path d=\"M 11.71875 12.40625 \r\nL 22.015625 12.40625 \r\nL 22.015625 4 \r\nL 14.015625 -11.625 \r\nL 7.71875 -11.625 \r\nL 11.71875 4 \r\nz\r\n\" id=\"DejaVuSans-44\"/>\r\n       <path d=\"M 45.40625 27.984375 \r\nQ 45.40625 37.75 41.375 43.109375 \r\nQ 37.359375 48.484375 30.078125 48.484375 \r\nQ 22.859375 48.484375 18.828125 43.109375 \r\nQ 14.796875 37.75 14.796875 27.984375 \r\nQ 14.796875 18.265625 18.828125 12.890625 \r\nQ 22.859375 7.515625 30.078125 7.515625 \r\nQ 37.359375 7.515625 41.375 12.890625 \r\nQ 45.40625 18.265625 45.40625 27.984375 \r\nz\r\nM 54.390625 6.78125 \r\nQ 54.390625 -7.171875 48.1875 -13.984375 \r\nQ 42 -20.796875 29.203125 -20.796875 \r\nQ 24.46875 -20.796875 20.265625 -20.09375 \r\nQ 16.0625 -19.390625 12.109375 -17.921875 \r\nL 12.109375 -9.1875 \r\nQ 16.0625 -11.328125 19.921875 -12.34375 \r\nQ 23.78125 -13.375 27.78125 -13.375 \r\nQ 36.625 -13.375 41.015625 -8.765625 \r\nQ 45.40625 -4.15625 45.40625 5.171875 \r\nL 45.40625 9.625 \r\nQ 42.625 4.78125 38.28125 2.390625 \r\nQ 33.9375 0 27.875 0 \r\nQ 17.828125 0 11.671875 7.65625 \r\nQ 5.515625 15.328125 5.515625 27.984375 \r\nQ 5.515625 40.671875 11.671875 48.328125 \r\nQ 17.828125 56 27.875 56 \r\nQ 33.9375 56 38.28125 53.609375 \r\nQ 42.625 51.21875 45.40625 46.390625 \r\nL 45.40625 54.6875 \r\nL 54.390625 54.6875 \r\nz\r\n\" id=\"DejaVuSans-103\"/>\r\n       <path d=\"M 52 44.1875 \r\nQ 55.375 50.25 60.0625 53.125 \r\nQ 64.75 56 71.09375 56 \r\nQ 79.640625 56 84.28125 50.015625 \r\nQ 88.921875 44.046875 88.921875 33.015625 \r\nL 88.921875 0 \r\nL 79.890625 0 \r\nL 79.890625 32.71875 \r\nQ 79.890625 40.578125 77.09375 44.375 \r\nQ 74.3125 48.1875 68.609375 48.1875 \r\nQ 61.625 48.1875 57.5625 43.546875 \r\nQ 53.515625 38.921875 53.515625 30.90625 \r\nL 53.515625 0 \r\nL 44.484375 0 \r\nL 44.484375 32.71875 \r\nQ 44.484375 40.625 41.703125 44.40625 \r\nQ 38.921875 48.1875 33.109375 48.1875 \r\nQ 26.21875 48.1875 22.15625 43.53125 \r\nQ 18.109375 38.875 18.109375 30.90625 \r\nL 18.109375 0 \r\nL 9.078125 0 \r\nL 9.078125 54.6875 \r\nL 18.109375 54.6875 \r\nL 18.109375 46.1875 \r\nQ 21.1875 51.21875 25.484375 53.609375 \r\nQ 29.78125 56 35.6875 56 \r\nQ 41.65625 56 45.828125 52.96875 \r\nQ 50 49.953125 52 44.1875 \r\nz\r\n\" id=\"DejaVuSans-109\"/>\r\n       <path d=\"M 40.578125 39.3125 \r\nQ 47.65625 37.796875 51.625 33 \r\nQ 55.609375 28.21875 55.609375 21.1875 \r\nQ 55.609375 10.40625 48.1875 4.484375 \r\nQ 40.765625 -1.421875 27.09375 -1.421875 \r\nQ 22.515625 -1.421875 17.65625 -0.515625 \r\nQ 12.796875 0.390625 7.625 2.203125 \r\nL 7.625 11.71875 \r\nQ 11.71875 9.328125 16.59375 8.109375 \r\nQ 21.484375 6.890625 26.8125 6.890625 \r\nQ 36.078125 6.890625 40.9375 10.546875 \r\nQ 45.796875 14.203125 45.796875 21.1875 \r\nQ 45.796875 27.640625 41.28125 31.265625 \r\nQ 36.765625 34.90625 28.71875 34.90625 \r\nL 20.21875 34.90625 \r\nL 20.21875 43.015625 \r\nL 29.109375 43.015625 \r\nQ 36.375 43.015625 40.234375 45.921875 \r\nQ 44.09375 48.828125 44.09375 54.296875 \r\nQ 44.09375 59.90625 40.109375 62.90625 \r\nQ 36.140625 65.921875 28.71875 65.921875 \r\nQ 24.65625 65.921875 20.015625 65.03125 \r\nQ 15.375 64.15625 9.8125 62.3125 \r\nL 9.8125 71.09375 \r\nQ 15.4375 72.65625 20.34375 73.4375 \r\nQ 25.25 74.21875 29.59375 74.21875 \r\nQ 40.828125 74.21875 47.359375 69.109375 \r\nQ 53.90625 64.015625 53.90625 55.328125 \r\nQ 53.90625 49.265625 50.4375 45.09375 \r\nQ 46.96875 40.921875 40.578125 39.3125 \r\nz\r\n\" id=\"DejaVuSans-51\"/>\r\n      </defs>\r\n      <use xlink:href=\"#DejaVuSans-66\"/>\r\n      <use x=\"68.603516\" xlink:href=\"#DejaVuSans-101\"/>\r\n      <use x=\"130.126953\" xlink:href=\"#DejaVuSans-121\"/>\r\n      <use x=\"189.306641\" xlink:href=\"#DejaVuSans-111\"/>\r\n      <use x=\"250.488281\" xlink:href=\"#DejaVuSans-110\"/>\r\n      <use x=\"313.867188\" xlink:href=\"#DejaVuSans-100\"/>\r\n      <use x=\"377.34375\" xlink:href=\"#DejaVuSans-95\"/>\r\n      <use x=\"427.34375\" xlink:href=\"#DejaVuSans-85\"/>\r\n      <use x=\"500.537109\" xlink:href=\"#DejaVuSans-67\"/>\r\n      <use x=\"570.361328\" xlink:href=\"#DejaVuSans-66\"/>\r\n      <use x=\"638.964844\" xlink:href=\"#DejaVuSans-50\"/>\r\n      <use x=\"702.587891\" xlink:href=\"#DejaVuSans-44\"/>\r\n      <use x=\"734.375\" xlink:href=\"#DejaVuSans-32\"/>\r\n      <use x=\"766.162109\" xlink:href=\"#DejaVuSans-103\"/>\r\n      <use x=\"829.638672\" xlink:href=\"#DejaVuSans-97\"/>\r\n      <use x=\"890.917969\" xlink:href=\"#DejaVuSans-109\"/>\r\n      <use x=\"988.330078\" xlink:href=\"#DejaVuSans-109\"/>\r\n      <use x=\"1085.742188\" xlink:href=\"#DejaVuSans-97\"/>\r\n      <use x=\"1147.021484\" xlink:href=\"#DejaVuSans-61\"/>\r\n      <use x=\"1230.810547\" xlink:href=\"#DejaVuSans-51\"/>\r\n     </g>\r\n    </g>\r\n    <g id=\"line2d_17\">\r\n     <path d=\"M 55.965625 50.372812 \r\nL 75.965625 50.372812 \r\n\" style=\"fill:none;stroke:#ff7f0e;stroke-linecap:square;stroke-width:1.5;\"/>\r\n    </g>\r\n    <g id=\"line2d_18\"/>\r\n    <g id=\"text_16\">\r\n     <!-- Eps_Greedy, eps=0.100000 -->\r\n     <g transform=\"translate(83.965625 53.872812)scale(0.1 -0.1)\">\r\n      <defs>\r\n       <path d=\"M 59.515625 10.40625 \r\nL 59.515625 29.984375 \r\nL 43.40625 29.984375 \r\nL 43.40625 38.09375 \r\nL 69.28125 38.09375 \r\nL 69.28125 6.78125 \r\nQ 63.578125 2.734375 56.6875 0.65625 \r\nQ 49.8125 -1.421875 42 -1.421875 \r\nQ 24.90625 -1.421875 15.25 8.5625 \r\nQ 5.609375 18.5625 5.609375 36.375 \r\nQ 5.609375 54.25 15.25 64.234375 \r\nQ 24.90625 74.21875 42 74.21875 \r\nQ 49.125 74.21875 55.546875 72.453125 \r\nQ 61.96875 70.703125 67.390625 67.28125 \r\nL 67.390625 56.78125 \r\nQ 61.921875 61.421875 55.765625 63.765625 \r\nQ 49.609375 66.109375 42.828125 66.109375 \r\nQ 29.4375 66.109375 22.71875 58.640625 \r\nQ 16.015625 51.171875 16.015625 36.375 \r\nQ 16.015625 21.625 22.71875 14.15625 \r\nQ 29.4375 6.6875 42.828125 6.6875 \r\nQ 48.046875 6.6875 52.140625 7.59375 \r\nQ 56.25 8.5 59.515625 10.40625 \r\nz\r\n\" id=\"DejaVuSans-71\"/>\r\n       <path d=\"M 10.6875 12.40625 \r\nL 21 12.40625 \r\nL 21 0 \r\nL 10.6875 0 \r\nz\r\n\" id=\"DejaVuSans-46\"/>\r\n      </defs>\r\n      <use xlink:href=\"#DejaVuSans-69\"/>\r\n      <use x=\"63.183594\" xlink:href=\"#DejaVuSans-112\"/>\r\n      <use x=\"126.660156\" xlink:href=\"#DejaVuSans-115\"/>\r\n      <use x=\"178.759766\" xlink:href=\"#DejaVuSans-95\"/>\r\n      <use x=\"228.759766\" xlink:href=\"#DejaVuSans-71\"/>\r\n      <use x=\"306.25\" xlink:href=\"#DejaVuSans-114\"/>\r\n      <use x=\"345.113281\" xlink:href=\"#DejaVuSans-101\"/>\r\n      <use x=\"406.636719\" xlink:href=\"#DejaVuSans-101\"/>\r\n      <use x=\"468.160156\" xlink:href=\"#DejaVuSans-100\"/>\r\n      <use x=\"531.636719\" xlink:href=\"#DejaVuSans-121\"/>\r\n      <use x=\"590.816406\" xlink:href=\"#DejaVuSans-44\"/>\r\n      <use x=\"622.603516\" xlink:href=\"#DejaVuSans-32\"/>\r\n      <use x=\"654.390625\" xlink:href=\"#DejaVuSans-101\"/>\r\n      <use x=\"715.914062\" xlink:href=\"#DejaVuSans-112\"/>\r\n      <use x=\"779.390625\" xlink:href=\"#DejaVuSans-115\"/>\r\n      <use x=\"831.490234\" xlink:href=\"#DejaVuSans-61\"/>\r\n      <use x=\"915.279297\" xlink:href=\"#DejaVuSans-48\"/>\r\n      <use x=\"978.902344\" xlink:href=\"#DejaVuSans-46\"/>\r\n      <use x=\"1010.689453\" xlink:href=\"#DejaVuSans-49\"/>\r\n      <use x=\"1074.3125\" xlink:href=\"#DejaVuSans-48\"/>\r\n      <use x=\"1137.935547\" xlink:href=\"#DejaVuSans-48\"/>\r\n      <use x=\"1201.558594\" xlink:href=\"#DejaVuSans-48\"/>\r\n      <use x=\"1265.181641\" xlink:href=\"#DejaVuSans-48\"/>\r\n      <use x=\"1328.804688\" xlink:href=\"#DejaVuSans-48\"/>\r\n     </g>\r\n    </g>\r\n    <g id=\"line2d_19\">\r\n     <path d=\"M 55.965625 65.329062 \r\nL 75.965625 65.329062 \r\n\" style=\"fill:none;stroke:#2ca02c;stroke-linecap:square;stroke-width:1.5;\"/>\r\n    </g>\r\n    <g id=\"line2d_20\"/>\r\n    <g id=\"text_17\">\r\n     <!-- Softmax, eta=0.100000 -->\r\n     <g transform=\"translate(83.965625 68.829062)scale(0.1 -0.1)\">\r\n      <defs>\r\n       <path d=\"M 37.109375 75.984375 \r\nL 37.109375 68.5 \r\nL 28.515625 68.5 \r\nQ 23.6875 68.5 21.796875 66.546875 \r\nQ 19.921875 64.59375 19.921875 59.515625 \r\nL 19.921875 54.6875 \r\nL 34.71875 54.6875 \r\nL 34.71875 47.703125 \r\nL 19.921875 47.703125 \r\nL 19.921875 0 \r\nL 10.890625 0 \r\nL 10.890625 47.703125 \r\nL 2.296875 47.703125 \r\nL 2.296875 54.6875 \r\nL 10.890625 54.6875 \r\nL 10.890625 58.5 \r\nQ 10.890625 67.625 15.140625 71.796875 \r\nQ 19.390625 75.984375 28.609375 75.984375 \r\nz\r\n\" id=\"DejaVuSans-102\"/>\r\n       <path d=\"M 54.890625 54.6875 \r\nL 35.109375 28.078125 \r\nL 55.90625 0 \r\nL 45.3125 0 \r\nL 29.390625 21.484375 \r\nL 13.484375 0 \r\nL 2.875 0 \r\nL 24.125 28.609375 \r\nL 4.6875 54.6875 \r\nL 15.28125 54.6875 \r\nL 29.78125 35.203125 \r\nL 44.28125 54.6875 \r\nz\r\n\" id=\"DejaVuSans-120\"/>\r\n      </defs>\r\n      <use xlink:href=\"#DejaVuSans-83\"/>\r\n      <use x=\"63.476562\" xlink:href=\"#DejaVuSans-111\"/>\r\n      <use x=\"124.658203\" xlink:href=\"#DejaVuSans-102\"/>\r\n      <use x=\"158.113281\" xlink:href=\"#DejaVuSans-116\"/>\r\n      <use x=\"197.322266\" xlink:href=\"#DejaVuSans-109\"/>\r\n      <use x=\"294.734375\" xlink:href=\"#DejaVuSans-97\"/>\r\n      <use x=\"356.013672\" xlink:href=\"#DejaVuSans-120\"/>\r\n      <use x=\"415.193359\" xlink:href=\"#DejaVuSans-44\"/>\r\n      <use x=\"446.980469\" xlink:href=\"#DejaVuSans-32\"/>\r\n      <use x=\"478.767578\" xlink:href=\"#DejaVuSans-101\"/>\r\n      <use x=\"540.291016\" xlink:href=\"#DejaVuSans-116\"/>\r\n      <use x=\"579.5\" xlink:href=\"#DejaVuSans-97\"/>\r\n      <use x=\"640.779297\" xlink:href=\"#DejaVuSans-61\"/>\r\n      <use x=\"724.568359\" xlink:href=\"#DejaVuSans-48\"/>\r\n      <use x=\"788.191406\" xlink:href=\"#DejaVuSans-46\"/>\r\n      <use x=\"819.978516\" xlink:href=\"#DejaVuSans-49\"/>\r\n      <use x=\"883.601562\" xlink:href=\"#DejaVuSans-48\"/>\r\n      <use x=\"947.224609\" xlink:href=\"#DejaVuSans-48\"/>\r\n      <use x=\"1010.847656\" xlink:href=\"#DejaVuSans-48\"/>\r\n      <use x=\"1074.470703\" xlink:href=\"#DejaVuSans-48\"/>\r\n      <use x=\"1138.09375\" xlink:href=\"#DejaVuSans-48\"/>\r\n     </g>\r\n    </g>\r\n   </g>\r\n  </g>\r\n </g>\r\n <defs>\r\n  <clipPath id=\"pdb8d071648\">\r\n   <rect height=\"217.44\" width=\"334.8\" x=\"46.965625\" y=\"22.318125\"/>\r\n  </clipPath>\r\n </defs>\r\n</svg>\r\n",
      "image/png": "[encoded data removed]"
     },
     "metadata": {
      "needs_background": "light"
     }
    }
   ],
   "source": [
    "plt.plot(R1,label='Beyond_UCB2, gamma='+str(int(gamma)))\n",
    "plt.plot(R2,label='Eps_Greedy, eps=%f' % epsilon)\n",
    "plt.plot(R3,label='Softmax, eta=%f'% eta)\n",
    "plt.legend()\n",
    "plt.xlabel(\"Episode\")\n",
    "plt.ylabel(\"Reward\")\n",
    "plt.title(\"Deep Sea with N=%d\" %  n)\n",
    "plt.savefig(\"beyonducb_\"+str(int(gamma))+\".pdf\")\n",
    "plt.show()"
   ]
  },
  {
   "cell_type": "code",
   "execution_count": 14,
   "metadata": {
    "tags": []
   },
   "outputs": [
    {
     "output_type": "display_data",
     "data": {
      "text/plain": "HBox(children=(HTML(value=''), FloatProgress(value=0.0, max=10.0), HTML(value='')))",
      "application/vnd.jupyter.widget-view+json": {
       "version_major": 2,
       "version_minor": 0,
       "model_id": "11de60f671094283be4d4331fa6c2aac"
      }
     },
     "metadata": {}
    },
    {
     "output_type": "display_data",
     "data": {
      "text/plain": "HBox(children=(HTML(value=''), FloatProgress(value=0.0, max=100000.0), HTML(value='')))",
      "application/vnd.jupyter.widget-view+json": {
       "version_major": 2,
       "version_minor": 0,
       "model_id": "a4a39d8332a5486d94897ee06f3c53d5"
      }
     },
     "metadata": {}
    },
    {
     "output_type": "stream",
     "name": "stdout",
     "text": "\n"
    },
    {
     "output_type": "display_data",
     "data": {
      "text/plain": "HBox(children=(HTML(value=''), FloatProgress(value=0.0, max=100000.0), HTML(value='')))",
      "application/vnd.jupyter.widget-view+json": {
       "version_major": 2,
       "version_minor": 0,
       "model_id": "86ad667fe9e4451c9336b055b154a156"
      }
     },
     "metadata": {}
    },
    {
     "output_type": "stream",
     "name": "stdout",
     "text": "\n"
    },
    {
     "output_type": "display_data",
     "data": {
      "text/plain": "HBox(children=(HTML(value=''), FloatProgress(value=0.0, max=100000.0), HTML(value='')))",
      "application/vnd.jupyter.widget-view+json": {
       "version_major": 2,
       "version_minor": 0,
       "model_id": "b9580a9b25684cad883e34027eee0fbe"
      }
     },
     "metadata": {}
    },
    {
     "output_type": "stream",
     "name": "stdout",
     "text": "\n"
    },
    {
     "output_type": "display_data",
     "data": {
      "text/plain": "HBox(children=(HTML(value=''), FloatProgress(value=0.0, max=100000.0), HTML(value='')))",
      "application/vnd.jupyter.widget-view+json": {
       "version_major": 2,
       "version_minor": 0,
       "model_id": "936fd668102944f9ba38177abf4fff74"
      }
     },
     "metadata": {}
    },
    {
     "output_type": "stream",
     "name": "stdout",
     "text": "\n"
    },
    {
     "output_type": "display_data",
     "data": {
      "text/plain": "HBox(children=(HTML(value=''), FloatProgress(value=0.0, max=100000.0), HTML(value='')))",
      "application/vnd.jupyter.widget-view+json": {
       "version_major": 2,
       "version_minor": 0,
       "model_id": "36565cd45246415e8ecbcd447999ef64"
      }
     },
     "metadata": {}
    },
    {
     "output_type": "stream",
     "name": "stdout",
     "text": "\n"
    },
    {
     "output_type": "display_data",
     "data": {
      "text/plain": "HBox(children=(HTML(value=''), FloatProgress(value=0.0, max=100000.0), HTML(value='')))",
      "application/vnd.jupyter.widget-view+json": {
       "version_major": 2,
       "version_minor": 0,
       "model_id": "7be6c25fbe3d4953a9a83321c8cdd2bd"
      }
     },
     "metadata": {}
    },
    {
     "output_type": "stream",
     "name": "stdout",
     "text": "\n"
    },
    {
     "output_type": "display_data",
     "data": {
      "text/plain": "HBox(children=(HTML(value=''), FloatProgress(value=0.0, max=100000.0), HTML(value='')))",
      "application/vnd.jupyter.widget-view+json": {
       "version_major": 2,
       "version_minor": 0,
       "model_id": "8f9772649eb24f459277330799cd4f0c"
      }
     },
     "metadata": {}
    },
    {
     "output_type": "stream",
     "name": "stdout",
     "text": "\n"
    },
    {
     "output_type": "display_data",
     "data": {
      "text/plain": "HBox(children=(HTML(value=''), FloatProgress(value=0.0, max=100000.0), HTML(value='')))",
      "application/vnd.jupyter.widget-view+json": {
       "version_major": 2,
       "version_minor": 0,
       "model_id": "44a9d77a359b4da8b75e23afffc0d240"
      }
     },
     "metadata": {}
    },
    {
     "output_type": "stream",
     "name": "stdout",
     "text": "\n"
    },
    {
     "output_type": "display_data",
     "data": {
      "text/plain": "HBox(children=(HTML(value=''), FloatProgress(value=0.0, max=100000.0), HTML(value='')))",
      "application/vnd.jupyter.widget-view+json": {
       "version_major": 2,
       "version_minor": 0,
       "model_id": "b196623502b44ff182a69ad5b3705c19"
      }
     },
     "metadata": {}
    },
    {
     "output_type": "stream",
     "name": "stdout",
     "text": "\n"
    },
    {
     "output_type": "display_data",
     "data": {
      "text/plain": "HBox(children=(HTML(value=''), FloatProgress(value=0.0, max=100000.0), HTML(value='')))",
      "application/vnd.jupyter.widget-view+json": {
       "version_major": 2,
       "version_minor": 0,
       "model_id": "fe53724780ae42698c4fd5a6089ee848"
      }
     },
     "metadata": {}
    },
    {
     "output_type": "stream",
     "name": "stdout",
     "text": "\n\n"
    }
   ],
   "source": [
    "K = 100000\n",
    "runs = 10\n",
    "delta = 1/K\n",
    "eta = 0.1\n",
    "epsilon = 0.1\n",
    "n =  15\n",
    "env = Deep_Sea(num_steps = n)\n",
    "#gamma = np.sqrt(K*env.epLen*env.nAction/(env.nAction*env.nState*env.epLen*np.log(2/delta)))\n",
    "gamma = 10\n",
    "r1 = np.zeros((runs,K)) # Beyond_Q\n",
    "\n",
    "for r in tqdm(range(runs)):\n",
    "    agent1 = Beyond_Q(env,K,gamma)\n",
    "    r1[r,:] = agent1.run()"
   ]
  },
  {
   "cell_type": "code",
   "execution_count": 15,
   "metadata": {
    "tags": []
   },
   "outputs": [
    {
     "output_type": "display_data",
     "data": {
      "text/plain": "HBox(children=(HTML(value=''), FloatProgress(value=0.0, max=10.0), HTML(value='')))",
      "application/vnd.jupyter.widget-view+json": {
       "version_major": 2,
       "version_minor": 0,
       "model_id": "cdb11fe0d5524ba09a328a37852eadd7"
      }
     },
     "metadata": {}
    },
    {
     "output_type": "display_data",
     "data": {
      "text/plain": "HBox(children=(HTML(value=''), FloatProgress(value=0.0, max=100000.0), HTML(value='')))",
      "application/vnd.jupyter.widget-view+json": {
       "version_major": 2,
       "version_minor": 0,
       "model_id": "3ac8135ff8c9489b9cd1399ff827a731"
      }
     },
     "metadata": {}
    },
    {
     "output_type": "stream",
     "name": "stdout",
     "text": "\n"
    },
    {
     "output_type": "display_data",
     "data": {
      "text/plain": "HBox(children=(HTML(value=''), FloatProgress(value=0.0, max=100000.0), HTML(value='')))",
      "application/vnd.jupyter.widget-view+json": {
       "version_major": 2,
       "version_minor": 0,
       "model_id": "3c6fd06f96d440efb0330b6c04a8ccc1"
      }
     },
     "metadata": {}
    },
    {
     "output_type": "stream",
     "name": "stdout",
     "text": "\n"
    },
    {
     "output_type": "display_data",
     "data": {
      "text/plain": "HBox(children=(HTML(value=''), FloatProgress(value=0.0, max=100000.0), HTML(value='')))",
      "application/vnd.jupyter.widget-view+json": {
       "version_major": 2,
       "version_minor": 0,
       "model_id": "f042a20778a648c8b5a46cfb1948039a"
      }
     },
     "metadata": {}
    },
    {
     "output_type": "stream",
     "name": "stdout",
     "text": "\n"
    },
    {
     "output_type": "display_data",
     "data": {
      "text/plain": "HBox(children=(HTML(value=''), FloatProgress(value=0.0, max=100000.0), HTML(value='')))",
      "application/vnd.jupyter.widget-view+json": {
       "version_major": 2,
       "version_minor": 0,
       "model_id": "380d5a72de4a4b0b993a8d2791316771"
      }
     },
     "metadata": {}
    },
    {
     "output_type": "stream",
     "name": "stdout",
     "text": "\n"
    },
    {
     "output_type": "display_data",
     "data": {
      "text/plain": "HBox(children=(HTML(value=''), FloatProgress(value=0.0, max=100000.0), HTML(value='')))",
      "application/vnd.jupyter.widget-view+json": {
       "version_major": 2,
       "version_minor": 0,
       "model_id": "88b734eee608416dbdc4ad9cc6768a6e"
      }
     },
     "metadata": {}
    },
    {
     "output_type": "stream",
     "name": "stdout",
     "text": "\n"
    },
    {
     "output_type": "display_data",
     "data": {
      "text/plain": "HBox(children=(HTML(value=''), FloatProgress(value=0.0, max=100000.0), HTML(value='')))",
      "application/vnd.jupyter.widget-view+json": {
       "version_major": 2,
       "version_minor": 0,
       "model_id": "abd3a296fe414cc49fceaa039f38697a"
      }
     },
     "metadata": {}
    },
    {
     "output_type": "stream",
     "name": "stdout",
     "text": "\n"
    },
    {
     "output_type": "display_data",
     "data": {
      "text/plain": "HBox(children=(HTML(value=''), FloatProgress(value=0.0, max=100000.0), HTML(value='')))",
      "application/vnd.jupyter.widget-view+json": {
       "version_major": 2,
       "version_minor": 0,
       "model_id": "e5016746c1d74bca983de4c62a1f4653"
      }
     },
     "metadata": {}
    },
    {
     "output_type": "stream",
     "name": "stdout",
     "text": "\n"
    },
    {
     "output_type": "display_data",
     "data": {
      "text/plain": "HBox(children=(HTML(value=''), FloatProgress(value=0.0, max=100000.0), HTML(value='')))",
      "application/vnd.jupyter.widget-view+json": {
       "version_major": 2,
       "version_minor": 0,
       "model_id": "15fe983b5c954376943fa800e288c729"
      }
     },
     "metadata": {}
    },
    {
     "output_type": "stream",
     "name": "stdout",
     "text": "\n"
    },
    {
     "output_type": "display_data",
     "data": {
      "text/plain": "HBox(children=(HTML(value=''), FloatProgress(value=0.0, max=100000.0), HTML(value='')))",
      "application/vnd.jupyter.widget-view+json": {
       "version_major": 2,
       "version_minor": 0,
       "model_id": "ab74e1680d874295baa187251b762abe"
      }
     },
     "metadata": {}
    },
    {
     "output_type": "stream",
     "name": "stdout",
     "text": "\n"
    },
    {
     "output_type": "display_data",
     "data": {
      "text/plain": "HBox(children=(HTML(value=''), FloatProgress(value=0.0, max=100000.0), HTML(value='')))",
      "application/vnd.jupyter.widget-view+json": {
       "version_major": 2,
       "version_minor": 0,
       "model_id": "3d3cd82627c742cfb78f7c8d419eeef0"
      }
     },
     "metadata": {}
    },
    {
     "output_type": "stream",
     "name": "stdout",
     "text": "\n\n"
    }
   ],
   "source": [
    "r2 = np.zeros((runs,K)) # E-Greedy\n",
    "for r in tqdm(range(runs)):\n",
    "    agent2 = Eps_Q(env,K,epsilon)\n",
    "    r2[r,:] = agent2.run()\n",
    "\n"
   ]
  },
  {
   "cell_type": "code",
   "execution_count": 16,
   "metadata": {
    "tags": []
   },
   "outputs": [
    {
     "output_type": "display_data",
     "data": {
      "text/plain": "HBox(children=(HTML(value=''), FloatProgress(value=0.0, max=10.0), HTML(value='')))",
      "application/vnd.jupyter.widget-view+json": {
       "version_major": 2,
       "version_minor": 0,
       "model_id": "9c63a9288f5a4a4e9e6e1812cbd2ff9f"
      }
     },
     "metadata": {}
    },
    {
     "output_type": "display_data",
     "data": {
      "text/plain": "HBox(children=(HTML(value=''), FloatProgress(value=0.0, max=100000.0), HTML(value='')))",
      "application/vnd.jupyter.widget-view+json": {
       "version_major": 2,
       "version_minor": 0,
       "model_id": "2c7adc0e7876460eb3f1f62d1fecef79"
      }
     },
     "metadata": {}
    },
    {
     "output_type": "stream",
     "name": "stdout",
     "text": "\n"
    },
    {
     "output_type": "display_data",
     "data": {
      "text/plain": "HBox(children=(HTML(value=''), FloatProgress(value=0.0, max=100000.0), HTML(value='')))",
      "application/vnd.jupyter.widget-view+json": {
       "version_major": 2,
       "version_minor": 0,
       "model_id": "1574ced79b3e4e129a43ec53f392a9f7"
      }
     },
     "metadata": {}
    },
    {
     "output_type": "stream",
     "name": "stdout",
     "text": "\n"
    },
    {
     "output_type": "display_data",
     "data": {
      "text/plain": "HBox(children=(HTML(value=''), FloatProgress(value=0.0, max=100000.0), HTML(value='')))",
      "application/vnd.jupyter.widget-view+json": {
       "version_major": 2,
       "version_minor": 0,
       "model_id": "e8a14e18871b4988b4361fcc1bb003af"
      }
     },
     "metadata": {}
    },
    {
     "output_type": "stream",
     "name": "stdout",
     "text": "\n"
    },
    {
     "output_type": "display_data",
     "data": {
      "text/plain": "HBox(children=(HTML(value=''), FloatProgress(value=0.0, max=100000.0), HTML(value='')))",
      "application/vnd.jupyter.widget-view+json": {
       "version_major": 2,
       "version_minor": 0,
       "model_id": "0c7ff6044e404b44abc8bbcaa932a7ca"
      }
     },
     "metadata": {}
    },
    {
     "output_type": "stream",
     "name": "stdout",
     "text": "\n"
    },
    {
     "output_type": "display_data",
     "data": {
      "text/plain": "HBox(children=(HTML(value=''), FloatProgress(value=0.0, max=100000.0), HTML(value='')))",
      "application/vnd.jupyter.widget-view+json": {
       "version_major": 2,
       "version_minor": 0,
       "model_id": "3e1402068c854a978399f4afd86b6212"
      }
     },
     "metadata": {}
    },
    {
     "output_type": "stream",
     "name": "stdout",
     "text": "\n"
    },
    {
     "output_type": "display_data",
     "data": {
      "text/plain": "HBox(children=(HTML(value=''), FloatProgress(value=0.0, max=100000.0), HTML(value='')))",
      "application/vnd.jupyter.widget-view+json": {
       "version_major": 2,
       "version_minor": 0,
       "model_id": "585cce12cf274be98334989681275d9e"
      }
     },
     "metadata": {}
    },
    {
     "output_type": "stream",
     "name": "stdout",
     "text": "\n"
    },
    {
     "output_type": "display_data",
     "data": {
      "text/plain": "HBox(children=(HTML(value=''), FloatProgress(value=0.0, max=100000.0), HTML(value='')))",
      "application/vnd.jupyter.widget-view+json": {
       "version_major": 2,
       "version_minor": 0,
       "model_id": "c35a282d70e24353b39834ecc28a6108"
      }
     },
     "metadata": {}
    },
    {
     "output_type": "stream",
     "name": "stdout",
     "text": "\n"
    },
    {
     "output_type": "display_data",
     "data": {
      "text/plain": "HBox(children=(HTML(value=''), FloatProgress(value=0.0, max=100000.0), HTML(value='')))",
      "application/vnd.jupyter.widget-view+json": {
       "version_major": 2,
       "version_minor": 0,
       "model_id": "bed65ea55ee04a04b9af2197bb736e22"
      }
     },
     "metadata": {}
    },
    {
     "output_type": "stream",
     "name": "stdout",
     "text": "\n"
    },
    {
     "output_type": "display_data",
     "data": {
      "text/plain": "HBox(children=(HTML(value=''), FloatProgress(value=0.0, max=100000.0), HTML(value='')))",
      "application/vnd.jupyter.widget-view+json": {
       "version_major": 2,
       "version_minor": 0,
       "model_id": "6ce84268ebbc4b9f82eb3cfbfb87f868"
      }
     },
     "metadata": {}
    },
    {
     "output_type": "stream",
     "name": "stdout",
     "text": "\n"
    },
    {
     "output_type": "display_data",
     "data": {
      "text/plain": "HBox(children=(HTML(value=''), FloatProgress(value=0.0, max=100000.0), HTML(value='')))",
      "application/vnd.jupyter.widget-view+json": {
       "version_major": 2,
       "version_minor": 0,
       "model_id": "b2b20dd62dfa4cd1b6c8a2d8f641f85f"
      }
     },
     "metadata": {}
    },
    {
     "output_type": "stream",
     "name": "stdout",
     "text": "\n\n"
    }
   ],
   "source": [
    "r3 = np.zeros((runs,K)) # Softmax\n",
    "for r in tqdm(range(runs)):\n",
    "    agent3 = Softmax_Q(env,K,eta)\n",
    "    r3[r,:] = agent3.run()\n",
    "\n",
    "R1 = np.mean(r1,axis=0)\n",
    "R2 = np.mean(r2,axis=0)\n",
    "R3 = np.mean(r3,axis=0)\n"
   ]
  },
  {
   "cell_type": "code",
   "execution_count": 17,
   "metadata": {},
   "outputs": [
    {
     "output_type": "display_data",
     "data": {
      "text/plain": "<Figure size 432x288 with 1 Axes>",
      "image/svg+xml": "<?xml version=\"1.0\" encoding=\"utf-8\" standalone=\"no\"?>\r\n<!DOCTYPE svg PUBLIC \"-//W3C//DTD SVG 1.1//EN\"\r\n  \"http://www.w3.org/Graphics/SVG/1.1/DTD/svg11.dtd\">\r\n<!-- Created with matplotlib (https://matplotlib.org/) -->\r\n<svg height=\"277.314375pt\" version=\"1.1\" viewBox=\"0 0 399.200487 277.314375\" width=\"399.200487pt\" xmlns=\"http://www.w3.org/2000/svg\" xmlns:xlink=\"http://www.w3.org/1999/xlink\">\r\n <metadata>\r\n  <rdf:RDF xmlns:cc=\"http://creativecommons.org/ns#\" xmlns:dc=\"http://purl.org/dc/elements/1.1/\" xmlns:rdf=\"http://www.w3.org/1999/02/22-rdf-syntax-ns#\">\r\n   <cc:Work>\r\n    <dc:type rdf:resource=\"http://purl.org/dc/dcmitype/StillImage\"/>\r\n    <dc:date>2020-09-30T14:21:13.455376</dc:date>\r\n    <dc:format>image/svg+xml</dc:format>\r\n    <dc:creator>\r\n     <cc:Agent>\r\n      <dc:title>Matplotlib v3.3.2, https://matplotlib.org/</dc:title>\r\n     </cc:Agent>\r\n    </dc:creator>\r\n   </cc:Work>\r\n  </rdf:RDF>\r\n </metadata>\r\n <defs>\r\n  <style type=\"text/css\">*{stroke-linecap:butt;stroke-linejoin:round;}</style>\r\n </defs>\r\n <g id=\"figure_1\">\r\n  <g id=\"patch_1\">\r\n   <path d=\"M 0 277.314375 \r\nL 399.200487 277.314375 \r\nL 399.200487 0 \r\nL 0 0 \r\nz\r\n\" style=\"fill:none;\"/>\r\n  </g>\r\n  <g id=\"axes_1\">\r\n   <g id=\"patch_2\">\r\n    <path d=\"M 53.328125 239.758125 \r\nL 388.128125 239.758125 \r\nL 388.128125 22.318125 \r\nL 53.328125 22.318125 \r\nz\r\n\" style=\"fill:#ffffff;\"/>\r\n   </g>\r\n   <g id=\"matplotlib.axis_1\">\r\n    <g id=\"xtick_1\">\r\n     <g id=\"line2d_1\">\r\n      <defs>\r\n       <path d=\"M 0 0 \r\nL 0 3.5 \r\n\" id=\"mb9ef9285ae\" style=\"stroke:#000000;stroke-width:0.8;\"/>\r\n      </defs>\r\n      <g>\r\n       <use style=\"stroke:#000000;stroke-width:0.8;\" x=\"68.546307\" xlink:href=\"#mb9ef9285ae\" y=\"239.758125\"/>\r\n      </g>\r\n     </g>\r\n     <g id=\"text_1\">\r\n      <!-- 0 -->\r\n      <g transform=\"translate(65.365057 254.356562)scale(0.1 -0.1)\">\r\n       <defs>\r\n        <path d=\"M 31.78125 66.40625 \r\nQ 24.171875 66.40625 20.328125 58.90625 \r\nQ 16.5 51.421875 16.5 36.375 \r\nQ 16.5 21.390625 20.328125 13.890625 \r\nQ 24.171875 6.390625 31.78125 6.390625 \r\nQ 39.453125 6.390625 43.28125 13.890625 \r\nQ 47.125 21.390625 47.125 36.375 \r\nQ 47.125 51.421875 43.28125 58.90625 \r\nQ 39.453125 66.40625 31.78125 66.40625 \r\nz\r\nM 31.78125 74.21875 \r\nQ 44.046875 74.21875 50.515625 64.515625 \r\nQ 56.984375 54.828125 56.984375 36.375 \r\nQ 56.984375 17.96875 50.515625 8.265625 \r\nQ 44.046875 -1.421875 31.78125 -1.421875 \r\nQ 19.53125 -1.421875 13.0625 8.265625 \r\nQ 6.59375 17.96875 6.59375 36.375 \r\nQ 6.59375 54.828125 13.0625 64.515625 \r\nQ 19.53125 74.21875 31.78125 74.21875 \r\nz\r\n\" id=\"DejaVuSans-48\"/>\r\n       </defs>\r\n       <use xlink:href=\"#DejaVuSans-48\"/>\r\n      </g>\r\n     </g>\r\n    </g>\r\n    <g id=\"xtick_2\">\r\n     <g id=\"line2d_2\">\r\n      <g>\r\n       <use style=\"stroke:#000000;stroke-width:0.8;\" x=\"129.419643\" xlink:href=\"#mb9ef9285ae\" y=\"239.758125\"/>\r\n      </g>\r\n     </g>\r\n     <g id=\"text_2\">\r\n      <!-- 20000 -->\r\n      <g transform=\"translate(113.513393 254.356562)scale(0.1 -0.1)\">\r\n       <defs>\r\n        <path d=\"M 19.1875 8.296875 \r\nL 53.609375 8.296875 \r\nL 53.609375 0 \r\nL 7.328125 0 \r\nL 7.328125 8.296875 \r\nQ 12.9375 14.109375 22.625 23.890625 \r\nQ 32.328125 33.6875 34.8125 36.53125 \r\nQ 39.546875 41.84375 41.421875 45.53125 \r\nQ 43.3125 49.21875 43.3125 52.78125 \r\nQ 43.3125 58.59375 39.234375 62.25 \r\nQ 35.15625 65.921875 28.609375 65.921875 \r\nQ 23.96875 65.921875 18.8125 64.3125 \r\nQ 13.671875 62.703125 7.8125 59.421875 \r\nL 7.8125 69.390625 \r\nQ 13.765625 71.78125 18.9375 73 \r\nQ 24.125 74.21875 28.421875 74.21875 \r\nQ 39.75 74.21875 46.484375 68.546875 \r\nQ 53.21875 62.890625 53.21875 53.421875 \r\nQ 53.21875 48.921875 51.53125 44.890625 \r\nQ 49.859375 40.875 45.40625 35.40625 \r\nQ 44.1875 33.984375 37.640625 27.21875 \r\nQ 31.109375 20.453125 19.1875 8.296875 \r\nz\r\n\" id=\"DejaVuSans-50\"/>\r\n       </defs>\r\n       <use xlink:href=\"#DejaVuSans-50\"/>\r\n       <use x=\"63.623047\" xlink:href=\"#DejaVuSans-48\"/>\r\n       <use x=\"127.246094\" xlink:href=\"#DejaVuSans-48\"/>\r\n       <use x=\"190.869141\" xlink:href=\"#DejaVuSans-48\"/>\r\n       <use x=\"254.492188\" xlink:href=\"#DejaVuSans-48\"/>\r\n      </g>\r\n     </g>\r\n    </g>\r\n    <g id=\"xtick_3\">\r\n     <g id=\"line2d_3\">\r\n      <g>\r\n       <use style=\"stroke:#000000;stroke-width:0.8;\" x=\"190.292979\" xlink:href=\"#mb9ef9285ae\" y=\"239.758125\"/>\r\n      </g>\r\n     </g>\r\n     <g id=\"text_3\">\r\n      <!-- 40000 -->\r\n      <g transform=\"translate(174.386729 254.356562)scale(0.1 -0.1)\">\r\n       <defs>\r\n        <path d=\"M 37.796875 64.3125 \r\nL 12.890625 25.390625 \r\nL 37.796875 25.390625 \r\nz\r\nM 35.203125 72.90625 \r\nL 47.609375 72.90625 \r\nL 47.609375 25.390625 \r\nL 58.015625 25.390625 \r\nL 58.015625 17.1875 \r\nL 47.609375 17.1875 \r\nL 47.609375 0 \r\nL 37.796875 0 \r\nL 37.796875 17.1875 \r\nL 4.890625 17.1875 \r\nL 4.890625 26.703125 \r\nz\r\n\" id=\"DejaVuSans-52\"/>\r\n       </defs>\r\n       <use xlink:href=\"#DejaVuSans-52\"/>\r\n       <use x=\"63.623047\" xlink:href=\"#DejaVuSans-48\"/>\r\n       <use x=\"127.246094\" xlink:href=\"#DejaVuSans-48\"/>\r\n       <use x=\"190.869141\" xlink:href=\"#DejaVuSans-48\"/>\r\n       <use x=\"254.492188\" xlink:href=\"#DejaVuSans-48\"/>\r\n      </g>\r\n     </g>\r\n    </g>\r\n    <g id=\"xtick_4\">\r\n     <g id=\"line2d_4\">\r\n      <g>\r\n       <use style=\"stroke:#000000;stroke-width:0.8;\" x=\"251.166315\" xlink:href=\"#mb9ef9285ae\" y=\"239.758125\"/>\r\n      </g>\r\n     </g>\r\n     <g id=\"text_4\">\r\n      <!-- 60000 -->\r\n      <g transform=\"translate(235.260065 254.356562)scale(0.1 -0.1)\">\r\n       <defs>\r\n        <path d=\"M 33.015625 40.375 \r\nQ 26.375 40.375 22.484375 35.828125 \r\nQ 18.609375 31.296875 18.609375 23.390625 \r\nQ 18.609375 15.53125 22.484375 10.953125 \r\nQ 26.375 6.390625 33.015625 6.390625 \r\nQ 39.65625 6.390625 43.53125 10.953125 \r\nQ 47.40625 15.53125 47.40625 23.390625 \r\nQ 47.40625 31.296875 43.53125 35.828125 \r\nQ 39.65625 40.375 33.015625 40.375 \r\nz\r\nM 52.59375 71.296875 \r\nL 52.59375 62.3125 \r\nQ 48.875 64.0625 45.09375 64.984375 \r\nQ 41.3125 65.921875 37.59375 65.921875 \r\nQ 27.828125 65.921875 22.671875 59.328125 \r\nQ 17.53125 52.734375 16.796875 39.40625 \r\nQ 19.671875 43.65625 24.015625 45.921875 \r\nQ 28.375 48.1875 33.59375 48.1875 \r\nQ 44.578125 48.1875 50.953125 41.515625 \r\nQ 57.328125 34.859375 57.328125 23.390625 \r\nQ 57.328125 12.15625 50.6875 5.359375 \r\nQ 44.046875 -1.421875 33.015625 -1.421875 \r\nQ 20.359375 -1.421875 13.671875 8.265625 \r\nQ 6.984375 17.96875 6.984375 36.375 \r\nQ 6.984375 53.65625 15.1875 63.9375 \r\nQ 23.390625 74.21875 37.203125 74.21875 \r\nQ 40.921875 74.21875 44.703125 73.484375 \r\nQ 48.484375 72.75 52.59375 71.296875 \r\nz\r\n\" id=\"DejaVuSans-54\"/>\r\n       </defs>\r\n       <use xlink:href=\"#DejaVuSans-54\"/>\r\n       <use x=\"63.623047\" xlink:href=\"#DejaVuSans-48\"/>\r\n       <use x=\"127.246094\" xlink:href=\"#DejaVuSans-48\"/>\r\n       <use x=\"190.869141\" xlink:href=\"#DejaVuSans-48\"/>\r\n       <use x=\"254.492188\" xlink:href=\"#DejaVuSans-48\"/>\r\n      </g>\r\n     </g>\r\n    </g>\r\n    <g id=\"xtick_5\">\r\n     <g id=\"line2d_5\">\r\n      <g>\r\n       <use style=\"stroke:#000000;stroke-width:0.8;\" x=\"312.039651\" xlink:href=\"#mb9ef9285ae\" y=\"239.758125\"/>\r\n      </g>\r\n     </g>\r\n     <g id=\"text_5\">\r\n      <!-- 80000 -->\r\n      <g transform=\"translate(296.133401 254.356562)scale(0.1 -0.1)\">\r\n       <defs>\r\n        <path d=\"M 31.78125 34.625 \r\nQ 24.75 34.625 20.71875 30.859375 \r\nQ 16.703125 27.09375 16.703125 20.515625 \r\nQ 16.703125 13.921875 20.71875 10.15625 \r\nQ 24.75 6.390625 31.78125 6.390625 \r\nQ 38.8125 6.390625 42.859375 10.171875 \r\nQ 46.921875 13.96875 46.921875 20.515625 \r\nQ 46.921875 27.09375 42.890625 30.859375 \r\nQ 38.875 34.625 31.78125 34.625 \r\nz\r\nM 21.921875 38.8125 \r\nQ 15.578125 40.375 12.03125 44.71875 \r\nQ 8.5 49.078125 8.5 55.328125 \r\nQ 8.5 64.0625 14.71875 69.140625 \r\nQ 20.953125 74.21875 31.78125 74.21875 \r\nQ 42.671875 74.21875 48.875 69.140625 \r\nQ 55.078125 64.0625 55.078125 55.328125 \r\nQ 55.078125 49.078125 51.53125 44.71875 \r\nQ 48 40.375 41.703125 38.8125 \r\nQ 48.828125 37.15625 52.796875 32.3125 \r\nQ 56.78125 27.484375 56.78125 20.515625 \r\nQ 56.78125 9.90625 50.3125 4.234375 \r\nQ 43.84375 -1.421875 31.78125 -1.421875 \r\nQ 19.734375 -1.421875 13.25 4.234375 \r\nQ 6.78125 9.90625 6.78125 20.515625 \r\nQ 6.78125 27.484375 10.78125 32.3125 \r\nQ 14.796875 37.15625 21.921875 38.8125 \r\nz\r\nM 18.3125 54.390625 \r\nQ 18.3125 48.734375 21.84375 45.5625 \r\nQ 25.390625 42.390625 31.78125 42.390625 \r\nQ 38.140625 42.390625 41.71875 45.5625 \r\nQ 45.3125 48.734375 45.3125 54.390625 \r\nQ 45.3125 60.0625 41.71875 63.234375 \r\nQ 38.140625 66.40625 31.78125 66.40625 \r\nQ 25.390625 66.40625 21.84375 63.234375 \r\nQ 18.3125 60.0625 18.3125 54.390625 \r\nz\r\n\" id=\"DejaVuSans-56\"/>\r\n       </defs>\r\n       <use xlink:href=\"#DejaVuSans-56\"/>\r\n       <use x=\"63.623047\" xlink:href=\"#DejaVuSans-48\"/>\r\n       <use x=\"127.246094\" xlink:href=\"#DejaVuSans-48\"/>\r\n       <use x=\"190.869141\" xlink:href=\"#DejaVuSans-48\"/>\r\n       <use x=\"254.492188\" xlink:href=\"#DejaVuSans-48\"/>\r\n      </g>\r\n     </g>\r\n    </g>\r\n    <g id=\"xtick_6\">\r\n     <g id=\"line2d_6\">\r\n      <g>\r\n       <use style=\"stroke:#000000;stroke-width:0.8;\" x=\"372.912987\" xlink:href=\"#mb9ef9285ae\" y=\"239.758125\"/>\r\n      </g>\r\n     </g>\r\n     <g id=\"text_6\">\r\n      <!-- 100000 -->\r\n      <g transform=\"translate(353.825487 254.356562)scale(0.1 -0.1)\">\r\n       <defs>\r\n        <path d=\"M 12.40625 8.296875 \r\nL 28.515625 8.296875 \r\nL 28.515625 63.921875 \r\nL 10.984375 60.40625 \r\nL 10.984375 69.390625 \r\nL 28.421875 72.90625 \r\nL 38.28125 72.90625 \r\nL 38.28125 8.296875 \r\nL 54.390625 8.296875 \r\nL 54.390625 0 \r\nL 12.40625 0 \r\nz\r\n\" id=\"DejaVuSans-49\"/>\r\n       </defs>\r\n       <use xlink:href=\"#DejaVuSans-49\"/>\r\n       <use x=\"63.623047\" xlink:href=\"#DejaVuSans-48\"/>\r\n       <use x=\"127.246094\" xlink:href=\"#DejaVuSans-48\"/>\r\n       <use x=\"190.869141\" xlink:href=\"#DejaVuSans-48\"/>\r\n       <use x=\"254.492188\" xlink:href=\"#DejaVuSans-48\"/>\r\n       <use x=\"318.115234\" xlink:href=\"#DejaVuSans-48\"/>\r\n      </g>\r\n     </g>\r\n    </g>\r\n    <g id=\"text_7\">\r\n     <!-- Episode -->\r\n     <g transform=\"translate(201.090625 268.034687)scale(0.1 -0.1)\">\r\n      <defs>\r\n       <path d=\"M 9.8125 72.90625 \r\nL 55.90625 72.90625 \r\nL 55.90625 64.59375 \r\nL 19.671875 64.59375 \r\nL 19.671875 43.015625 \r\nL 54.390625 43.015625 \r\nL 54.390625 34.71875 \r\nL 19.671875 34.71875 \r\nL 19.671875 8.296875 \r\nL 56.78125 8.296875 \r\nL 56.78125 0 \r\nL 9.8125 0 \r\nz\r\n\" id=\"DejaVuSans-69\"/>\r\n       <path d=\"M 18.109375 8.203125 \r\nL 18.109375 -20.796875 \r\nL 9.078125 -20.796875 \r\nL 9.078125 54.6875 \r\nL 18.109375 54.6875 \r\nL 18.109375 46.390625 \r\nQ 20.953125 51.265625 25.265625 53.625 \r\nQ 29.59375 56 35.59375 56 \r\nQ 45.5625 56 51.78125 48.09375 \r\nQ 58.015625 40.1875 58.015625 27.296875 \r\nQ 58.015625 14.40625 51.78125 6.484375 \r\nQ 45.5625 -1.421875 35.59375 -1.421875 \r\nQ 29.59375 -1.421875 25.265625 0.953125 \r\nQ 20.953125 3.328125 18.109375 8.203125 \r\nz\r\nM 48.6875 27.296875 \r\nQ 48.6875 37.203125 44.609375 42.84375 \r\nQ 40.53125 48.484375 33.40625 48.484375 \r\nQ 26.265625 48.484375 22.1875 42.84375 \r\nQ 18.109375 37.203125 18.109375 27.296875 \r\nQ 18.109375 17.390625 22.1875 11.75 \r\nQ 26.265625 6.109375 33.40625 6.109375 \r\nQ 40.53125 6.109375 44.609375 11.75 \r\nQ 48.6875 17.390625 48.6875 27.296875 \r\nz\r\n\" id=\"DejaVuSans-112\"/>\r\n       <path d=\"M 9.421875 54.6875 \r\nL 18.40625 54.6875 \r\nL 18.40625 0 \r\nL 9.421875 0 \r\nz\r\nM 9.421875 75.984375 \r\nL 18.40625 75.984375 \r\nL 18.40625 64.59375 \r\nL 9.421875 64.59375 \r\nz\r\n\" id=\"DejaVuSans-105\"/>\r\n       <path d=\"M 44.28125 53.078125 \r\nL 44.28125 44.578125 \r\nQ 40.484375 46.53125 36.375 47.5 \r\nQ 32.28125 48.484375 27.875 48.484375 \r\nQ 21.1875 48.484375 17.84375 46.4375 \r\nQ 14.5 44.390625 14.5 40.28125 \r\nQ 14.5 37.15625 16.890625 35.375 \r\nQ 19.28125 33.59375 26.515625 31.984375 \r\nL 29.59375 31.296875 \r\nQ 39.15625 29.25 43.1875 25.515625 \r\nQ 47.21875 21.78125 47.21875 15.09375 \r\nQ 47.21875 7.46875 41.1875 3.015625 \r\nQ 35.15625 -1.421875 24.609375 -1.421875 \r\nQ 20.21875 -1.421875 15.453125 -0.5625 \r\nQ 10.6875 0.296875 5.421875 2 \r\nL 5.421875 11.28125 \r\nQ 10.40625 8.6875 15.234375 7.390625 \r\nQ 20.0625 6.109375 24.8125 6.109375 \r\nQ 31.15625 6.109375 34.5625 8.28125 \r\nQ 37.984375 10.453125 37.984375 14.40625 \r\nQ 37.984375 18.0625 35.515625 20.015625 \r\nQ 33.0625 21.96875 24.703125 23.78125 \r\nL 21.578125 24.515625 \r\nQ 13.234375 26.265625 9.515625 29.90625 \r\nQ 5.8125 33.546875 5.8125 39.890625 \r\nQ 5.8125 47.609375 11.28125 51.796875 \r\nQ 16.75 56 26.8125 56 \r\nQ 31.78125 56 36.171875 55.265625 \r\nQ 40.578125 54.546875 44.28125 53.078125 \r\nz\r\n\" id=\"DejaVuSans-115\"/>\r\n       <path d=\"M 30.609375 48.390625 \r\nQ 23.390625 48.390625 19.1875 42.75 \r\nQ 14.984375 37.109375 14.984375 27.296875 \r\nQ 14.984375 17.484375 19.15625 11.84375 \r\nQ 23.34375 6.203125 30.609375 6.203125 \r\nQ 37.796875 6.203125 41.984375 11.859375 \r\nQ 46.1875 17.53125 46.1875 27.296875 \r\nQ 46.1875 37.015625 41.984375 42.703125 \r\nQ 37.796875 48.390625 30.609375 48.390625 \r\nz\r\nM 30.609375 56 \r\nQ 42.328125 56 49.015625 48.375 \r\nQ 55.71875 40.765625 55.71875 27.296875 \r\nQ 55.71875 13.875 49.015625 6.21875 \r\nQ 42.328125 -1.421875 30.609375 -1.421875 \r\nQ 18.84375 -1.421875 12.171875 6.21875 \r\nQ 5.515625 13.875 5.515625 27.296875 \r\nQ 5.515625 40.765625 12.171875 48.375 \r\nQ 18.84375 56 30.609375 56 \r\nz\r\n\" id=\"DejaVuSans-111\"/>\r\n       <path d=\"M 45.40625 46.390625 \r\nL 45.40625 75.984375 \r\nL 54.390625 75.984375 \r\nL 54.390625 0 \r\nL 45.40625 0 \r\nL 45.40625 8.203125 \r\nQ 42.578125 3.328125 38.25 0.953125 \r\nQ 33.9375 -1.421875 27.875 -1.421875 \r\nQ 17.96875 -1.421875 11.734375 6.484375 \r\nQ 5.515625 14.40625 5.515625 27.296875 \r\nQ 5.515625 40.1875 11.734375 48.09375 \r\nQ 17.96875 56 27.875 56 \r\nQ 33.9375 56 38.25 53.625 \r\nQ 42.578125 51.265625 45.40625 46.390625 \r\nz\r\nM 14.796875 27.296875 \r\nQ 14.796875 17.390625 18.875 11.75 \r\nQ 22.953125 6.109375 30.078125 6.109375 \r\nQ 37.203125 6.109375 41.296875 11.75 \r\nQ 45.40625 17.390625 45.40625 27.296875 \r\nQ 45.40625 37.203125 41.296875 42.84375 \r\nQ 37.203125 48.484375 30.078125 48.484375 \r\nQ 22.953125 48.484375 18.875 42.84375 \r\nQ 14.796875 37.203125 14.796875 27.296875 \r\nz\r\n\" id=\"DejaVuSans-100\"/>\r\n       <path d=\"M 56.203125 29.59375 \r\nL 56.203125 25.203125 \r\nL 14.890625 25.203125 \r\nQ 15.484375 15.921875 20.484375 11.0625 \r\nQ 25.484375 6.203125 34.421875 6.203125 \r\nQ 39.59375 6.203125 44.453125 7.46875 \r\nQ 49.3125 8.734375 54.109375 11.28125 \r\nL 54.109375 2.78125 \r\nQ 49.265625 0.734375 44.1875 -0.34375 \r\nQ 39.109375 -1.421875 33.890625 -1.421875 \r\nQ 20.796875 -1.421875 13.15625 6.1875 \r\nQ 5.515625 13.8125 5.515625 26.8125 \r\nQ 5.515625 40.234375 12.765625 48.109375 \r\nQ 20.015625 56 32.328125 56 \r\nQ 43.359375 56 49.78125 48.890625 \r\nQ 56.203125 41.796875 56.203125 29.59375 \r\nz\r\nM 47.21875 32.234375 \r\nQ 47.125 39.59375 43.09375 43.984375 \r\nQ 39.0625 48.390625 32.421875 48.390625 \r\nQ 24.90625 48.390625 20.390625 44.140625 \r\nQ 15.875 39.890625 15.1875 32.171875 \r\nz\r\n\" id=\"DejaVuSans-101\"/>\r\n      </defs>\r\n      <use xlink:href=\"#DejaVuSans-69\"/>\r\n      <use x=\"63.183594\" xlink:href=\"#DejaVuSans-112\"/>\r\n      <use x=\"126.660156\" xlink:href=\"#DejaVuSans-105\"/>\r\n      <use x=\"154.443359\" xlink:href=\"#DejaVuSans-115\"/>\r\n      <use x=\"206.542969\" xlink:href=\"#DejaVuSans-111\"/>\r\n      <use x=\"267.724609\" xlink:href=\"#DejaVuSans-100\"/>\r\n      <use x=\"331.201172\" xlink:href=\"#DejaVuSans-101\"/>\r\n     </g>\r\n    </g>\r\n   </g>\r\n   <g id=\"matplotlib.axis_2\">\r\n    <g id=\"ytick_1\">\r\n     <g id=\"line2d_7\">\r\n      <defs>\r\n       <path d=\"M 0 0 \r\nL -3.5 0 \r\n\" id=\"m499025ca4b\" style=\"stroke:#000000;stroke-width:0.8;\"/>\r\n      </defs>\r\n      <g>\r\n       <use style=\"stroke:#000000;stroke-width:0.8;\" x=\"53.328125\" xlink:href=\"#m499025ca4b\" y=\"228.621673\"/>\r\n      </g>\r\n     </g>\r\n     <g id=\"text_8\">\r\n      <!-- 0 -->\r\n      <g transform=\"translate(39.965625 232.420892)scale(0.1 -0.1)\">\r\n       <use xlink:href=\"#DejaVuSans-48\"/>\r\n      </g>\r\n     </g>\r\n    </g>\r\n    <g id=\"ytick_2\">\r\n     <g id=\"line2d_8\">\r\n      <g>\r\n       <use style=\"stroke:#000000;stroke-width:0.8;\" x=\"53.328125\" xlink:href=\"#m499025ca4b\" y=\"203.274209\"/>\r\n      </g>\r\n     </g>\r\n     <g id=\"text_9\">\r\n      <!-- 500 -->\r\n      <g transform=\"translate(27.240625 207.073428)scale(0.1 -0.1)\">\r\n       <defs>\r\n        <path d=\"M 10.796875 72.90625 \r\nL 49.515625 72.90625 \r\nL 49.515625 64.59375 \r\nL 19.828125 64.59375 \r\nL 19.828125 46.734375 \r\nQ 21.96875 47.46875 24.109375 47.828125 \r\nQ 26.265625 48.1875 28.421875 48.1875 \r\nQ 40.625 48.1875 47.75 41.5 \r\nQ 54.890625 34.8125 54.890625 23.390625 \r\nQ 54.890625 11.625 47.5625 5.09375 \r\nQ 40.234375 -1.421875 26.90625 -1.421875 \r\nQ 22.3125 -1.421875 17.546875 -0.640625 \r\nQ 12.796875 0.140625 7.71875 1.703125 \r\nL 7.71875 11.625 \r\nQ 12.109375 9.234375 16.796875 8.0625 \r\nQ 21.484375 6.890625 26.703125 6.890625 \r\nQ 35.15625 6.890625 40.078125 11.328125 \r\nQ 45.015625 15.765625 45.015625 23.390625 \r\nQ 45.015625 31 40.078125 35.4375 \r\nQ 35.15625 39.890625 26.703125 39.890625 \r\nQ 22.75 39.890625 18.8125 39.015625 \r\nQ 14.890625 38.140625 10.796875 36.28125 \r\nz\r\n\" id=\"DejaVuSans-53\"/>\r\n       </defs>\r\n       <use xlink:href=\"#DejaVuSans-53\"/>\r\n       <use x=\"63.623047\" xlink:href=\"#DejaVuSans-48\"/>\r\n       <use x=\"127.246094\" xlink:href=\"#DejaVuSans-48\"/>\r\n      </g>\r\n     </g>\r\n    </g>\r\n    <g id=\"ytick_3\">\r\n     <g id=\"line2d_9\">\r\n      <g>\r\n       <use style=\"stroke:#000000;stroke-width:0.8;\" x=\"53.328125\" xlink:href=\"#m499025ca4b\" y=\"177.926745\"/>\r\n      </g>\r\n     </g>\r\n     <g id=\"text_10\">\r\n      <!-- 1000 -->\r\n      <g transform=\"translate(20.878125 181.725964)scale(0.1 -0.1)\">\r\n       <use xlink:href=\"#DejaVuSans-49\"/>\r\n       <use x=\"63.623047\" xlink:href=\"#DejaVuSans-48\"/>\r\n       <use x=\"127.246094\" xlink:href=\"#DejaVuSans-48\"/>\r\n       <use x=\"190.869141\" xlink:href=\"#DejaVuSans-48\"/>\r\n      </g>\r\n     </g>\r\n    </g>\r\n    <g id=\"ytick_4\">\r\n     <g id=\"line2d_10\">\r\n      <g>\r\n       <use style=\"stroke:#000000;stroke-width:0.8;\" x=\"53.328125\" xlink:href=\"#m499025ca4b\" y=\"152.579281\"/>\r\n      </g>\r\n     </g>\r\n     <g id=\"text_11\">\r\n      <!-- 1500 -->\r\n      <g transform=\"translate(20.878125 156.378499)scale(0.1 -0.1)\">\r\n       <use xlink:href=\"#DejaVuSans-49\"/>\r\n       <use x=\"63.623047\" xlink:href=\"#DejaVuSans-53\"/>\r\n       <use x=\"127.246094\" xlink:href=\"#DejaVuSans-48\"/>\r\n       <use x=\"190.869141\" xlink:href=\"#DejaVuSans-48\"/>\r\n      </g>\r\n     </g>\r\n    </g>\r\n    <g id=\"ytick_5\">\r\n     <g id=\"line2d_11\">\r\n      <g>\r\n       <use style=\"stroke:#000000;stroke-width:0.8;\" x=\"53.328125\" xlink:href=\"#m499025ca4b\" y=\"127.231816\"/>\r\n      </g>\r\n     </g>\r\n     <g id=\"text_12\">\r\n      <!-- 2000 -->\r\n      <g transform=\"translate(20.878125 131.031035)scale(0.1 -0.1)\">\r\n       <use xlink:href=\"#DejaVuSans-50\"/>\r\n       <use x=\"63.623047\" xlink:href=\"#DejaVuSans-48\"/>\r\n       <use x=\"127.246094\" xlink:href=\"#DejaVuSans-48\"/>\r\n       <use x=\"190.869141\" xlink:href=\"#DejaVuSans-48\"/>\r\n      </g>\r\n     </g>\r\n    </g>\r\n    <g id=\"ytick_6\">\r\n     <g id=\"line2d_12\">\r\n      <g>\r\n       <use style=\"stroke:#000000;stroke-width:0.8;\" x=\"53.328125\" xlink:href=\"#m499025ca4b\" y=\"101.884352\"/>\r\n      </g>\r\n     </g>\r\n     <g id=\"text_13\">\r\n      <!-- 2500 -->\r\n      <g transform=\"translate(20.878125 105.683571)scale(0.1 -0.1)\">\r\n       <use xlink:href=\"#DejaVuSans-50\"/>\r\n       <use x=\"63.623047\" xlink:href=\"#DejaVuSans-53\"/>\r\n       <use x=\"127.246094\" xlink:href=\"#DejaVuSans-48\"/>\r\n       <use x=\"190.869141\" xlink:href=\"#DejaVuSans-48\"/>\r\n      </g>\r\n     </g>\r\n    </g>\r\n    <g id=\"ytick_7\">\r\n     <g id=\"line2d_13\">\r\n      <g>\r\n       <use style=\"stroke:#000000;stroke-width:0.8;\" x=\"53.328125\" xlink:href=\"#m499025ca4b\" y=\"76.536888\"/>\r\n      </g>\r\n     </g>\r\n     <g id=\"text_14\">\r\n      <!-- 3000 -->\r\n      <g transform=\"translate(20.878125 80.336107)scale(0.1 -0.1)\">\r\n       <defs>\r\n        <path d=\"M 40.578125 39.3125 \r\nQ 47.65625 37.796875 51.625 33 \r\nQ 55.609375 28.21875 55.609375 21.1875 \r\nQ 55.609375 10.40625 48.1875 4.484375 \r\nQ 40.765625 -1.421875 27.09375 -1.421875 \r\nQ 22.515625 -1.421875 17.65625 -0.515625 \r\nQ 12.796875 0.390625 7.625 2.203125 \r\nL 7.625 11.71875 \r\nQ 11.71875 9.328125 16.59375 8.109375 \r\nQ 21.484375 6.890625 26.8125 6.890625 \r\nQ 36.078125 6.890625 40.9375 10.546875 \r\nQ 45.796875 14.203125 45.796875 21.1875 \r\nQ 45.796875 27.640625 41.28125 31.265625 \r\nQ 36.765625 34.90625 28.71875 34.90625 \r\nL 20.21875 34.90625 \r\nL 20.21875 43.015625 \r\nL 29.109375 43.015625 \r\nQ 36.375 43.015625 40.234375 45.921875 \r\nQ 44.09375 48.828125 44.09375 54.296875 \r\nQ 44.09375 59.90625 40.109375 62.90625 \r\nQ 36.140625 65.921875 28.71875 65.921875 \r\nQ 24.65625 65.921875 20.015625 65.03125 \r\nQ 15.375 64.15625 9.8125 62.3125 \r\nL 9.8125 71.09375 \r\nQ 15.4375 72.65625 20.34375 73.4375 \r\nQ 25.25 74.21875 29.59375 74.21875 \r\nQ 40.828125 74.21875 47.359375 69.109375 \r\nQ 53.90625 64.015625 53.90625 55.328125 \r\nQ 53.90625 49.265625 50.4375 45.09375 \r\nQ 46.96875 40.921875 40.578125 39.3125 \r\nz\r\n\" id=\"DejaVuSans-51\"/>\r\n       </defs>\r\n       <use xlink:href=\"#DejaVuSans-51\"/>\r\n       <use x=\"63.623047\" xlink:href=\"#DejaVuSans-48\"/>\r\n       <use x=\"127.246094\" xlink:href=\"#DejaVuSans-48\"/>\r\n       <use x=\"190.869141\" xlink:href=\"#DejaVuSans-48\"/>\r\n      </g>\r\n     </g>\r\n    </g>\r\n    <g id=\"ytick_8\">\r\n     <g id=\"line2d_14\">\r\n      <g>\r\n       <use style=\"stroke:#000000;stroke-width:0.8;\" x=\"53.328125\" xlink:href=\"#m499025ca4b\" y=\"51.189424\"/>\r\n      </g>\r\n     </g>\r\n     <g id=\"text_15\">\r\n      <!-- 3500 -->\r\n      <g transform=\"translate(20.878125 54.988642)scale(0.1 -0.1)\">\r\n       <use xlink:href=\"#DejaVuSans-51\"/>\r\n       <use x=\"63.623047\" xlink:href=\"#DejaVuSans-53\"/>\r\n       <use x=\"127.246094\" xlink:href=\"#DejaVuSans-48\"/>\r\n       <use x=\"190.869141\" xlink:href=\"#DejaVuSans-48\"/>\r\n      </g>\r\n     </g>\r\n    </g>\r\n    <g id=\"ytick_9\">\r\n     <g id=\"line2d_15\">\r\n      <g>\r\n       <use style=\"stroke:#000000;stroke-width:0.8;\" x=\"53.328125\" xlink:href=\"#m499025ca4b\" y=\"25.841959\"/>\r\n      </g>\r\n     </g>\r\n     <g id=\"text_16\">\r\n      <!-- 4000 -->\r\n      <g transform=\"translate(20.878125 29.641178)scale(0.1 -0.1)\">\r\n       <use xlink:href=\"#DejaVuSans-52\"/>\r\n       <use x=\"63.623047\" xlink:href=\"#DejaVuSans-48\"/>\r\n       <use x=\"127.246094\" xlink:href=\"#DejaVuSans-48\"/>\r\n       <use x=\"190.869141\" xlink:href=\"#DejaVuSans-48\"/>\r\n      </g>\r\n     </g>\r\n    </g>\r\n    <g id=\"text_17\">\r\n     <!-- Reward -->\r\n     <g transform=\"translate(14.798438 149.659219)rotate(-90)scale(0.1 -0.1)\">\r\n      <defs>\r\n       <path d=\"M 44.390625 34.1875 \r\nQ 47.5625 33.109375 50.5625 29.59375 \r\nQ 53.5625 26.078125 56.59375 19.921875 \r\nL 66.609375 0 \r\nL 56 0 \r\nL 46.6875 18.703125 \r\nQ 43.0625 26.03125 39.671875 28.421875 \r\nQ 36.28125 30.8125 30.421875 30.8125 \r\nL 19.671875 30.8125 \r\nL 19.671875 0 \r\nL 9.8125 0 \r\nL 9.8125 72.90625 \r\nL 32.078125 72.90625 \r\nQ 44.578125 72.90625 50.734375 67.671875 \r\nQ 56.890625 62.453125 56.890625 51.90625 \r\nQ 56.890625 45.015625 53.6875 40.46875 \r\nQ 50.484375 35.9375 44.390625 34.1875 \r\nz\r\nM 19.671875 64.796875 \r\nL 19.671875 38.921875 \r\nL 32.078125 38.921875 \r\nQ 39.203125 38.921875 42.84375 42.21875 \r\nQ 46.484375 45.515625 46.484375 51.90625 \r\nQ 46.484375 58.296875 42.84375 61.546875 \r\nQ 39.203125 64.796875 32.078125 64.796875 \r\nz\r\n\" id=\"DejaVuSans-82\"/>\r\n       <path d=\"M 4.203125 54.6875 \r\nL 13.1875 54.6875 \r\nL 24.421875 12.015625 \r\nL 35.59375 54.6875 \r\nL 46.1875 54.6875 \r\nL 57.421875 12.015625 \r\nL 68.609375 54.6875 \r\nL 77.59375 54.6875 \r\nL 63.28125 0 \r\nL 52.6875 0 \r\nL 40.921875 44.828125 \r\nL 29.109375 0 \r\nL 18.5 0 \r\nz\r\n\" id=\"DejaVuSans-119\"/>\r\n       <path d=\"M 34.28125 27.484375 \r\nQ 23.390625 27.484375 19.1875 25 \r\nQ 14.984375 22.515625 14.984375 16.5 \r\nQ 14.984375 11.71875 18.140625 8.90625 \r\nQ 21.296875 6.109375 26.703125 6.109375 \r\nQ 34.1875 6.109375 38.703125 11.40625 \r\nQ 43.21875 16.703125 43.21875 25.484375 \r\nL 43.21875 27.484375 \r\nz\r\nM 52.203125 31.203125 \r\nL 52.203125 0 \r\nL 43.21875 0 \r\nL 43.21875 8.296875 \r\nQ 40.140625 3.328125 35.546875 0.953125 \r\nQ 30.953125 -1.421875 24.3125 -1.421875 \r\nQ 15.921875 -1.421875 10.953125 3.296875 \r\nQ 6 8.015625 6 15.921875 \r\nQ 6 25.140625 12.171875 29.828125 \r\nQ 18.359375 34.515625 30.609375 34.515625 \r\nL 43.21875 34.515625 \r\nL 43.21875 35.40625 \r\nQ 43.21875 41.609375 39.140625 45 \r\nQ 35.0625 48.390625 27.6875 48.390625 \r\nQ 23 48.390625 18.546875 47.265625 \r\nQ 14.109375 46.140625 10.015625 43.890625 \r\nL 10.015625 52.203125 \r\nQ 14.9375 54.109375 19.578125 55.046875 \r\nQ 24.21875 56 28.609375 56 \r\nQ 40.484375 56 46.34375 49.84375 \r\nQ 52.203125 43.703125 52.203125 31.203125 \r\nz\r\n\" id=\"DejaVuSans-97\"/>\r\n       <path d=\"M 41.109375 46.296875 \r\nQ 39.59375 47.171875 37.8125 47.578125 \r\nQ 36.03125 48 33.890625 48 \r\nQ 26.265625 48 22.1875 43.046875 \r\nQ 18.109375 38.09375 18.109375 28.8125 \r\nL 18.109375 0 \r\nL 9.078125 0 \r\nL 9.078125 54.6875 \r\nL 18.109375 54.6875 \r\nL 18.109375 46.1875 \r\nQ 20.953125 51.171875 25.484375 53.578125 \r\nQ 30.03125 56 36.53125 56 \r\nQ 37.453125 56 38.578125 55.875 \r\nQ 39.703125 55.765625 41.0625 55.515625 \r\nz\r\n\" id=\"DejaVuSans-114\"/>\r\n      </defs>\r\n      <use xlink:href=\"#DejaVuSans-82\"/>\r\n      <use x=\"64.982422\" xlink:href=\"#DejaVuSans-101\"/>\r\n      <use x=\"126.505859\" xlink:href=\"#DejaVuSans-119\"/>\r\n      <use x=\"208.292969\" xlink:href=\"#DejaVuSans-97\"/>\r\n      <use x=\"269.572266\" xlink:href=\"#DejaVuSans-114\"/>\r\n      <use x=\"308.935547\" xlink:href=\"#DejaVuSans-100\"/>\r\n     </g>\r\n    </g>\r\n   </g>\r\n   <g id=\"line2d_16\">\r\n    <path clip-path=\"url(#pb7a2684221)\" d=\"M 68.546307 228.621687 \r\nL 106.613447 228.707442 \r\nL 106.744325 228.703049 \r\nL 111.218515 228.619852 \r\nL 111.349393 228.615464 \r\nL 112.886445 228.517046 \r\nL 113.020366 228.507591 \r\nL 114.173916 228.407162 \r\nL 114.307837 228.397719 \r\nL 115.540522 228.292619 \r\nL 115.686618 228.262967 \r\nL 116.968002 228.15815 \r\nL 117.117142 228.123447 \r\nL 118.471573 228.019024 \r\nL 118.611582 227.999476 \r\nL 119.223359 227.896265 \r\nL 119.366411 227.871675 \r\nL 120.465175 227.771 \r\nL 120.596053 227.76661 \r\nL 121.378275 227.664284 \r\nL 121.527415 227.62959 \r\nL 122.48617 227.528154 \r\nL 122.638353 227.488402 \r\nL 123.34144 227.38566 \r\nL 123.472318 227.381255 \r\nL 124.233235 227.278789 \r\nL 124.382374 227.244092 \r\nL 125.292431 227.142404 \r\nL 125.426352 227.132965 \r\nL 126.887312 227.029051 \r\nL 127.033408 226.999389 \r\nL 128.071298 226.898385 \r\nL 128.217394 226.868719 \r\nL 129.127451 226.767024 \r\nL 129.264416 226.75253 \r\nL 130.317525 226.646557 \r\nL 130.457533 226.627017 \r\nL 131.242799 226.524686 \r\nL 131.379764 226.510193 \r\nL 132.064589 226.407362 \r\nL 132.210685 226.377736 \r\nL 132.913772 226.275001 \r\nL 133.04465 226.270623 \r\nL 133.921226 226.16372 \r\nL 134.061235 226.144178 \r\nL 134.883025 226.042045 \r\nL 135.023033 226.022511 \r\nL 135.716989 225.919693 \r\nL 135.863085 225.890051 \r\nL 136.803578 225.788529 \r\nL 136.9375 225.779077 \r\nL 137.804945 225.677167 \r\nL 137.947997 225.652569 \r\nL 138.754569 225.550355 \r\nL 138.88849 225.540921 \r\nL 139.579403 225.438067 \r\nL 139.716368 225.423581 \r\nL 140.872961 225.323193 \r\nL 141.016013 225.298599 \r\nL 141.767799 225.191033 \r\nL 141.919982 225.151274 \r\nL 142.933523 225.050122 \r\nL 143.091794 225.000262 \r\nL 144.138815 224.899318 \r\nL 144.290999 224.85958 \r\nL 145.045828 224.757098 \r\nL 145.188881 224.732495 \r\nL 145.666736 224.628564 \r\nL 145.800658 224.619125 \r\nL 146.357649 224.515598 \r\nL 146.500701 224.491003 \r\nL 147.267705 224.388577 \r\nL 147.410757 224.363992 \r\nL 148.199067 224.261678 \r\nL 148.332988 224.252235 \r\nL 149.075643 224.144601 \r\nL 149.218695 224.119994 \r\nL 149.830472 224.016777 \r\nL 149.982656 223.977026 \r\nL 150.755747 223.874628 \r\nL 150.895756 223.855086 \r\nL 151.537969 223.751996 \r\nL 151.677978 223.732451 \r\nL 152.198445 223.628735 \r\nL 152.353672 223.58392 \r\nL 152.935013 223.475436 \r\nL 153.078065 223.450848 \r\nL 153.592445 223.347123 \r\nL 153.735497 223.322519 \r\nL 154.359449 223.214284 \r\nL 154.505545 223.184653 \r\nL 155.00775 223.080855 \r\nL 155.162977 223.036045 \r\nL 155.540391 222.931564 \r\nL 155.686487 222.901923 \r\nL 156.22826 222.798339 \r\nL 156.380443 222.758601 \r\nL 156.791338 222.654344 \r\nL 156.943522 222.614591 \r\nL 157.491382 222.511018 \r\nL 157.63139 222.491462 \r\nL 157.908364 222.386475 \r\nL 158.05446 222.356828 \r\nL 158.498835 222.252729 \r\nL 158.651019 222.212978 \r\nL 159.00104 222.108407 \r\nL 159.147136 222.078769 \r\nL 159.725433 221.970313 \r\nL 159.88066 221.925508 \r\nL 160.297643 221.821274 \r\nL 160.443739 221.791625 \r\nL 160.751149 221.686795 \r\nL 160.903332 221.64706 \r\nL 161.362926 221.543034 \r\nL 161.515109 221.503283 \r\nL 161.944266 221.399122 \r\nL 162.087319 221.374529 \r\nL 162.577349 221.270711 \r\nL 162.714314 221.256242 \r\nL 163.021724 221.151422 \r\nL 163.170864 221.116718 \r\nL 163.520886 221.012107 \r\nL 163.676113 220.967316 \r\nL 164.160056 220.86345 \r\nL 164.306152 220.833809 \r\nL 164.680523 220.72935 \r\nL 164.817488 220.714866 \r\nL 165.304474 220.610987 \r\nL 165.444483 220.591455 \r\nL 165.806679 220.486941 \r\nL 165.980168 220.41182 \r\nL 166.357583 220.307377 \r\nL 166.500635 220.2828 \r\nL 166.908487 220.178504 \r\nL 167.054583 220.148882 \r\nL 167.480696 220.044705 \r\nL 167.63288 220.004949 \r\nL 168.046818 219.900706 \r\nL 168.192914 219.871075 \r\nL 168.615984 219.766873 \r\nL 168.771211 219.722071 \r\nL 169.21863 219.618005 \r\nL 169.370813 219.578261 \r\nL 169.663005 219.473373 \r\nL 169.848669 219.37803 \r\nL 170.229127 219.2736 \r\nL 170.381311 219.233858 \r\nL 170.783075 219.129545 \r\nL 170.932214 219.09487 \r\nL 171.407026 218.990968 \r\nL 171.589646 218.900721 \r\nL 171.927493 218.796081 \r\nL 172.079677 218.756347 \r\nL 172.490572 218.6521 \r\nL 172.636668 218.622471 \r\nL 173.029301 218.518116 \r\nL 173.163222 218.452946 \r\nL 173.525418 218.348426 \r\nL 173.698907 218.273324 \r\nL 173.924139 218.168095 \r\nL 174.076322 218.128349 \r\nL 174.398951 218.02363 \r\nL 174.551134 217.983876 \r\nL 174.928549 217.879429 \r\nL 175.056383 217.834498 \r\nL 175.312051 217.729407 \r\nL 175.473365 217.67451 \r\nL 175.993832 217.570846 \r\nL 176.146016 217.531095 \r\nL 176.511256 217.426594 \r\nL 176.690832 217.341378 \r\nL 177.049985 217.236861 \r\nL 177.226517 217.156711 \r\nL 177.613063 217.05232 \r\nL 177.765246 217.012581 \r\nL 178.255277 216.90874 \r\nL 178.389198 216.848622 \r\nL 178.5566 216.748127 \r\nL 178.690521 216.688009 \r\nL 179.007062 216.588321 \r\nL 179.140984 216.523139 \r\nL 179.35404 216.417832 \r\nL 179.521442 216.352829 \r\nL 179.731455 216.247498 \r\nL 179.898857 216.182471 \r\nL 180.221485 216.077744 \r\nL 180.413236 215.972334 \r\nL 180.720647 215.867515 \r\nL 180.900223 215.782296 \r\nL 181.317205 215.678063 \r\nL 181.493738 215.597882 \r\nL 181.788974 215.492987 \r\nL 181.977681 215.392624 \r\nL 182.236393 215.287572 \r\nL 182.400751 215.227618 \r\nL 182.66555 215.122602 \r\nL 182.817733 215.08288 \r\nL 183.03079 214.977578 \r\nL 183.204279 214.902464 \r\nL 183.508646 214.797656 \r\nL 183.673004 214.73771 \r\nL 183.919541 214.632589 \r\nL 184.077811 214.582761 \r\nL 184.388265 214.477992 \r\nL 184.522187 214.41789 \r\nL 184.969606 214.313841 \r\nL 185.143095 214.238706 \r\nL 185.532684 214.134331 \r\nL 185.687911 214.08954 \r\nL 185.904011 213.984259 \r\nL 186.059238 213.939454 \r\nL 186.281426 213.834205 \r\nL 186.473177 213.728796 \r\nL 186.750151 213.62384 \r\nL 186.917552 213.558837 \r\nL 187.234094 213.454092 \r\nL 187.407583 213.37899 \r\nL 187.59629 213.273584 \r\nL 187.772823 213.193438 \r\nL 187.998054 213.088173 \r\nL 188.183718 212.992864 \r\nL 188.41808 212.887677 \r\nL 188.582438 212.827726 \r\nL 188.938547 212.723179 \r\nL 189.099861 212.668285 \r\nL 189.367704 212.563296 \r\nL 189.568586 212.442735 \r\nL 189.830341 212.342748 \r\nL 189.961219 212.292756 \r\nL 190.146883 212.197433 \r\nL 190.396464 212.092303 \r\nL 190.57604 212.007104 \r\nL 190.859101 211.902177 \r\nL 191.041721 211.811921 \r\nL 191.300433 211.706855 \r\nL 191.492184 211.601433 \r\nL 191.781332 211.496526 \r\nL 191.948734 211.431527 \r\nL 192.247013 211.326666 \r\nL 192.420502 211.251574 \r\nL 192.606166 211.146141 \r\nL 192.76748 211.091264 \r\nL 193.023148 210.9862 \r\nL 193.202724 210.90098 \r\nL 193.46448 210.795938 \r\nL 193.631881 210.73093 \r\nL 193.969728 210.631343 \r\nL 194.106693 210.556053 \r\nL 194.459759 210.451495 \r\nL 194.636291 210.371315 \r\nL 194.986313 210.266735 \r\nL 195.138496 210.226985 \r\nL 195.345466 210.12165 \r\nL 195.543304 210.006129 \r\nL 195.753317 209.900814 \r\nL 195.932893 209.815623 \r\nL 196.121601 209.71022 \r\nL 196.301177 209.62504 \r\nL 196.556845 209.519969 \r\nL 196.742509 209.424671 \r\nL 197.113836 209.325275 \r\nL 197.247757 209.26011 \r\nL 197.527775 209.155173 \r\nL 197.719526 209.049769 \r\nL 197.975194 208.944703 \r\nL 198.176076 208.82413 \r\nL 198.474355 208.724342 \r\nL 198.608277 208.664229 \r\nL 198.766547 208.558643 \r\nL 198.952211 208.463335 \r\nL 199.15918 208.358017 \r\nL 199.363106 208.23241 \r\nL 199.573119 208.127083 \r\nL 199.740521 208.062087 \r\nL 199.974883 207.956913 \r\nL 200.166634 207.851516 \r\nL 200.373603 207.74618 \r\nL 200.541005 207.681195 \r\nL 200.705363 207.575624 \r\nL 200.878852 207.500547 \r\nL 201.116258 207.395363 \r\nL 201.301922 207.300055 \r\nL 201.575852 207.200158 \r\nL 201.724991 207.089473 \r\nL 201.95631 206.984271 \r\nL 202.166323 206.84853 \r\nL 202.370249 206.743186 \r\nL 202.525476 206.698398 \r\nL 202.854192 206.59374 \r\nL 203.048986 206.483289 \r\nL 203.246825 206.377928 \r\nL 203.487274 206.191673 \r\nL 203.654676 206.086128 \r\nL 203.843383 205.985749 \r\nL 204.032091 205.880315 \r\nL 204.248191 205.734498 \r\nL 204.439942 205.629066 \r\nL 204.582994 205.5386 \r\nL 204.735178 205.498861 \r\nL 204.93606 205.393501 \r\nL 205.115636 205.308314 \r\nL 205.316518 205.20296 \r\nL 205.505225 205.10262 \r\nL 205.742632 204.99744 \r\nL 205.88264 204.977903 \r\nL 206.062217 204.872441 \r\nL 206.241793 204.787256 \r\nL 206.497461 204.682184 \r\nL 206.664863 204.617193 \r\nL 206.847483 204.51172 \r\nL 207.081845 204.335604 \r\nL 207.328382 204.230498 \r\nL 207.507958 204.14529 \r\nL 207.672316 204.039732 \r\nL 207.867111 203.929291 \r\nL 208.028425 203.823719 \r\nL 208.198871 203.753678 \r\nL 208.399753 203.648308 \r\nL 208.62194 203.492371 \r\nL 208.798473 203.386881 \r\nL 209.008486 203.251159 \r\nL 209.209368 203.145811 \r\nL 209.41025 203.025229 \r\nL 209.68418 202.920289 \r\nL 209.83332 202.809581 \r\nL 210.043333 202.673865 \r\nL 210.274651 202.568675 \r\nL 210.481621 202.438007 \r\nL 210.636848 202.337476 \r\nL 210.773813 202.262195 \r\nL 210.916865 202.156535 \r\nL 211.108616 202.051126 \r\nL 211.248625 201.945452 \r\nL 211.449507 201.824914 \r\nL 211.653432 201.719554 \r\nL 211.848227 201.609111 \r\nL 212.009541 201.503536 \r\nL 212.265209 201.292016 \r\nL 212.490441 201.186796 \r\nL 212.73089 201.000575 \r\nL 212.922641 200.900249 \r\nL 213.059606 200.82496 \r\nL 213.281794 200.719741 \r\nL 213.479633 200.604254 \r\nL 213.70182 200.504086 \r\nL 213.844873 200.413612 \r\nL 213.957488 200.30779 \r\nL 214.130977 200.232697 \r\nL 214.280117 200.127048 \r\nL 214.414038 200.011203 \r\nL 214.578396 199.905664 \r\nL 214.809715 199.734591 \r\nL 214.949724 199.628913 \r\nL 215.229741 199.376998 \r\nL 215.430623 199.271643 \r\nL 215.634549 199.146039 \r\nL 215.817169 199.04059 \r\nL 215.963265 198.934957 \r\nL 216.10023 198.829261 \r\nL 216.288937 198.728931 \r\nL 216.453295 198.623365 \r\nL 216.611566 198.482303 \r\nL 216.882452 198.245563 \r\nL 217.062028 198.140085 \r\nL 217.275085 197.999337 \r\nL 217.405963 197.893618 \r\nL 217.622063 197.747814 \r\nL 217.752941 197.642095 \r\nL 217.978172 197.481127 \r\nL 218.124268 197.375481 \r\nL 218.346456 197.21956 \r\nL 218.471246 197.113804 \r\nL 218.687346 196.968015 \r\nL 218.842573 196.862436 \r\nL 218.994757 196.736556 \r\nL 219.149984 196.630962 \r\nL 219.390433 196.444758 \r\nL 219.521311 196.339028 \r\nL 219.676538 196.203011 \r\nL 219.816547 196.097333 \r\nL 220.023516 195.966672 \r\nL 220.111782 195.860705 \r\nL 220.318752 195.730058 \r\nL 220.48311 195.624518 \r\nL 220.662686 195.539316 \r\nL 220.81487 195.433727 \r\nL 221.052276 195.252549 \r\nL 221.201415 195.146907 \r\nL 221.423603 194.991004 \r\nL 221.639703 194.88572 \r\nL 221.828411 194.785397 \r\nL 222.047555 194.680149 \r\nL 222.18452 194.604881 \r\nL 222.361052 194.499413 \r\nL 222.650201 194.232373 \r\nL 222.76586 194.126561 \r\nL 222.924131 193.985526 \r\nL 223.079358 193.87994 \r\nL 223.325895 193.683622 \r\nL 223.493296 193.578107 \r\nL 223.812881 193.26054 \r\nL 224.004632 193.155148 \r\nL 224.272475 192.92347 \r\nL 224.400309 192.817719 \r\nL 224.552492 192.696928 \r\nL 224.701632 192.596364 \r\nL 224.844684 192.505917 \r\nL 224.972518 192.400184 \r\nL 225.115571 192.309731 \r\nL 225.267754 192.204153 \r\nL 225.532553 191.977498 \r\nL 225.651256 191.876767 \r\nL 225.803439 191.755958 \r\nL 226.062151 191.539444 \r\nL 226.196072 191.438801 \r\nL 226.339125 191.348351 \r\nL 226.515657 191.24794 \r\nL 226.667841 191.127131 \r\nL 226.917421 190.925755 \r\nL 227.030037 190.819926 \r\nL 227.243094 190.679165 \r\nL 227.355709 190.573336 \r\nL 227.577897 190.417447 \r\nL 227.775735 190.312097 \r\nL 228.055753 190.060195 \r\nL 228.198805 189.954522 \r\nL 228.460561 189.732942 \r\nL 228.579264 189.632241 \r\nL 228.734491 189.501312 \r\nL 228.831888 189.395401 \r\nL 229.072338 189.209175 \r\nL 229.261045 189.103777 \r\nL 229.452796 188.998365 \r\nL 229.629329 188.892899 \r\nL 229.818036 188.792561 \r\nL 229.948914 188.686845 \r\nL 230.265455 188.374329 \r\nL 230.405464 188.268663 \r\nL 230.636782 188.097569 \r\nL 230.80114 187.992038 \r\nL 231.084201 187.735094 \r\nL 231.193773 187.62924 \r\nL 231.40683 187.4885 \r\nL 231.522489 187.382694 \r\nL 231.77207 187.181331 \r\nL 231.95469 187.080961 \r\nL 232.112961 186.939919 \r\nL 232.37776 186.71328 \r\nL 232.545161 186.607754 \r\nL 232.80996 186.381112 \r\nL 232.928663 186.275324 \r\nL 233.156938 186.109293 \r\nL 233.32434 186.003786 \r\nL 233.592183 185.77212 \r\nL 233.750453 185.666545 \r\nL 234.006121 185.455075 \r\nL 234.149174 185.349411 \r\nL 234.407885 185.132876 \r\nL 234.550938 185.032302 \r\nL 234.709208 184.891261 \r\nL 234.84313 184.785552 \r\nL 234.998357 184.654632 \r\nL 235.153584 184.554109 \r\nL 235.296636 184.402853 \r\nL 235.506649 184.267153 \r\nL 235.64057 184.161455 \r\nL 235.777535 184.086166 \r\nL 235.884064 183.980301 \r\nL 236.109295 183.81933 \r\nL 236.227998 183.713559 \r\nL 236.456273 183.547559 \r\nL 236.644981 183.442135 \r\nL 236.797164 183.31626 \r\nL 236.934129 183.210579 \r\nL 237.150229 183.064768 \r\nL 237.244583 182.95886 \r\nL 237.497207 182.752456 \r\nL 237.664609 182.646929 \r\nL 237.880709 182.501153 \r\nL 237.996369 182.395346 \r\nL 238.318997 182.072768 \r\nL 238.449875 181.967044 \r\nL 238.696412 181.77074 \r\nL 238.845552 181.665132 \r\nL 239.00991 181.503847 \r\nL 239.201661 181.398462 \r\nL 239.347757 181.297902 \r\nL 239.487765 181.161821 \r\nL 239.652123 180.99546 \r\nL 239.80735 180.889873 \r\nL 239.959534 180.764004 \r\nL 240.078237 180.658223 \r\nL 240.324774 180.461904 \r\nL 240.50435 180.356459 \r\nL 240.671752 180.185044 \r\nL 240.747843 180.07903 \r\nL 240.896983 179.96328 \r\nL 241.012642 179.857481 \r\nL 241.253092 179.671271 \r\nL 241.329184 179.565248 \r\nL 241.581808 179.358828 \r\nL 241.715729 179.253133 \r\nL 242.0901 178.844664 \r\nL 242.214891 178.738911 \r\nL 242.434035 178.588059 \r\nL 242.558825 178.487377 \r\nL 242.720139 178.331145 \r\nL 242.851017 178.230486 \r\nL 242.987982 178.09947 \r\nL 243.155384 177.993967 \r\nL 243.478012 177.671358 \r\nL 243.584541 177.56551 \r\nL 243.840209 177.354045 \r\nL 243.989349 177.248422 \r\nL 244.199362 177.112739 \r\nL 244.372851 177.007262 \r\nL 244.518947 176.901613 \r\nL 244.661999 176.79597 \r\nL 244.91158 176.594626 \r\nL 245.097243 176.489238 \r\nL 245.386392 176.222216 \r\nL 245.514226 176.116493 \r\nL 245.888597 175.70803 \r\nL 246.0073 175.607314 \r\nL 246.171658 175.440964 \r\nL 246.290361 175.335193 \r\nL 246.561247 175.098485 \r\nL 246.701256 174.992812 \r\nL 246.947793 174.796493 \r\nL 247.057365 174.690676 \r\nL 247.282596 174.529716 \r\nL 247.413474 174.424005 \r\nL 247.590006 174.222247 \r\nL 247.678273 174.116303 \r\nL 247.839587 173.965132 \r\nL 247.906548 173.864146 \r\nL 248.076993 173.682636 \r\nL 248.226133 173.577034 \r\nL 248.527456 173.289799 \r\nL 248.65529 173.189133 \r\nL 248.798342 173.032817 \r\nL 248.923132 172.927069 \r\nL 249.215324 172.655003 \r\nL 249.355333 172.54935 \r\nL 249.677962 172.226751 \r\nL 249.808839 172.121041 \r\nL 249.985372 171.919278 \r\nL 250.131468 171.813666 \r\nL 250.301913 171.627107 \r\nL 250.387136 171.521155 \r\nL 250.840642 170.981332 \r\nL 250.941083 170.880535 \r\nL 251.096311 170.749611 \r\nL 251.199795 170.643743 \r\nL 251.525468 170.316078 \r\nL 251.656345 170.215433 \r\nL 251.805485 170.033803 \r\nL 251.878533 169.927769 \r\nL 252.058109 169.710835 \r\nL 252.228555 169.610419 \r\nL 252.362476 169.448975 \r\nL 252.49031 169.343244 \r\nL 252.660755 169.161721 \r\nL 252.755109 169.055809 \r\nL 253.105131 168.687749 \r\nL 253.211659 168.5819 \r\nL 253.479502 168.35023 \r\nL 253.610379 168.244509 \r\nL 253.756475 168.072996 \r\nL 253.85996 167.967129 \r\nL 254.121715 167.745566 \r\nL 254.19172 167.639523 \r\nL 254.468693 167.392701 \r\nL 254.599571 167.286983 \r\nL 254.766973 167.115596 \r\nL 254.900894 167.009899 \r\nL 255.062208 166.853675 \r\nL 255.211348 166.748046 \r\nL 255.552239 166.395135 \r\nL 255.631374 166.289146 \r\nL 256.08488 165.749328 \r\nL 256.160972 165.648395 \r\nL 256.310112 165.537707 \r\nL 256.605347 165.260586 \r\nL 256.757531 165.154995 \r\nL 257.064941 164.857662 \r\nL 257.183644 164.751887 \r\nL 257.354089 164.570373 \r\nL 257.472792 164.464592 \r\nL 257.774115 164.177366 \r\nL 257.871513 164.071474 \r\nL 258.130224 163.854949 \r\nL 258.194141 163.748854 \r\nL 258.370674 163.542023 \r\nL 258.495464 163.441358 \r\nL 258.647648 163.32056 \r\nL 258.988539 162.967665 \r\nL 259.107242 162.861881 \r\nL 259.414652 162.564555 \r\nL 259.524224 162.458714 \r\nL 259.72815 162.165877 \r\nL 259.874246 162.060243 \r\nL 260.163394 161.793227 \r\nL 260.260791 161.687345 \r\nL 260.598638 161.339543 \r\nL 260.671686 161.233517 \r\nL 260.924311 161.027108 \r\nL 261.015621 160.926242 \r\nL 261.18911 160.73461 \r\nL 261.268245 160.628603 \r\nL 261.636529 160.230242 \r\nL 261.788712 160.129711 \r\nL 261.937852 159.948064 \r\nL 262.090035 159.822196 \r\nL 262.242218 159.716594 \r\nL 262.476581 159.540534 \r\nL 262.583109 159.439767 \r\nL 262.729205 159.334146 \r\nL 262.83269 159.228292 \r\nL 263.204017 158.824857 \r\nL 263.362288 158.719278 \r\nL 263.739702 158.305801 \r\nL 263.821881 158.199834 \r\nL 264.132335 157.897476 \r\nL 264.260169 157.791737 \r\nL 264.671064 157.32267 \r\nL 264.780636 157.221923 \r\nL 264.978475 156.944241 \r\nL 265.085003 156.838385 \r\nL 265.45633 156.434977 \r\nL 265.562859 156.329137 \r\nL 265.946361 155.905544 \r\nL 266.089413 155.799915 \r\nL 266.433348 155.441963 \r\nL 266.539876 155.336115 \r\nL 266.841199 155.048898 \r\nL 266.965989 154.943146 \r\nL 267.416452 154.408432 \r\nL 267.526024 154.302608 \r\nL 267.824303 154.020439 \r\nL 267.900395 153.919487 \r\nL 268.043447 153.768221 \r\nL 268.134757 153.662284 \r\nL 268.509128 153.253837 \r\nL 268.621744 153.14805 \r\nL 268.929154 152.850727 \r\nL 269.029595 152.74992 \r\nL 269.218303 152.50261 \r\nL 269.324831 152.401839 \r\nL 269.483102 152.260809 \r\nL 269.550062 152.15475 \r\nL 269.842254 151.882704 \r\nL 269.930521 151.781829 \r\nL 270.122272 151.529473 \r\nL 270.499686 151.115944 \r\nL 270.578822 151.009957 \r\nL 270.910581 150.67223 \r\nL 271.026241 150.566445 \r\nL 271.187555 150.410253 \r\nL 271.275821 150.304319 \r\nL 271.452354 150.102581 \r\nL 271.555839 150.001791 \r\nL 271.74759 149.749459 \r\nL 272.170659 149.260191 \r\nL 272.252838 149.159285 \r\nL 272.438502 148.927179 \r\nL 272.922445 148.336866 \r\nL 272.998537 148.235924 \r\nL 273.1842 148.003831 \r\nL 273.531178 147.640849 \r\nL 273.637707 147.535014 \r\nL 274.039471 147.081111 \r\nL 274.133825 146.975195 \r\nL 274.292095 146.834179 \r\nL 274.709078 146.355029 \r\nL 274.839955 146.249314 \r\nL 275.18389 145.89141 \r\nL 275.305636 145.785666 \r\nL 275.686095 145.367118 \r\nL 275.759143 145.261091 \r\nL 276.139601 144.842562 \r\nL 276.230911 144.736641 \r\nL 276.4044 144.539935 \r\nL 276.526147 144.439246 \r\nL 276.702679 144.237493 \r\nL 276.800077 144.131618 \r\nL 277.16836 143.733261 \r\nL 277.250539 143.627286 \r\nL 277.609692 143.244099 \r\nL 277.719264 143.138278 \r\nL 278.428438 142.174243 \r\nL 278.528879 142.06838 \r\nL 278.665844 141.896822 \r\nL 278.830202 141.730467 \r\nL 278.951949 141.624701 \r\nL 279.371975 141.140503 \r\nL 279.466329 141.044737 \r\nL 279.612425 140.873234 \r\nL 279.737215 140.772564 \r\nL 279.944184 140.469617 \r\nL 280.42204 139.889434 \r\nL 280.495088 139.78342 \r\nL 280.866415 139.380024 \r\nL 280.966856 139.274149 \r\nL 281.249917 139.017244 \r\nL 281.332096 138.916344 \r\nL 281.493411 138.765195 \r\nL 281.581677 138.659258 \r\nL 281.980398 138.210405 \r\nL 282.096057 138.104616 \r\nL 282.281721 137.872533 \r\nL 282.373031 137.771675 \r\nL 282.506952 137.655853 \r\nL 282.61348 137.550022 \r\nL 283.018288 137.091082 \r\nL 283.149166 136.985382 \r\nL 283.450489 136.698139 \r\nL 283.547886 136.592249 \r\nL 283.73355 136.355075 \r\nL 283.809641 136.259197 \r\nL 283.955737 136.087708 \r\nL 284.025742 135.986738 \r\nL 284.196187 135.805224 \r\nL 284.308803 135.704497 \r\nL 284.479248 135.522999 \r\nL 284.759265 135.271155 \r\nL 284.832313 135.165125 \r\nL 285.01189 134.953283 \r\nL 285.471483 134.403426 \r\nL 285.55975 134.297498 \r\nL 286.08326 133.641543 \r\nL 286.171527 133.535598 \r\nL 286.530679 133.152413 \r\nL 286.618946 133.046485 \r\nL 286.758954 132.910448 \r\nL 287.102889 132.552525 \r\nL 287.209417 132.446689 \r\nL 287.599006 132.012976 \r\nL 287.748146 131.907389 \r\nL 288.201652 131.367626 \r\nL 288.308181 131.261793 \r\nL 288.682552 130.853343 \r\nL 288.773862 130.747427 \r\nL 289.151277 130.333959 \r\nL 289.233456 130.238118 \r\nL 289.379552 130.06155 \r\nL 289.443469 129.960535 \r\nL 289.604783 129.804334 \r\nL 289.708268 129.698477 \r\nL 290.070464 129.310242 \r\nL 290.204385 129.204547 \r\nL 290.560494 128.826438 \r\nL 290.651804 128.720522 \r\nL 290.950084 128.438383 \r\nL 291.050525 128.33252 \r\nL 291.616647 127.605853 \r\nL 291.711 127.505014 \r\nL 291.887533 127.303267 \r\nL 292.237555 126.935246 \r\nL 292.328865 126.829311 \r\nL 292.910205 126.077411 \r\nL 292.983253 125.971384 \r\nL 293.351537 125.573087 \r\nL 293.448934 125.467198 \r\nL 293.753301 125.174921 \r\nL 293.844611 125.069002 \r\nL 294.024187 124.85208 \r\nL 294.127672 124.746227 \r\nL 294.608571 124.161031 \r\nL 294.675532 124.060047 \r\nL 294.858152 123.83301 \r\nL 294.934243 123.726992 \r\nL 295.116863 123.505022 \r\nL 295.241654 123.399296 \r\nL 295.689073 122.869599 \r\nL 295.795601 122.768846 \r\nL 295.956915 122.617705 \r\nL 296.069531 122.511901 \r\nL 296.617391 121.815547 \r\nL 296.696527 121.709562 \r\nL 297.143946 121.179896 \r\nL 297.220037 121.073888 \r\nL 297.618758 120.625034 \r\nL 297.697893 120.524112 \r\nL 297.895731 120.25154 \r\nL 297.999216 120.145699 \r\nL 298.483159 119.555411 \r\nL 298.586644 119.449559 \r\nL 299.031019 118.924932 \r\nL 299.09798 118.818871 \r\nL 299.441914 118.460936 \r\nL 299.533224 118.360082 \r\nL 299.709757 118.158349 \r\nL 299.801067 118.052431 \r\nL 300.391538 117.285327 \r\nL 300.498066 117.179498 \r\nL 300.656337 116.952315 \r\nL 300.826782 116.770827 \r\nL 301.161586 116.428071 \r\nL 301.262027 116.322198 \r\nL 301.675965 115.848094 \r\nL 301.803799 115.742382 \r\nL 301.992507 115.495113 \r\nL 302.108166 115.389313 \r\nL 302.412533 115.097051 \r\nL 302.528192 114.991256 \r\nL 302.683419 114.855278 \r\nL 302.777773 114.74938 \r\nL 302.978655 114.461622 \r\nL 303.076052 114.355732 \r\nL 303.426074 113.987712 \r\nL 303.508253 113.88681 \r\nL 303.675654 113.710372 \r\nL 303.763921 113.609513 \r\nL 303.919148 113.397533 \r\nL 304.092637 113.205921 \r\nL 304.500488 112.741933 \r\nL 304.631366 112.641275 \r\nL 304.841379 112.328208 \r\nL 304.950951 112.222395 \r\nL 305.112265 112.071272 \r\nL 305.623601 111.435566 \r\nL 305.70578 111.329585 \r\nL 306.189723 110.739304 \r\nL 306.271902 110.633332 \r\nL 306.628011 110.255202 \r\nL 306.704103 110.149189 \r\nL 307.124129 109.665015 \r\nL 307.203264 109.564099 \r\nL 307.404146 109.281391 \r\nL 307.501544 109.175502 \r\nL 307.824172 108.852952 \r\nL 307.939832 108.747158 \r\nL 308.305072 108.353871 \r\nL 308.429862 108.248136 \r\nL 308.621613 107.990736 \r\nL 308.746403 107.885001 \r\nL 309.062945 107.572561 \r\nL 309.178604 107.466795 \r\nL 309.525582 107.103834 \r\nL 309.619936 107.002983 \r\nL 309.820818 106.72029 \r\nL 309.924302 106.61445 \r\nL 310.54521 105.796917 \r\nL 310.612171 105.690852 \r\nL 310.989586 105.277407 \r\nL 311.099158 105.176656 \r\nL 311.260472 105.025519 \r\nL 311.33352 104.924573 \r\nL 311.497878 104.763295 \r\nL 311.592232 104.662463 \r\nL 311.771808 104.445543 \r\nL 311.857031 104.339581 \r\nL 312.03052 104.142905 \r\nL 312.137048 104.037074 \r\nL 312.471852 103.694349 \r\nL 312.541856 103.593359 \r\nL 312.715345 103.396678 \r\nL 312.803611 103.29581 \r\nL 312.974057 103.109243 \r\nL 313.086672 103.003447 \r\nL 313.741061 102.130323 \r\nL 313.844545 102.024467 \r\nL 314.264571 101.540298 \r\nL 314.343707 101.444437 \r\nL 314.477628 101.298195 \r\nL 314.571982 101.192302 \r\nL 314.870261 100.910161 \r\nL 314.934178 100.809152 \r\nL 315.086361 100.612331 \r\nL 315.144191 100.511292 \r\nL 315.345073 100.22356 \r\nL 315.469863 100.122884 \r\nL 315.646396 99.921142 \r\nL 315.789448 99.815517 \r\nL 316.029898 99.629364 \r\nL 316.093815 99.528353 \r\nL 316.285566 99.276028 \r\nL 316.6295 98.918158 \r\nL 316.769509 98.812492 \r\nL 316.92778 98.580236 \r\nL 317.049526 98.474497 \r\nL 317.630867 97.722587 \r\nL 317.731308 97.631916 \r\nL 317.862185 97.490736 \r\nL 317.938277 97.384727 \r\nL 318.251775 97.077303 \r\nL 318.346128 96.971403 \r\nL 318.687019 96.618562 \r\nL 318.790504 96.517789 \r\nL 318.960949 96.33628 \r\nL 319.040084 96.230296 \r\nL 319.487504 95.700624 \r\nL 319.560552 95.594606 \r\nL 320.044495 95.004317 \r\nL 320.132761 94.898377 \r\nL 320.574093 94.37883 \r\nL 320.692796 94.273078 \r\nL 320.908896 93.934741 \r\nL 321.018468 93.828929 \r\nL 321.204132 93.591764 \r\nL 321.316747 93.485954 \r\nL 321.751992 92.97653 \r\nL 321.879826 92.870805 \r\nL 322.421598 92.184555 \r\nL 322.506821 92.078607 \r\nL 323.04555 91.397448 \r\nL 323.13686 91.291531 \r\nL 323.562973 90.797196 \r\nL 323.657327 90.696374 \r\nL 323.797336 90.560319 \r\nL 323.916039 90.454542 \r\nL 324.329977 89.980484 \r\nL 324.421287 89.874552 \r\nL 324.804789 89.450978 \r\nL 324.874794 89.350013 \r\nL 325.039152 89.183693 \r\nL 325.136549 89.077808 \r\nL 325.583968 88.548175 \r\nL 325.663103 88.442188 \r\nL 326.064867 87.988318 \r\nL 326.15009 87.882364 \r\nL 326.344885 87.619916 \r\nL 326.66447 87.302419 \r\nL 326.780129 87.196647 \r\nL 327.224505 86.672034 \r\nL 327.306684 86.566061 \r\nL 327.748015 86.046545 \r\nL 327.833238 85.940586 \r\nL 328.448059 85.133143 \r\nL 328.563718 85.027361 \r\nL 328.752425 84.785144 \r\nL 328.858954 84.684363 \r\nL 329.041574 84.457336 \r\nL 329.138971 84.351459 \r\nL 329.86032 83.367207 \r\nL 329.957717 83.261323 \r\nL 330.277302 82.943813 \r\nL 330.396005 82.848177 \r\nL 330.536014 82.661431 \r\nL 330.895167 82.278269 \r\nL 330.998651 82.177486 \r\nL 331.150835 81.98067 \r\nL 331.202577 81.874532 \r\nL 331.796092 81.102433 \r\nL 331.887402 80.996516 \r\nL 332.377432 80.396153 \r\nL 332.459611 80.295248 \r\nL 332.617882 80.062988 \r\nL 332.693974 79.956982 \r\nL 332.882681 79.709707 \r\nL 332.977035 79.603801 \r\nL 333.141393 79.437478 \r\nL 333.244877 79.336694 \r\nL 333.427497 79.114722 \r\nL 333.503589 79.008729 \r\nL 333.871873 78.610401 \r\nL 333.981445 78.50966 \r\nL 334.18537 78.216836 \r\nL 334.255375 78.110797 \r\nL 334.730187 77.535677 \r\nL 334.81541 77.429719 \r\nL 335.281091 76.869707 \r\nL 335.381532 76.763839 \r\nL 335.567195 76.531745 \r\nL 335.661549 76.425839 \r\nL 336.145492 75.835575 \r\nL 336.239846 75.72967 \r\nL 336.419422 75.512765 \r\nL 336.504645 75.411861 \r\nL 336.687265 75.184823 \r\nL 336.778575 75.078911 \r\nL 336.955107 74.877171 \r\nL 337.688631 73.872718 \r\nL 337.77081 73.771814 \r\nL 337.932124 73.615602 \r\nL 338.047784 73.509808 \r\nL 338.504334 72.964999 \r\nL 338.589556 72.859033 \r\nL 339.021757 72.35464 \r\nL 339.110023 72.248716 \r\nL 339.283512 72.052027 \r\nL 339.368735 71.946066 \r\nL 339.557442 71.70385 \r\nL 340.001818 71.179232 \r\nL 340.154001 71.073667 \r\nL 340.537503 70.650089 \r\nL 340.644031 70.544259 \r\nL 341.24059 69.767101 \r\nL 341.383642 69.666543 \r\nL 341.57235 69.424325 \r\nL 341.910197 69.07649 \r\nL 341.983245 68.975536 \r\nL 342.193258 68.66249 \r\nL 342.445882 68.456109 \r\nL 342.521974 68.350104 \r\nL 342.674157 68.229329 \r\nL 343.176362 67.608793 \r\nL 343.267672 67.50794 \r\nL 343.410725 67.346562 \r\nL 343.495947 67.240604 \r\nL 344.059026 66.519021 \r\nL 344.132074 66.423125 \r\nL 344.290344 66.195934 \r\nL 344.759069 65.630936 \r\nL 344.856466 65.530121 \r\nL 345.005606 65.33835 \r\nL 345.115178 65.232514 \r\nL 345.684344 64.500822 \r\nL 345.790872 64.394981 \r\nL 346.226116 63.885541 \r\nL 346.311339 63.779586 \r\nL 346.481784 63.598098 \r\nL 347.011382 62.932073 \r\nL 347.102692 62.826147 \r\nL 347.528806 62.331868 \r\nL 347.63229 62.231075 \r\nL 347.802736 62.049565 \r\nL 347.936657 61.943892 \r\nL 348.311028 61.535483 \r\nL 348.432775 61.429727 \r\nL 348.615395 61.207749 \r\nL 348.679312 61.101672 \r\nL 348.858888 60.889822 \r\nL 349.175429 60.577347 \r\nL 349.248477 60.471324 \r\nL 349.613717 60.078051 \r\nL 349.738508 59.972316 \r\nL 350.167665 59.472943 \r\nL 350.2468 59.372033 \r\nL 350.420289 59.180433 \r\nL 350.484206 59.074358 \r\nL 350.946844 58.519457 \r\nL 351.019892 58.423573 \r\nL 351.169031 58.231822 \r\nL 351.266429 58.125941 \r\nL 351.424699 57.979853 \r\nL 351.519053 57.873946 \r\nL 351.722979 57.581132 \r\nL 351.832551 57.475318 \r\nL 352.316494 56.884999 \r\nL 352.432153 56.779225 \r\nL 352.633035 56.49653 \r\nL 353.116978 55.906274 \r\nL 353.208288 55.800345 \r\nL 353.6831 55.225252 \r\nL 353.780497 55.119358 \r\nL 353.966161 54.887264 \r\nL 354.045296 54.781268 \r\nL 354.428798 54.357707 \r\nL 354.50489 54.251692 \r\nL 354.690554 54.019606 \r\nL 354.775776 53.913648 \r\nL 355.363204 53.15166 \r\nL 355.466689 53.0458 \r\nL 355.828885 52.657565 \r\nL 355.947588 52.551803 \r\nL 356.130208 52.324784 \r\nL 356.209343 52.218793 \r\nL 356.361527 52.011848 \r\nL 356.425444 51.910845 \r\nL 356.601976 51.704046 \r\nL 356.720679 51.603342 \r\nL 356.897212 51.396527 \r\nL 356.976347 51.290531 \r\nL 357.256365 51.038697 \r\nL 357.323325 50.932633 \r\nL 357.502902 50.715708 \r\nL 357.57595 50.609685 \r\nL 357.719002 50.458447 \r\nL 357.804225 50.352493 \r\nL 358.193814 49.918789 \r\nL 358.27295 49.812804 \r\nL 358.896901 48.990156 \r\nL 358.985168 48.884223 \r\nL 359.149526 48.722957 \r\nL 359.237792 48.627158 \r\nL 359.383888 48.455638 \r\nL 359.45998 48.354698 \r\nL 359.651731 48.097301 \r\nL 359.803914 47.996784 \r\nL 360.016971 47.67361 \r\nL 360.446128 47.174262 \r\nL 360.540481 47.068352 \r\nL 361.164433 46.245741 \r\nL 361.280092 46.139958 \r\nL 361.423145 45.97859 \r\nL 361.50228 45.872605 \r\nL 362.165799 44.984313 \r\nL 362.247978 44.878334 \r\nL 362.692354 44.353712 \r\nL 362.801926 44.252945 \r\nL 362.96324 44.01055 \r\nL 363.11238 43.904957 \r\nL 363.590235 43.32484 \r\nL 363.69372 43.218986 \r\nL 363.836772 43.057619 \r\nL 363.897646 42.951526 \r\nL 364.220274 42.628969 \r\nL 364.308541 42.523023 \r\nL 364.612907 42.230771 \r\nL 364.692043 42.124787 \r\nL 365.267296 41.382993 \r\nL 365.328169 41.292108 \r\nL 365.462091 41.14081 \r\nL 366.006907 40.449514 \r\nL 366.086042 40.34354 \r\nL 366.667383 39.591607 \r\nL 366.737387 39.485558 \r\nL 367.257854 38.834694 \r\nL 367.343077 38.733814 \r\nL 367.492216 38.547113 \r\nL 367.598745 38.441285 \r\nL 367.973116 38.032886 \r\nL 368.058338 37.932005 \r\nL 368.231827 37.740398 \r\nL 368.670115 37.225896 \r\nL 368.758382 37.119958 \r\nL 368.931871 36.923286 \r\nL 369.011006 36.817313 \r\nL 369.534517 36.161366 \r\nL 369.62887 36.055459 \r\nL 370.08542 35.510702 \r\nL 370.191949 35.404882 \r\nL 370.35935 35.228416 \r\nL 370.45066 35.12756 \r\nL 370.642411 34.875223 \r\nL 371.019826 34.461748 \r\nL 371.105049 34.355789 \r\nL 371.713782 33.558404 \r\nL 371.823354 33.457649 \r\nL 371.996843 33.266036 \r\nL 372.112502 33.16026 \r\nL 372.267729 32.943206 \r\nL 372.380345 32.837412 \r\nL 372.55079 32.650842 \r\nL 372.645144 32.544938 \r\nL 372.909943 32.201778 \r\nL 372.909943 32.201778 \r\n\" style=\"fill:none;stroke:#1f77b4;stroke-linecap:square;stroke-width:1.5;\"/>\r\n   </g>\r\n   <g id=\"line2d_17\">\r\n    <path clip-path=\"url(#pb7a2684221)\" d=\"M 68.546307 228.621691 \r\nL 96.642395 228.631211 \r\nL 372.909943 228.774638 \r\nL 372.909943 228.774638 \r\n\" style=\"fill:none;stroke:#ff7f0e;stroke-linecap:square;stroke-width:1.5;\"/>\r\n   </g>\r\n   <g id=\"line2d_18\">\r\n    <path clip-path=\"url(#pb7a2684221)\" d=\"M 68.546307 228.621689 \r\nL 150.378332 228.964907 \r\nL 372.909943 229.874489 \r\nL 372.909943 229.874489 \r\n\" style=\"fill:none;stroke:#2ca02c;stroke-linecap:square;stroke-width:1.5;\"/>\r\n   </g>\r\n   <g id=\"patch_3\">\r\n    <path d=\"M 53.328125 239.758125 \r\nL 53.328125 22.318125 \r\n\" style=\"fill:none;stroke:#000000;stroke-linecap:square;stroke-linejoin:miter;stroke-width:0.8;\"/>\r\n   </g>\r\n   <g id=\"patch_4\">\r\n    <path d=\"M 388.128125 239.758125 \r\nL 388.128125 22.318125 \r\n\" style=\"fill:none;stroke:#000000;stroke-linecap:square;stroke-linejoin:miter;stroke-width:0.8;\"/>\r\n   </g>\r\n   <g id=\"patch_5\">\r\n    <path d=\"M 53.328125 239.758125 \r\nL 388.128125 239.758125 \r\n\" style=\"fill:none;stroke:#000000;stroke-linecap:square;stroke-linejoin:miter;stroke-width:0.8;\"/>\r\n   </g>\r\n   <g id=\"patch_6\">\r\n    <path d=\"M 53.328125 22.318125 \r\nL 388.128125 22.318125 \r\n\" style=\"fill:none;stroke:#000000;stroke-linecap:square;stroke-linejoin:miter;stroke-width:0.8;\"/>\r\n   </g>\r\n   <g id=\"text_18\">\r\n    <!-- Deep Sea with N=15 -->\r\n    <g transform=\"translate(158.136875 16.318125)scale(0.12 -0.12)\">\r\n     <defs>\r\n      <path d=\"M 19.671875 64.796875 \r\nL 19.671875 8.109375 \r\nL 31.59375 8.109375 \r\nQ 46.6875 8.109375 53.6875 14.9375 \r\nQ 60.6875 21.78125 60.6875 36.53125 \r\nQ 60.6875 51.171875 53.6875 57.984375 \r\nQ 46.6875 64.796875 31.59375 64.796875 \r\nz\r\nM 9.8125 72.90625 \r\nL 30.078125 72.90625 \r\nQ 51.265625 72.90625 61.171875 64.09375 \r\nQ 71.09375 55.28125 71.09375 36.53125 \r\nQ 71.09375 17.671875 61.125 8.828125 \r\nQ 51.171875 0 30.078125 0 \r\nL 9.8125 0 \r\nz\r\n\" id=\"DejaVuSans-68\"/>\r\n      <path id=\"DejaVuSans-32\"/>\r\n      <path d=\"M 53.515625 70.515625 \r\nL 53.515625 60.890625 \r\nQ 47.90625 63.578125 42.921875 64.890625 \r\nQ 37.9375 66.21875 33.296875 66.21875 \r\nQ 25.25 66.21875 20.875 63.09375 \r\nQ 16.5 59.96875 16.5 54.203125 \r\nQ 16.5 49.359375 19.40625 46.890625 \r\nQ 22.3125 44.4375 30.421875 42.921875 \r\nL 36.375 41.703125 \r\nQ 47.40625 39.59375 52.65625 34.296875 \r\nQ 57.90625 29 57.90625 20.125 \r\nQ 57.90625 9.515625 50.796875 4.046875 \r\nQ 43.703125 -1.421875 29.984375 -1.421875 \r\nQ 24.8125 -1.421875 18.96875 -0.25 \r\nQ 13.140625 0.921875 6.890625 3.21875 \r\nL 6.890625 13.375 \r\nQ 12.890625 10.015625 18.65625 8.296875 \r\nQ 24.421875 6.59375 29.984375 6.59375 \r\nQ 38.421875 6.59375 43.015625 9.90625 \r\nQ 47.609375 13.234375 47.609375 19.390625 \r\nQ 47.609375 24.75 44.3125 27.78125 \r\nQ 41.015625 30.8125 33.5 32.328125 \r\nL 27.484375 33.5 \r\nQ 16.453125 35.6875 11.515625 40.375 \r\nQ 6.59375 45.0625 6.59375 53.421875 \r\nQ 6.59375 63.09375 13.40625 68.65625 \r\nQ 20.21875 74.21875 32.171875 74.21875 \r\nQ 37.3125 74.21875 42.625 73.28125 \r\nQ 47.953125 72.359375 53.515625 70.515625 \r\nz\r\n\" id=\"DejaVuSans-83\"/>\r\n      <path d=\"M 18.3125 70.21875 \r\nL 18.3125 54.6875 \r\nL 36.8125 54.6875 \r\nL 36.8125 47.703125 \r\nL 18.3125 47.703125 \r\nL 18.3125 18.015625 \r\nQ 18.3125 11.328125 20.140625 9.421875 \r\nQ 21.96875 7.515625 27.59375 7.515625 \r\nL 36.8125 7.515625 \r\nL 36.8125 0 \r\nL 27.59375 0 \r\nQ 17.1875 0 13.234375 3.875 \r\nQ 9.28125 7.765625 9.28125 18.015625 \r\nL 9.28125 47.703125 \r\nL 2.6875 47.703125 \r\nL 2.6875 54.6875 \r\nL 9.28125 54.6875 \r\nL 9.28125 70.21875 \r\nz\r\n\" id=\"DejaVuSans-116\"/>\r\n      <path d=\"M 54.890625 33.015625 \r\nL 54.890625 0 \r\nL 45.90625 0 \r\nL 45.90625 32.71875 \r\nQ 45.90625 40.484375 42.875 44.328125 \r\nQ 39.84375 48.1875 33.796875 48.1875 \r\nQ 26.515625 48.1875 22.3125 43.546875 \r\nQ 18.109375 38.921875 18.109375 30.90625 \r\nL 18.109375 0 \r\nL 9.078125 0 \r\nL 9.078125 75.984375 \r\nL 18.109375 75.984375 \r\nL 18.109375 46.1875 \r\nQ 21.34375 51.125 25.703125 53.5625 \r\nQ 30.078125 56 35.796875 56 \r\nQ 45.21875 56 50.046875 50.171875 \r\nQ 54.890625 44.34375 54.890625 33.015625 \r\nz\r\n\" id=\"DejaVuSans-104\"/>\r\n      <path d=\"M 9.8125 72.90625 \r\nL 23.09375 72.90625 \r\nL 55.421875 11.921875 \r\nL 55.421875 72.90625 \r\nL 64.984375 72.90625 \r\nL 64.984375 0 \r\nL 51.703125 0 \r\nL 19.390625 60.984375 \r\nL 19.390625 0 \r\nL 9.8125 0 \r\nz\r\n\" id=\"DejaVuSans-78\"/>\r\n      <path d=\"M 10.59375 45.40625 \r\nL 73.1875 45.40625 \r\nL 73.1875 37.203125 \r\nL 10.59375 37.203125 \r\nz\r\nM 10.59375 25.484375 \r\nL 73.1875 25.484375 \r\nL 73.1875 17.1875 \r\nL 10.59375 17.1875 \r\nz\r\n\" id=\"DejaVuSans-61\"/>\r\n     </defs>\r\n     <use xlink:href=\"#DejaVuSans-68\"/>\r\n     <use x=\"77.001953\" xlink:href=\"#DejaVuSans-101\"/>\r\n     <use x=\"138.525391\" xlink:href=\"#DejaVuSans-101\"/>\r\n     <use x=\"200.048828\" xlink:href=\"#DejaVuSans-112\"/>\r\n     <use x=\"263.525391\" xlink:href=\"#DejaVuSans-32\"/>\r\n     <use x=\"295.3125\" xlink:href=\"#DejaVuSans-83\"/>\r\n     <use x=\"358.789062\" xlink:href=\"#DejaVuSans-101\"/>\r\n     <use x=\"420.3125\" xlink:href=\"#DejaVuSans-97\"/>\r\n     <use x=\"481.591797\" xlink:href=\"#DejaVuSans-32\"/>\r\n     <use x=\"513.378906\" xlink:href=\"#DejaVuSans-119\"/>\r\n     <use x=\"595.166016\" xlink:href=\"#DejaVuSans-105\"/>\r\n     <use x=\"622.949219\" xlink:href=\"#DejaVuSans-116\"/>\r\n     <use x=\"662.158203\" xlink:href=\"#DejaVuSans-104\"/>\r\n     <use x=\"725.537109\" xlink:href=\"#DejaVuSans-32\"/>\r\n     <use x=\"757.324219\" xlink:href=\"#DejaVuSans-78\"/>\r\n     <use x=\"832.128906\" xlink:href=\"#DejaVuSans-61\"/>\r\n     <use x=\"915.917969\" xlink:href=\"#DejaVuSans-49\"/>\r\n     <use x=\"979.541016\" xlink:href=\"#DejaVuSans-53\"/>\r\n    </g>\r\n   </g>\r\n   <g id=\"legend_1\">\r\n    <g id=\"patch_7\">\r\n     <path d=\"M 60.328125 74.90875 \r\nL 231.575 74.90875 \r\nQ 233.575 74.90875 233.575 72.90875 \r\nL 233.575 29.318125 \r\nQ 233.575 27.318125 231.575 27.318125 \r\nL 60.328125 27.318125 \r\nQ 58.328125 27.318125 58.328125 29.318125 \r\nL 58.328125 72.90875 \r\nQ 58.328125 74.90875 60.328125 74.90875 \r\nz\r\n\" style=\"fill:#ffffff;opacity:0.8;stroke:#cccccc;stroke-linejoin:miter;\"/>\r\n    </g>\r\n    <g id=\"line2d_19\">\r\n     <path d=\"M 62.328125 35.416562 \r\nL 82.328125 35.416562 \r\n\" style=\"fill:none;stroke:#1f77b4;stroke-linecap:square;stroke-width:1.5;\"/>\r\n    </g>\r\n    <g id=\"line2d_20\"/>\r\n    <g id=\"text_19\">\r\n     <!-- Beyond_UCB2, gamma=10 -->\r\n     <g transform=\"translate(90.328125 38.916562)scale(0.1 -0.1)\">\r\n      <defs>\r\n       <path d=\"M 19.671875 34.8125 \r\nL 19.671875 8.109375 \r\nL 35.5 8.109375 \r\nQ 43.453125 8.109375 47.28125 11.40625 \r\nQ 51.125 14.703125 51.125 21.484375 \r\nQ 51.125 28.328125 47.28125 31.5625 \r\nQ 43.453125 34.8125 35.5 34.8125 \r\nz\r\nM 19.671875 64.796875 \r\nL 19.671875 42.828125 \r\nL 34.28125 42.828125 \r\nQ 41.5 42.828125 45.03125 45.53125 \r\nQ 48.578125 48.25 48.578125 53.8125 \r\nQ 48.578125 59.328125 45.03125 62.0625 \r\nQ 41.5 64.796875 34.28125 64.796875 \r\nz\r\nM 9.8125 72.90625 \r\nL 35.015625 72.90625 \r\nQ 46.296875 72.90625 52.390625 68.21875 \r\nQ 58.5 63.53125 58.5 54.890625 \r\nQ 58.5 48.1875 55.375 44.234375 \r\nQ 52.25 40.28125 46.1875 39.3125 \r\nQ 53.46875 37.75 57.5 32.78125 \r\nQ 61.53125 27.828125 61.53125 20.40625 \r\nQ 61.53125 10.640625 54.890625 5.3125 \r\nQ 48.25 0 35.984375 0 \r\nL 9.8125 0 \r\nz\r\n\" id=\"DejaVuSans-66\"/>\r\n       <path d=\"M 32.171875 -5.078125 \r\nQ 28.375 -14.84375 24.75 -17.8125 \r\nQ 21.140625 -20.796875 15.09375 -20.796875 \r\nL 7.90625 -20.796875 \r\nL 7.90625 -13.28125 \r\nL 13.1875 -13.28125 \r\nQ 16.890625 -13.28125 18.9375 -11.515625 \r\nQ 21 -9.765625 23.484375 -3.21875 \r\nL 25.09375 0.875 \r\nL 2.984375 54.6875 \r\nL 12.5 54.6875 \r\nL 29.59375 11.921875 \r\nL 46.6875 54.6875 \r\nL 56.203125 54.6875 \r\nz\r\n\" id=\"DejaVuSans-121\"/>\r\n       <path d=\"M 54.890625 33.015625 \r\nL 54.890625 0 \r\nL 45.90625 0 \r\nL 45.90625 32.71875 \r\nQ 45.90625 40.484375 42.875 44.328125 \r\nQ 39.84375 48.1875 33.796875 48.1875 \r\nQ 26.515625 48.1875 22.3125 43.546875 \r\nQ 18.109375 38.921875 18.109375 30.90625 \r\nL 18.109375 0 \r\nL 9.078125 0 \r\nL 9.078125 54.6875 \r\nL 18.109375 54.6875 \r\nL 18.109375 46.1875 \r\nQ 21.34375 51.125 25.703125 53.5625 \r\nQ 30.078125 56 35.796875 56 \r\nQ 45.21875 56 50.046875 50.171875 \r\nQ 54.890625 44.34375 54.890625 33.015625 \r\nz\r\n\" id=\"DejaVuSans-110\"/>\r\n       <path d=\"M 50.984375 -16.609375 \r\nL 50.984375 -23.578125 \r\nL -0.984375 -23.578125 \r\nL -0.984375 -16.609375 \r\nz\r\n\" id=\"DejaVuSans-95\"/>\r\n       <path d=\"M 8.6875 72.90625 \r\nL 18.609375 72.90625 \r\nL 18.609375 28.609375 \r\nQ 18.609375 16.890625 22.84375 11.734375 \r\nQ 27.09375 6.59375 36.625 6.59375 \r\nQ 46.09375 6.59375 50.34375 11.734375 \r\nQ 54.59375 16.890625 54.59375 28.609375 \r\nL 54.59375 72.90625 \r\nL 64.5 72.90625 \r\nL 64.5 27.390625 \r\nQ 64.5 13.140625 57.4375 5.859375 \r\nQ 50.390625 -1.421875 36.625 -1.421875 \r\nQ 22.796875 -1.421875 15.734375 5.859375 \r\nQ 8.6875 13.140625 8.6875 27.390625 \r\nz\r\n\" id=\"DejaVuSans-85\"/>\r\n       <path d=\"M 64.40625 67.28125 \r\nL 64.40625 56.890625 \r\nQ 59.421875 61.53125 53.78125 63.8125 \r\nQ 48.140625 66.109375 41.796875 66.109375 \r\nQ 29.296875 66.109375 22.65625 58.46875 \r\nQ 16.015625 50.828125 16.015625 36.375 \r\nQ 16.015625 21.96875 22.65625 14.328125 \r\nQ 29.296875 6.6875 41.796875 6.6875 \r\nQ 48.140625 6.6875 53.78125 8.984375 \r\nQ 59.421875 11.28125 64.40625 15.921875 \r\nL 64.40625 5.609375 \r\nQ 59.234375 2.09375 53.4375 0.328125 \r\nQ 47.65625 -1.421875 41.21875 -1.421875 \r\nQ 24.65625 -1.421875 15.125 8.703125 \r\nQ 5.609375 18.84375 5.609375 36.375 \r\nQ 5.609375 53.953125 15.125 64.078125 \r\nQ 24.65625 74.21875 41.21875 74.21875 \r\nQ 47.75 74.21875 53.53125 72.484375 \r\nQ 59.328125 70.75 64.40625 67.28125 \r\nz\r\n\" id=\"DejaVuSans-67\"/>\r\n       <path d=\"M 11.71875 12.40625 \r\nL 22.015625 12.40625 \r\nL 22.015625 4 \r\nL 14.015625 -11.625 \r\nL 7.71875 -11.625 \r\nL 11.71875 4 \r\nz\r\n\" id=\"DejaVuSans-44\"/>\r\n       <path d=\"M 45.40625 27.984375 \r\nQ 45.40625 37.75 41.375 43.109375 \r\nQ 37.359375 48.484375 30.078125 48.484375 \r\nQ 22.859375 48.484375 18.828125 43.109375 \r\nQ 14.796875 37.75 14.796875 27.984375 \r\nQ 14.796875 18.265625 18.828125 12.890625 \r\nQ 22.859375 7.515625 30.078125 7.515625 \r\nQ 37.359375 7.515625 41.375 12.890625 \r\nQ 45.40625 18.265625 45.40625 27.984375 \r\nz\r\nM 54.390625 6.78125 \r\nQ 54.390625 -7.171875 48.1875 -13.984375 \r\nQ 42 -20.796875 29.203125 -20.796875 \r\nQ 24.46875 -20.796875 20.265625 -20.09375 \r\nQ 16.0625 -19.390625 12.109375 -17.921875 \r\nL 12.109375 -9.1875 \r\nQ 16.0625 -11.328125 19.921875 -12.34375 \r\nQ 23.78125 -13.375 27.78125 -13.375 \r\nQ 36.625 -13.375 41.015625 -8.765625 \r\nQ 45.40625 -4.15625 45.40625 5.171875 \r\nL 45.40625 9.625 \r\nQ 42.625 4.78125 38.28125 2.390625 \r\nQ 33.9375 0 27.875 0 \r\nQ 17.828125 0 11.671875 7.65625 \r\nQ 5.515625 15.328125 5.515625 27.984375 \r\nQ 5.515625 40.671875 11.671875 48.328125 \r\nQ 17.828125 56 27.875 56 \r\nQ 33.9375 56 38.28125 53.609375 \r\nQ 42.625 51.21875 45.40625 46.390625 \r\nL 45.40625 54.6875 \r\nL 54.390625 54.6875 \r\nz\r\n\" id=\"DejaVuSans-103\"/>\r\n       <path d=\"M 52 44.1875 \r\nQ 55.375 50.25 60.0625 53.125 \r\nQ 64.75 56 71.09375 56 \r\nQ 79.640625 56 84.28125 50.015625 \r\nQ 88.921875 44.046875 88.921875 33.015625 \r\nL 88.921875 0 \r\nL 79.890625 0 \r\nL 79.890625 32.71875 \r\nQ 79.890625 40.578125 77.09375 44.375 \r\nQ 74.3125 48.1875 68.609375 48.1875 \r\nQ 61.625 48.1875 57.5625 43.546875 \r\nQ 53.515625 38.921875 53.515625 30.90625 \r\nL 53.515625 0 \r\nL 44.484375 0 \r\nL 44.484375 32.71875 \r\nQ 44.484375 40.625 41.703125 44.40625 \r\nQ 38.921875 48.1875 33.109375 48.1875 \r\nQ 26.21875 48.1875 22.15625 43.53125 \r\nQ 18.109375 38.875 18.109375 30.90625 \r\nL 18.109375 0 \r\nL 9.078125 0 \r\nL 9.078125 54.6875 \r\nL 18.109375 54.6875 \r\nL 18.109375 46.1875 \r\nQ 21.1875 51.21875 25.484375 53.609375 \r\nQ 29.78125 56 35.6875 56 \r\nQ 41.65625 56 45.828125 52.96875 \r\nQ 50 49.953125 52 44.1875 \r\nz\r\n\" id=\"DejaVuSans-109\"/>\r\n      </defs>\r\n      <use xlink:href=\"#DejaVuSans-66\"/>\r\n      <use x=\"68.603516\" xlink:href=\"#DejaVuSans-101\"/>\r\n      <use x=\"130.126953\" xlink:href=\"#DejaVuSans-121\"/>\r\n      <use x=\"189.306641\" xlink:href=\"#DejaVuSans-111\"/>\r\n      <use x=\"250.488281\" xlink:href=\"#DejaVuSans-110\"/>\r\n      <use x=\"313.867188\" xlink:href=\"#DejaVuSans-100\"/>\r\n      <use x=\"377.34375\" xlink:href=\"#DejaVuSans-95\"/>\r\n      <use x=\"427.34375\" xlink:href=\"#DejaVuSans-85\"/>\r\n      <use x=\"500.537109\" xlink:href=\"#DejaVuSans-67\"/>\r\n      <use x=\"570.361328\" xlink:href=\"#DejaVuSans-66\"/>\r\n      <use x=\"638.964844\" xlink:href=\"#DejaVuSans-50\"/>\r\n      <use x=\"702.587891\" xlink:href=\"#DejaVuSans-44\"/>\r\n      <use x=\"734.375\" xlink:href=\"#DejaVuSans-32\"/>\r\n      <use x=\"766.162109\" xlink:href=\"#DejaVuSans-103\"/>\r\n      <use x=\"829.638672\" xlink:href=\"#DejaVuSans-97\"/>\r\n      <use x=\"890.917969\" xlink:href=\"#DejaVuSans-109\"/>\r\n      <use x=\"988.330078\" xlink:href=\"#DejaVuSans-109\"/>\r\n      <use x=\"1085.742188\" xlink:href=\"#DejaVuSans-97\"/>\r\n      <use x=\"1147.021484\" xlink:href=\"#DejaVuSans-61\"/>\r\n      <use x=\"1230.810547\" xlink:href=\"#DejaVuSans-49\"/>\r\n      <use x=\"1294.433594\" xlink:href=\"#DejaVuSans-48\"/>\r\n     </g>\r\n    </g>\r\n    <g id=\"line2d_21\">\r\n     <path d=\"M 62.328125 50.372812 \r\nL 82.328125 50.372812 \r\n\" style=\"fill:none;stroke:#ff7f0e;stroke-linecap:square;stroke-width:1.5;\"/>\r\n    </g>\r\n    <g id=\"line2d_22\"/>\r\n    <g id=\"text_20\">\r\n     <!-- Eps_Greedy, eps=0.100000 -->\r\n     <g transform=\"translate(90.328125 53.872812)scale(0.1 -0.1)\">\r\n      <defs>\r\n       <path d=\"M 59.515625 10.40625 \r\nL 59.515625 29.984375 \r\nL 43.40625 29.984375 \r\nL 43.40625 38.09375 \r\nL 69.28125 38.09375 \r\nL 69.28125 6.78125 \r\nQ 63.578125 2.734375 56.6875 0.65625 \r\nQ 49.8125 -1.421875 42 -1.421875 \r\nQ 24.90625 -1.421875 15.25 8.5625 \r\nQ 5.609375 18.5625 5.609375 36.375 \r\nQ 5.609375 54.25 15.25 64.234375 \r\nQ 24.90625 74.21875 42 74.21875 \r\nQ 49.125 74.21875 55.546875 72.453125 \r\nQ 61.96875 70.703125 67.390625 67.28125 \r\nL 67.390625 56.78125 \r\nQ 61.921875 61.421875 55.765625 63.765625 \r\nQ 49.609375 66.109375 42.828125 66.109375 \r\nQ 29.4375 66.109375 22.71875 58.640625 \r\nQ 16.015625 51.171875 16.015625 36.375 \r\nQ 16.015625 21.625 22.71875 14.15625 \r\nQ 29.4375 6.6875 42.828125 6.6875 \r\nQ 48.046875 6.6875 52.140625 7.59375 \r\nQ 56.25 8.5 59.515625 10.40625 \r\nz\r\n\" id=\"DejaVuSans-71\"/>\r\n       <path d=\"M 10.6875 12.40625 \r\nL 21 12.40625 \r\nL 21 0 \r\nL 10.6875 0 \r\nz\r\n\" id=\"DejaVuSans-46\"/>\r\n      </defs>\r\n      <use xlink:href=\"#DejaVuSans-69\"/>\r\n      <use x=\"63.183594\" xlink:href=\"#DejaVuSans-112\"/>\r\n      <use x=\"126.660156\" xlink:href=\"#DejaVuSans-115\"/>\r\n      <use x=\"178.759766\" xlink:href=\"#DejaVuSans-95\"/>\r\n      <use x=\"228.759766\" xlink:href=\"#DejaVuSans-71\"/>\r\n      <use x=\"306.25\" xlink:href=\"#DejaVuSans-114\"/>\r\n      <use x=\"345.113281\" xlink:href=\"#DejaVuSans-101\"/>\r\n      <use x=\"406.636719\" xlink:href=\"#DejaVuSans-101\"/>\r\n      <use x=\"468.160156\" xlink:href=\"#DejaVuSans-100\"/>\r\n      <use x=\"531.636719\" xlink:href=\"#DejaVuSans-121\"/>\r\n      <use x=\"590.816406\" xlink:href=\"#DejaVuSans-44\"/>\r\n      <use x=\"622.603516\" xlink:href=\"#DejaVuSans-32\"/>\r\n      <use x=\"654.390625\" xlink:href=\"#DejaVuSans-101\"/>\r\n      <use x=\"715.914062\" xlink:href=\"#DejaVuSans-112\"/>\r\n      <use x=\"779.390625\" xlink:href=\"#DejaVuSans-115\"/>\r\n      <use x=\"831.490234\" xlink:href=\"#DejaVuSans-61\"/>\r\n      <use x=\"915.279297\" xlink:href=\"#DejaVuSans-48\"/>\r\n      <use x=\"978.902344\" xlink:href=\"#DejaVuSans-46\"/>\r\n      <use x=\"1010.689453\" xlink:href=\"#DejaVuSans-49\"/>\r\n      <use x=\"1074.3125\" xlink:href=\"#DejaVuSans-48\"/>\r\n      <use x=\"1137.935547\" xlink:href=\"#DejaVuSans-48\"/>\r\n      <use x=\"1201.558594\" xlink:href=\"#DejaVuSans-48\"/>\r\n      <use x=\"1265.181641\" xlink:href=\"#DejaVuSans-48\"/>\r\n      <use x=\"1328.804688\" xlink:href=\"#DejaVuSans-48\"/>\r\n     </g>\r\n    </g>\r\n    <g id=\"line2d_23\">\r\n     <path d=\"M 62.328125 65.329062 \r\nL 82.328125 65.329062 \r\n\" style=\"fill:none;stroke:#2ca02c;stroke-linecap:square;stroke-width:1.5;\"/>\r\n    </g>\r\n    <g id=\"line2d_24\"/>\r\n    <g id=\"text_21\">\r\n     <!-- Softmax, eta=0.100000 -->\r\n     <g transform=\"translate(90.328125 68.829062)scale(0.1 -0.1)\">\r\n      <defs>\r\n       <path d=\"M 37.109375 75.984375 \r\nL 37.109375 68.5 \r\nL 28.515625 68.5 \r\nQ 23.6875 68.5 21.796875 66.546875 \r\nQ 19.921875 64.59375 19.921875 59.515625 \r\nL 19.921875 54.6875 \r\nL 34.71875 54.6875 \r\nL 34.71875 47.703125 \r\nL 19.921875 47.703125 \r\nL 19.921875 0 \r\nL 10.890625 0 \r\nL 10.890625 47.703125 \r\nL 2.296875 47.703125 \r\nL 2.296875 54.6875 \r\nL 10.890625 54.6875 \r\nL 10.890625 58.5 \r\nQ 10.890625 67.625 15.140625 71.796875 \r\nQ 19.390625 75.984375 28.609375 75.984375 \r\nz\r\n\" id=\"DejaVuSans-102\"/>\r\n       <path d=\"M 54.890625 54.6875 \r\nL 35.109375 28.078125 \r\nL 55.90625 0 \r\nL 45.3125 0 \r\nL 29.390625 21.484375 \r\nL 13.484375 0 \r\nL 2.875 0 \r\nL 24.125 28.609375 \r\nL 4.6875 54.6875 \r\nL 15.28125 54.6875 \r\nL 29.78125 35.203125 \r\nL 44.28125 54.6875 \r\nz\r\n\" id=\"DejaVuSans-120\"/>\r\n      </defs>\r\n      <use xlink:href=\"#DejaVuSans-83\"/>\r\n      <use x=\"63.476562\" xlink:href=\"#DejaVuSans-111\"/>\r\n      <use x=\"124.658203\" xlink:href=\"#DejaVuSans-102\"/>\r\n      <use x=\"158.113281\" xlink:href=\"#DejaVuSans-116\"/>\r\n      <use x=\"197.322266\" xlink:href=\"#DejaVuSans-109\"/>\r\n      <use x=\"294.734375\" xlink:href=\"#DejaVuSans-97\"/>\r\n      <use x=\"356.013672\" xlink:href=\"#DejaVuSans-120\"/>\r\n      <use x=\"415.193359\" xlink:href=\"#DejaVuSans-44\"/>\r\n      <use x=\"446.980469\" xlink:href=\"#DejaVuSans-32\"/>\r\n      <use x=\"478.767578\" xlink:href=\"#DejaVuSans-101\"/>\r\n      <use x=\"540.291016\" xlink:href=\"#DejaVuSans-116\"/>\r\n      <use x=\"579.5\" xlink:href=\"#DejaVuSans-97\"/>\r\n      <use x=\"640.779297\" xlink:href=\"#DejaVuSans-61\"/>\r\n      <use x=\"724.568359\" xlink:href=\"#DejaVuSans-48\"/>\r\n      <use x=\"788.191406\" xlink:href=\"#DejaVuSans-46\"/>\r\n      <use x=\"819.978516\" xlink:href=\"#DejaVuSans-49\"/>\r\n      <use x=\"883.601562\" xlink:href=\"#DejaVuSans-48\"/>\r\n      <use x=\"947.224609\" xlink:href=\"#DejaVuSans-48\"/>\r\n      <use x=\"1010.847656\" xlink:href=\"#DejaVuSans-48\"/>\r\n      <use x=\"1074.470703\" xlink:href=\"#DejaVuSans-48\"/>\r\n      <use x=\"1138.09375\" xlink:href=\"#DejaVuSans-48\"/>\r\n     </g>\r\n    </g>\r\n   </g>\r\n  </g>\r\n </g>\r\n <defs>\r\n  <clipPath id=\"pb7a2684221\">\r\n   <rect height=\"217.44\" width=\"334.8\" x=\"53.328125\" y=\"22.318125\"/>\r\n  </clipPath>\r\n </defs>\r\n</svg>\r\n",
      "image/png": "[encoded data removed]"
     },
     "metadata": {
      "needs_background": "light"
     }
    }
   ],
   "source": [
    "plt.plot(R1,label='Beyond_UCB2, gamma='+str(int(gamma)))\n",
    "plt.plot(R2,label='Eps_Greedy, eps=%f' % epsilon)\n",
    "plt.plot(R3,label='Softmax, eta=%f'% eta)\n",
    "plt.legend()\n",
    "plt.xlabel(\"Episode\")\n",
    "plt.ylabel(\"Reward\")\n",
    "plt.title(\"Deep Sea with N=%d\" %  n)\n",
    "plt.savefig(\"beyonducb_\"+str(int(gamma))+\".pdf\")\n",
    "plt.show()"
   ]
  },
  {
   "cell_type": "code",
   "execution_count": null,
   "metadata": {},
   "outputs": [],
   "source": []
  }
 ],
 "metadata": {
  "kernelspec": {
   "name": "python_defaultSpec_1601491526174",
   "display_name": "Python 3.8.6 64-bit",
   "metadata": {
    "interpreter": {
     "hash": "79012735dedd5b7ab9ea0e80766de6348e0e127bcc5606c4fa525a028f2fe7d4"
    }
   }
  },
  "language_info": {
   "codemirror_mode": {
    "name": "ipython",
    "version": 3
   },
   "file_extension": ".py",
   "mimetype": "text/x-python",
   "name": "python",
   "nbconvert_exporter": "python",
   "pygments_lexer": "ipython3",
   "version": "3.8.6-final"
  }
 },
 "nbformat": 4,
 "nbformat_minor": 2
}