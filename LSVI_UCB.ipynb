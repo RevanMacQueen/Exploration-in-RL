{
 "cells": [
  {
   "cell_type": "code",
   "execution_count": 196,
   "metadata": {},
   "outputs": [],
   "source": [
    "import numpy as np\n",
    "import random\n",
    "from tqdm.notebook import tqdm\n",
    "import copy\n",
    "from scipy.stats import bernoulli\n",
    "import matplotlib.pyplot as plt\n",
    "import scipy"
   ]
  },
  {
   "cell_type": "code",
   "execution_count": 197,
   "metadata": {},
   "outputs": [],
   "source": [
    "class Environment(object):\n",
    "    '''General RL environment'''\n",
    "\n",
    "    def __init__(self):\n",
    "        pass\n",
    "\n",
    "    def reset(self):\n",
    "        pass\n",
    "\n",
    "    def advance(self, action):\n",
    "        '''\n",
    "        Moves one step in the environment.\n",
    "        Args:\n",
    "            action\n",
    "        Returns:\n",
    "            reward - double - reward\n",
    "            newState - int - new state\n",
    "            pContinue - 0/1 - flag for end of the episode\n",
    "        '''\n",
    "        return 0, 0, 0\n",
    "\n",
    "\n",
    "def make_chain(epLen=20):\n",
    "    '''\n",
    "    Makes the benchmark RiverSwim MDP.\n",
    "    Args:\n",
    "        NULL - works for default implementation\n",
    "    Returns:\n",
    "        riverSwim - Tabular MDP environment '''\n",
    "    nState = epLen\n",
    "    nAction = 2\n",
    "    R_true = {}\n",
    "    P_true = {}\n",
    "    states = {}\n",
    "    for s in range(nState):\n",
    "        states[(s)] = 0.0\n",
    "        for a in range(nAction):\n",
    "            R_true[s, a] = (0, 0)\n",
    "            P_true[s, a] = np.zeros(nState)\n",
    "\n",
    "    # Rewards\n",
    "    R_true[0, 0] = (0.000, 0)\n",
    "\n",
    "    # Transitions\n",
    "    for s in range(nState):\n",
    "        P_true[s, 0][max(0, s-1)] = 1.\n",
    "        P_true[s, 1][min(nState-1, s+1)] = 1.\n",
    "        R_true[s, 1] = (-.01/(epLen-1), 0)\n",
    "\n",
    "\n",
    "    R_true[nState - 1, 1] = (1, 0)\n",
    "    \n",
    "\n",
    "    chain = TabularMDP(nState, nAction, epLen)\n",
    "    chain.R = R_true\n",
    "    chain.P = P_true\n",
    "    chain.states = states\n",
    "    chain.reset()\n",
    "\n",
    "    return chain\n",
    "\n",
    "class TabularMDP(Environment):\n",
    "    '''\n",
    "    Tabular MDP\n",
    "    R - dict by (s,a) - each R[s,a] = (meanReward, sdReward)\n",
    "    P - dict by (s,a) - each P[s,a] = transition vector size S\n",
    "    '''\n",
    "\n",
    "    def __init__(self, nState, nAction, epLen):\n",
    "        '''\n",
    "        Initialize a tabular episodic MDP\n",
    "        Args:\n",
    "            nState  - int - number of states\n",
    "            nAction - int - number of actions\n",
    "            epLen   - int - episode length\n",
    "        Returns:\n",
    "            Environment object\n",
    "        '''\n",
    "\n",
    "        self.nState = nState\n",
    "        self.nAction = nAction\n",
    "        self.epLen = epLen\n",
    "\n",
    "        self.timestep = 0\n",
    "        self.state = 0\n",
    "\n",
    "        # Now initialize R and P\n",
    "        self.R = {}\n",
    "        self.P = {}\n",
    "        self.states = {}\n",
    "        for state in range(nState):\n",
    "            for action in range(nAction):\n",
    "                self.R[state, action] = (1, 1)\n",
    "                self.P[state, action] = np.ones(nState) / nState\n",
    "\n",
    "    def reset(self):\n",
    "        \"Resets the Environment\"\n",
    "        self.timestep = 0\n",
    "        self.state = 0\n",
    "\n",
    "    def advance(self,action):\n",
    "        '''\n",
    "        Move one step in the environment\n",
    "        Args:\n",
    "        action - int - chosen action\n",
    "        Returns:\n",
    "        reward - double - reward\n",
    "        newState - int - new state\n",
    "        episodeEnd - 0/1 - flag for end of the episode\n",
    "        '''\n",
    "        if self.R[self.state, action][1] < 1e-9:\n",
    "            # Hack for no noise\n",
    "            reward = self.R[self.state, action][0]\n",
    "        else:\n",
    "            reward = np.random.normal(loc=self.R[self.state, action][0],\n",
    "                                      scale=self.R[self.state, action][1])\n",
    "        #print(self.state, action, self.P[self.state, action])\n",
    "        newState = np.random.choice(self.nState, p=self.P[self.state, action])\n",
    "\n",
    "        # Update the environment\n",
    "        self.state = newState\n",
    "        self.timestep += 1\n",
    "\n",
    "        episodeEnd = 0\n",
    "        if self.timestep == self.epLen:\n",
    "            episodeEnd = 1\n",
    "            #newState = None\n",
    "            self.reset()\n",
    "\n",
    "        return reward, newState, episodeEnd\n",
    "\n",
    "    def argmax(self,b):\n",
    "        #print(b)\n",
    "        return np.random.choice(np.where(b == b.max())[0])"
   ]
  },
  {
   "cell_type": "code",
   "execution_count": 198,
   "metadata": {},
   "outputs": [],
   "source": [
    "class LSVI_UCB(object):\n",
    "    def __init__(self,env,K,delta):\n",
    "        self.env = env\n",
    "        self.K = K\n",
    "        self.p = delta\n",
    "        self.d = self.env.nState * self.env.nAction\n",
    "        self.lam = 1.0\n",
    "        self.Lambda = {h: self.lam*np.identity(self.d) for h in range(self.env.epLen)}\n",
    "        self.L = {h: (self.lam)*np.identity(self.d) for h in range(self.env.epLen)}\n",
    "        self.Linv = {h: (1/self.lam)*np.identity(self.d) for h in range(self.env.epLen)}\n",
    "        self.w = {h: np.zeros(self.d) for h in range(self.env.epLen)}\n",
    "        self.Q = {(h,s,a): 0.0 for h in range(self.env.epLen+1) for s in self.env.states.keys() \\\n",
    "                   for a in range(self.env.nAction)}\n",
    "        self.features_state_action = {(s,a): np.zeros(self.d) for s in self.env.states.keys() \\\n",
    "                                      for a in range(self.env.nAction)}\n",
    "        self.createIdentity()\n",
    "        self.buffer = {h: [] for h in range(self.env.epLen)}\n",
    "        self.sums = {h: np.zeros(self.d) for h in range(self.env.epLen)}\n",
    "        self.c = 1.0\n",
    "        self.m_2 = 3.0 #choosing this is constant is very important, how to do so is not simple though...\n",
    "        \n",
    "    \n",
    "    def createIdentity(self):\n",
    "        '''\n",
    "            A function that creates the Identity Matrix for a Dictionary\n",
    "        '''\n",
    "        i = 0\n",
    "        for key in self.features_state_action.keys():\n",
    "            self.features_state_action[key][i] = 1\n",
    "            i += 1\n",
    "        j = 0\n",
    "    \n",
    "    def update_buffer(self,s,a,r,s_,h):\n",
    "        self.buffer[h].append((s,a,r,s_))\n",
    "    \n",
    "    def reset_buffer(self):\n",
    "        self.buffer = {h: [] for h in range(self.env.epLen)}\n",
    "    \n",
    "    def update(self):\n",
    "        \n",
    "        Q = {(h,s,a): 0.0 for h in range(self.env.epLen+1) for s in self.env.states.keys() \\\n",
    "                   for a in range(self.env.nAction)}\n",
    "        for h in range(self.env.epLen-1,-1,-1):\n",
    "            d = self.buffer[h]\n",
    "            s,a,r,s_ = d[0][0],d[0][1],d[0][2],d[0][3]\n",
    "            \n",
    "            self.L[h] = self.L[h] + np.outer(self.features_state_action[s,a],self.features_state_action[s,a])\n",
    "            \n",
    "            self.Linv[h] = self.Linv[h] - np.dot((np.outer(np.dot(self.Linv[h],self.features_state_action[s,a]) \\\n",
    "                 ,self.features_state_action[s,a])),self.Linv[h]) / \\\n",
    "                    (1 + np.dot(np.dot(self.features_state_action[s,a],self.Linv[h]),self.features_state_action[s,a]))\n",
    "            \n",
    "            self.sums[h] = self.sums[h] + self.features_state_action[s,a]*(env.R[s,a][0] + \\\n",
    "                                             max(np.array([Q[(h+1,s_,a)] for a in range(self.env.nAction)])))\n",
    "            \n",
    "            self.w[h] = np.matmul(self.Linv[h],self.sums[h])\n",
    "            for ss in self.env.states.keys():\n",
    "                for aa in range(env.nAction):\n",
    "                    feature = self.features_state_action[ss,aa]\n",
    "                    Q[h,ss,aa] = min(np.inner(self.w[h],feature) + self.Beta(h) \\\n",
    "                                    * np.sqrt(np.dot(np.dot(feature,self.Linv[h]),feature)),self.env.epLen)\n",
    "        self.Q = Q.copy()\n",
    "    \n",
    "    def act(self,s,h):\n",
    "        '''\n",
    "        A function that returns the argmax of Q given the state and timestep\n",
    "        '''\n",
    "        return self.env.argmax(np.array([self.Q[(h,s,a)] for a in range(self.env.nAction)]))\n",
    "                    \n",
    "    \n",
    "    def Beta(self,h):\n",
    "        '''\n",
    "        iota = np.log(2*self.d*self.K*self.env.epLen/self.p)\n",
    "        return self.c * self.d * (self.env.epLen-h)/2 * np.sqrt(iota)\n",
    "        '''\n",
    "        \n",
    "        first = self.m_2 * np.sqrt(self.lam)\n",
    "        second = np.sqrt(2*np.log(1/self.p) + np.log(np.linalg.det(self.L[h])/self.lam))\n",
    "        return first + second\n",
    "        \n",
    "    \n",
    "    def run(self):\n",
    "        R = 0\n",
    "        Rvec = []\n",
    "        for k in (range(1,self.K+1)):\n",
    "            self.env.reset()\n",
    "            done = 0\n",
    "            while not done:\n",
    "                s = self.env.state\n",
    "                h = self.env.timestep\n",
    "                a = self.act(s,h)\n",
    "                r,s_,done = self.env.advance(a)\n",
    "                self.update_buffer(s,a,r,s_,h)\n",
    "                R += r\n",
    "            Rvec.append(R)\n",
    "            self.update()\n",
    "            self.reset_buffer()\n",
    "        return Rvec\n",
    "        "
   ]
  },
  {
   "cell_type": "code",
   "execution_count": 199,
   "metadata": {},
   "outputs": [],
   "source": [
    "class LSVI_EG(object):\n",
    "    def __init__(self,env,K,eps):\n",
    "        self.env = env\n",
    "        self.K = K\n",
    "        self.eps = eps\n",
    "        self.d = self.env.nState * self.env.nAction\n",
    "        self.lam = 1.0\n",
    "        self.Lambda = {h: self.lam*np.identity(self.d) for h in range(self.env.epLen)}\n",
    "        self.L = {h: (self.lam)*np.identity(self.d) for h in range(self.env.epLen)}\n",
    "        self.Linv = {h: (1/self.lam)*np.identity(self.d) for h in range(self.env.epLen)}\n",
    "        self.w = {h: np.zeros(self.d) for h in range(self.env.epLen)}\n",
    "        self.Q = {(h,s,a): 0.0 for h in range(self.env.epLen+1) for s in self.env.states.keys() \\\n",
    "                   for a in range(self.env.nAction)}\n",
    "        self.features_state_action = {(s,a): np.zeros(self.d) for s in self.env.states.keys() \\\n",
    "                                      for a in range(self.env.nAction)}\n",
    "        self.createIdentity()\n",
    "        self.buffer = {h: [] for h in range(self.env.epLen)}\n",
    "        self.sums = {h: np.zeros(self.d) for h in range(self.env.epLen)}\n",
    "        self.p = 1/2\n",
    "        self.m_2 = np.sqrt(self.d) #choosing this is constant is very important, how to do so is not simple though...\n",
    "        \n",
    "    \n",
    "    def createIdentity(self):\n",
    "        '''\n",
    "            A function that creates the Identity Matrix for a Dictionary\n",
    "        '''\n",
    "        i = 0\n",
    "        for key in self.features_state_action.keys():\n",
    "            self.features_state_action[key][i] = 1\n",
    "            i += 1\n",
    "        j = 0\n",
    "    \n",
    "    def update_buffer(self,s,a,r,s_,h):\n",
    "        self.buffer[h].append((s,a,r,s_))\n",
    "    \n",
    "    def reset_buffer(self):\n",
    "        self.buffer = {h: [] for h in range(self.env.epLen)}\n",
    "    \n",
    "    def update(self):\n",
    "        \n",
    "        Q = {(h,s,a): 0.0 for h in range(self.env.epLen+1) for s in self.env.states.keys() \\\n",
    "                   for a in range(self.env.nAction)}\n",
    "        for h in range(self.env.epLen-1,-1,-1):\n",
    "            d = self.buffer[h]\n",
    "            s,a,r,s_ = d[0][0],d[0][1],d[0][2],d[0][3]\n",
    "            \n",
    "            self.L[h] = self.L[h] + np.outer(self.features_state_action[s,a],self.features_state_action[s,a])\n",
    "            \n",
    "            self.Linv[h] = self.Linv[h] - np.dot((np.outer(np.dot(self.Linv[h],self.features_state_action[s,a]) \\\n",
    "                 ,self.features_state_action[s,a])),self.Linv[h]) / \\\n",
    "                    (1 + np.dot(np.dot(self.features_state_action[s,a],self.Linv[h]),self.features_state_action[s,a]))\n",
    "            \n",
    "            self.sums[h] = self.sums[h] + self.features_state_action[s,a]*(env.R[s,a][0] + \\\n",
    "                                             max(np.array([Q[(h+1,s_,a)] for a in range(self.env.nAction)])))\n",
    "            \n",
    "            self.w[h] = np.matmul(self.Linv[h],self.sums[h])\n",
    "            for ss in self.env.states.keys():\n",
    "                aa = self.env.argmax(np.array([self.Q[(h,s,a)] for a in range(self.env.nAction)]))\n",
    "                if aa == 0:\n",
    "                    feature = self.features_state_action[ss,0]\n",
    "                    Q[h,ss,0] = (1-self.eps/2)*(np.inner(self.w[h],feature))\n",
    "                    feature = self.features_state_action[ss,1]\n",
    "                    Q[h,ss,1] = (self.eps/2)*(np.inner(self.w[h],feature))\n",
    "                else:\n",
    "                    feature = self.features_state_action[ss,1]\n",
    "                    Q[h,ss,1] = (1-self.eps/2)*(np.inner(self.w[h],feature))\n",
    "                    feature = self.features_state_action[ss,0]\n",
    "                    Q[h,ss,0] = (self.eps/2)*(np.inner(self.w[h],feature))\n",
    "        self.Q = Q.copy()\n",
    "    \n",
    "    def act(self,s,h):\n",
    "        '''\n",
    "        A function that returns the argmax of Q given the state and timestep\n",
    "        '''\n",
    "        c = np.random.uniform()\n",
    "        if c > self.eps:\n",
    "            return self.env.argmax(np.array([self.Q[(h,s,a)] for a in range(self.env.nAction)]))\n",
    "        else:\n",
    "            return np.random.choice(np.array([0,1]))\n",
    "    \n",
    "    def run(self):\n",
    "        R = 0\n",
    "        Rvec = []\n",
    "        for k in (range(1,self.K+1)):\n",
    "            env.reset()\n",
    "            done = 0\n",
    "            while not done:\n",
    "                s = self.env.state\n",
    "                h = self.env.timestep\n",
    "                a = self.act(s,h)\n",
    "                r,s_,done = self.env.advance(a)\n",
    "                self.update_buffer(s,a,r,s_,h)\n",
    "                R += r\n",
    "            Rvec.append(R)\n",
    "            self.update()\n",
    "            self.reset_buffer()\n",
    "        return Rvec\n",
    "                    \n",
    "    \n",
    "\n",
    "        \n",
    "        "
   ]
  },
  {
   "cell_type": "code",
   "execution_count": 200,
   "metadata": {},
   "outputs": [],
   "source": [
    "K = 10000"
   ]
  },
  {
   "cell_type": "code",
   "execution_count": 203,
   "metadata": {},
   "outputs": [
    {
     "data": {
      "application/vnd.jupyter.widget-view+json": {
       "model_id": "18f67d29b1bb4b65bffa49c73b5d6540",
       "version_major": 2,
       "version_minor": 0
      },
      "text/plain": [
       "HBox(children=(FloatProgress(value=0.0, max=8.0), HTML(value='')))"
      ]
     },
     "metadata": {},
     "output_type": "display_data"
    },
    {
     "data": {
      "application/vnd.jupyter.widget-view+json": {
       "model_id": "4537b15d5b274d33836ca038b1faa1b0",
       "version_major": 2,
       "version_minor": 0
      },
      "text/plain": [
       "HBox(children=(FloatProgress(value=0.0, max=10.0), HTML(value='')))"
      ]
     },
     "metadata": {},
     "output_type": "display_data"
    },
    {
     "name": "stdout",
     "output_type": "stream",
     "text": [
      "\n",
      "6.0\n"
     ]
    },
    {
     "data": {
      "application/vnd.jupyter.widget-view+json": {
       "model_id": "a0b0871a985940a8b91ef0e5813f097a",
       "version_major": 2,
       "version_minor": 0
      },
      "text/plain": [
       "HBox(children=(FloatProgress(value=0.0, max=10.0), HTML(value='')))"
      ]
     },
     "metadata": {},
     "output_type": "display_data"
    },
    {
     "name": "stdout",
     "output_type": "stream",
     "text": [
      "\n",
      "9.0\n"
     ]
    },
    {
     "data": {
      "application/vnd.jupyter.widget-view+json": {
       "model_id": "8ca12722dafe4ba3bdc263642cbc1321",
       "version_major": 2,
       "version_minor": 0
      },
      "text/plain": [
       "HBox(children=(FloatProgress(value=0.0, max=10.0), HTML(value='')))"
      ]
     },
     "metadata": {},
     "output_type": "display_data"
    },
    {
     "name": "stdout",
     "output_type": "stream",
     "text": [
      "\n",
      "9.0\n"
     ]
    },
    {
     "data": {
      "application/vnd.jupyter.widget-view+json": {
       "model_id": "22f2c4b189174c17bc94eda34a81117e",
       "version_major": 2,
       "version_minor": 0
      },
      "text/plain": [
       "HBox(children=(FloatProgress(value=0.0, max=10.0), HTML(value='')))"
      ]
     },
     "metadata": {},
     "output_type": "display_data"
    },
    {
     "name": "stdout",
     "output_type": "stream",
     "text": [
      "\n",
      "9.0\n"
     ]
    },
    {
     "data": {
      "application/vnd.jupyter.widget-view+json": {
       "model_id": "404b396052654681b2ac39dfff4b135d",
       "version_major": 2,
       "version_minor": 0
      },
      "text/plain": [
       "HBox(children=(FloatProgress(value=0.0, max=10.0), HTML(value='')))"
      ]
     },
     "metadata": {},
     "output_type": "display_data"
    },
    {
     "name": "stdout",
     "output_type": "stream",
     "text": [
      "\n",
      "5.0\n"
     ]
    },
    {
     "data": {
      "application/vnd.jupyter.widget-view+json": {
       "model_id": "6bee4079f9384736a4a250ae09eb0513",
       "version_major": 2,
       "version_minor": 0
      },
      "text/plain": [
       "HBox(children=(FloatProgress(value=0.0, max=10.0), HTML(value='')))"
      ]
     },
     "metadata": {},
     "output_type": "display_data"
    },
    {
     "name": "stdout",
     "output_type": "stream",
     "text": [
      "\n",
      "9.0\n"
     ]
    },
    {
     "data": {
      "application/vnd.jupyter.widget-view+json": {
       "model_id": "c570e00866ee4bc6bad9eb9bd094ffb5",
       "version_major": 2,
       "version_minor": 0
      },
      "text/plain": [
       "HBox(children=(FloatProgress(value=0.0, max=10.0), HTML(value='')))"
      ]
     },
     "metadata": {},
     "output_type": "display_data"
    },
    {
     "name": "stdout",
     "output_type": "stream",
     "text": [
      "\n",
      "0.0\n"
     ]
    },
    {
     "data": {
      "application/vnd.jupyter.widget-view+json": {
       "model_id": "0de2034d81e44ea2812994b0c395d6f4",
       "version_major": 2,
       "version_minor": 0
      },
      "text/plain": [
       "HBox(children=(FloatProgress(value=0.0, max=10.0), HTML(value='')))"
      ]
     },
     "metadata": {},
     "output_type": "display_data"
    },
    {
     "name": "stdout",
     "output_type": "stream",
     "text": [
      "\n",
      "0.0\n",
      "\n"
     ]
    }
   ],
   "source": [
    "nState = 8\n",
    "Eps = np.geomspace(0.0001,0.1,num=10)\n",
    "EG_mat = np.zeros((nState,len(Eps),2))\n",
    "EG_sem = np.zeros((nState,len(Eps)))\n",
    "Rmax = np.zeros((nState,K)) \n",
    "eps_max = np.zeros(nState)\n",
    "Trials = 30\n",
    "max_sem_eps = []\n",
    "for n in tqdm(range(nState)):\n",
    "    env = make_chain(epLen=n+2)\n",
    "    i = 0\n",
    "    for eps in tqdm(Eps):    \n",
    "        Rmat = np.zeros((Trials,K))\n",
    "        for trials in (range(Trials)):\n",
    "            agent = LSVI_EG(env,K,eps)\n",
    "            Rvec = agent.run()\n",
    "            Rmat[trials,:] = Rvec\n",
    "        EG_mat[n,i,0] = eps\n",
    "        EG_mat[n,i,1] = np.mean(Rmat[:,-1])\n",
    "        EG_sem[n,i] = scipy.stats.sem(Rmat[:,-1])\n",
    "        if Rmax[n,-1] < np.mean(Rmat[:,-1]):\n",
    "            Rmax[n,:] = np.mean(Rmat,axis=0)\n",
    "            eps_max[n] = int(i)\n",
    "            max_sem_eps.append(2.5*EG_sem[n,i])\n",
    "        i += 1\n",
    "    print(eps_max[n])"
   ]
  },
  {
   "cell_type": "code",
   "execution_count": 204,
   "metadata": {},
   "outputs": [
    {
     "name": "stdout",
     "output_type": "stream",
     "text": [
      "[7.14013082e+00 5.88273758e+01 6.51961528e+02 4.93980072e+02\n",
      " 1.97728373e+02 2.19929048e+02 4.05398215e-02 4.54475404e-02]\n"
     ]
    },
    {
     "data": {
      "image/png": "[encoded data removed]",
      "text/plain": [
       "<Figure size 432x288 with 1 Axes>"
      ]
     },
     "metadata": {
      "needs_background": "light"
     },
     "output_type": "display_data"
    }
   ],
   "source": [
    "print(EG_sem[:,-1])\n",
    "plt.errorbar(range(2,2+nState),Rmax[:,-1],yerr=EG_sem[:,-1],fmt='o')\n",
    "plt.show()"
   ]
  },
  {
   "cell_type": "code",
   "execution_count": 208,
   "metadata": {},
   "outputs": [],
   "source": [
    "np.save(\"RmaxEps.npy\",Rmax)\n",
    "np.save(\"EG_mat.npy\",EG_mat)\n",
    "np.save(\"EG_sem.npy\",EG_sem)\n",
    "np.save(\"MaxSemEps.npy\",max_sem_eps)\n",
    "np.save(\"EpsMax.npy\",eps_max)"
   ]
  },
  {
   "cell_type": "code",
   "execution_count": 167,
   "metadata": {},
   "outputs": [
    {
     "data": {
      "image/png": "[encoded data removed]",
      "text/plain": [
       "<Figure size 432x288 with 1 Axes>"
      ]
     },
     "metadata": {
      "needs_background": "light"
     },
     "output_type": "display_data"
    }
   ],
   "source": [
    "plt.plot(Rmax[-1,:])\n",
    "plt.title(\"Plot of Cumulative Reward when epsilon = \" + str(eps_max) + \" over \" + str(Trials) + \" runs\")\n",
    "plt.xlabel(\"Episode\")\n",
    "plt.ylabel(\"Cumulative Reward\")\n",
    "plt.show()"
   ]
  },
  {
   "cell_type": "code",
   "execution_count": 186,
   "metadata": {},
   "outputs": [
    {
     "data": {
      "application/vnd.jupyter.widget-view+json": {
       "model_id": "422101bea4814abaa2e61650bfaaeb82",
       "version_major": 2,
       "version_minor": 0
      },
      "text/plain": [
       "HBox(children=(FloatProgress(value=0.0, max=6.0), HTML(value='')))"
      ]
     },
     "metadata": {},
     "output_type": "display_data"
    },
    {
     "data": {
      "application/vnd.jupyter.widget-view+json": {
       "model_id": "c12c710e05324c7fa2e31e2583300471",
       "version_major": 2,
       "version_minor": 0
      },
      "text/plain": [
       "HBox(children=(FloatProgress(value=0.0, max=3.0), HTML(value='')))"
      ]
     },
     "metadata": {},
     "output_type": "display_data"
    },
    {
     "name": "stdout",
     "output_type": "stream",
     "text": [
      "\n",
      "2.0\n"
     ]
    },
    {
     "data": {
      "application/vnd.jupyter.widget-view+json": {
       "model_id": "b73da8ac9a624279804df1b7c76bede9",
       "version_major": 2,
       "version_minor": 0
      },
      "text/plain": [
       "HBox(children=(FloatProgress(value=0.0, max=3.0), HTML(value='')))"
      ]
     },
     "metadata": {},
     "output_type": "display_data"
    },
    {
     "name": "stdout",
     "output_type": "stream",
     "text": [
      "\n",
      "2.0\n"
     ]
    },
    {
     "data": {
      "application/vnd.jupyter.widget-view+json": {
       "model_id": "48270bb2679a469fa08ef49e4389a899",
       "version_major": 2,
       "version_minor": 0
      },
      "text/plain": [
       "HBox(children=(FloatProgress(value=0.0, max=3.0), HTML(value='')))"
      ]
     },
     "metadata": {},
     "output_type": "display_data"
    },
    {
     "name": "stdout",
     "output_type": "stream",
     "text": [
      "\n",
      "2.0\n"
     ]
    },
    {
     "data": {
      "application/vnd.jupyter.widget-view+json": {
       "model_id": "1f20ae21ea7a4493989e4ae754060b12",
       "version_major": 2,
       "version_minor": 0
      },
      "text/plain": [
       "HBox(children=(FloatProgress(value=0.0, max=3.0), HTML(value='')))"
      ]
     },
     "metadata": {},
     "output_type": "display_data"
    },
    {
     "name": "stdout",
     "output_type": "stream",
     "text": [
      "\n",
      "2.0\n"
     ]
    },
    {
     "data": {
      "application/vnd.jupyter.widget-view+json": {
       "model_id": "81f3ddd754e14ba9ac4d4f2f96e6869b",
       "version_major": 2,
       "version_minor": 0
      },
      "text/plain": [
       "HBox(children=(FloatProgress(value=0.0, max=3.0), HTML(value='')))"
      ]
     },
     "metadata": {},
     "output_type": "display_data"
    },
    {
     "name": "stdout",
     "output_type": "stream",
     "text": [
      "\n",
      "2.0\n"
     ]
    },
    {
     "data": {
      "application/vnd.jupyter.widget-view+json": {
       "model_id": "74b3866ce5c64e6c939e0ca96cde84f8",
       "version_major": 2,
       "version_minor": 0
      },
      "text/plain": [
       "HBox(children=(FloatProgress(value=0.0, max=3.0), HTML(value='')))"
      ]
     },
     "metadata": {},
     "output_type": "display_data"
    },
    {
     "name": "stdout",
     "output_type": "stream",
     "text": [
      "\n",
      "1.0\n",
      "\n"
     ]
    }
   ],
   "source": [
    "nState = 6\n",
    "Delta = np.geomspace(1/K,1,num=10)\n",
    "UCB_mat = np.zeros((nState,len(Delta),2))\n",
    "UCB_sem = np.zeros((nState,len(Delta)))\n",
    "RmaxUCB = np.zeros((nState,K)) \n",
    "delta_max = np.zeros(nState)\n",
    "Trials = 30\n",
    "max_sem_ucb = np.zeros(nState)\n",
    "for n in tqdm(range(nState)):\n",
    "    env = make_chain(epLen=n+2)\n",
    "    i = 0\n",
    "    for delta in tqdm(Delta):    \n",
    "        RmatUCB = np.zeros((Trials,K))\n",
    "        for trials in (range(Trials)):\n",
    "            agent = LSVI_UCB(env,K,delta)\n",
    "            Rvec = agent.run()\n",
    "            RmatUCB[trials,:] = Rvec\n",
    "        UCB_mat[n,i,0] = delta\n",
    "        UCB_mat[n,i,1] = np.mean(RmatUCB[:,-1])\n",
    "        UCB_sem[n,i] = scipy.stats.sem(RmatUCB[:,-1])\n",
    "        if RmaxUCB[n,-1] < np.mean(RmatUCB[:,-1]):\n",
    "            RmaxUCB[n,:] = np.mean(RmatUCB,axis=0)\n",
    "            delta_max[n] = int(i)\n",
    "            max_sem_ucb[n] = UCB_sem[n,i]\n",
    "        i += 1\n",
    "    print(delta_max[n])"
   ]
  },
  {
   "cell_type": "code",
   "execution_count": 168,
   "metadata": {},
   "outputs": [
    {
     "data": {
      "image/png": "[encoded data removed]",
      "text/plain": [
       "<Figure size 432x288 with 1 Axes>"
      ]
     },
     "metadata": {
      "needs_background": "light"
     },
     "output_type": "display_data"
    }
   ],
   "source": [
    "plt.errorbar(EG_mat[-1,:,0],EG_mat[-1,:,1],fmt='o')\n",
    "plt.title(\"Plot of Cumulative Reward as a Function of Epsilon Averaged over \" + str(Trials) + \" runs\")\n",
    "plt.xlabel(\"Epsilon\")\n",
    "plt.ylabel(\"Cumulative Reward\")\n",
    "plt.show()"
   ]
  },
  {
   "cell_type": "code",
   "execution_count": 195,
   "metadata": {},
   "outputs": [
    {
     "data": {
      "image/png": "[encoded data removed]",
      "text/plain": [
       "<Figure size 432x288 with 1 Axes>"
      ]
     },
     "metadata": {
      "needs_background": "light"
     },
     "output_type": "display_data"
    }
   ],
   "source": [
    "plt.errorbar(range(2,2+nState),UCB_mat[:,2,-1],yerr=max_sem_ucb,fmt='o')\n",
    "plt.errorbar(range(2,2+nState),Rmax[:,-1],yerr=EG_sem[:,-1],fmt='o')\n",
    "plt.show()"
   ]
  },
  {
   "cell_type": "code",
   "execution_count": 142,
   "metadata": {},
   "outputs": [],
   "source": [
    "np.save(\"RmaxUCB.npy\",RmaxUCB)\n",
    "np.save(\"UCB_mat.npy\",UCB_mat)\n",
    "np.save(\"UCB_sem.npy\",UCB_sem)\n",
    "np.save(\"MaxSemUCB.npy\",max_sem_ucb)"
   ]
  },
  {
   "cell_type": "code",
   "execution_count": 146,
   "metadata": {},
   "outputs": [
    {
     "data": {
      "text/plain": [
       "[<matplotlib.lines.Line2D at 0x1a21ddcf98>]"
      ]
     },
     "execution_count": 146,
     "metadata": {},
     "output_type": "execute_result"
    },
    {
     "data": {
      "image/png": "[encoded data removed]",
      "text/plain": [
       "<Figure size 432x288 with 1 Axes>"
      ]
     },
     "metadata": {
      "needs_background": "light"
     },
     "output_type": "display_data"
    }
   ],
   "source": [
    "plt.plot(RmaxUCB[0,:])"
   ]
  },
  {
   "cell_type": "code",
   "execution_count": 188,
   "metadata": {},
   "outputs": [
    {
     "data": {
      "text/plain": [
       "<matplotlib.collections.PathCollection at 0x1a26896630>"
      ]
     },
     "execution_count": 188,
     "metadata": {},
     "output_type": "execute_result"
    },
    {
     "data": {
      "image/png": "[encoded data removed]",
      "text/plain": [
       "<Figure size 432x288 with 1 Axes>"
      ]
     },
     "metadata": {
      "needs_background": "light"
     },
     "output_type": "display_data"
    }
   ],
   "source": [
    "plt.scatter(range(2,2+nState),UCB_mat[:,0,1]-Rmax[:,-1])"
   ]
  },
  {
   "cell_type": "code",
   "execution_count": null,
   "metadata": {},
   "outputs": [],
   "source": []
  }
 ],
 "metadata": {
  "kernelspec": {
   "display_name": "Python 3",
   "language": "python",
   "name": "python3"
  },
  "language_info": {
   "codemirror_mode": {
    "name": "ipython",
    "version": 3
   },
   "file_extension": ".py",
   "mimetype": "text/x-python",
   "name": "python",
   "nbconvert_exporter": "python",
   "pygments_lexer": "ipython3",
   "version": "3.7.3"
  }
 },
 "nbformat": 4,
 "nbformat_minor": 2
}
