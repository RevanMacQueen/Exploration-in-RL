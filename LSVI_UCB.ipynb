{
 "cells": [
  {
   "cell_type": "markdown",
   "metadata": {},
   "source": [
    "# Still Working on Tuning Confidence Bounds"
   ]
  },
  {
   "cell_type": "code",
   "execution_count": 167,
   "metadata": {},
   "outputs": [],
   "source": [
    "import numpy as np\n",
    "import random\n",
    "from tqdm.notebook import tqdm\n",
    "import copy\n",
    "from scipy.stats import bernoulli\n",
    "import matplotlib.pyplot as plt"
   ]
  },
  {
   "cell_type": "code",
   "execution_count": 213,
   "metadata": {},
   "outputs": [],
   "source": [
    "class Environment(object):\n",
    "    '''General RL environment'''\n",
    "\n",
    "    def __init__(self):\n",
    "        pass\n",
    "\n",
    "    def reset(self):\n",
    "        pass\n",
    "\n",
    "    def advance(self, action):\n",
    "        '''\n",
    "        Moves one step in the environment.\n",
    "        Args:\n",
    "            action\n",
    "        Returns:\n",
    "            reward - double - reward\n",
    "            newState - int - new state\n",
    "            pContinue - 0/1 - flag for end of the episode\n",
    "        '''\n",
    "        return 0, 0, 0\n",
    "\n",
    "def make_riverSwim(epLen=20, nState=5):\n",
    "    '''\n",
    "    Makes the benchmark RiverSwim MDP.\n",
    "    Args:\n",
    "        NULL - works for default implementation\n",
    "    Returns:\n",
    "        riverSwim - Tabular MDP environment '''\n",
    "    nAction = 2\n",
    "    R_true = {}\n",
    "    P_true = {}\n",
    "    states = {}\n",
    "    for s in range(nState):\n",
    "        states[(s)] = 0.0\n",
    "        for a in range(nAction):\n",
    "            R_true[s, a] = (0, 0)\n",
    "            P_true[s, a] = np.zeros(nState)\n",
    "\n",
    "    # Rewards\n",
    "    R_true[0, 0] = (5/1000, 0)\n",
    "    R_true[nState - 1, 1] = (1, 0)\n",
    "\n",
    "    # Transitions\n",
    "    for s in range(nState):\n",
    "        P_true[s, 0][max(0, s-1)] = 1.\n",
    "\n",
    "    for s in range(1, nState - 1):\n",
    "        P_true[s, 1][min(nState - 1, s + 1)] = 0.3\n",
    "        P_true[s, 1][s] = 0.6\n",
    "        P_true[s, 1][max(0, s-1)] = 0.1\n",
    "\n",
    "    P_true[0, 1][0] = 0.3\n",
    "    P_true[0, 1][1] = 0.7\n",
    "    P_true[nState - 1, 1][nState - 1] = 0.9\n",
    "    P_true[nState - 1, 1][nState - 2] = 0.1\n",
    "\n",
    "    riverSwim = TabularMDP(nState, nAction, epLen)\n",
    "    riverSwim.R = R_true\n",
    "    riverSwim.P = P_true\n",
    "    riverSwim.states = states\n",
    "    riverSwim.reset()\n",
    "\n",
    "    return riverSwim\n",
    "\n",
    "class TabularMDP(Environment):\n",
    "    '''\n",
    "    Tabular MDP\n",
    "    R - dict by (s,a) - each R[s,a] = (meanReward, sdReward)\n",
    "    P - dict by (s,a) - each P[s,a] = transition vector size S\n",
    "    '''\n",
    "\n",
    "    def __init__(self, nState, nAction, epLen):\n",
    "        '''\n",
    "        Initialize a tabular episodic MDP\n",
    "        Args:\n",
    "            nState  - int - number of states\n",
    "            nAction - int - number of actions\n",
    "            epLen   - int - episode length\n",
    "        Returns:\n",
    "            Environment object\n",
    "        '''\n",
    "\n",
    "        self.nState = nState\n",
    "        self.nAction = nAction\n",
    "        self.epLen = epLen\n",
    "\n",
    "        self.timestep = 0\n",
    "        self.state = 0\n",
    "\n",
    "        # Now initialize R and P\n",
    "        self.R = {}\n",
    "        self.P = {}\n",
    "        self.states = {}\n",
    "        for state in range(nState):\n",
    "            for action in range(nAction):\n",
    "                self.R[state, action] = (1, 1)\n",
    "                self.P[state, action] = np.ones(nState) / nState\n",
    "\n",
    "    def reset(self):\n",
    "        \"Resets the Environment\"\n",
    "        self.timestep = 0\n",
    "        self.state = 0\n",
    "\n",
    "    def advance(self,action):\n",
    "        '''\n",
    "        Move one step in the environment\n",
    "        Args:\n",
    "        action - int - chosen action\n",
    "        Returns:\n",
    "        reward - double - reward\n",
    "        newState - int - new state\n",
    "        episodeEnd - 0/1 - flag for end of the episode\n",
    "        '''\n",
    "        if self.R[self.state, action][1] < 1e-9:\n",
    "            # Hack for no noise\n",
    "            reward = self.R[self.state, action][0]\n",
    "        else:\n",
    "            reward = np.random.normal(loc=self.R[self.state, action][0],\n",
    "                                      scale=self.R[self.state, action][1])\n",
    "        #print(self.state, action, self.P[self.state, action])\n",
    "        newState = np.random.choice(self.nState, p=self.P[self.state, action])\n",
    "\n",
    "        # Update the environment\n",
    "        self.state = newState\n",
    "        self.timestep += 1\n",
    "\n",
    "        episodeEnd = 0\n",
    "        if self.timestep == self.epLen:\n",
    "            episodeEnd = 1\n",
    "            #newState = None\n",
    "            self.reset()\n",
    "\n",
    "        return reward, newState, episodeEnd\n",
    "\n",
    "    def argmax(self,b):\n",
    "        #print(b)\n",
    "        return np.random.choice(np.where(b == b.max())[0])"
   ]
  },
  {
   "cell_type": "code",
   "execution_count": 245,
   "metadata": {},
   "outputs": [],
   "source": [
    "class LSVI_UCB(object):\n",
    "    def __init__(self,env,K):\n",
    "        self.env = env\n",
    "        self.K = K\n",
    "        self.d = self.env.nState * self.env.nAction\n",
    "        self.lam = 1.0\n",
    "        self.Lambda = {h: self.lam*np.identity(self.d) for h in range(self.env.epLen)}\n",
    "        self.Linv = {h: (1/self.lam)*np.identity(self.d) for h in range(self.env.epLen)}\n",
    "        self.w = {h: np.zeros(self.d) for h in range(self.env.epLen)}\n",
    "        self.Q = {(h,s,a): 0.0 for h in range(self.env.epLen+1) for s in self.env.states.keys() \\\n",
    "                   for a in range(self.env.nAction)}\n",
    "        self.features_state_action = {(s,a): np.zeros(self.d) for s in self.env.states.keys() \\\n",
    "                                      for a in range(self.env.nAction)}\n",
    "        self.createIdentity()\n",
    "        self.buffer = {h: [] for h in range(self.env.epLen)}\n",
    "        self.sums = {h: np.zeros(self.d) for h in range(self.env.epLen)}\n",
    "        self.p = 1/self.K\n",
    "        self.c = 0.1\n",
    "        \n",
    "    \n",
    "    def createIdentity(self):\n",
    "        '''\n",
    "            A function that creates the Identity Matrix for a Dictionary\n",
    "        '''\n",
    "        i = 0\n",
    "        for key in self.features_state_action.keys():\n",
    "            self.features_state_action[key][i] = 1\n",
    "            i += 1\n",
    "        j = 0\n",
    "    \n",
    "    def update_buffer(self,s,a,r,s_,h):\n",
    "        self.buffer[h].append((s,a,r,s_))\n",
    "    \n",
    "    def reset_buffer(self):\n",
    "        self.buffer = {h: [] for h in range(self.env.epLen)}\n",
    "    \n",
    "    def update(self):\n",
    "        \n",
    "        Q = {(h,s,a): 0.0 for h in range(self.env.epLen+1) for s in self.env.states.keys() \\\n",
    "                   for a in range(self.env.nAction)}\n",
    "        for h in range(self.env.epLen-1,-1,-1):\n",
    "            d = self.buffer[h]\n",
    "            s,a,r,s_ = d[0][0],d[0][1],d[0][2],d[0][3]\n",
    "            \n",
    "            self.Linv[h] = self.Linv[h] - np.dot((np.outer(np.dot(self.Linv[h],self.features_state_action[s,a]) \\\n",
    "                 ,self.features_state_action[s,a])),self.Linv[h]) / \\\n",
    "                    (1 + np.dot(np.dot(self.features_state_action[s,a],self.Linv[h]),self.features_state_action[s,a]))\n",
    "            \n",
    "            self.sums[h] = self.sums[h] + self.features_state_action[s,a]*(env.R[s,a][0] + \\\n",
    "                                             max(np.array([Q[(h+1,s_,a)] for a in range(self.env.nAction)])))\n",
    "            \n",
    "            self.w[h] = np.matmul(self.Linv[h],self.sums[h])\n",
    "            for ss in self.env.states.keys():\n",
    "                for aa in range(env.nAction):\n",
    "                    feature = self.features_state_action[ss,aa]\n",
    "                    Q[h,ss,aa] = min(env.R[ss,aa][0] + np.inner(self.w[h],feature) + self.Beta() \\\n",
    "                                    * np.sqrt(np.dot(np.dot(feature,self.Linv[h]),feature)),self.env.epLen)\n",
    "        self.Q = Q.copy()\n",
    "    \n",
    "    def act(self,s,h):\n",
    "        '''\n",
    "        A function that returns the argmax of Q given the state and timestep\n",
    "        '''\n",
    "        return self.env.argmax(np.array([self.Q[(h,s,a)] for a in range(self.env.nAction)]))\n",
    "                    \n",
    "    \n",
    "    def Beta(self):\n",
    "        iota = np.log(2*self.d*self.K*self.env.epLen/self.p)\n",
    "        return np.sqrt(self.c * self.d * self.env.epLen * np.sqrt(iota))\n",
    "        \n",
    "        "
   ]
  },
  {
   "cell_type": "code",
   "execution_count": 246,
   "metadata": {},
   "outputs": [],
   "source": [
    "env = make_riverSwim(epLen = 10, nState = 3)\n",
    "K = 5000\n",
    "agent = LSVI_UCB(env,K)\n",
    "R = 0\n",
    "Rvec = []"
   ]
  },
  {
   "cell_type": "code",
   "execution_count": 247,
   "metadata": {},
   "outputs": [
    {
     "data": {
      "application/vnd.jupyter.widget-view+json": {
       "model_id": "0af4a3385adf43ad8aee3e4b73fa3568",
       "version_major": 2,
       "version_minor": 0
      },
      "text/plain": [
       "HBox(children=(FloatProgress(value=0.0, max=5000.0), HTML(value='')))"
      ]
     },
     "metadata": {},
     "output_type": "display_data"
    },
    {
     "name": "stdout",
     "output_type": "stream",
     "text": [
      "1\n",
      "1\n",
      "0\n",
      "1\n",
      "1\n",
      "0\n",
      "1\n",
      "0\n",
      "1\n",
      "1\n",
      "\n"
     ]
    }
   ],
   "source": [
    "for k in tqdm(range(1,K+1)):\n",
    "    env.reset()\n",
    "    done = 0\n",
    "    while not done:\n",
    "        s = env.state\n",
    "        h = env.timestep\n",
    "        a = agent.act(s,h)\n",
    "        if k == K: print(a)\n",
    "        r,s_,done = env.advance(1)\n",
    "        agent.update_buffer(s,a,r,s_,h)\n",
    "        R += r\n",
    "    Rvec.append(R)\n",
    "    agent.update()\n",
    "    agent.reset_buffer()"
   ]
  },
  {
   "cell_type": "code",
   "execution_count": 248,
   "metadata": {},
   "outputs": [
    {
     "data": {
      "text/plain": [
       "[<matplotlib.lines.Line2D at 0x1a24d58cc0>]"
      ]
     },
     "execution_count": 248,
     "metadata": {},
     "output_type": "execute_result"
    },
    {
     "data": {
      "image/png": "[encoded data removed]",
      "text/plain": [
       "<Figure size 432x288 with 1 Axes>"
      ]
     },
     "metadata": {
      "needs_background": "light"
     },
     "output_type": "display_data"
    }
   ],
   "source": [
    "plt.plot(Rvec)"
   ]
  },
  {
   "cell_type": "code",
   "execution_count": 249,
   "metadata": {},
   "outputs": [
    {
     "data": {
      "text/plain": [
       "{(0, 0, 0): 5.299179434596923,\n",
       " (0, 0, 1): 10,\n",
       " (0, 1, 0): 5.2941794345969235,\n",
       " (0, 1, 1): 5.2941794345969235,\n",
       " (0, 2, 0): 5.2941794345969235,\n",
       " (0, 2, 1): 6.2941794345969235,\n",
       " (1, 0, 0): 10,\n",
       " (1, 0, 1): 5.2941794345969235,\n",
       " (1, 1, 0): 5.2941794345969235,\n",
       " (1, 1, 1): 10,\n",
       " (1, 2, 0): 5.2941794345969235,\n",
       " (1, 2, 1): 6.2941794345969235,\n",
       " (2, 0, 0): 9.624977156874268,\n",
       " (2, 0, 1): 5.2941794345969235,\n",
       " (2, 1, 0): 9.724551870090338,\n",
       " (2, 1, 1): 5.2941794345969235,\n",
       " (2, 2, 0): 5.2941794345969235,\n",
       " (2, 2, 1): 10,\n",
       " (3, 0, 0): 8.695293658048357,\n",
       " (3, 0, 1): 5.2941794345969235,\n",
       " (3, 1, 0): 5.2941794345969235,\n",
       " (3, 1, 1): 9.07648328458006,\n",
       " (3, 2, 0): 5.2941794345969235,\n",
       " (3, 2, 1): 10,\n",
       " (4, 0, 0): 7.3646320828316725,\n",
       " (4, 0, 1): 5.2941794345969235,\n",
       " (4, 1, 0): 5.2941794345969235,\n",
       " (4, 1, 1): 7.87120628943083,\n",
       " (4, 2, 0): 5.2941794345969235,\n",
       " (4, 2, 1): 10,\n",
       " (5, 0, 0): 5.528327455227263,\n",
       " (5, 0, 1): 5.2941794345969235,\n",
       " (5, 1, 0): 6.456081064176807,\n",
       " (5, 1, 1): 5.2941794345969235,\n",
       " (5, 2, 0): 8.639148702314797,\n",
       " (5, 2, 1): 6.2941794345969235,\n",
       " (6, 0, 0): 3.7471097111247014,\n",
       " (6, 0, 1): 3.7182052451562164,\n",
       " (6, 1, 0): 4.4993935561181875,\n",
       " (6, 1, 1): 4.503762213333869,\n",
       " (6, 2, 0): 5.2941794345969235,\n",
       " (6, 2, 1): 8.317178081729654,\n",
       " (7, 0, 0): 2.140646663196553,\n",
       " (7, 0, 1): 2.139268240275916,\n",
       " (7, 1, 0): 2.6925943801275154,\n",
       " (7, 1, 1): 2.696435877444497,\n",
       " (7, 2, 0): 5.2941794345969235,\n",
       " (7, 2, 1): 6.125943234015946,\n",
       " (8, 0, 0): 1.0475402458000307,\n",
       " (8, 0, 1): 1.0474135122554633,\n",
       " (8, 1, 0): 1.1916393593167571,\n",
       " (8, 1, 1): 1.1943134092797074,\n",
       " (8, 2, 0): 3.968633269501284,\n",
       " (8, 2, 1): 4.08593032281689,\n",
       " (9, 0, 0): 0.5341528563165352,\n",
       " (9, 0, 1): 0.5347928827174068,\n",
       " (9, 1, 0): 0.2056088918769499,\n",
       " (9, 1, 1): 0.2056088918769499,\n",
       " (9, 2, 0): 2.001011740013715,\n",
       " (9, 2, 1): 2.08954720782141,\n",
       " (10, 0, 0): 0.0,\n",
       " (10, 0, 1): 0.0,\n",
       " (10, 1, 0): 0.0,\n",
       " (10, 1, 1): 0.0,\n",
       " (10, 2, 0): 0.0,\n",
       " (10, 2, 1): 0.0}"
      ]
     },
     "execution_count": 249,
     "metadata": {},
     "output_type": "execute_result"
    }
   ],
   "source": [
    "agent.Q"
   ]
  },
  {
   "cell_type": "code",
   "execution_count": 195,
   "metadata": {},
   "outputs": [
    {
     "name": "stdout",
     "output_type": "stream",
     "text": [
      "0\n"
     ]
    }
   ],
   "source": [
    "print(a)"
   ]
  },
  {
   "cell_type": "code",
   "execution_count": null,
   "metadata": {},
   "outputs": [],
   "source": []
  }
 ],
 "metadata": {
  "kernelspec": {
   "display_name": "Python 3",
   "language": "python",
   "name": "python3"
  },
  "language_info": {
   "codemirror_mode": {
    "name": "ipython",
    "version": 3
   },
   "file_extension": ".py",
   "mimetype": "text/x-python",
   "name": "python",
   "nbconvert_exporter": "python",
   "pygments_lexer": "ipython3",
   "version": "3.7.3"
  }
 },
 "nbformat": 4,
 "nbformat_minor": 2
}
